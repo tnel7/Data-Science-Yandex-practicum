{
 "cells": [
  {
   "cell_type": "markdown",
   "metadata": {
    "jp-MarkdownHeadingCollapsed": true,
    "toc": true
   },
   "source": [
    "<h1>Содержание<span class=\"tocSkip\"></span></h1>\n",
    "</font></a></span></li></ul></li><li><span><a href=\"#Подготовка\" data-toc-modified-id=\"Подготовка-1\"><span class=\"toc-item-num\">1&nbsp;&nbsp;</span>Подготовка</a></span></li><li><span><a href=\"#Обучение\" data-toc-modified-id=\"Обучение-2\"><span class=\"toc-item-num\">2&nbsp;&nbsp;</span>Обучение</a></span></li><li><span><a href=\"#Выводы\" data-toc-modified-id=\"Выводы-3\"><span class=\"toc-item-num\">3&nbsp;&nbsp;</span>Выводы</a></span></li><li><span><a href=\"#Чек-лист-проверки\" data-toc-modified-id=\"Чек-лист-проверки-4\"><span class=\"toc-item-num\">4&nbsp;&nbsp;</span>Чек-лист проверки</a></span></li></ul></div>"
   ]
  },
  {
   "cell_type": "markdown",
   "metadata": {},
   "source": [
    "# Проект для «Викишоп»"
   ]
  },
  {
   "cell_type": "markdown",
   "metadata": {},
   "source": [
    "Интернет-магазин «Викишоп» запускает новый сервис. Теперь пользователи могут редактировать и дополнять описания товаров, как в вики-сообществах. То есть клиенты предлагают свои правки и комментируют изменения других. Магазину нужен инструмент, который будет искать токсичные комментарии и отправлять их на модерацию. \n",
    "\n",
    "Обучите модель классифицировать комментарии на позитивные и негативные. В вашем распоряжении набор данных с разметкой о токсичности правок.\n",
    "\n",
    "Постройте модель со значением метрики качества *F1* не меньше 0.75. \n",
    "\n",
    "**Инструкция по выполнению проекта**\n",
    "\n",
    "1. Загрузите и подготовьте данные.\n",
    "2. Обучите разные модели. \n",
    "3. Сделайте выводы.\n",
    "\n",
    "Для выполнения проекта применять *BERT* необязательно, но вы можете попробовать.\n",
    "\n",
    "**Описание данных**\n",
    "\n",
    "Данные находятся в файле `toxic_comments.csv`. Столбец *text* в нём содержит текст комментария, а *toxic* — целевой признак."
   ]
  },
  {
   "cell_type": "markdown",
   "metadata": {},
   "source": [
    "## Подготовка"
   ]
  },
  {
   "cell_type": "code",
   "execution_count": 16,
   "metadata": {},
   "outputs": [],
   "source": [
    "import pandas as pd\n",
    "import numpy as np\n",
    "\n",
    "import torch\n",
    "import transformers\n",
    "from tqdm import notebook\n",
    "from sklearn.linear_model import LogisticRegression\n",
    "from sklearn.model_selection import cross_val_score\n",
    "from sklearn.model_selection import train_test_split\n",
    "from sklearn.feature_extraction.text import CountVectorizer \n",
    "from nltk.stem import WordNetLemmatizer \n",
    "\n",
    "import re\n",
    "import nltk\n",
    "from nltk.corpus import stopwords \n",
    "import matplotlib.pyplot as plt\n",
    "\n",
    "import warnings\n",
    "warnings.filterwarnings(\"ignore\")\n",
    "from sklearn.feature_extraction.text import TfidfVectorizer\n",
    "from sklearn.model_selection import GridSearchCV\n",
    "from sklearn.tree import DecisionTreeClassifier\n",
    "from catboost import CatBoostClassifier\n",
    "from sklearn.pipeline import Pipeline\n",
    "from sklearn.model_selection import RandomizedSearchCV\n",
    "from sklearn.metrics import f1_score\n",
    "from pymystem3 import Mystem\n",
    "import spacy\n",
    "from tqdm import tqdm"
   ]
  },
  {
   "cell_type": "code",
   "execution_count": 2,
   "metadata": {},
   "outputs": [],
   "source": [
    "data = pd.read_csv('/datasets/toxic_comments.csv')"
   ]
  },
  {
   "cell_type": "code",
   "execution_count": 3,
   "metadata": {},
   "outputs": [
    {
     "data": {
      "text/html": [
       "<div>\n",
       "<style scoped>\n",
       "    .dataframe tbody tr th:only-of-type {\n",
       "        vertical-align: middle;\n",
       "    }\n",
       "\n",
       "    .dataframe tbody tr th {\n",
       "        vertical-align: top;\n",
       "    }\n",
       "\n",
       "    .dataframe thead th {\n",
       "        text-align: right;\n",
       "    }\n",
       "</style>\n",
       "<table border=\"1\" class=\"dataframe\">\n",
       "  <thead>\n",
       "    <tr style=\"text-align: right;\">\n",
       "      <th></th>\n",
       "      <th>Unnamed: 0</th>\n",
       "      <th>text</th>\n",
       "      <th>toxic</th>\n",
       "    </tr>\n",
       "  </thead>\n",
       "  <tbody>\n",
       "    <tr>\n",
       "      <th>0</th>\n",
       "      <td>0</td>\n",
       "      <td>Explanation\\nWhy the edits made under my usern...</td>\n",
       "      <td>0</td>\n",
       "    </tr>\n",
       "    <tr>\n",
       "      <th>1</th>\n",
       "      <td>1</td>\n",
       "      <td>D'aww! He matches this background colour I'm s...</td>\n",
       "      <td>0</td>\n",
       "    </tr>\n",
       "    <tr>\n",
       "      <th>2</th>\n",
       "      <td>2</td>\n",
       "      <td>Hey man, I'm really not trying to edit war. It...</td>\n",
       "      <td>0</td>\n",
       "    </tr>\n",
       "    <tr>\n",
       "      <th>3</th>\n",
       "      <td>3</td>\n",
       "      <td>\"\\nMore\\nI can't make any real suggestions on ...</td>\n",
       "      <td>0</td>\n",
       "    </tr>\n",
       "    <tr>\n",
       "      <th>4</th>\n",
       "      <td>4</td>\n",
       "      <td>You, sir, are my hero. Any chance you remember...</td>\n",
       "      <td>0</td>\n",
       "    </tr>\n",
       "    <tr>\n",
       "      <th>5</th>\n",
       "      <td>5</td>\n",
       "      <td>\"\\n\\nCongratulations from me as well, use the ...</td>\n",
       "      <td>0</td>\n",
       "    </tr>\n",
       "    <tr>\n",
       "      <th>6</th>\n",
       "      <td>6</td>\n",
       "      <td>COCKSUCKER BEFORE YOU PISS AROUND ON MY WORK</td>\n",
       "      <td>1</td>\n",
       "    </tr>\n",
       "    <tr>\n",
       "      <th>7</th>\n",
       "      <td>7</td>\n",
       "      <td>Your vandalism to the Matt Shirvington article...</td>\n",
       "      <td>0</td>\n",
       "    </tr>\n",
       "    <tr>\n",
       "      <th>8</th>\n",
       "      <td>8</td>\n",
       "      <td>Sorry if the word 'nonsense' was offensive to ...</td>\n",
       "      <td>0</td>\n",
       "    </tr>\n",
       "    <tr>\n",
       "      <th>9</th>\n",
       "      <td>9</td>\n",
       "      <td>alignment on this subject and which are contra...</td>\n",
       "      <td>0</td>\n",
       "    </tr>\n",
       "  </tbody>\n",
       "</table>\n",
       "</div>"
      ],
      "text/plain": [
       "   Unnamed: 0                                               text  toxic\n",
       "0           0  Explanation\\nWhy the edits made under my usern...      0\n",
       "1           1  D'aww! He matches this background colour I'm s...      0\n",
       "2           2  Hey man, I'm really not trying to edit war. It...      0\n",
       "3           3  \"\\nMore\\nI can't make any real suggestions on ...      0\n",
       "4           4  You, sir, are my hero. Any chance you remember...      0\n",
       "5           5  \"\\n\\nCongratulations from me as well, use the ...      0\n",
       "6           6       COCKSUCKER BEFORE YOU PISS AROUND ON MY WORK      1\n",
       "7           7  Your vandalism to the Matt Shirvington article...      0\n",
       "8           8  Sorry if the word 'nonsense' was offensive to ...      0\n",
       "9           9  alignment on this subject and which are contra...      0"
      ]
     },
     "execution_count": 3,
     "metadata": {},
     "output_type": "execute_result"
    }
   ],
   "source": [
    "data.head(10)"
   ]
  },
  {
   "cell_type": "markdown",
   "metadata": {},
   "source": [
    "Замечен странный столбец, в котором дублируются индексы. Удалим его."
   ]
  },
  {
   "cell_type": "code",
   "execution_count": 4,
   "metadata": {},
   "outputs": [],
   "source": [
    "data = data.drop(['Unnamed: 0'], axis=1)"
   ]
  },
  {
   "cell_type": "code",
   "execution_count": 5,
   "metadata": {},
   "outputs": [
    {
     "data": {
      "text/html": [
       "<div>\n",
       "<style scoped>\n",
       "    .dataframe tbody tr th:only-of-type {\n",
       "        vertical-align: middle;\n",
       "    }\n",
       "\n",
       "    .dataframe tbody tr th {\n",
       "        vertical-align: top;\n",
       "    }\n",
       "\n",
       "    .dataframe thead th {\n",
       "        text-align: right;\n",
       "    }\n",
       "</style>\n",
       "<table border=\"1\" class=\"dataframe\">\n",
       "  <thead>\n",
       "    <tr style=\"text-align: right;\">\n",
       "      <th></th>\n",
       "      <th>text</th>\n",
       "      <th>toxic</th>\n",
       "    </tr>\n",
       "  </thead>\n",
       "  <tbody>\n",
       "    <tr>\n",
       "      <th>0</th>\n",
       "      <td>Explanation\\nWhy the edits made under my usern...</td>\n",
       "      <td>0</td>\n",
       "    </tr>\n",
       "    <tr>\n",
       "      <th>1</th>\n",
       "      <td>D'aww! He matches this background colour I'm s...</td>\n",
       "      <td>0</td>\n",
       "    </tr>\n",
       "    <tr>\n",
       "      <th>2</th>\n",
       "      <td>Hey man, I'm really not trying to edit war. It...</td>\n",
       "      <td>0</td>\n",
       "    </tr>\n",
       "    <tr>\n",
       "      <th>3</th>\n",
       "      <td>\"\\nMore\\nI can't make any real suggestions on ...</td>\n",
       "      <td>0</td>\n",
       "    </tr>\n",
       "    <tr>\n",
       "      <th>4</th>\n",
       "      <td>You, sir, are my hero. Any chance you remember...</td>\n",
       "      <td>0</td>\n",
       "    </tr>\n",
       "    <tr>\n",
       "      <th>5</th>\n",
       "      <td>\"\\n\\nCongratulations from me as well, use the ...</td>\n",
       "      <td>0</td>\n",
       "    </tr>\n",
       "    <tr>\n",
       "      <th>6</th>\n",
       "      <td>COCKSUCKER BEFORE YOU PISS AROUND ON MY WORK</td>\n",
       "      <td>1</td>\n",
       "    </tr>\n",
       "    <tr>\n",
       "      <th>7</th>\n",
       "      <td>Your vandalism to the Matt Shirvington article...</td>\n",
       "      <td>0</td>\n",
       "    </tr>\n",
       "    <tr>\n",
       "      <th>8</th>\n",
       "      <td>Sorry if the word 'nonsense' was offensive to ...</td>\n",
       "      <td>0</td>\n",
       "    </tr>\n",
       "    <tr>\n",
       "      <th>9</th>\n",
       "      <td>alignment on this subject and which are contra...</td>\n",
       "      <td>0</td>\n",
       "    </tr>\n",
       "  </tbody>\n",
       "</table>\n",
       "</div>"
      ],
      "text/plain": [
       "                                                text  toxic\n",
       "0  Explanation\\nWhy the edits made under my usern...      0\n",
       "1  D'aww! He matches this background colour I'm s...      0\n",
       "2  Hey man, I'm really not trying to edit war. It...      0\n",
       "3  \"\\nMore\\nI can't make any real suggestions on ...      0\n",
       "4  You, sir, are my hero. Any chance you remember...      0\n",
       "5  \"\\n\\nCongratulations from me as well, use the ...      0\n",
       "6       COCKSUCKER BEFORE YOU PISS AROUND ON MY WORK      1\n",
       "7  Your vandalism to the Matt Shirvington article...      0\n",
       "8  Sorry if the word 'nonsense' was offensive to ...      0\n",
       "9  alignment on this subject and which are contra...      0"
      ]
     },
     "execution_count": 5,
     "metadata": {},
     "output_type": "execute_result"
    }
   ],
   "source": [
    "data.head(10)"
   ]
  },
  {
   "cell_type": "markdown",
   "metadata": {},
   "source": [
    "Проверим датафрейм на наличие дубликатов"
   ]
  },
  {
   "cell_type": "code",
   "execution_count": 6,
   "metadata": {},
   "outputs": [
    {
     "data": {
      "text/plain": [
       "0"
      ]
     },
     "execution_count": 6,
     "metadata": {},
     "output_type": "execute_result"
    }
   ],
   "source": [
    "data['text'].duplicated().sum()"
   ]
  },
  {
   "cell_type": "code",
   "execution_count": 7,
   "metadata": {},
   "outputs": [
    {
     "data": {
      "text/plain": [
       "text     0\n",
       "toxic    0\n",
       "dtype: int64"
      ]
     },
     "execution_count": 7,
     "metadata": {},
     "output_type": "execute_result"
    }
   ],
   "source": [
    "data.isnull().sum()"
   ]
  },
  {
   "cell_type": "markdown",
   "metadata": {},
   "source": [
    "Итого был удален ненужный столбец с повторной индексацией, а также произведена проверка на наличие дубликатов. Дубликаты не выявлены."
   ]
  },
  {
   "cell_type": "code",
   "execution_count": 8,
   "metadata": {},
   "outputs": [
    {
     "data": {
      "image/png": "[encoded data removed]",
      "text/plain": [
       "<Figure size 432x288 with 1 Axes>"
      ]
     },
     "metadata": {
      "needs_background": "light"
     },
     "output_type": "display_data"
    }
   ],
   "source": [
    "data['toxic'].hist()\n",
    "plt.ylabel('Количество коментарие')\n",
    "plt.xlabel('Токичность(1)')\n",
    "plt.show()"
   ]
  },
  {
   "cell_type": "code",
   "execution_count": 9,
   "metadata": {},
   "outputs": [
    {
     "name": "stderr",
     "output_type": "stream",
     "text": [
      "[nltk_data] Downloading package stopwords to /home/jovyan/nltk_data...\n",
      "[nltk_data]   Package stopwords is already up-to-date!\n"
     ]
    }
   ],
   "source": [
    "nltk.download('stopwords')\n",
    "count_vect = CountVectorizer() "
   ]
  },
  {
   "cell_type": "code",
   "execution_count": 10,
   "metadata": {},
   "outputs": [],
   "source": [
    "stopwords = set(stopwords.words('english'))"
   ]
  },
  {
   "cell_type": "markdown",
   "metadata": {},
   "source": [
    "Лемматизируем все текстовые выражения, для более удобной дальнейшей работы с ними. Отдельно создадим столбец для новых текстов."
   ]
  },
  {
   "cell_type": "code",
   "execution_count": 11,
   "metadata": {},
   "outputs": [],
   "source": [
    "def regul(text):\n",
    "    t = re.sub(r'[^a-zA-z ]',' ',text)\n",
    "    token = nltk.word_tokenize(text)\n",
    "    text = [word for word in token if word not in stopwords]\n",
    "    t1 = \" \".join(t.split())\n",
    "    return t1"
   ]
  },
  {
   "cell_type": "code",
   "execution_count": 12,
   "metadata": {},
   "outputs": [],
   "source": [
    "load_model = spacy.load('en_core_web_sm', disable = ['parser','ner'])"
   ]
  },
  {
   "cell_type": "code",
   "execution_count": 13,
   "metadata": {},
   "outputs": [],
   "source": [
    "def lemmatize(text):\n",
    "    doc = load_model(text)\n",
    "    l_t = \" \".join([token.lemma_ for token in doc])\n",
    "    return l_t"
   ]
  },
  {
   "cell_type": "code",
   "execution_count": 14,
   "metadata": {},
   "outputs": [
    {
     "data": {
      "text/html": [
       "<div>\n",
       "<style scoped>\n",
       "    .dataframe tbody tr th:only-of-type {\n",
       "        vertical-align: middle;\n",
       "    }\n",
       "\n",
       "    .dataframe tbody tr th {\n",
       "        vertical-align: top;\n",
       "    }\n",
       "\n",
       "    .dataframe thead th {\n",
       "        text-align: right;\n",
       "    }\n",
       "</style>\n",
       "<table border=\"1\" class=\"dataframe\">\n",
       "  <thead>\n",
       "    <tr style=\"text-align: right;\">\n",
       "      <th></th>\n",
       "      <th>text</th>\n",
       "      <th>toxic</th>\n",
       "      <th>clear_text</th>\n",
       "    </tr>\n",
       "  </thead>\n",
       "  <tbody>\n",
       "    <tr>\n",
       "      <th>0</th>\n",
       "      <td>Explanation\\nWhy the edits made under my usern...</td>\n",
       "      <td>0</td>\n",
       "      <td>Explanation Why the edits made under my userna...</td>\n",
       "    </tr>\n",
       "    <tr>\n",
       "      <th>1</th>\n",
       "      <td>D'aww! He matches this background colour I'm s...</td>\n",
       "      <td>0</td>\n",
       "      <td>D aww He matches this background colour I m se...</td>\n",
       "    </tr>\n",
       "    <tr>\n",
       "      <th>2</th>\n",
       "      <td>Hey man, I'm really not trying to edit war. It...</td>\n",
       "      <td>0</td>\n",
       "      <td>Hey man I m really not trying to edit war It s...</td>\n",
       "    </tr>\n",
       "    <tr>\n",
       "      <th>3</th>\n",
       "      <td>\"\\nMore\\nI can't make any real suggestions on ...</td>\n",
       "      <td>0</td>\n",
       "      <td>More I can t make any real suggestions on impr...</td>\n",
       "    </tr>\n",
       "    <tr>\n",
       "      <th>4</th>\n",
       "      <td>You, sir, are my hero. Any chance you remember...</td>\n",
       "      <td>0</td>\n",
       "      <td>You sir are my hero Any chance you remember wh...</td>\n",
       "    </tr>\n",
       "  </tbody>\n",
       "</table>\n",
       "</div>"
      ],
      "text/plain": [
       "                                                text  toxic  \\\n",
       "0  Explanation\\nWhy the edits made under my usern...      0   \n",
       "1  D'aww! He matches this background colour I'm s...      0   \n",
       "2  Hey man, I'm really not trying to edit war. It...      0   \n",
       "3  \"\\nMore\\nI can't make any real suggestions on ...      0   \n",
       "4  You, sir, are my hero. Any chance you remember...      0   \n",
       "\n",
       "                                          clear_text  \n",
       "0  Explanation Why the edits made under my userna...  \n",
       "1  D aww He matches this background colour I m se...  \n",
       "2  Hey man I m really not trying to edit war It s...  \n",
       "3  More I can t make any real suggestions on impr...  \n",
       "4  You sir are my hero Any chance you remember wh...  "
      ]
     },
     "metadata": {},
     "output_type": "display_data"
    }
   ],
   "source": [
    "data['clear_text'] = data['text'].apply(lambda x: regul(x))\n",
    "display(data.head())"
   ]
  },
  {
   "cell_type": "code",
   "execution_count": 17,
   "metadata": {},
   "outputs": [
    {
     "name": "stderr",
     "output_type": "stream",
     "text": [
      "100%|██████████| 159292/159292 [17:16<00:00, 153.66it/s]\n"
     ]
    },
    {
     "data": {
      "text/html": [
       "<div>\n",
       "<style scoped>\n",
       "    .dataframe tbody tr th:only-of-type {\n",
       "        vertical-align: middle;\n",
       "    }\n",
       "\n",
       "    .dataframe tbody tr th {\n",
       "        vertical-align: top;\n",
       "    }\n",
       "\n",
       "    .dataframe thead th {\n",
       "        text-align: right;\n",
       "    }\n",
       "</style>\n",
       "<table border=\"1\" class=\"dataframe\">\n",
       "  <thead>\n",
       "    <tr style=\"text-align: right;\">\n",
       "      <th></th>\n",
       "      <th>text</th>\n",
       "      <th>toxic</th>\n",
       "      <th>clear_text</th>\n",
       "      <th>lemm_text</th>\n",
       "    </tr>\n",
       "  </thead>\n",
       "  <tbody>\n",
       "    <tr>\n",
       "      <th>0</th>\n",
       "      <td>Explanation\\nWhy the edits made under my usern...</td>\n",
       "      <td>0</td>\n",
       "      <td>Explanation Why the edits made under my userna...</td>\n",
       "      <td>explanation why the edit make under my usernam...</td>\n",
       "    </tr>\n",
       "    <tr>\n",
       "      <th>1</th>\n",
       "      <td>D'aww! He matches this background colour I'm s...</td>\n",
       "      <td>0</td>\n",
       "      <td>D aww He matches this background colour I m se...</td>\n",
       "      <td>d aww he match this background colour I m seem...</td>\n",
       "    </tr>\n",
       "    <tr>\n",
       "      <th>2</th>\n",
       "      <td>Hey man, I'm really not trying to edit war. It...</td>\n",
       "      <td>0</td>\n",
       "      <td>Hey man I m really not trying to edit war It s...</td>\n",
       "      <td>hey man I m really not try to edit war it s ju...</td>\n",
       "    </tr>\n",
       "    <tr>\n",
       "      <th>3</th>\n",
       "      <td>\"\\nMore\\nI can't make any real suggestions on ...</td>\n",
       "      <td>0</td>\n",
       "      <td>More I can t make any real suggestions on impr...</td>\n",
       "      <td>More I can t make any real suggestion on impro...</td>\n",
       "    </tr>\n",
       "    <tr>\n",
       "      <th>4</th>\n",
       "      <td>You, sir, are my hero. Any chance you remember...</td>\n",
       "      <td>0</td>\n",
       "      <td>You sir are my hero Any chance you remember wh...</td>\n",
       "      <td>you sir be my hero any chance you remember wha...</td>\n",
       "    </tr>\n",
       "    <tr>\n",
       "      <th>5</th>\n",
       "      <td>\"\\n\\nCongratulations from me as well, use the ...</td>\n",
       "      <td>0</td>\n",
       "      <td>Congratulations from me as well use the tools ...</td>\n",
       "      <td>congratulation from I as well use the tool wel...</td>\n",
       "    </tr>\n",
       "    <tr>\n",
       "      <th>6</th>\n",
       "      <td>COCKSUCKER BEFORE YOU PISS AROUND ON MY WORK</td>\n",
       "      <td>1</td>\n",
       "      <td>COCKSUCKER BEFORE YOU PISS AROUND ON MY WORK</td>\n",
       "      <td>COCKSUCKER before you pis around on my work</td>\n",
       "    </tr>\n",
       "    <tr>\n",
       "      <th>7</th>\n",
       "      <td>Your vandalism to the Matt Shirvington article...</td>\n",
       "      <td>0</td>\n",
       "      <td>Your vandalism to the Matt Shirvington article...</td>\n",
       "      <td>your vandalism to the Matt Shirvington article...</td>\n",
       "    </tr>\n",
       "  </tbody>\n",
       "</table>\n",
       "</div>"
      ],
      "text/plain": [
       "                                                text  toxic  \\\n",
       "0  Explanation\\nWhy the edits made under my usern...      0   \n",
       "1  D'aww! He matches this background colour I'm s...      0   \n",
       "2  Hey man, I'm really not trying to edit war. It...      0   \n",
       "3  \"\\nMore\\nI can't make any real suggestions on ...      0   \n",
       "4  You, sir, are my hero. Any chance you remember...      0   \n",
       "5  \"\\n\\nCongratulations from me as well, use the ...      0   \n",
       "6       COCKSUCKER BEFORE YOU PISS AROUND ON MY WORK      1   \n",
       "7  Your vandalism to the Matt Shirvington article...      0   \n",
       "\n",
       "                                          clear_text  \\\n",
       "0  Explanation Why the edits made under my userna...   \n",
       "1  D aww He matches this background colour I m se...   \n",
       "2  Hey man I m really not trying to edit war It s...   \n",
       "3  More I can t make any real suggestions on impr...   \n",
       "4  You sir are my hero Any chance you remember wh...   \n",
       "5  Congratulations from me as well use the tools ...   \n",
       "6       COCKSUCKER BEFORE YOU PISS AROUND ON MY WORK   \n",
       "7  Your vandalism to the Matt Shirvington article...   \n",
       "\n",
       "                                           lemm_text  \n",
       "0  explanation why the edit make under my usernam...  \n",
       "1  d aww he match this background colour I m seem...  \n",
       "2  hey man I m really not try to edit war it s ju...  \n",
       "3  More I can t make any real suggestion on impro...  \n",
       "4  you sir be my hero any chance you remember wha...  \n",
       "5  congratulation from I as well use the tool wel...  \n",
       "6        COCKSUCKER before you pis around on my work  \n",
       "7  your vandalism to the Matt Shirvington article...  "
      ]
     },
     "metadata": {},
     "output_type": "display_data"
    }
   ],
   "source": [
    "tqdm.pandas()\n",
    " \n",
    "data['lemm_text'] = data['clear_text'].progress_apply(lemmatize)\n",
    "display(data.head(8))"
   ]
  },
  {
   "cell_type": "markdown",
   "metadata": {},
   "source": [
    "После преобразования текста проверим новый датафрейм на наличие дубликатов по двум столбцам"
   ]
  },
  {
   "cell_type": "code",
   "execution_count": 18,
   "metadata": {},
   "outputs": [
    {
     "data": {
      "text/plain": [
       "text          1119\n",
       "toxic         1119\n",
       "clear_text    1119\n",
       "lemm_text     1119\n",
       "dtype: int64"
      ]
     },
     "execution_count": 18,
     "metadata": {},
     "output_type": "execute_result"
    }
   ],
   "source": [
    "duplicateRows = data[data.duplicated(['clear_text', 'toxic'])]\n",
    "duplicateRows.count()"
   ]
  },
  {
   "cell_type": "markdown",
   "metadata": {},
   "source": [
    "Было найдено 1320 дубликатов, их надо удалить."
   ]
  },
  {
   "cell_type": "code",
   "execution_count": 19,
   "metadata": {},
   "outputs": [],
   "source": [
    "data.drop_duplicates(subset=['clear_text', 'toxic'], inplace=True)"
   ]
  },
  {
   "cell_type": "code",
   "execution_count": 20,
   "metadata": {},
   "outputs": [
    {
     "data": {
      "text/html": [
       "<div>\n",
       "<style scoped>\n",
       "    .dataframe tbody tr th:only-of-type {\n",
       "        vertical-align: middle;\n",
       "    }\n",
       "\n",
       "    .dataframe tbody tr th {\n",
       "        vertical-align: top;\n",
       "    }\n",
       "\n",
       "    .dataframe thead th {\n",
       "        text-align: right;\n",
       "    }\n",
       "</style>\n",
       "<table border=\"1\" class=\"dataframe\">\n",
       "  <thead>\n",
       "    <tr style=\"text-align: right;\">\n",
       "      <th></th>\n",
       "      <th>text</th>\n",
       "      <th>toxic</th>\n",
       "      <th>clear_text</th>\n",
       "      <th>lemm_text</th>\n",
       "    </tr>\n",
       "  </thead>\n",
       "  <tbody>\n",
       "    <tr>\n",
       "      <th>0</th>\n",
       "      <td>Explanation\\nWhy the edits made under my usern...</td>\n",
       "      <td>0</td>\n",
       "      <td>Explanation Why the edits made under my userna...</td>\n",
       "      <td>explanation why the edit make under my usernam...</td>\n",
       "    </tr>\n",
       "    <tr>\n",
       "      <th>1</th>\n",
       "      <td>D'aww! He matches this background colour I'm s...</td>\n",
       "      <td>0</td>\n",
       "      <td>D aww He matches this background colour I m se...</td>\n",
       "      <td>d aww he match this background colour I m seem...</td>\n",
       "    </tr>\n",
       "    <tr>\n",
       "      <th>2</th>\n",
       "      <td>Hey man, I'm really not trying to edit war. It...</td>\n",
       "      <td>0</td>\n",
       "      <td>Hey man I m really not trying to edit war It s...</td>\n",
       "      <td>hey man I m really not try to edit war it s ju...</td>\n",
       "    </tr>\n",
       "    <tr>\n",
       "      <th>3</th>\n",
       "      <td>\"\\nMore\\nI can't make any real suggestions on ...</td>\n",
       "      <td>0</td>\n",
       "      <td>More I can t make any real suggestions on impr...</td>\n",
       "      <td>More I can t make any real suggestion on impro...</td>\n",
       "    </tr>\n",
       "    <tr>\n",
       "      <th>4</th>\n",
       "      <td>You, sir, are my hero. Any chance you remember...</td>\n",
       "      <td>0</td>\n",
       "      <td>You sir are my hero Any chance you remember wh...</td>\n",
       "      <td>you sir be my hero any chance you remember wha...</td>\n",
       "    </tr>\n",
       "    <tr>\n",
       "      <th>5</th>\n",
       "      <td>\"\\n\\nCongratulations from me as well, use the ...</td>\n",
       "      <td>0</td>\n",
       "      <td>Congratulations from me as well use the tools ...</td>\n",
       "      <td>congratulation from I as well use the tool wel...</td>\n",
       "    </tr>\n",
       "    <tr>\n",
       "      <th>6</th>\n",
       "      <td>COCKSUCKER BEFORE YOU PISS AROUND ON MY WORK</td>\n",
       "      <td>1</td>\n",
       "      <td>COCKSUCKER BEFORE YOU PISS AROUND ON MY WORK</td>\n",
       "      <td>COCKSUCKER before you pis around on my work</td>\n",
       "    </tr>\n",
       "    <tr>\n",
       "      <th>7</th>\n",
       "      <td>Your vandalism to the Matt Shirvington article...</td>\n",
       "      <td>0</td>\n",
       "      <td>Your vandalism to the Matt Shirvington article...</td>\n",
       "      <td>your vandalism to the Matt Shirvington article...</td>\n",
       "    </tr>\n",
       "    <tr>\n",
       "      <th>8</th>\n",
       "      <td>Sorry if the word 'nonsense' was offensive to ...</td>\n",
       "      <td>0</td>\n",
       "      <td>Sorry if the word nonsense was offensive to yo...</td>\n",
       "      <td>sorry if the word nonsense be offensive to you...</td>\n",
       "    </tr>\n",
       "    <tr>\n",
       "      <th>9</th>\n",
       "      <td>alignment on this subject and which are contra...</td>\n",
       "      <td>0</td>\n",
       "      <td>alignment on this subject and which are contra...</td>\n",
       "      <td>alignment on this subject and which be contrar...</td>\n",
       "    </tr>\n",
       "  </tbody>\n",
       "</table>\n",
       "</div>"
      ],
      "text/plain": [
       "                                                text  toxic  \\\n",
       "0  Explanation\\nWhy the edits made under my usern...      0   \n",
       "1  D'aww! He matches this background colour I'm s...      0   \n",
       "2  Hey man, I'm really not trying to edit war. It...      0   \n",
       "3  \"\\nMore\\nI can't make any real suggestions on ...      0   \n",
       "4  You, sir, are my hero. Any chance you remember...      0   \n",
       "5  \"\\n\\nCongratulations from me as well, use the ...      0   \n",
       "6       COCKSUCKER BEFORE YOU PISS AROUND ON MY WORK      1   \n",
       "7  Your vandalism to the Matt Shirvington article...      0   \n",
       "8  Sorry if the word 'nonsense' was offensive to ...      0   \n",
       "9  alignment on this subject and which are contra...      0   \n",
       "\n",
       "                                          clear_text  \\\n",
       "0  Explanation Why the edits made under my userna...   \n",
       "1  D aww He matches this background colour I m se...   \n",
       "2  Hey man I m really not trying to edit war It s...   \n",
       "3  More I can t make any real suggestions on impr...   \n",
       "4  You sir are my hero Any chance you remember wh...   \n",
       "5  Congratulations from me as well use the tools ...   \n",
       "6       COCKSUCKER BEFORE YOU PISS AROUND ON MY WORK   \n",
       "7  Your vandalism to the Matt Shirvington article...   \n",
       "8  Sorry if the word nonsense was offensive to yo...   \n",
       "9  alignment on this subject and which are contra...   \n",
       "\n",
       "                                           lemm_text  \n",
       "0  explanation why the edit make under my usernam...  \n",
       "1  d aww he match this background colour I m seem...  \n",
       "2  hey man I m really not try to edit war it s ju...  \n",
       "3  More I can t make any real suggestion on impro...  \n",
       "4  you sir be my hero any chance you remember wha...  \n",
       "5  congratulation from I as well use the tool wel...  \n",
       "6        COCKSUCKER before you pis around on my work  \n",
       "7  your vandalism to the Matt Shirvington article...  \n",
       "8  sorry if the word nonsense be offensive to you...  \n",
       "9  alignment on this subject and which be contrar...  "
      ]
     },
     "execution_count": 20,
     "metadata": {},
     "output_type": "execute_result"
    }
   ],
   "source": [
    "data.head(10)"
   ]
  },
  {
   "cell_type": "code",
   "execution_count": 21,
   "metadata": {},
   "outputs": [],
   "source": [
    "df = data.copy()"
   ]
  },
  {
   "cell_type": "markdown",
   "metadata": {},
   "source": [
    "Разделим исходный датасет на тренировочную и тестовую выборку"
   ]
  },
  {
   "cell_type": "code",
   "execution_count": 22,
   "metadata": {},
   "outputs": [],
   "source": [
    "x = df.drop(['toxic'], axis = 1)\n",
    "y = df['toxic']"
   ]
  },
  {
   "cell_type": "code",
   "execution_count": 23,
   "metadata": {},
   "outputs": [],
   "source": [
    "x_train, x_test, y_train, y_test = train_test_split(x, y, stratify = y)"
   ]
  },
  {
   "cell_type": "markdown",
   "metadata": {},
   "source": [
    "Теперь данные готовы для обучения модели."
   ]
  },
  {
   "cell_type": "markdown",
   "metadata": {},
   "source": [
    "## Обучение"
   ]
  },
  {
   "cell_type": "markdown",
   "metadata": {},
   "source": [
    "Для автоматизации процесса создания пайплайнов для каждой модели, создадим функцию которая будет делать это за нас."
   ]
  },
  {
   "cell_type": "code",
   "execution_count": 24,
   "metadata": {},
   "outputs": [],
   "source": [
    "def pipelines(model, params):\n",
    "    pipeline = Pipeline([\n",
    "        ('tfidf', TfidfVectorizer()),\n",
    "        ('model', model)])\n",
    "    randomized_search = RandomizedSearchCV(\n",
    "        pipeline, \n",
    "        params, \n",
    "        cv=5,\n",
    "        scoring='f1',\n",
    "        random_state=42,\n",
    "        n_jobs=-1)\n",
    "    \n",
    "    randomized_search.fit(x_train['clear_text'], y_train)\n",
    "    print('Лучший результат метрики F1:', randomized_search.best_score_)\n",
    "    print('Лучшие параметры модели:', randomized_search.best_params_)\n",
    "    return randomized_search"
   ]
  },
  {
   "cell_type": "code",
   "execution_count": 25,
   "metadata": {},
   "outputs": [],
   "source": [
    "model1 = LogisticRegression()\n",
    "model2 = DecisionTreeClassifier()\n",
    "model3 = CatBoostClassifier()"
   ]
  },
  {
   "cell_type": "code",
   "execution_count": 26,
   "metadata": {},
   "outputs": [
    {
     "name": "stdout",
     "output_type": "stream",
     "text": [
      "Лучший результат метрики F1: 0.7790723207586693\n",
      "Лучшие параметры модели: {'model__penalty': 'l2', 'model__C': 10.0}\n"
     ]
    }
   ],
   "source": [
    "lr_mod = pipelines(model1, {\"model__C\":[0.1, 1.0, 10.0], \"model__penalty\":[\"l2\"]})"
   ]
  },
  {
   "cell_type": "code",
   "execution_count": 27,
   "metadata": {},
   "outputs": [
    {
     "name": "stdout",
     "output_type": "stream",
     "text": [
      "Лучший результат метрики F1: 0.52255217186731\n",
      "Лучшие параметры модели: {'model__max_depth': 6, 'model__criterion': 'gini'}\n"
     ]
    }
   ],
   "source": [
    "dtc_mod = pipelines(model2, {'model__criterion':['gini','entropy'],'model__max_depth':[2,4,6]})"
   ]
  },
  {
   "cell_type": "code",
   "execution_count": null,
   "metadata": {},
   "outputs": [],
   "source": [
    "cat_mod = pipelines(model3, {'model__depth': [4,6],\n",
    "                 'model__learning_rate' : [0.01,0.03],\n",
    "                  'model__iterations' : [10, 30]})"
   ]
  },
  {
   "cell_type": "markdown",
   "metadata": {},
   "source": [
    "Получив все метрики моделей на тренировочной выборке, можно сделать вывод что лучше всего себя показала модель LogisticRegression c гиперпараметрами {'model__penalty': 'l2', 'model__C': 10.0}. Из всех моделей на тренировочной выборке она показала самое высокое значение метрики f1 - 0.78. Значит для проверки качества предсказаний на тестовой выборке выберем ее."
   ]
  },
  {
   "cell_type": "code",
   "execution_count": 29,
   "metadata": {},
   "outputs": [],
   "source": [
    "result = f1_score(y_test, lr_mod.predict(x_test['clear_text']))"
   ]
  },
  {
   "cell_type": "code",
   "execution_count": 30,
   "metadata": {},
   "outputs": [
    {
     "name": "stdout",
     "output_type": "stream",
     "text": [
      "Значение f1 на тестовой выборке: 0.7785048030071001\n"
     ]
    }
   ],
   "source": [
    "print('Значение f1 на тестовой выборке:',result)"
   ]
  },
  {
   "cell_type": "markdown",
   "metadata": {},
   "source": [
    "## Выводы"
   ]
  },
  {
   "cell_type": "markdown",
   "metadata": {},
   "source": [
    "Я проверила полученный датафрейм на адекватность данных, была выполнена первичная подготовка датасета. Далее он был разделен на тренировочную и тестовую выборки, для дальнейшего обучения моделей. Для того чтобы автоматизировать процесс обучения я создала функцию, которая создавала пайплайн для каждой из моделей и обучила 3 модели: Логистическую регрессию, Дерево классификации и CatBoost. С помощью пайплайна в них была произведена подборка гиперпараметров и вывод лучшей метрики f1 из всех полученных. <br/><br/> \n",
    "На основе полученных метрик было принято решение на счет лучшей модели из трех, которая будет использована для предсказания на тестовой выборке. Этой моделью оказалась Логистическая регрессия, которая показала лучшее значение метрики f1 - 0.77 в сравнении со всеми остальными. Это значение удовлетворяет условию задачи - не меньше 0.75. <br/>\n",
    "На тестовой выборке лучшая модель показала результат 0.78 что тоже удовлетворяет условию задачи. <br/> <br/> \n",
    "Как итог, лучшая модель: LogisticRegression c гиперпараметрами {'model__penalty': 'l2', 'model__C': 10.0}"
   ]
  }
 ],
 "metadata": {
  "ExecuteTimeLog": [
   {
    "duration": 48,
    "start_time": "2024-07-31T19:55:17.477Z"
   },
   {
    "duration": 406,
    "start_time": "2024-07-31T19:55:19.422Z"
   },
   {
    "duration": 54,
    "start_time": "2024-07-31T19:55:20.241Z"
   },
   {
    "duration": 3759,
    "start_time": "2024-07-31T19:56:22.199Z"
   },
   {
    "duration": 16,
    "start_time": "2024-07-31T19:56:31.244Z"
   },
   {
    "duration": 10,
    "start_time": "2024-07-31T19:57:07.197Z"
   },
   {
    "duration": 7,
    "start_time": "2024-07-31T19:57:14.175Z"
   },
   {
    "duration": 13,
    "start_time": "2024-07-31T19:57:45.541Z"
   },
   {
    "duration": 33,
    "start_time": "2024-07-31T19:58:54.105Z"
   },
   {
    "duration": 28,
    "start_time": "2024-07-31T19:59:00.010Z"
   },
   {
    "duration": 867,
    "start_time": "2024-07-31T19:59:21.538Z"
   },
   {
    "duration": 7,
    "start_time": "2024-07-31T19:59:22.578Z"
   },
   {
    "duration": 9,
    "start_time": "2024-07-31T19:59:25.144Z"
   },
   {
    "duration": 15,
    "start_time": "2024-07-31T19:59:33.172Z"
   },
   {
    "duration": 877,
    "start_time": "2024-07-31T19:59:45.672Z"
   },
   {
    "duration": 7,
    "start_time": "2024-07-31T19:59:46.551Z"
   },
   {
    "duration": 30,
    "start_time": "2024-07-31T19:59:46.559Z"
   },
   {
    "duration": 9,
    "start_time": "2024-07-31T19:59:50.685Z"
   },
   {
    "duration": 7,
    "start_time": "2024-07-31T20:00:01.104Z"
   },
   {
    "duration": 30,
    "start_time": "2024-07-31T20:00:18.690Z"
   },
   {
    "duration": 225,
    "start_time": "2024-07-31T20:00:32.879Z"
   },
   {
    "duration": 73,
    "start_time": "2024-07-31T20:00:44.252Z"
   },
   {
    "duration": 1761,
    "start_time": "2024-07-31T20:03:11.401Z"
   },
   {
    "duration": 26,
    "start_time": "2024-07-31T20:04:06.335Z"
   },
   {
    "duration": 647,
    "start_time": "2024-07-31T20:04:50.196Z"
   },
   {
    "duration": 230,
    "start_time": "2024-07-31T20:04:56.768Z"
   },
   {
    "duration": 162,
    "start_time": "2024-07-31T20:05:49.316Z"
   },
   {
    "duration": 145,
    "start_time": "2024-07-31T20:05:53.253Z"
   },
   {
    "duration": 145,
    "start_time": "2024-07-31T20:06:10.439Z"
   },
   {
    "duration": 146,
    "start_time": "2024-07-31T20:06:46.253Z"
   },
   {
    "duration": 264,
    "start_time": "2024-07-31T20:06:51.136Z"
   },
   {
    "duration": 4,
    "start_time": "2024-07-31T20:23:27.626Z"
   },
   {
    "duration": 237,
    "start_time": "2024-07-31T20:23:51.918Z"
   },
   {
    "duration": 4,
    "start_time": "2024-07-31T20:24:22.037Z"
   },
   {
    "duration": 3,
    "start_time": "2024-07-31T20:26:07.490Z"
   },
   {
    "duration": 4,
    "start_time": "2024-07-31T20:26:16.880Z"
   },
   {
    "duration": 4,
    "start_time": "2024-07-31T20:26:20.025Z"
   },
   {
    "duration": 13,
    "start_time": "2024-07-31T20:31:06.296Z"
   },
   {
    "duration": 3,
    "start_time": "2024-07-31T20:31:08.663Z"
   },
   {
    "duration": 13,
    "start_time": "2024-07-31T20:31:10.597Z"
   },
   {
    "duration": 5,
    "start_time": "2024-07-31T20:31:36.527Z"
   },
   {
    "duration": 13,
    "start_time": "2024-07-31T20:44:36.207Z"
   },
   {
    "duration": 14,
    "start_time": "2024-07-31T20:44:44.416Z"
   },
   {
    "duration": 15,
    "start_time": "2024-07-31T20:45:37.151Z"
   },
   {
    "duration": 860,
    "start_time": "2024-07-31T20:45:42.953Z"
   },
   {
    "duration": 60,
    "start_time": "2024-07-31T20:45:48.903Z"
   },
   {
    "duration": 53,
    "start_time": "2024-07-31T20:46:04.250Z"
   },
   {
    "duration": 1190,
    "start_time": "2024-07-31T20:46:08.269Z"
   },
   {
    "duration": 4,
    "start_time": "2024-07-31T20:46:12.962Z"
   },
   {
    "duration": 890,
    "start_time": "2024-07-31T20:46:13.399Z"
   },
   {
    "duration": 8,
    "start_time": "2024-07-31T20:46:14.291Z"
   },
   {
    "duration": 25,
    "start_time": "2024-07-31T20:46:14.300Z"
   },
   {
    "duration": 7,
    "start_time": "2024-07-31T20:46:14.327Z"
   },
   {
    "duration": 73,
    "start_time": "2024-07-31T20:46:14.694Z"
   },
   {
    "duration": 26,
    "start_time": "2024-07-31T20:46:14.854Z"
   },
   {
    "duration": 830,
    "start_time": "2024-07-31T20:46:16.805Z"
   },
   {
    "duration": 880,
    "start_time": "2024-07-31T20:46:31.406Z"
   },
   {
    "duration": 3,
    "start_time": "2024-07-31T20:46:38.490Z"
   },
   {
    "duration": 13,
    "start_time": "2024-07-31T20:46:41.413Z"
   },
   {
    "duration": 9,
    "start_time": "2024-07-31T20:46:50.829Z"
   },
   {
    "duration": 8,
    "start_time": "2024-07-31T20:47:01.849Z"
   },
   {
    "duration": 7,
    "start_time": "2024-07-31T20:47:16.129Z"
   },
   {
    "duration": 11,
    "start_time": "2024-07-31T20:47:21.444Z"
   },
   {
    "duration": 4,
    "start_time": "2024-07-31T21:06:40.767Z"
   },
   {
    "duration": 12,
    "start_time": "2024-07-31T21:08:38.738Z"
   },
   {
    "duration": 4,
    "start_time": "2024-07-31T21:08:42.911Z"
   },
   {
    "duration": 2,
    "start_time": "2024-07-31T21:08:46.916Z"
   },
   {
    "duration": 3,
    "start_time": "2024-07-31T21:20:51.424Z"
   },
   {
    "duration": 12,
    "start_time": "2024-07-31T21:20:59.236Z"
   },
   {
    "duration": 323,
    "start_time": "2024-07-31T21:21:16.100Z"
   },
   {
    "duration": 8,
    "start_time": "2024-08-01T19:04:47.957Z"
   },
   {
    "duration": 41,
    "start_time": "2024-08-01T19:04:52.072Z"
   },
   {
    "duration": 2744,
    "start_time": "2024-08-01T19:04:56.626Z"
   },
   {
    "duration": 3717,
    "start_time": "2024-08-01T19:04:59.373Z"
   },
   {
    "duration": 12,
    "start_time": "2024-08-01T19:05:03.092Z"
   },
   {
    "duration": 10,
    "start_time": "2024-08-01T19:05:03.107Z"
   },
   {
    "duration": 9,
    "start_time": "2024-08-01T19:05:03.118Z"
   },
   {
    "duration": 97,
    "start_time": "2024-08-01T19:05:03.129Z"
   },
   {
    "duration": 42,
    "start_time": "2024-08-01T19:05:03.228Z"
   },
   {
    "duration": 13,
    "start_time": "2024-08-01T19:05:03.271Z"
   },
   {
    "duration": 162,
    "start_time": "2024-08-01T19:05:03.286Z"
   },
   {
    "duration": 232,
    "start_time": "2024-08-01T19:05:03.450Z"
   },
   {
    "duration": 4,
    "start_time": "2024-08-01T19:05:03.684Z"
   },
   {
    "duration": 3,
    "start_time": "2024-08-01T19:05:03.690Z"
   },
   {
    "duration": 3,
    "start_time": "2024-08-01T19:05:05.555Z"
   },
   {
    "duration": 366,
    "start_time": "2024-08-01T19:05:06.350Z"
   },
   {
    "duration": 3,
    "start_time": "2024-08-01T19:05:28.218Z"
   },
   {
    "duration": 70113,
    "start_time": "2024-08-01T19:05:29.815Z"
   },
   {
    "duration": 4,
    "start_time": "2024-08-01T19:07:29.331Z"
   },
   {
    "duration": 295,
    "start_time": "2024-08-01T19:07:30.752Z"
   },
   {
    "duration": 3,
    "start_time": "2024-08-01T19:07:49.639Z"
   },
   {
    "duration": 230,
    "start_time": "2024-08-01T19:07:51.051Z"
   },
   {
    "duration": 4,
    "start_time": "2024-08-01T19:15:12.635Z"
   },
   {
    "duration": 271,
    "start_time": "2024-08-01T19:15:13.145Z"
   },
   {
    "duration": 3,
    "start_time": "2024-08-01T19:15:19.189Z"
   },
   {
    "duration": 75219,
    "start_time": "2024-08-01T19:15:20.508Z"
   },
   {
    "duration": 10,
    "start_time": "2024-08-01T19:17:26.524Z"
   },
   {
    "duration": 8,
    "start_time": "2024-08-01T19:25:09.877Z"
   },
   {
    "duration": 29,
    "start_time": "2024-08-01T19:29:25.398Z"
   },
   {
    "duration": 68,
    "start_time": "2024-08-01T19:29:41.628Z"
   },
   {
    "duration": 71,
    "start_time": "2024-08-01T19:29:45.955Z"
   },
   {
    "duration": 2,
    "start_time": "2024-08-01T19:36:02.729Z"
   },
   {
    "duration": 5,
    "start_time": "2024-08-01T20:00:51.370Z"
   },
   {
    "duration": 5,
    "start_time": "2024-08-01T20:03:17.871Z"
   },
   {
    "duration": 4,
    "start_time": "2024-08-01T20:03:21.569Z"
   },
   {
    "duration": 4,
    "start_time": "2024-08-01T20:25:39.009Z"
   },
   {
    "duration": 55,
    "start_time": "2024-08-01T20:27:55.898Z"
   },
   {
    "duration": 55,
    "start_time": "2024-08-01T20:28:07.116Z"
   },
   {
    "duration": 19,
    "start_time": "2024-08-01T20:28:21.624Z"
   },
   {
    "duration": 4,
    "start_time": "2024-08-01T20:28:24.012Z"
   },
   {
    "duration": 4,
    "start_time": "2024-08-01T20:28:47.642Z"
   },
   {
    "duration": 16,
    "start_time": "2024-08-01T20:29:57.676Z"
   },
   {
    "duration": 11,
    "start_time": "2024-08-01T20:29:59.057Z"
   },
   {
    "duration": 12,
    "start_time": "2024-08-01T20:29:59.700Z"
   },
   {
    "duration": 11,
    "start_time": "2024-08-01T20:30:02.002Z"
   },
   {
    "duration": 203,
    "start_time": "2024-08-01T20:30:22.725Z"
   },
   {
    "duration": 13,
    "start_time": "2024-08-01T20:30:28.883Z"
   },
   {
    "duration": 4,
    "start_time": "2024-08-01T20:30:40.883Z"
   },
   {
    "duration": 12,
    "start_time": "2024-08-01T20:30:46.221Z"
   },
   {
    "duration": 24,
    "start_time": "2024-08-01T20:31:00.966Z"
   },
   {
    "duration": 14,
    "start_time": "2024-08-01T20:31:05.532Z"
   },
   {
    "duration": 3,
    "start_time": "2024-08-01T20:31:21.121Z"
   },
   {
    "duration": 20,
    "start_time": "2024-08-01T20:31:22.090Z"
   },
   {
    "duration": 18,
    "start_time": "2024-08-01T20:31:22.542Z"
   },
   {
    "duration": 18,
    "start_time": "2024-08-01T20:31:23.081Z"
   },
   {
    "duration": 7,
    "start_time": "2024-08-01T20:31:43.744Z"
   },
   {
    "duration": 27,
    "start_time": "2024-08-01T20:31:49.103Z"
   },
   {
    "duration": 8,
    "start_time": "2024-08-01T20:32:03.719Z"
   },
   {
    "duration": 16,
    "start_time": "2024-08-01T20:32:11.476Z"
   },
   {
    "duration": 5,
    "start_time": "2024-08-01T20:33:29.531Z"
   },
   {
    "duration": 2,
    "start_time": "2024-08-01T20:33:30.260Z"
   },
   {
    "duration": 18,
    "start_time": "2024-08-01T20:33:30.568Z"
   },
   {
    "duration": 4,
    "start_time": "2024-08-01T20:33:46.978Z"
   },
   {
    "duration": 2,
    "start_time": "2024-08-01T20:33:47.542Z"
   },
   {
    "duration": 16,
    "start_time": "2024-08-01T20:33:47.841Z"
   },
   {
    "duration": 4,
    "start_time": "2024-08-01T20:34:14.449Z"
   },
   {
    "duration": 4,
    "start_time": "2024-08-01T20:35:06.749Z"
   },
   {
    "duration": 3,
    "start_time": "2024-08-01T20:35:07.242Z"
   },
   {
    "duration": 26,
    "start_time": "2024-08-01T20:35:07.610Z"
   },
   {
    "duration": 3113,
    "start_time": "2024-08-03T09:59:51.114Z"
   },
   {
    "duration": 1318,
    "start_time": "2024-08-03T09:59:54.229Z"
   },
   {
    "duration": 11,
    "start_time": "2024-08-03T09:59:55.549Z"
   },
   {
    "duration": 41,
    "start_time": "2024-08-03T09:59:55.562Z"
   },
   {
    "duration": 61,
    "start_time": "2024-08-03T09:59:55.605Z"
   },
   {
    "duration": 96,
    "start_time": "2024-08-03T09:59:55.668Z"
   },
   {
    "duration": 112,
    "start_time": "2024-08-03T09:59:55.766Z"
   },
   {
    "duration": 33,
    "start_time": "2024-08-03T09:59:55.880Z"
   },
   {
    "duration": 169,
    "start_time": "2024-08-03T09:59:55.915Z"
   },
   {
    "duration": 202,
    "start_time": "2024-08-03T09:59:56.087Z"
   },
   {
    "duration": 4,
    "start_time": "2024-08-03T09:59:56.291Z"
   },
   {
    "duration": 160,
    "start_time": "2024-08-03T09:59:56.296Z"
   },
   {
    "duration": 40,
    "start_time": "2024-08-03T09:59:56.457Z"
   },
   {
    "duration": 76472,
    "start_time": "2024-08-03T09:59:56.499Z"
   },
   {
    "duration": 9,
    "start_time": "2024-08-03T10:01:12.972Z"
   },
   {
    "duration": 42,
    "start_time": "2024-08-03T10:01:12.982Z"
   },
   {
    "duration": 85,
    "start_time": "2024-08-03T10:01:13.027Z"
   },
   {
    "duration": 68,
    "start_time": "2024-08-03T10:01:13.113Z"
   },
   {
    "duration": 4,
    "start_time": "2024-08-03T10:01:13.183Z"
   },
   {
    "duration": 19,
    "start_time": "2024-08-03T10:01:13.189Z"
   },
   {
    "duration": 173,
    "start_time": "2024-08-03T10:01:13.209Z"
   },
   {
    "duration": 0,
    "start_time": "2024-08-03T10:01:13.384Z"
   },
   {
    "duration": 0,
    "start_time": "2024-08-03T10:01:13.385Z"
   },
   {
    "duration": 2790,
    "start_time": "2024-08-03T19:40:09.490Z"
   },
   {
    "duration": 3642,
    "start_time": "2024-08-03T19:40:12.282Z"
   },
   {
    "duration": 13,
    "start_time": "2024-08-03T19:40:15.926Z"
   },
   {
    "duration": 16,
    "start_time": "2024-08-03T19:40:15.942Z"
   },
   {
    "duration": 8,
    "start_time": "2024-08-03T19:40:15.959Z"
   },
   {
    "duration": 81,
    "start_time": "2024-08-03T19:40:15.969Z"
   },
   {
    "duration": 35,
    "start_time": "2024-08-03T19:40:16.051Z"
   },
   {
    "duration": 16,
    "start_time": "2024-08-03T19:40:16.087Z"
   },
   {
    "duration": 152,
    "start_time": "2024-08-03T19:40:16.104Z"
   },
   {
    "duration": 211,
    "start_time": "2024-08-03T19:40:16.258Z"
   },
   {
    "duration": 4,
    "start_time": "2024-08-03T19:40:16.470Z"
   },
   {
    "duration": 10,
    "start_time": "2024-08-03T19:40:16.475Z"
   },
   {
    "duration": 4,
    "start_time": "2024-08-03T19:40:16.486Z"
   },
   {
    "duration": 66782,
    "start_time": "2024-08-03T19:40:16.491Z"
   },
   {
    "duration": 11,
    "start_time": "2024-08-03T19:41:23.274Z"
   },
   {
    "duration": 28,
    "start_time": "2024-08-03T19:41:23.287Z"
   },
   {
    "duration": 35,
    "start_time": "2024-08-03T19:41:23.317Z"
   },
   {
    "duration": 63,
    "start_time": "2024-08-03T19:41:23.353Z"
   },
   {
    "duration": 4,
    "start_time": "2024-08-03T19:41:23.418Z"
   },
   {
    "duration": 28,
    "start_time": "2024-08-03T19:41:23.424Z"
   },
   {
    "duration": 0,
    "start_time": "2024-08-03T19:41:23.613Z"
   },
   {
    "duration": 0,
    "start_time": "2024-08-03T19:41:23.614Z"
   },
   {
    "duration": 0,
    "start_time": "2024-08-03T19:41:23.615Z"
   },
   {
    "duration": 15,
    "start_time": "2024-08-03T19:41:47.166Z"
   },
   {
    "duration": 16,
    "start_time": "2024-08-03T19:41:47.456Z"
   },
   {
    "duration": 19,
    "start_time": "2024-08-03T19:41:49.438Z"
   },
   {
    "duration": 4,
    "start_time": "2024-08-03T19:42:31.176Z"
   },
   {
    "duration": 3,
    "start_time": "2024-08-03T19:42:32.416Z"
   },
   {
    "duration": 15,
    "start_time": "2024-08-03T19:42:32.786Z"
   },
   {
    "duration": 15,
    "start_time": "2024-08-03T19:42:33.364Z"
   },
   {
    "duration": 15,
    "start_time": "2024-08-03T19:42:35.125Z"
   },
   {
    "duration": 4,
    "start_time": "2024-08-03T19:42:42.095Z"
   },
   {
    "duration": 2,
    "start_time": "2024-08-03T19:42:44.175Z"
   },
   {
    "duration": 875,
    "start_time": "2024-08-03T19:42:44.465Z"
   },
   {
    "duration": 0,
    "start_time": "2024-08-03T19:42:45.342Z"
   },
   {
    "duration": 0,
    "start_time": "2024-08-03T19:42:45.343Z"
   },
   {
    "duration": 860,
    "start_time": "2024-08-03T19:44:23.109Z"
   },
   {
    "duration": 807,
    "start_time": "2024-08-03T19:44:24.311Z"
   },
   {
    "duration": 4,
    "start_time": "2024-08-03T19:44:51.856Z"
   },
   {
    "duration": 3,
    "start_time": "2024-08-03T19:44:52.334Z"
   },
   {
    "duration": 594636,
    "start_time": "2024-08-03T19:44:52.546Z"
   },
   {
    "duration": 160161,
    "start_time": "2024-08-03T19:54:47.183Z"
   },
   {
    "duration": 2871515,
    "start_time": "2024-08-03T19:57:27.346Z"
   },
   {
    "duration": 12,
    "start_time": "2024-08-03T22:42:04.751Z"
   },
   {
    "duration": 5,
    "start_time": "2024-08-03T22:42:29.760Z"
   },
   {
    "duration": 1382,
    "start_time": "2024-08-03T22:42:34.673Z"
   },
   {
    "duration": 4,
    "start_time": "2024-08-03T22:42:56.193Z"
   },
   {
    "duration": 12,
    "start_time": "2024-08-03T22:43:44.618Z"
   },
   {
    "duration": 12,
    "start_time": "2024-08-03T22:45:16.238Z"
   },
   {
    "duration": 151,
    "start_time": "2024-08-03T22:45:20.522Z"
   },
   {
    "duration": 137,
    "start_time": "2024-08-03T22:45:26.596Z"
   },
   {
    "duration": 134,
    "start_time": "2024-08-03T22:45:36.523Z"
   },
   {
    "duration": 153,
    "start_time": "2024-08-03T22:52:40.046Z"
   },
   {
    "duration": 2550,
    "start_time": "2024-08-03T22:54:37.375Z"
   },
   {
    "duration": 837,
    "start_time": "2024-08-03T22:54:39.926Z"
   },
   {
    "duration": 18,
    "start_time": "2024-08-03T22:54:40.765Z"
   },
   {
    "duration": 15,
    "start_time": "2024-08-03T22:54:40.784Z"
   },
   {
    "duration": 32,
    "start_time": "2024-08-03T22:54:40.802Z"
   },
   {
    "duration": 70,
    "start_time": "2024-08-03T22:54:40.836Z"
   },
   {
    "duration": 28,
    "start_time": "2024-08-03T22:54:40.907Z"
   },
   {
    "duration": 11,
    "start_time": "2024-08-03T22:54:40.937Z"
   },
   {
    "duration": 159,
    "start_time": "2024-08-03T22:54:40.950Z"
   },
   {
    "duration": 149,
    "start_time": "2024-08-03T22:54:41.110Z"
   },
   {
    "duration": 5,
    "start_time": "2024-08-03T22:54:41.260Z"
   },
   {
    "duration": 4,
    "start_time": "2024-08-03T22:54:41.266Z"
   },
   {
    "duration": 4,
    "start_time": "2024-08-03T22:54:41.271Z"
   },
   {
    "duration": 65405,
    "start_time": "2024-08-03T22:54:41.277Z"
   },
   {
    "duration": 174,
    "start_time": "2024-08-03T22:55:46.684Z"
   },
   {
    "duration": 166,
    "start_time": "2024-08-03T22:55:46.859Z"
   },
   {
    "duration": 152,
    "start_time": "2024-08-03T22:55:47.026Z"
   },
   {
    "duration": 1,
    "start_time": "2024-08-03T22:55:47.181Z"
   },
   {
    "duration": 0,
    "start_time": "2024-08-03T22:55:47.183Z"
   },
   {
    "duration": 0,
    "start_time": "2024-08-03T22:55:47.184Z"
   },
   {
    "duration": 0,
    "start_time": "2024-08-03T22:55:47.185Z"
   },
   {
    "duration": 0,
    "start_time": "2024-08-03T22:55:47.186Z"
   },
   {
    "duration": 0,
    "start_time": "2024-08-03T22:55:47.187Z"
   },
   {
    "duration": 0,
    "start_time": "2024-08-03T22:55:47.188Z"
   },
   {
    "duration": 0,
    "start_time": "2024-08-03T22:55:47.189Z"
   },
   {
    "duration": 0,
    "start_time": "2024-08-03T22:55:47.190Z"
   },
   {
    "duration": 0,
    "start_time": "2024-08-03T22:55:47.191Z"
   },
   {
    "duration": 0,
    "start_time": "2024-08-03T22:55:47.191Z"
   },
   {
    "duration": 10,
    "start_time": "2024-08-03T22:56:49.446Z"
   },
   {
    "duration": 2416,
    "start_time": "2024-08-03T22:57:05.279Z"
   },
   {
    "duration": 801,
    "start_time": "2024-08-03T22:57:07.697Z"
   },
   {
    "duration": 10,
    "start_time": "2024-08-03T22:57:08.500Z"
   },
   {
    "duration": 8,
    "start_time": "2024-08-03T22:57:08.511Z"
   },
   {
    "duration": 17,
    "start_time": "2024-08-03T22:57:08.521Z"
   },
   {
    "duration": 74,
    "start_time": "2024-08-03T22:57:08.539Z"
   },
   {
    "duration": 42,
    "start_time": "2024-08-03T22:57:08.615Z"
   },
   {
    "duration": 12,
    "start_time": "2024-08-03T22:57:08.658Z"
   },
   {
    "duration": 144,
    "start_time": "2024-08-03T22:57:08.671Z"
   },
   {
    "duration": 150,
    "start_time": "2024-08-03T22:57:08.817Z"
   },
   {
    "duration": 5,
    "start_time": "2024-08-03T22:57:08.969Z"
   },
   {
    "duration": 22,
    "start_time": "2024-08-03T22:57:08.975Z"
   },
   {
    "duration": 6,
    "start_time": "2024-08-03T22:57:08.998Z"
   },
   {
    "duration": 66324,
    "start_time": "2024-08-03T22:57:09.007Z"
   },
   {
    "duration": 170,
    "start_time": "2024-08-03T22:58:15.333Z"
   },
   {
    "duration": 157,
    "start_time": "2024-08-03T22:58:15.504Z"
   },
   {
    "duration": 7,
    "start_time": "2024-08-03T22:58:15.662Z"
   },
   {
    "duration": 18,
    "start_time": "2024-08-03T22:58:15.670Z"
   },
   {
    "duration": 9,
    "start_time": "2024-08-03T22:58:15.689Z"
   },
   {
    "duration": 59,
    "start_time": "2024-08-03T22:58:15.699Z"
   },
   {
    "duration": 3,
    "start_time": "2024-08-03T22:58:15.759Z"
   },
   {
    "duration": 19,
    "start_time": "2024-08-03T22:58:15.764Z"
   },
   {
    "duration": 592101,
    "start_time": "2024-08-03T22:58:15.784Z"
   },
   {
    "duration": 156203,
    "start_time": "2024-08-03T23:08:07.886Z"
   },
   {
    "duration": 44,
    "start_time": "2024-08-03T23:12:04.424Z"
   },
   {
    "duration": 2406,
    "start_time": "2024-08-03T23:12:16.723Z"
   },
   {
    "duration": 3664,
    "start_time": "2024-08-03T23:12:19.130Z"
   },
   {
    "duration": 10,
    "start_time": "2024-08-03T23:12:22.795Z"
   },
   {
    "duration": 34,
    "start_time": "2024-08-03T23:12:22.807Z"
   },
   {
    "duration": 10,
    "start_time": "2024-08-03T23:12:22.843Z"
   },
   {
    "duration": 82,
    "start_time": "2024-08-03T23:12:22.854Z"
   },
   {
    "duration": 28,
    "start_time": "2024-08-03T23:12:22.938Z"
   },
   {
    "duration": 146,
    "start_time": "2024-08-03T23:12:22.967Z"
   },
   {
    "duration": 225,
    "start_time": "2024-08-03T23:12:23.115Z"
   },
   {
    "duration": 4,
    "start_time": "2024-08-03T23:12:23.342Z"
   },
   {
    "duration": 25,
    "start_time": "2024-08-03T23:12:23.347Z"
   },
   {
    "duration": 70,
    "start_time": "2024-08-03T23:12:23.373Z"
   },
   {
    "duration": 65876,
    "start_time": "2024-08-03T23:12:23.444Z"
   },
   {
    "duration": 168,
    "start_time": "2024-08-03T23:13:29.322Z"
   },
   {
    "duration": 152,
    "start_time": "2024-08-03T23:13:29.492Z"
   },
   {
    "duration": 8,
    "start_time": "2024-08-03T23:13:29.646Z"
   },
   {
    "duration": 8,
    "start_time": "2024-08-03T23:13:29.655Z"
   },
   {
    "duration": 22,
    "start_time": "2024-08-03T23:13:29.664Z"
   },
   {
    "duration": 59,
    "start_time": "2024-08-03T23:13:29.687Z"
   },
   {
    "duration": 3,
    "start_time": "2024-08-03T23:13:29.747Z"
   },
   {
    "duration": 12,
    "start_time": "2024-08-03T23:13:29.752Z"
   },
   {
    "duration": 595118,
    "start_time": "2024-08-03T23:13:29.765Z"
   },
   {
    "duration": 156402,
    "start_time": "2024-08-03T23:23:24.885Z"
   },
   {
    "duration": 46,
    "start_time": "2024-08-03T23:39:00.659Z"
   },
   {
    "duration": 5,
    "start_time": "2024-08-03T23:39:03.049Z"
   },
   {
    "duration": 2475,
    "start_time": "2024-08-03T23:39:12.346Z"
   },
   {
    "duration": 134,
    "start_time": "2024-08-03T23:39:16.849Z"
   },
   {
    "duration": 35619,
    "start_time": "2024-08-04T01:41:15.466Z"
   },
   {
    "duration": 1143,
    "start_time": "2024-08-04T01:41:51.087Z"
   },
   {
    "duration": 11,
    "start_time": "2024-08-04T01:41:52.231Z"
   },
   {
    "duration": 36,
    "start_time": "2024-08-04T01:41:52.243Z"
   },
   {
    "duration": 21,
    "start_time": "2024-08-04T01:41:52.280Z"
   },
   {
    "duration": 77,
    "start_time": "2024-08-04T01:41:52.302Z"
   },
   {
    "duration": 42,
    "start_time": "2024-08-04T01:41:52.380Z"
   },
   {
    "duration": 142,
    "start_time": "2024-08-04T01:41:52.423Z"
   },
   {
    "duration": 196,
    "start_time": "2024-08-04T01:41:52.566Z"
   },
   {
    "duration": 3,
    "start_time": "2024-08-04T01:41:52.764Z"
   },
   {
    "duration": 14,
    "start_time": "2024-08-04T01:41:52.768Z"
   },
   {
    "duration": 11,
    "start_time": "2024-08-04T01:41:52.783Z"
   },
   {
    "duration": 63033,
    "start_time": "2024-08-04T01:41:52.795Z"
   },
   {
    "duration": 157,
    "start_time": "2024-08-04T01:42:55.830Z"
   },
   {
    "duration": 164,
    "start_time": "2024-08-04T01:42:55.988Z"
   },
   {
    "duration": 7,
    "start_time": "2024-08-04T01:42:56.153Z"
   },
   {
    "duration": 13,
    "start_time": "2024-08-04T01:42:56.161Z"
   },
   {
    "duration": 8,
    "start_time": "2024-08-04T01:42:56.175Z"
   },
   {
    "duration": 57,
    "start_time": "2024-08-04T01:42:56.185Z"
   },
   {
    "duration": 3,
    "start_time": "2024-08-04T01:42:56.243Z"
   },
   {
    "duration": 9,
    "start_time": "2024-08-04T01:42:56.248Z"
   },
   {
    "duration": 3417,
    "start_time": "2024-08-04T18:20:11.561Z"
   },
   {
    "duration": 1405,
    "start_time": "2024-08-04T18:20:14.981Z"
   },
   {
    "duration": 15,
    "start_time": "2024-08-04T18:20:16.388Z"
   },
   {
    "duration": 10,
    "start_time": "2024-08-04T18:20:17.681Z"
   },
   {
    "duration": 8,
    "start_time": "2024-08-04T18:20:18.052Z"
   },
   {
    "duration": 87,
    "start_time": "2024-08-04T18:20:19.037Z"
   },
   {
    "duration": 28,
    "start_time": "2024-08-04T18:20:19.457Z"
   },
   {
    "duration": 183,
    "start_time": "2024-08-04T18:20:20.317Z"
   },
   {
    "duration": 122,
    "start_time": "2024-08-04T18:20:20.684Z"
   },
   {
    "duration": 6,
    "start_time": "2024-08-04T18:20:21.156Z"
   },
   {
    "duration": 3,
    "start_time": "2024-08-04T18:20:22.942Z"
   },
   {
    "duration": 3,
    "start_time": "2024-08-04T18:20:23.337Z"
   },
   {
    "duration": 2,
    "start_time": "2024-08-04T18:20:24.150Z"
   },
   {
    "duration": 2,
    "start_time": "2024-08-04T18:20:24.781Z"
   },
   {
    "duration": 39399,
    "start_time": "2024-08-04T18:20:26.267Z"
   },
   {
    "duration": 1,
    "start_time": "2024-08-04T18:21:05.668Z"
   },
   {
    "duration": 951,
    "start_time": "2024-08-04T18:22:19.518Z"
   },
   {
    "duration": 9331,
    "start_time": "2024-08-04T18:22:24.413Z"
   },
   {
    "duration": 14,
    "start_time": "2024-08-04T18:22:41.238Z"
   },
   {
    "duration": 13,
    "start_time": "2024-08-04T18:22:59.834Z"
   },
   {
    "duration": 3099,
    "start_time": "2024-08-04T18:23:17.111Z"
   },
   {
    "duration": 15,
    "start_time": "2024-08-04T18:23:58.537Z"
   },
   {
    "duration": 19,
    "start_time": "2024-08-04T18:24:04.924Z"
   },
   {
    "duration": 101318,
    "start_time": "2024-08-04T18:28:44.048Z"
   },
   {
    "duration": 18,
    "start_time": "2024-08-04T18:30:25.367Z"
   },
   {
    "duration": 310,
    "start_time": "2024-08-04T18:40:46.815Z"
   },
   {
    "duration": 18,
    "start_time": "2024-08-04T18:41:48.018Z"
   },
   {
    "duration": 270,
    "start_time": "2024-08-04T18:41:56.382Z"
   },
   {
    "duration": 5,
    "start_time": "2024-08-04T18:42:16.244Z"
   },
   {
    "duration": 3,
    "start_time": "2024-08-04T18:43:12.689Z"
   },
   {
    "duration": 3,
    "start_time": "2024-08-04T18:43:13.349Z"
   },
   {
    "duration": 2832,
    "start_time": "2024-08-04T20:26:18.898Z"
   },
   {
    "duration": 1231,
    "start_time": "2024-08-04T20:26:21.732Z"
   },
   {
    "duration": 12,
    "start_time": "2024-08-04T20:26:22.966Z"
   },
   {
    "duration": 14,
    "start_time": "2024-08-04T20:26:22.979Z"
   },
   {
    "duration": 21,
    "start_time": "2024-08-04T20:26:22.994Z"
   },
   {
    "duration": 76,
    "start_time": "2024-08-04T20:26:23.017Z"
   },
   {
    "duration": 28,
    "start_time": "2024-08-04T20:26:23.094Z"
   },
   {
    "duration": 170,
    "start_time": "2024-08-04T20:26:23.123Z"
   },
   {
    "duration": 205,
    "start_time": "2024-08-04T20:26:23.295Z"
   },
   {
    "duration": 3,
    "start_time": "2024-08-04T20:26:23.503Z"
   },
   {
    "duration": 2,
    "start_time": "2024-08-04T20:26:24.419Z"
   },
   {
    "duration": 3,
    "start_time": "2024-08-04T20:26:25.124Z"
   },
   {
    "duration": 2,
    "start_time": "2024-08-04T20:26:25.675Z"
   },
   {
    "duration": 2,
    "start_time": "2024-08-04T20:26:26.222Z"
   },
   {
    "duration": 95005,
    "start_time": "2024-08-04T20:26:26.683Z"
   },
   {
    "duration": 2612926,
    "start_time": "2024-08-04T20:28:01.690Z"
   },
   {
    "duration": 2219,
    "start_time": "2024-08-04T21:12:01.709Z"
   },
   {
    "duration": 3,
    "start_time": "2024-08-04T21:13:25.953Z"
   },
   {
    "duration": 5,
    "start_time": "2024-08-04T21:13:40.868Z"
   },
   {
    "duration": 898,
    "start_time": "2024-08-04T21:13:41.724Z"
   },
   {
    "duration": 10,
    "start_time": "2024-08-04T21:13:42.624Z"
   },
   {
    "duration": 9,
    "start_time": "2024-08-04T21:13:42.636Z"
   },
   {
    "duration": 9,
    "start_time": "2024-08-04T21:13:42.692Z"
   },
   {
    "duration": 82,
    "start_time": "2024-08-04T21:13:43.128Z"
   },
   {
    "duration": 29,
    "start_time": "2024-08-04T21:13:43.322Z"
   },
   {
    "duration": 153,
    "start_time": "2024-08-04T21:13:43.722Z"
   },
   {
    "duration": 4,
    "start_time": "2024-08-04T21:13:44.022Z"
   },
   {
    "duration": 3,
    "start_time": "2024-08-04T21:13:44.402Z"
   },
   {
    "duration": 3,
    "start_time": "2024-08-04T21:13:45.219Z"
   },
   {
    "duration": 619,
    "start_time": "2024-08-04T21:13:45.686Z"
   },
   {
    "duration": 3,
    "start_time": "2024-08-04T21:13:46.307Z"
   },
   {
    "duration": 188,
    "start_time": "2024-08-04T21:13:46.335Z"
   },
   {
    "duration": 1284,
    "start_time": "2024-08-04T21:14:10.145Z"
   },
   {
    "duration": 1024,
    "start_time": "2024-08-04T21:14:28.788Z"
   },
   {
    "duration": 95890,
    "start_time": "2024-08-04T21:16:25.328Z"
   },
   {
    "duration": 4778,
    "start_time": "2024-08-04T21:31:36.131Z"
   },
   {
    "duration": 932,
    "start_time": "2024-08-04T21:31:40.911Z"
   },
   {
    "duration": 13,
    "start_time": "2024-08-04T21:31:41.845Z"
   },
   {
    "duration": 10,
    "start_time": "2024-08-04T21:31:41.860Z"
   },
   {
    "duration": 12,
    "start_time": "2024-08-04T21:31:41.872Z"
   },
   {
    "duration": 126,
    "start_time": "2024-08-04T21:31:41.886Z"
   },
   {
    "duration": 33,
    "start_time": "2024-08-04T21:31:42.014Z"
   },
   {
    "duration": 160,
    "start_time": "2024-08-04T21:31:42.048Z"
   },
   {
    "duration": 205,
    "start_time": "2024-08-04T21:31:42.209Z"
   },
   {
    "duration": 4,
    "start_time": "2024-08-04T21:31:42.416Z"
   },
   {
    "duration": 10,
    "start_time": "2024-08-04T21:31:42.422Z"
   },
   {
    "duration": 537,
    "start_time": "2024-08-04T21:31:42.433Z"
   },
   {
    "duration": 3,
    "start_time": "2024-08-04T21:31:42.971Z"
   },
   {
    "duration": 97930,
    "start_time": "2024-08-04T21:31:42.977Z"
   },
   {
    "duration": 352,
    "start_time": "2024-08-04T21:33:20.909Z"
   },
   {
    "duration": 0,
    "start_time": "2024-08-04T21:33:21.263Z"
   },
   {
    "duration": 0,
    "start_time": "2024-08-04T21:33:21.264Z"
   },
   {
    "duration": 0,
    "start_time": "2024-08-04T21:33:21.265Z"
   },
   {
    "duration": 0,
    "start_time": "2024-08-04T21:33:21.266Z"
   },
   {
    "duration": 0,
    "start_time": "2024-08-04T21:33:21.267Z"
   },
   {
    "duration": 0,
    "start_time": "2024-08-04T21:33:21.269Z"
   },
   {
    "duration": 0,
    "start_time": "2024-08-04T21:33:21.270Z"
   },
   {
    "duration": 0,
    "start_time": "2024-08-04T21:33:21.271Z"
   },
   {
    "duration": 0,
    "start_time": "2024-08-04T21:33:21.272Z"
   },
   {
    "duration": 0,
    "start_time": "2024-08-04T21:33:21.274Z"
   },
   {
    "duration": 0,
    "start_time": "2024-08-04T21:33:21.275Z"
   },
   {
    "duration": 0,
    "start_time": "2024-08-04T21:33:21.276Z"
   },
   {
    "duration": 0,
    "start_time": "2024-08-04T21:33:21.277Z"
   },
   {
    "duration": 7,
    "start_time": "2024-08-04T21:34:59.208Z"
   },
   {
    "duration": 1036683,
    "start_time": "2024-08-04T21:35:12.397Z"
   },
   {
    "duration": 246,
    "start_time": "2024-08-04T21:52:29.082Z"
   },
   {
    "duration": 219,
    "start_time": "2024-08-04T21:52:29.329Z"
   },
   {
    "duration": 8,
    "start_time": "2024-08-04T21:52:29.551Z"
   },
   {
    "duration": 12,
    "start_time": "2024-08-04T21:52:29.561Z"
   },
   {
    "duration": 31,
    "start_time": "2024-08-04T21:52:29.574Z"
   },
   {
    "duration": 77,
    "start_time": "2024-08-04T21:52:29.607Z"
   },
   {
    "duration": 4,
    "start_time": "2024-08-04T21:52:29.686Z"
   },
   {
    "duration": 19,
    "start_time": "2024-08-04T21:52:29.692Z"
   },
   {
    "duration": 726404,
    "start_time": "2024-08-04T21:52:29.714Z"
   },
   {
    "duration": 272541,
    "start_time": "2024-08-04T22:04:36.206Z"
   },
   {
    "duration": 401590,
    "start_time": "2024-08-04T22:09:08.748Z"
   },
   {
    "duration": 0,
    "start_time": "2024-08-04T22:15:50.343Z"
   },
   {
    "duration": 0,
    "start_time": "2024-08-04T22:15:50.347Z"
   },
   {
    "duration": 1911,
    "start_time": "2024-08-04T22:15:56.009Z"
   },
   {
    "duration": 4,
    "start_time": "2024-08-04T22:15:58.785Z"
   }
  ],
  "kernelspec": {
   "display_name": "Python 3 (ipykernel)",
   "language": "python",
   "name": "python3"
  },
  "language_info": {
   "codemirror_mode": {
    "name": "ipython",
    "version": 3
   },
   "file_extension": ".py",
   "mimetype": "text/x-python",
   "name": "python",
   "nbconvert_exporter": "python",
   "pygments_lexer": "ipython3",
   "version": "3.11.3"
  },
  "toc": {
   "base_numbering": 1,
   "nav_menu": {},
   "number_sections": true,
   "sideBar": true,
   "skip_h1_title": true,
   "title_cell": "Содержание",
   "title_sidebar": "Contents",
   "toc_cell": true,
   "toc_position": {
    "height": "calc(100% - 180px)",
    "left": "10px",
    "top": "150px",
    "width": "302.391px"
   },
   "toc_section_display": true,
   "toc_window_display": false
  }
 },
 "nbformat": 4,
 "nbformat_minor": 4
}
