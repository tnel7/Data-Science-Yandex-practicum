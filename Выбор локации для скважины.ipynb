{
 "cells": [
  {
   "cell_type": "markdown",
   "metadata": {},
   "source": [
    "# Выбор локации для скважины"
   ]
  },
  {
   "cell_type": "markdown",
   "metadata": {},
   "source": [
    "Допустим, вы работаете в добывающей компании «ГлавРосГосНефть». Нужно решить, где бурить новую скважину.\n",
    "\n",
    "Вам предоставлены пробы нефти в трёх регионах: в каждом 10 000 месторождений, где измерили качество нефти и объём её запасов. Постройте модель машинного обучения, которая поможет определить регион, где добыча принесёт наибольшую прибыль. Проанализируйте возможную прибыль и риски техникой *Bootstrap.*\n",
    "\n",
    "Шаги для выбора локации:\n",
    "\n",
    "- В избранном регионе ищут месторождения, для каждого определяют значения признаков;\n",
    "- Строят модель и оценивают объём запасов;\n",
    "- Выбирают месторождения с самым высокими оценками значений. Количество месторождений зависит от бюджета компании и стоимости разработки одной скважины;\n",
    "- Прибыль равна суммарной прибыли отобранных месторождений."
   ]
  },
  {
   "cell_type": "code",
   "execution_count": 1,
   "metadata": {},
   "outputs": [],
   "source": [
    "!pip install phik -q"
   ]
  },
  {
   "cell_type": "code",
   "execution_count": 2,
   "metadata": {},
   "outputs": [],
   "source": [
    "import pandas as pd\n",
    "import warnings\n",
    "warnings.simplefilter(\"ignore\") \n",
    "import matplotlib.pyplot as plt\n",
    "import seaborn as sns\n",
    "import numpy as np\n",
    "from scipy import stats as st\n",
    "\n",
    "import phik\n",
    "from phik.report import plot_correlation_matrix\n",
    "\n",
    "from sklearn.model_selection import train_test_split\n",
    "from sklearn.linear_model import LinearRegression\n",
    "from sklearn.pipeline import make_pipeline\n",
    "from sklearn.pipeline import Pipeline\n",
    "\n",
    "from sklearn.preprocessing import StandardScaler\n",
    "from sklearn.metrics import mean_squared_error\n",
    "from tqdm import tqdm"
   ]
  },
  {
   "cell_type": "markdown",
   "metadata": {},
   "source": [
    "## Загрузка и подготовка данных"
   ]
  },
  {
   "cell_type": "code",
   "execution_count": 3,
   "metadata": {},
   "outputs": [
    {
     "data": {
      "text/html": [
       "<div>\n",
       "<style scoped>\n",
       "    .dataframe tbody tr th:only-of-type {\n",
       "        vertical-align: middle;\n",
       "    }\n",
       "\n",
       "    .dataframe tbody tr th {\n",
       "        vertical-align: top;\n",
       "    }\n",
       "\n",
       "    .dataframe thead th {\n",
       "        text-align: right;\n",
       "    }\n",
       "</style>\n",
       "<table border=\"1\" class=\"dataframe\">\n",
       "  <thead>\n",
       "    <tr style=\"text-align: right;\">\n",
       "      <th></th>\n",
       "      <th>id</th>\n",
       "      <th>f0</th>\n",
       "      <th>f1</th>\n",
       "      <th>f2</th>\n",
       "      <th>product</th>\n",
       "    </tr>\n",
       "  </thead>\n",
       "  <tbody>\n",
       "    <tr>\n",
       "      <th>0</th>\n",
       "      <td>txEyH</td>\n",
       "      <td>0.705745</td>\n",
       "      <td>-0.497823</td>\n",
       "      <td>1.221170</td>\n",
       "      <td>105.280062</td>\n",
       "    </tr>\n",
       "    <tr>\n",
       "      <th>1</th>\n",
       "      <td>2acmU</td>\n",
       "      <td>1.334711</td>\n",
       "      <td>-0.340164</td>\n",
       "      <td>4.365080</td>\n",
       "      <td>73.037750</td>\n",
       "    </tr>\n",
       "    <tr>\n",
       "      <th>2</th>\n",
       "      <td>409Wp</td>\n",
       "      <td>1.022732</td>\n",
       "      <td>0.151990</td>\n",
       "      <td>1.419926</td>\n",
       "      <td>85.265647</td>\n",
       "    </tr>\n",
       "    <tr>\n",
       "      <th>3</th>\n",
       "      <td>iJLyR</td>\n",
       "      <td>-0.032172</td>\n",
       "      <td>0.139033</td>\n",
       "      <td>2.978566</td>\n",
       "      <td>168.620776</td>\n",
       "    </tr>\n",
       "    <tr>\n",
       "      <th>4</th>\n",
       "      <td>Xdl7t</td>\n",
       "      <td>1.988431</td>\n",
       "      <td>0.155413</td>\n",
       "      <td>4.751769</td>\n",
       "      <td>154.036647</td>\n",
       "    </tr>\n",
       "  </tbody>\n",
       "</table>\n",
       "</div>"
      ],
      "text/plain": [
       "      id        f0        f1        f2     product\n",
       "0  txEyH  0.705745 -0.497823  1.221170  105.280062\n",
       "1  2acmU  1.334711 -0.340164  4.365080   73.037750\n",
       "2  409Wp  1.022732  0.151990  1.419926   85.265647\n",
       "3  iJLyR -0.032172  0.139033  2.978566  168.620776\n",
       "4  Xdl7t  1.988431  0.155413  4.751769  154.036647"
      ]
     },
     "metadata": {},
     "output_type": "display_data"
    },
    {
     "name": "stdout",
     "output_type": "stream",
     "text": [
      "<class 'pandas.core.frame.DataFrame'>\n",
      "RangeIndex: 100000 entries, 0 to 99999\n",
      "Data columns (total 5 columns):\n",
      " #   Column   Non-Null Count   Dtype  \n",
      "---  ------   --------------   -----  \n",
      " 0   id       100000 non-null  object \n",
      " 1   f0       100000 non-null  float64\n",
      " 2   f1       100000 non-null  float64\n",
      " 3   f2       100000 non-null  float64\n",
      " 4   product  100000 non-null  float64\n",
      "dtypes: float64(4), object(1)\n",
      "memory usage: 3.8+ MB\n"
     ]
    },
    {
     "data": {
      "text/plain": [
       "None"
      ]
     },
     "metadata": {},
     "output_type": "display_data"
    },
    {
     "data": {
      "text/html": [
       "<div>\n",
       "<style scoped>\n",
       "    .dataframe tbody tr th:only-of-type {\n",
       "        vertical-align: middle;\n",
       "    }\n",
       "\n",
       "    .dataframe tbody tr th {\n",
       "        vertical-align: top;\n",
       "    }\n",
       "\n",
       "    .dataframe thead th {\n",
       "        text-align: right;\n",
       "    }\n",
       "</style>\n",
       "<table border=\"1\" class=\"dataframe\">\n",
       "  <thead>\n",
       "    <tr style=\"text-align: right;\">\n",
       "      <th></th>\n",
       "      <th>id</th>\n",
       "      <th>f0</th>\n",
       "      <th>f1</th>\n",
       "      <th>f2</th>\n",
       "      <th>product</th>\n",
       "    </tr>\n",
       "  </thead>\n",
       "  <tbody>\n",
       "    <tr>\n",
       "      <th>0</th>\n",
       "      <td>kBEdx</td>\n",
       "      <td>-15.001348</td>\n",
       "      <td>-8.276000</td>\n",
       "      <td>-0.005876</td>\n",
       "      <td>3.179103</td>\n",
       "    </tr>\n",
       "    <tr>\n",
       "      <th>1</th>\n",
       "      <td>62mP7</td>\n",
       "      <td>14.272088</td>\n",
       "      <td>-3.475083</td>\n",
       "      <td>0.999183</td>\n",
       "      <td>26.953261</td>\n",
       "    </tr>\n",
       "    <tr>\n",
       "      <th>2</th>\n",
       "      <td>vyE1P</td>\n",
       "      <td>6.263187</td>\n",
       "      <td>-5.948386</td>\n",
       "      <td>5.001160</td>\n",
       "      <td>134.766305</td>\n",
       "    </tr>\n",
       "    <tr>\n",
       "      <th>3</th>\n",
       "      <td>KcrkZ</td>\n",
       "      <td>-13.081196</td>\n",
       "      <td>-11.506057</td>\n",
       "      <td>4.999415</td>\n",
       "      <td>137.945408</td>\n",
       "    </tr>\n",
       "    <tr>\n",
       "      <th>4</th>\n",
       "      <td>AHL4O</td>\n",
       "      <td>12.702195</td>\n",
       "      <td>-8.147433</td>\n",
       "      <td>5.004363</td>\n",
       "      <td>134.766305</td>\n",
       "    </tr>\n",
       "  </tbody>\n",
       "</table>\n",
       "</div>"
      ],
      "text/plain": [
       "      id         f0         f1        f2     product\n",
       "0  kBEdx -15.001348  -8.276000 -0.005876    3.179103\n",
       "1  62mP7  14.272088  -3.475083  0.999183   26.953261\n",
       "2  vyE1P   6.263187  -5.948386  5.001160  134.766305\n",
       "3  KcrkZ -13.081196 -11.506057  4.999415  137.945408\n",
       "4  AHL4O  12.702195  -8.147433  5.004363  134.766305"
      ]
     },
     "metadata": {},
     "output_type": "display_data"
    },
    {
     "name": "stdout",
     "output_type": "stream",
     "text": [
      "<class 'pandas.core.frame.DataFrame'>\n",
      "RangeIndex: 100000 entries, 0 to 99999\n",
      "Data columns (total 5 columns):\n",
      " #   Column   Non-Null Count   Dtype  \n",
      "---  ------   --------------   -----  \n",
      " 0   id       100000 non-null  object \n",
      " 1   f0       100000 non-null  float64\n",
      " 2   f1       100000 non-null  float64\n",
      " 3   f2       100000 non-null  float64\n",
      " 4   product  100000 non-null  float64\n",
      "dtypes: float64(4), object(1)\n",
      "memory usage: 3.8+ MB\n"
     ]
    },
    {
     "data": {
      "text/plain": [
       "None"
      ]
     },
     "metadata": {},
     "output_type": "display_data"
    },
    {
     "data": {
      "text/html": [
       "<div>\n",
       "<style scoped>\n",
       "    .dataframe tbody tr th:only-of-type {\n",
       "        vertical-align: middle;\n",
       "    }\n",
       "\n",
       "    .dataframe tbody tr th {\n",
       "        vertical-align: top;\n",
       "    }\n",
       "\n",
       "    .dataframe thead th {\n",
       "        text-align: right;\n",
       "    }\n",
       "</style>\n",
       "<table border=\"1\" class=\"dataframe\">\n",
       "  <thead>\n",
       "    <tr style=\"text-align: right;\">\n",
       "      <th></th>\n",
       "      <th>id</th>\n",
       "      <th>f0</th>\n",
       "      <th>f1</th>\n",
       "      <th>f2</th>\n",
       "      <th>product</th>\n",
       "    </tr>\n",
       "  </thead>\n",
       "  <tbody>\n",
       "    <tr>\n",
       "      <th>0</th>\n",
       "      <td>fwXo0</td>\n",
       "      <td>-1.146987</td>\n",
       "      <td>0.963328</td>\n",
       "      <td>-0.828965</td>\n",
       "      <td>27.758673</td>\n",
       "    </tr>\n",
       "    <tr>\n",
       "      <th>1</th>\n",
       "      <td>WJtFt</td>\n",
       "      <td>0.262778</td>\n",
       "      <td>0.269839</td>\n",
       "      <td>-2.530187</td>\n",
       "      <td>56.069697</td>\n",
       "    </tr>\n",
       "    <tr>\n",
       "      <th>2</th>\n",
       "      <td>ovLUW</td>\n",
       "      <td>0.194587</td>\n",
       "      <td>0.289035</td>\n",
       "      <td>-5.586433</td>\n",
       "      <td>62.871910</td>\n",
       "    </tr>\n",
       "    <tr>\n",
       "      <th>3</th>\n",
       "      <td>q6cA6</td>\n",
       "      <td>2.236060</td>\n",
       "      <td>-0.553760</td>\n",
       "      <td>0.930038</td>\n",
       "      <td>114.572842</td>\n",
       "    </tr>\n",
       "    <tr>\n",
       "      <th>4</th>\n",
       "      <td>WPMUX</td>\n",
       "      <td>-0.515993</td>\n",
       "      <td>1.716266</td>\n",
       "      <td>5.899011</td>\n",
       "      <td>149.600746</td>\n",
       "    </tr>\n",
       "  </tbody>\n",
       "</table>\n",
       "</div>"
      ],
      "text/plain": [
       "      id        f0        f1        f2     product\n",
       "0  fwXo0 -1.146987  0.963328 -0.828965   27.758673\n",
       "1  WJtFt  0.262778  0.269839 -2.530187   56.069697\n",
       "2  ovLUW  0.194587  0.289035 -5.586433   62.871910\n",
       "3  q6cA6  2.236060 -0.553760  0.930038  114.572842\n",
       "4  WPMUX -0.515993  1.716266  5.899011  149.600746"
      ]
     },
     "metadata": {},
     "output_type": "display_data"
    },
    {
     "name": "stdout",
     "output_type": "stream",
     "text": [
      "<class 'pandas.core.frame.DataFrame'>\n",
      "RangeIndex: 100000 entries, 0 to 99999\n",
      "Data columns (total 5 columns):\n",
      " #   Column   Non-Null Count   Dtype  \n",
      "---  ------   --------------   -----  \n",
      " 0   id       100000 non-null  object \n",
      " 1   f0       100000 non-null  float64\n",
      " 2   f1       100000 non-null  float64\n",
      " 3   f2       100000 non-null  float64\n",
      " 4   product  100000 non-null  float64\n",
      "dtypes: float64(4), object(1)\n",
      "memory usage: 3.8+ MB\n"
     ]
    }
   ],
   "source": [
    "#создадим 3 датасета и загрузим в них исходные датафремы\n",
    "data1 = pd.read_csv('/datasets/geo_data_0.csv', sep=',')\n",
    "data2 = pd.read_csv('/datasets/geo_data_1.csv', sep=',')\n",
    "data3 = pd.read_csv('/datasets/geo_data_2.csv', sep=',')\n",
    "\n",
    "display(data1.head())\n",
    "display(data1.info())\n",
    "display(data2.head())\n",
    "display(data2.info())\n",
    "display(data3.head())\n",
    "data3.info()\n"
   ]
  },
  {
   "cell_type": "markdown",
   "metadata": {},
   "source": [
    "Проверим количество дубликатов."
   ]
  },
  {
   "cell_type": "code",
   "execution_count": 4,
   "metadata": {},
   "outputs": [
    {
     "name": "stdout",
     "output_type": "stream",
     "text": [
      "0\n",
      "0\n"
     ]
    },
    {
     "data": {
      "text/plain": [
       "0"
      ]
     },
     "execution_count": 4,
     "metadata": {},
     "output_type": "execute_result"
    }
   ],
   "source": [
    "print(data1.duplicated().sum())\n",
    "print(data2.duplicated().sum())\n",
    "data3.duplicated().sum()"
   ]
  },
  {
   "cell_type": "markdown",
   "metadata": {},
   "source": [
    "Выведем общую информацию о данных"
   ]
  },
  {
   "cell_type": "code",
   "execution_count": 5,
   "metadata": {},
   "outputs": [
    {
     "data": {
      "text/html": [
       "<div>\n",
       "<style scoped>\n",
       "    .dataframe tbody tr th:only-of-type {\n",
       "        vertical-align: middle;\n",
       "    }\n",
       "\n",
       "    .dataframe tbody tr th {\n",
       "        vertical-align: top;\n",
       "    }\n",
       "\n",
       "    .dataframe thead th {\n",
       "        text-align: right;\n",
       "    }\n",
       "</style>\n",
       "<table border=\"1\" class=\"dataframe\">\n",
       "  <thead>\n",
       "    <tr style=\"text-align: right;\">\n",
       "      <th></th>\n",
       "      <th>f0</th>\n",
       "      <th>f1</th>\n",
       "      <th>f2</th>\n",
       "      <th>product</th>\n",
       "    </tr>\n",
       "  </thead>\n",
       "  <tbody>\n",
       "    <tr>\n",
       "      <th>count</th>\n",
       "      <td>100000.000000</td>\n",
       "      <td>100000.000000</td>\n",
       "      <td>100000.000000</td>\n",
       "      <td>100000.000000</td>\n",
       "    </tr>\n",
       "    <tr>\n",
       "      <th>mean</th>\n",
       "      <td>0.500419</td>\n",
       "      <td>0.250143</td>\n",
       "      <td>2.502647</td>\n",
       "      <td>92.500000</td>\n",
       "    </tr>\n",
       "    <tr>\n",
       "      <th>std</th>\n",
       "      <td>0.871832</td>\n",
       "      <td>0.504433</td>\n",
       "      <td>3.248248</td>\n",
       "      <td>44.288691</td>\n",
       "    </tr>\n",
       "    <tr>\n",
       "      <th>min</th>\n",
       "      <td>-1.408605</td>\n",
       "      <td>-0.848218</td>\n",
       "      <td>-12.088328</td>\n",
       "      <td>0.000000</td>\n",
       "    </tr>\n",
       "    <tr>\n",
       "      <th>25%</th>\n",
       "      <td>-0.072580</td>\n",
       "      <td>-0.200881</td>\n",
       "      <td>0.287748</td>\n",
       "      <td>56.497507</td>\n",
       "    </tr>\n",
       "    <tr>\n",
       "      <th>50%</th>\n",
       "      <td>0.502360</td>\n",
       "      <td>0.250252</td>\n",
       "      <td>2.515969</td>\n",
       "      <td>91.849972</td>\n",
       "    </tr>\n",
       "    <tr>\n",
       "      <th>75%</th>\n",
       "      <td>1.073581</td>\n",
       "      <td>0.700646</td>\n",
       "      <td>4.715088</td>\n",
       "      <td>128.564089</td>\n",
       "    </tr>\n",
       "    <tr>\n",
       "      <th>max</th>\n",
       "      <td>2.362331</td>\n",
       "      <td>1.343769</td>\n",
       "      <td>16.003790</td>\n",
       "      <td>185.364347</td>\n",
       "    </tr>\n",
       "  </tbody>\n",
       "</table>\n",
       "</div>"
      ],
      "text/plain": [
       "                  f0             f1             f2        product\n",
       "count  100000.000000  100000.000000  100000.000000  100000.000000\n",
       "mean        0.500419       0.250143       2.502647      92.500000\n",
       "std         0.871832       0.504433       3.248248      44.288691\n",
       "min        -1.408605      -0.848218     -12.088328       0.000000\n",
       "25%        -0.072580      -0.200881       0.287748      56.497507\n",
       "50%         0.502360       0.250252       2.515969      91.849972\n",
       "75%         1.073581       0.700646       4.715088     128.564089\n",
       "max         2.362331       1.343769      16.003790     185.364347"
      ]
     },
     "metadata": {},
     "output_type": "display_data"
    },
    {
     "data": {
      "text/html": [
       "<div>\n",
       "<style scoped>\n",
       "    .dataframe tbody tr th:only-of-type {\n",
       "        vertical-align: middle;\n",
       "    }\n",
       "\n",
       "    .dataframe tbody tr th {\n",
       "        vertical-align: top;\n",
       "    }\n",
       "\n",
       "    .dataframe thead th {\n",
       "        text-align: right;\n",
       "    }\n",
       "</style>\n",
       "<table border=\"1\" class=\"dataframe\">\n",
       "  <thead>\n",
       "    <tr style=\"text-align: right;\">\n",
       "      <th></th>\n",
       "      <th>f0</th>\n",
       "      <th>f1</th>\n",
       "      <th>f2</th>\n",
       "      <th>product</th>\n",
       "    </tr>\n",
       "  </thead>\n",
       "  <tbody>\n",
       "    <tr>\n",
       "      <th>count</th>\n",
       "      <td>100000.000000</td>\n",
       "      <td>100000.000000</td>\n",
       "      <td>100000.000000</td>\n",
       "      <td>100000.000000</td>\n",
       "    </tr>\n",
       "    <tr>\n",
       "      <th>mean</th>\n",
       "      <td>1.141296</td>\n",
       "      <td>-4.796579</td>\n",
       "      <td>2.494541</td>\n",
       "      <td>68.825000</td>\n",
       "    </tr>\n",
       "    <tr>\n",
       "      <th>std</th>\n",
       "      <td>8.965932</td>\n",
       "      <td>5.119872</td>\n",
       "      <td>1.703572</td>\n",
       "      <td>45.944423</td>\n",
       "    </tr>\n",
       "    <tr>\n",
       "      <th>min</th>\n",
       "      <td>-31.609576</td>\n",
       "      <td>-26.358598</td>\n",
       "      <td>-0.018144</td>\n",
       "      <td>0.000000</td>\n",
       "    </tr>\n",
       "    <tr>\n",
       "      <th>25%</th>\n",
       "      <td>-6.298551</td>\n",
       "      <td>-8.267985</td>\n",
       "      <td>1.000021</td>\n",
       "      <td>26.953261</td>\n",
       "    </tr>\n",
       "    <tr>\n",
       "      <th>50%</th>\n",
       "      <td>1.153055</td>\n",
       "      <td>-4.813172</td>\n",
       "      <td>2.011479</td>\n",
       "      <td>57.085625</td>\n",
       "    </tr>\n",
       "    <tr>\n",
       "      <th>75%</th>\n",
       "      <td>8.621015</td>\n",
       "      <td>-1.332816</td>\n",
       "      <td>3.999904</td>\n",
       "      <td>107.813044</td>\n",
       "    </tr>\n",
       "    <tr>\n",
       "      <th>max</th>\n",
       "      <td>29.421755</td>\n",
       "      <td>18.734063</td>\n",
       "      <td>5.019721</td>\n",
       "      <td>137.945408</td>\n",
       "    </tr>\n",
       "  </tbody>\n",
       "</table>\n",
       "</div>"
      ],
      "text/plain": [
       "                  f0             f1             f2        product\n",
       "count  100000.000000  100000.000000  100000.000000  100000.000000\n",
       "mean        1.141296      -4.796579       2.494541      68.825000\n",
       "std         8.965932       5.119872       1.703572      45.944423\n",
       "min       -31.609576     -26.358598      -0.018144       0.000000\n",
       "25%        -6.298551      -8.267985       1.000021      26.953261\n",
       "50%         1.153055      -4.813172       2.011479      57.085625\n",
       "75%         8.621015      -1.332816       3.999904     107.813044\n",
       "max        29.421755      18.734063       5.019721     137.945408"
      ]
     },
     "metadata": {},
     "output_type": "display_data"
    },
    {
     "data": {
      "text/html": [
       "<div>\n",
       "<style scoped>\n",
       "    .dataframe tbody tr th:only-of-type {\n",
       "        vertical-align: middle;\n",
       "    }\n",
       "\n",
       "    .dataframe tbody tr th {\n",
       "        vertical-align: top;\n",
       "    }\n",
       "\n",
       "    .dataframe thead th {\n",
       "        text-align: right;\n",
       "    }\n",
       "</style>\n",
       "<table border=\"1\" class=\"dataframe\">\n",
       "  <thead>\n",
       "    <tr style=\"text-align: right;\">\n",
       "      <th></th>\n",
       "      <th>f0</th>\n",
       "      <th>f1</th>\n",
       "      <th>f2</th>\n",
       "      <th>product</th>\n",
       "    </tr>\n",
       "  </thead>\n",
       "  <tbody>\n",
       "    <tr>\n",
       "      <th>count</th>\n",
       "      <td>100000.000000</td>\n",
       "      <td>100000.000000</td>\n",
       "      <td>100000.000000</td>\n",
       "      <td>100000.000000</td>\n",
       "    </tr>\n",
       "    <tr>\n",
       "      <th>mean</th>\n",
       "      <td>0.002023</td>\n",
       "      <td>-0.002081</td>\n",
       "      <td>2.495128</td>\n",
       "      <td>95.000000</td>\n",
       "    </tr>\n",
       "    <tr>\n",
       "      <th>std</th>\n",
       "      <td>1.732045</td>\n",
       "      <td>1.730417</td>\n",
       "      <td>3.473445</td>\n",
       "      <td>44.749921</td>\n",
       "    </tr>\n",
       "    <tr>\n",
       "      <th>min</th>\n",
       "      <td>-8.760004</td>\n",
       "      <td>-7.084020</td>\n",
       "      <td>-11.970335</td>\n",
       "      <td>0.000000</td>\n",
       "    </tr>\n",
       "    <tr>\n",
       "      <th>25%</th>\n",
       "      <td>-1.162288</td>\n",
       "      <td>-1.174820</td>\n",
       "      <td>0.130359</td>\n",
       "      <td>59.450441</td>\n",
       "    </tr>\n",
       "    <tr>\n",
       "      <th>50%</th>\n",
       "      <td>0.009424</td>\n",
       "      <td>-0.009482</td>\n",
       "      <td>2.484236</td>\n",
       "      <td>94.925613</td>\n",
       "    </tr>\n",
       "    <tr>\n",
       "      <th>75%</th>\n",
       "      <td>1.158535</td>\n",
       "      <td>1.163678</td>\n",
       "      <td>4.858794</td>\n",
       "      <td>130.595027</td>\n",
       "    </tr>\n",
       "    <tr>\n",
       "      <th>max</th>\n",
       "      <td>7.238262</td>\n",
       "      <td>7.844801</td>\n",
       "      <td>16.739402</td>\n",
       "      <td>190.029838</td>\n",
       "    </tr>\n",
       "  </tbody>\n",
       "</table>\n",
       "</div>"
      ],
      "text/plain": [
       "                  f0             f1             f2        product\n",
       "count  100000.000000  100000.000000  100000.000000  100000.000000\n",
       "mean        0.002023      -0.002081       2.495128      95.000000\n",
       "std         1.732045       1.730417       3.473445      44.749921\n",
       "min        -8.760004      -7.084020     -11.970335       0.000000\n",
       "25%        -1.162288      -1.174820       0.130359      59.450441\n",
       "50%         0.009424      -0.009482       2.484236      94.925613\n",
       "75%         1.158535       1.163678       4.858794     130.595027\n",
       "max         7.238262       7.844801      16.739402     190.029838"
      ]
     },
     "execution_count": 5,
     "metadata": {},
     "output_type": "execute_result"
    }
   ],
   "source": [
    "display(data1.describe())\n",
    "display(data2.describe())\n",
    "data3.describe()"
   ]
  },
  {
   "cell_type": "markdown",
   "metadata": {},
   "source": [
    "Выведем всю информацию нагядно на графиках для каждого региона"
   ]
  },
  {
   "cell_type": "code",
   "execution_count": 6,
   "metadata": {},
   "outputs": [
    {
     "data": {
      "image/png": "[encoded data removed]",
      "text/plain": [
       "<Figure size 1152x1080 with 4 Axes>"
      ]
     },
     "metadata": {
      "needs_background": "light"
     },
     "output_type": "display_data"
    },
    {
     "data": {
      "image/png": "[encoded data removed]",
      "text/plain": [
       "<Figure size 1152x1080 with 4 Axes>"
      ]
     },
     "metadata": {
      "needs_background": "light"
     },
     "output_type": "display_data"
    },
    {
     "data": {
      "image/png": "[encoded data removed]",
      "text/plain": [
       "<Figure size 1152x1080 with 4 Axes>"
      ]
     },
     "metadata": {
      "needs_background": "light"
     },
     "output_type": "display_data"
    }
   ],
   "source": [
    "df_list = [data1, data2, data3]\n",
    "for df in df_list:\n",
    "# Выберем все столбцы, которые имеют тип данных 'object' и после выведем списки их уникальных значений\n",
    "    \n",
    "    num_columns = df.select_dtypes(include=['float64','int64']).columns.tolist()\n",
    "    #исключим столбец id из результатов\n",
    "    if 'id' in num_columns:\n",
    "        num_columns.remove('id')\n",
    "        \n",
    "    plt.figure(figsize=(16, 15))\n",
    "    for i, column in enumerate(num_columns):\n",
    "    # Создаем subplot для текущего столбца\n",
    "        plt.subplot(3, 4, i + 1)  # 3 строки, 4 столбца, текущий график\n",
    "    \n",
    "    # Строим график размаха для текущего столбца\n",
    "        df.boxplot(column=column, ax=plt.gca())\n",
    "    \n",
    "    # Добавляем заголовок с названием столбца\n",
    "        plt.title(column)\n",
    "    \n",
    "    # Добавляем метки для осей\n",
    "        plt.xlabel(column)\n",
    "        plt.ylabel('Value')\n",
    "        \n",
    "plt.tight_layout()\n",
    "plt.show()"
   ]
  },
  {
   "cell_type": "markdown",
   "metadata": {},
   "source": [
    "Заметим, что в некоторых столбцах имеются явные выбросы. Такие данные следует почистить\n"
   ]
  },
  {
   "cell_type": "code",
   "execution_count": 7,
   "metadata": {},
   "outputs": [
    {
     "name": "stdout",
     "output_type": "stream",
     "text": [
      "down: -6.3532614580838125\n",
      "up: 11.356097512311544\n"
     ]
    }
   ],
   "source": [
    "#почистим и проверим данные 1 региона\n",
    "\n",
    "#граница усов видна неявно, поэтому получим ее значение\n",
    "q25=np.array(data1['f2'].quantile(0.25))\n",
    "q75=np.array(data1['f2'].quantile(0.75))\n",
    "down=q25-1.5*(q75-q25)\n",
    "up=q75+1.5*(q75-q25)\n",
    "print('down:',down)\n",
    "print('up:',up)"
   ]
  },
  {
   "cell_type": "code",
   "execution_count": 8,
   "metadata": {},
   "outputs": [
    {
     "data": {
      "image/png": "[encoded data removed]",
      "text/plain": [
       "<Figure size 432x288 with 1 Axes>"
      ]
     },
     "metadata": {
      "needs_background": "light"
     },
     "output_type": "display_data"
    }
   ],
   "source": [
    "data1 = data1.loc[(data1['f2']<11.3)&(data1['f2']>-6.3)]\n",
    "data1.boxplot(column='f2', ax=plt.gca())\n",
    "plt.ylabel('Value')\n",
    "plt.show()"
   ]
  },
  {
   "cell_type": "code",
   "execution_count": 9,
   "metadata": {},
   "outputs": [
    {
     "name": "stdout",
     "output_type": "stream",
     "text": [
      "down: -18.670738069582377\n",
      "up: 9.069937223519565\n"
     ]
    }
   ],
   "source": [
    "#почистим и проверим данные 2 региона\n",
    "\n",
    "#граница усов видна неявно, поэтому получим ее значение\n",
    "q25=np.array(data2['f1'].quantile(0.25))\n",
    "q75=np.array(data2['f1'].quantile(0.75))\n",
    "down=q25-1.5*(q75-q25)\n",
    "up=q75+1.5*(q75-q25)\n",
    "print('down:',down)\n",
    "print('up:',up)\n"
   ]
  },
  {
   "cell_type": "code",
   "execution_count": 10,
   "metadata": {},
   "outputs": [
    {
     "data": {
      "image/png": "[encoded data removed]",
      "text/plain": [
       "<Figure size 432x288 with 1 Axes>"
      ]
     },
     "metadata": {
      "needs_background": "light"
     },
     "output_type": "display_data"
    }
   ],
   "source": [
    "data2 = data2.loc[(data2['f1']<9)&(data2['f1']>-18.6)]\n",
    "data2.boxplot(column='f1', ax=plt.gca())\n",
    "plt.ylabel('Value')\n",
    "plt.show()"
   ]
  },
  {
   "cell_type": "code",
   "execution_count": 11,
   "metadata": {},
   "outputs": [
    {
     "name": "stdout",
     "output_type": "stream",
     "text": [
      "down f0 : -4.643524223522959\n",
      "up f0 : 4.639771092118378\n",
      "down f1 : -4.682565825428671\n",
      "up f1 : 4.671424081839961\n",
      "down f2 : -6.962293786328402\n",
      "up f2 : 11.951446027690594\n",
      "down product : -47.26643772727831\n",
      "up product : 237.31190538130107\n"
     ]
    }
   ],
   "source": [
    "#почистим и проверим данные 3 региона\n",
    "\n",
    "#границы усов видна неявно, поэтому получим их значение\n",
    "num_columns = data3.select_dtypes(include=['float64']).columns.tolist()\n",
    "for i in (num_columns):\n",
    "    q25=np.array(data3[i].quantile(0.25))\n",
    "    q75=np.array(data3[i].quantile(0.75))\n",
    "    down=q25-1.5*(q75-q25)\n",
    "    up=q75+1.5*(q75-q25)\n",
    "    print('down',i,':', down)\n",
    "    print('up',i,':', up)"
   ]
  },
  {
   "cell_type": "code",
   "execution_count": 12,
   "metadata": {},
   "outputs": [
    {
     "data": {
      "image/png": "[encoded data removed]",
      "text/plain": [
       "<Figure size 864x576 with 4 Axes>"
      ]
     },
     "metadata": {
      "needs_background": "light"
     },
     "output_type": "display_data"
    }
   ],
   "source": [
    "data3 = data3.loc[(data3['f0'] < 4.6) & (data3['f0'] > -4.6)]\n",
    "data3 = data3.loc[(data3['f1'] < 4.6) & (data3['f1'] > -4.6)]\n",
    "data3 = data3.loc[(data3['f2'] < 11.9) & (data3['f2'] > -6.9)]\n",
    "#data3.boxplot(column='f1', ax=plt.gca())\n",
    "\n",
    "# Создание графиков\n",
    "plt.figure(figsize=(12, 8))\n",
    "num_columns = data3.select_dtypes(include=['float64']).columns.tolist()\n",
    "for i, column in enumerate(num_columns):\n",
    "    plt.subplot(3, 4, i + 1)  # 3 строки, 4 столбца, текущий график\n",
    "    data3.boxplot(column=column, ax=plt.gca())\n",
    "    plt.ylabel('Value')\n",
    "plt.tight_layout()\n",
    "plt.show()\n"
   ]
  },
  {
   "cell_type": "markdown",
   "metadata": {},
   "source": [
    "Выведем матрицы корреляции для всех датафреймов"
   ]
  },
  {
   "cell_type": "code",
   "execution_count": 13,
   "metadata": {},
   "outputs": [
    {
     "data": {
      "text/html": [
       "<div>\n",
       "<style scoped>\n",
       "    .dataframe tbody tr th:only-of-type {\n",
       "        vertical-align: middle;\n",
       "    }\n",
       "\n",
       "    .dataframe tbody tr th {\n",
       "        vertical-align: top;\n",
       "    }\n",
       "\n",
       "    .dataframe thead th {\n",
       "        text-align: right;\n",
       "    }\n",
       "</style>\n",
       "<table border=\"1\" class=\"dataframe\">\n",
       "  <thead>\n",
       "    <tr style=\"text-align: right;\">\n",
       "      <th></th>\n",
       "      <th>f0</th>\n",
       "      <th>f1</th>\n",
       "      <th>f2</th>\n",
       "      <th>product</th>\n",
       "    </tr>\n",
       "  </thead>\n",
       "  <tbody>\n",
       "    <tr>\n",
       "      <th>f0</th>\n",
       "      <td>1.000000</td>\n",
       "      <td>-0.440681</td>\n",
       "      <td>-0.003092</td>\n",
       "      <td>0.143673</td>\n",
       "    </tr>\n",
       "    <tr>\n",
       "      <th>f1</th>\n",
       "      <td>-0.440681</td>\n",
       "      <td>1.000000</td>\n",
       "      <td>0.000989</td>\n",
       "      <td>-0.192788</td>\n",
       "    </tr>\n",
       "    <tr>\n",
       "      <th>f2</th>\n",
       "      <td>-0.003092</td>\n",
       "      <td>0.000989</td>\n",
       "      <td>1.000000</td>\n",
       "      <td>0.479973</td>\n",
       "    </tr>\n",
       "    <tr>\n",
       "      <th>product</th>\n",
       "      <td>0.143673</td>\n",
       "      <td>-0.192788</td>\n",
       "      <td>0.479973</td>\n",
       "      <td>1.000000</td>\n",
       "    </tr>\n",
       "  </tbody>\n",
       "</table>\n",
       "</div>"
      ],
      "text/plain": [
       "               f0        f1        f2   product\n",
       "f0       1.000000 -0.440681 -0.003092  0.143673\n",
       "f1      -0.440681  1.000000  0.000989 -0.192788\n",
       "f2      -0.003092  0.000989  1.000000  0.479973\n",
       "product  0.143673 -0.192788  0.479973  1.000000"
      ]
     },
     "execution_count": 13,
     "metadata": {},
     "output_type": "execute_result"
    }
   ],
   "source": [
    "data1.corr()"
   ]
  },
  {
   "cell_type": "code",
   "execution_count": 14,
   "metadata": {},
   "outputs": [
    {
     "data": {
      "text/html": [
       "<div>\n",
       "<style scoped>\n",
       "    .dataframe tbody tr th:only-of-type {\n",
       "        vertical-align: middle;\n",
       "    }\n",
       "\n",
       "    .dataframe tbody tr th {\n",
       "        vertical-align: top;\n",
       "    }\n",
       "\n",
       "    .dataframe thead th {\n",
       "        text-align: right;\n",
       "    }\n",
       "</style>\n",
       "<table border=\"1\" class=\"dataframe\">\n",
       "  <thead>\n",
       "    <tr style=\"text-align: right;\">\n",
       "      <th></th>\n",
       "      <th>f0</th>\n",
       "      <th>f1</th>\n",
       "      <th>f2</th>\n",
       "      <th>product</th>\n",
       "    </tr>\n",
       "  </thead>\n",
       "  <tbody>\n",
       "    <tr>\n",
       "      <th>f0</th>\n",
       "      <td>1.000000</td>\n",
       "      <td>0.178792</td>\n",
       "      <td>-0.001645</td>\n",
       "      <td>-0.030363</td>\n",
       "    </tr>\n",
       "    <tr>\n",
       "      <th>f1</th>\n",
       "      <td>0.178792</td>\n",
       "      <td>1.000000</td>\n",
       "      <td>-0.003020</td>\n",
       "      <td>-0.010438</td>\n",
       "    </tr>\n",
       "    <tr>\n",
       "      <th>f2</th>\n",
       "      <td>-0.001645</td>\n",
       "      <td>-0.003020</td>\n",
       "      <td>1.000000</td>\n",
       "      <td>0.999397</td>\n",
       "    </tr>\n",
       "    <tr>\n",
       "      <th>product</th>\n",
       "      <td>-0.030363</td>\n",
       "      <td>-0.010438</td>\n",
       "      <td>0.999397</td>\n",
       "      <td>1.000000</td>\n",
       "    </tr>\n",
       "  </tbody>\n",
       "</table>\n",
       "</div>"
      ],
      "text/plain": [
       "               f0        f1        f2   product\n",
       "f0       1.000000  0.178792 -0.001645 -0.030363\n",
       "f1       0.178792  1.000000 -0.003020 -0.010438\n",
       "f2      -0.001645 -0.003020  1.000000  0.999397\n",
       "product -0.030363 -0.010438  0.999397  1.000000"
      ]
     },
     "execution_count": 14,
     "metadata": {},
     "output_type": "execute_result"
    }
   ],
   "source": [
    "data2.corr()"
   ]
  },
  {
   "cell_type": "markdown",
   "metadata": {},
   "source": [
    "Была замечена очень сильная корреляция между входным признаком и целевым, коэффициент корреляции стремится к 1, и скорее всего будет сбивать модель с толку, поэтому этот признак следует удалить, и делать выводы по оставшимся, потому что это является утечкой целевого признака. Дальше работать будем без f2."
   ]
  },
  {
   "cell_type": "code",
   "execution_count": 16,
   "metadata": {},
   "outputs": [
    {
     "data": {
      "text/html": [
       "<div>\n",
       "<style scoped>\n",
       "    .dataframe tbody tr th:only-of-type {\n",
       "        vertical-align: middle;\n",
       "    }\n",
       "\n",
       "    .dataframe tbody tr th {\n",
       "        vertical-align: top;\n",
       "    }\n",
       "\n",
       "    .dataframe thead th {\n",
       "        text-align: right;\n",
       "    }\n",
       "</style>\n",
       "<table border=\"1\" class=\"dataframe\">\n",
       "  <thead>\n",
       "    <tr style=\"text-align: right;\">\n",
       "      <th></th>\n",
       "      <th>f0</th>\n",
       "      <th>f1</th>\n",
       "      <th>f2</th>\n",
       "      <th>product</th>\n",
       "    </tr>\n",
       "  </thead>\n",
       "  <tbody>\n",
       "    <tr>\n",
       "      <th>f0</th>\n",
       "      <td>1.000000</td>\n",
       "      <td>0.000474</td>\n",
       "      <td>0.000816</td>\n",
       "      <td>-0.002491</td>\n",
       "    </tr>\n",
       "    <tr>\n",
       "      <th>f1</th>\n",
       "      <td>0.000474</td>\n",
       "      <td>1.000000</td>\n",
       "      <td>0.001151</td>\n",
       "      <td>-0.000548</td>\n",
       "    </tr>\n",
       "    <tr>\n",
       "      <th>f2</th>\n",
       "      <td>0.000816</td>\n",
       "      <td>0.001151</td>\n",
       "      <td>1.000000</td>\n",
       "      <td>0.440969</td>\n",
       "    </tr>\n",
       "    <tr>\n",
       "      <th>product</th>\n",
       "      <td>-0.002491</td>\n",
       "      <td>-0.000548</td>\n",
       "      <td>0.440969</td>\n",
       "      <td>1.000000</td>\n",
       "    </tr>\n",
       "  </tbody>\n",
       "</table>\n",
       "</div>"
      ],
      "text/plain": [
       "               f0        f1        f2   product\n",
       "f0       1.000000  0.000474  0.000816 -0.002491\n",
       "f1       0.000474  1.000000  0.001151 -0.000548\n",
       "f2       0.000816  0.001151  1.000000  0.440969\n",
       "product -0.002491 -0.000548  0.440969  1.000000"
      ]
     },
     "execution_count": 16,
     "metadata": {},
     "output_type": "execute_result"
    }
   ],
   "source": [
    "data3.corr()"
   ]
  },
  {
   "cell_type": "markdown",
   "metadata": {},
   "source": [
    "**Вывод:** <br/>\n",
    "в первом регионе на целевой признак самое большое влияние оказывает фактор f2 - 0.47 коэф. корреляции <br/>\n",
    "во втором регионе на целевой признак оказывает влияение только f2 - коэф = 0.999 <br/>\n",
    "в третьем регионе на целевой признак влияет тоже в основном только f2 - коэф = 0.44 <br/><br/>\n",
    "\n",
    "**Вывод по обработке данных:**<br/>\n",
    "Данные были проверены на пропуски, дубликаты, были удалены выбросы и проверена корреляция входных признаков с целевым. Во втором датфрейме было решено удалить входной признак, который коррелировал с целевым почти на 1. Данные подготовлены к дальнейшей работе."
   ]
  },
  {
   "cell_type": "markdown",
   "metadata": {},
   "source": [
    "## Обучение и проверка модели"
   ]
  },
  {
   "cell_type": "code",
   "execution_count": 17,
   "metadata": {},
   "outputs": [
    {
     "name": "stdout",
     "output_type": "stream",
     "text": [
      "Значения для трех датафреймов:\n",
      "\n",
      "Средний запас предсказанного сырья для датафрейма 1: 92.47754031300094\n",
      "Значение ошибки на модели для датафрейма 1: 37.899021865194115\n",
      "\n",
      "Средний запас предсказанного сырья для датафрейма 2: 68.9029064825551\n",
      "Значение ошибки на модели для датафрейма 2: 0.8942221643598804\n",
      "\n",
      "Средний запас предсказанного сырья для датафрейма 3: 94.69096686410404\n",
      "Значение ошибки на модели для датафрейма 3: 39.943639093269304\n",
      "\n"
     ]
    }
   ],
   "source": [
    "RANDOM_STATE = 42\n",
    "TEST_SIZE = 0.25\n",
    "\n",
    "dataframes = [data1, data2, data3]\n",
    "\n",
    "print('Значения для трех датафреймов:\\n')\n",
    "\n",
    "# Список для сохранения новых датафреймов\n",
    "target_dataframes = []\n",
    "\n",
    "for i, df in enumerate(dataframes):\n",
    "    X = df.drop([\"id\", \"product\"], axis=1)\n",
    "    y = df[\"product\"]\n",
    "    \n",
    "    X_train, X_valid, y_train, y_valid = train_test_split(\n",
    "        X, y, test_size=TEST_SIZE, random_state=RANDOM_STATE\n",
    "    )\n",
    "    \n",
    "    new_pipeline = Pipeline([\n",
    "        ('scaler', StandardScaler()),\n",
    "        ('regressor', LinearRegression())\n",
    "    ])\n",
    "    \n",
    "    new_pipeline.fit(X_train, y_train)\n",
    "    y_pred = new_pipeline.predict(X_valid)\n",
    "    rmse = mean_squared_error(y_valid, y_pred) ** 0.5\n",
    "    \n",
    "    # Создаем новый датафрейм с предсказаниями и реальными значениями\n",
    "    result_df = pd.DataFrame({\n",
    "        'real': y_valid,\n",
    "        'pred': y_pred\n",
    "    })\n",
    "    \n",
    "    # Сохраняем новый датафрейм в список\n",
    "    target_dataframes.append(result_df)\n",
    "    \n",
    "    print(f'Средний запас предсказанного сырья для датафрейма {i+1}:', y_pred.mean())\n",
    "    print(f'Значение ошибки на модели для датафрейма {i+1}:', rmse)\n",
    "    print()"
   ]
  },
  {
   "cell_type": "code",
   "execution_count": 18,
   "metadata": {},
   "outputs": [],
   "source": [
    "#создадим 3 новых переменных в которые занесем предсказания и реальные обьемы\n",
    "target1 = target_dataframes[0]\n",
    "target2 = target_dataframes[1]\n",
    "target3 = target_dataframes[2]"
   ]
  },
  {
   "cell_type": "code",
   "execution_count": 19,
   "metadata": {},
   "outputs": [
    {
     "data": {
      "text/html": [
       "<div>\n",
       "<style scoped>\n",
       "    .dataframe tbody tr th:only-of-type {\n",
       "        vertical-align: middle;\n",
       "    }\n",
       "\n",
       "    .dataframe tbody tr th {\n",
       "        vertical-align: top;\n",
       "    }\n",
       "\n",
       "    .dataframe thead th {\n",
       "        text-align: right;\n",
       "    }\n",
       "</style>\n",
       "<table border=\"1\" class=\"dataframe\">\n",
       "  <thead>\n",
       "    <tr style=\"text-align: right;\">\n",
       "      <th></th>\n",
       "      <th>real</th>\n",
       "      <th>pred</th>\n",
       "    </tr>\n",
       "  </thead>\n",
       "  <tbody>\n",
       "    <tr>\n",
       "      <th>count</th>\n",
       "      <td>24864.000000</td>\n",
       "      <td>24864.000000</td>\n",
       "    </tr>\n",
       "    <tr>\n",
       "      <th>mean</th>\n",
       "      <td>92.767397</td>\n",
       "      <td>92.477540</td>\n",
       "    </tr>\n",
       "    <tr>\n",
       "      <th>std</th>\n",
       "      <td>44.460425</td>\n",
       "      <td>23.149737</td>\n",
       "    </tr>\n",
       "    <tr>\n",
       "      <th>min</th>\n",
       "      <td>0.000000</td>\n",
       "      <td>20.507026</td>\n",
       "    </tr>\n",
       "    <tr>\n",
       "      <th>25%</th>\n",
       "      <td>56.724964</td>\n",
       "      <td>76.576607</td>\n",
       "    </tr>\n",
       "    <tr>\n",
       "      <th>50%</th>\n",
       "      <td>91.812513</td>\n",
       "      <td>92.605994</td>\n",
       "    </tr>\n",
       "    <tr>\n",
       "      <th>75%</th>\n",
       "      <td>129.055519</td>\n",
       "      <td>108.480895</td>\n",
       "    </tr>\n",
       "    <tr>\n",
       "      <th>max</th>\n",
       "      <td>185.354980</td>\n",
       "      <td>163.069126</td>\n",
       "    </tr>\n",
       "  </tbody>\n",
       "</table>\n",
       "</div>"
      ],
      "text/plain": [
       "               real          pred\n",
       "count  24864.000000  24864.000000\n",
       "mean      92.767397     92.477540\n",
       "std       44.460425     23.149737\n",
       "min        0.000000     20.507026\n",
       "25%       56.724964     76.576607\n",
       "50%       91.812513     92.605994\n",
       "75%      129.055519    108.480895\n",
       "max      185.354980    163.069126"
      ]
     },
     "execution_count": 19,
     "metadata": {},
     "output_type": "execute_result"
    }
   ],
   "source": [
    "target1.describe()"
   ]
  },
  {
   "cell_type": "code",
   "execution_count": 20,
   "metadata": {},
   "outputs": [
    {
     "data": {
      "text/html": [
       "<div>\n",
       "<style scoped>\n",
       "    .dataframe tbody tr th:only-of-type {\n",
       "        vertical-align: middle;\n",
       "    }\n",
       "\n",
       "    .dataframe tbody tr th {\n",
       "        vertical-align: top;\n",
       "    }\n",
       "\n",
       "    .dataframe thead th {\n",
       "        text-align: right;\n",
       "    }\n",
       "</style>\n",
       "<table border=\"1\" class=\"dataframe\">\n",
       "  <thead>\n",
       "    <tr style=\"text-align: right;\">\n",
       "      <th></th>\n",
       "      <th>real</th>\n",
       "      <th>pred</th>\n",
       "    </tr>\n",
       "  </thead>\n",
       "  <tbody>\n",
       "    <tr>\n",
       "      <th>count</th>\n",
       "      <td>24836.000000</td>\n",
       "      <td>24836.000000</td>\n",
       "    </tr>\n",
       "    <tr>\n",
       "      <th>mean</th>\n",
       "      <td>68.911941</td>\n",
       "      <td>68.902906</td>\n",
       "    </tr>\n",
       "    <tr>\n",
       "      <th>std</th>\n",
       "      <td>46.028018</td>\n",
       "      <td>46.014283</td>\n",
       "    </tr>\n",
       "    <tr>\n",
       "      <th>min</th>\n",
       "      <td>0.000000</td>\n",
       "      <td>-2.015456</td>\n",
       "    </tr>\n",
       "    <tr>\n",
       "      <th>25%</th>\n",
       "      <td>26.953261</td>\n",
       "      <td>28.538129</td>\n",
       "    </tr>\n",
       "    <tr>\n",
       "      <th>50%</th>\n",
       "      <td>57.085625</td>\n",
       "      <td>58.066571</td>\n",
       "    </tr>\n",
       "    <tr>\n",
       "      <th>75%</th>\n",
       "      <td>107.813044</td>\n",
       "      <td>109.359751</td>\n",
       "    </tr>\n",
       "    <tr>\n",
       "      <th>max</th>\n",
       "      <td>137.945408</td>\n",
       "      <td>139.982206</td>\n",
       "    </tr>\n",
       "  </tbody>\n",
       "</table>\n",
       "</div>"
      ],
      "text/plain": [
       "               real          pred\n",
       "count  24836.000000  24836.000000\n",
       "mean      68.911941     68.902906\n",
       "std       46.028018     46.014283\n",
       "min        0.000000     -2.015456\n",
       "25%       26.953261     28.538129\n",
       "50%       57.085625     58.066571\n",
       "75%      107.813044    109.359751\n",
       "max      137.945408    139.982206"
      ]
     },
     "execution_count": 20,
     "metadata": {},
     "output_type": "execute_result"
    }
   ],
   "source": [
    "target2.describe()"
   ]
  },
  {
   "cell_type": "code",
   "execution_count": 21,
   "metadata": {},
   "outputs": [
    {
     "data": {
      "text/html": [
       "<div>\n",
       "<style scoped>\n",
       "    .dataframe tbody tr th:only-of-type {\n",
       "        vertical-align: middle;\n",
       "    }\n",
       "\n",
       "    .dataframe tbody tr th {\n",
       "        vertical-align: top;\n",
       "    }\n",
       "\n",
       "    .dataframe thead th {\n",
       "        text-align: right;\n",
       "    }\n",
       "</style>\n",
       "<table border=\"1\" class=\"dataframe\">\n",
       "  <thead>\n",
       "    <tr style=\"text-align: right;\">\n",
       "      <th></th>\n",
       "      <th>real</th>\n",
       "      <th>pred</th>\n",
       "    </tr>\n",
       "  </thead>\n",
       "  <tbody>\n",
       "    <tr>\n",
       "      <th>count</th>\n",
       "      <td>24462.000000</td>\n",
       "      <td>24462.000000</td>\n",
       "    </tr>\n",
       "    <tr>\n",
       "      <th>mean</th>\n",
       "      <td>94.853736</td>\n",
       "      <td>94.690967</td>\n",
       "    </tr>\n",
       "    <tr>\n",
       "      <th>std</th>\n",
       "      <td>44.468440</td>\n",
       "      <td>19.721796</td>\n",
       "    </tr>\n",
       "    <tr>\n",
       "      <th>min</th>\n",
       "      <td>0.000000</td>\n",
       "      <td>39.853085</td>\n",
       "    </tr>\n",
       "    <tr>\n",
       "      <th>25%</th>\n",
       "      <td>59.699316</td>\n",
       "      <td>81.018088</td>\n",
       "    </tr>\n",
       "    <tr>\n",
       "      <th>50%</th>\n",
       "      <td>95.038101</td>\n",
       "      <td>94.551021</td>\n",
       "    </tr>\n",
       "    <tr>\n",
       "      <th>75%</th>\n",
       "      <td>130.021239</td>\n",
       "      <td>108.417357</td>\n",
       "    </tr>\n",
       "    <tr>\n",
       "      <th>max</th>\n",
       "      <td>189.979704</td>\n",
       "      <td>149.582641</td>\n",
       "    </tr>\n",
       "  </tbody>\n",
       "</table>\n",
       "</div>"
      ],
      "text/plain": [
       "               real          pred\n",
       "count  24462.000000  24462.000000\n",
       "mean      94.853736     94.690967\n",
       "std       44.468440     19.721796\n",
       "min        0.000000     39.853085\n",
       "25%       59.699316     81.018088\n",
       "50%       95.038101     94.551021\n",
       "75%      130.021239    108.417357\n",
       "max      189.979704    149.582641"
      ]
     },
     "execution_count": 21,
     "metadata": {},
     "output_type": "execute_result"
    }
   ],
   "source": [
    "target3.describe()"
   ]
  },
  {
   "cell_type": "markdown",
   "metadata": {},
   "source": [
    "Мы вывели значения всех требуемых значений для трех датафреймов. Выводы получаются такими, что самый большой обьем сырья предсказывается в 3 регионе - 94.7, но в этом регионе самое большое значение ошибки модели. Во втором регионе самая маленькая ошибка, скорее всего из-за сильной корреляции входного признака с целевым, но в любом случае, нам с этим регионом врятли придется работать, так как там самые низкие показатели по обьему добываемого сырья - 68.9. В 1 регионе значения обьемов и ошибки довольно близки к 3 региону, но оба показателя меньше."
   ]
  },
  {
   "cell_type": "markdown",
   "metadata": {},
   "source": [
    "## Подготовка к расчёту прибыли"
   ]
  },
  {
   "cell_type": "code",
   "execution_count": 22,
   "metadata": {},
   "outputs": [],
   "source": [
    "#введем необходимые константы \n",
    "all_points = 500\n",
    "best_points = 200\n",
    "budget = 10000000000\n",
    "price_per_barrel = 450000\n",
    "\n",
    "damage_treshold =  0.025 #вероятность убытков"
   ]
  },
  {
   "cell_type": "code",
   "execution_count": 23,
   "metadata": {},
   "outputs": [
    {
     "name": "stdout",
     "output_type": "stream",
     "text": [
      "Достаточный объём сырья для безубыточной разработки новой скважины 111.11\n"
     ]
    }
   ],
   "source": [
    "#рассчитаем объем сырья, чтобы выйти в плюс\n",
    "non_damage_value = (budget/(price_per_barrel))/best_points\n",
    "print(\"Достаточный объём сырья для безубыточной разработки новой скважины\",round(non_damage_value,2))"
   ]
  },
  {
   "cell_type": "markdown",
   "metadata": {},
   "source": [
    "Мы получили такое значение, при котором скважина начнет приносить прибыль это 111.1. В среднем каждый из регионов приносит меньше этого обьема, значит для наших целей подойдет довольно малая часть скважин."
   ]
  },
  {
   "cell_type": "code",
   "execution_count": 24,
   "metadata": {},
   "outputs": [
    {
     "data": {
      "text/html": [
       "<div>\n",
       "<style scoped>\n",
       "    .dataframe tbody tr th:only-of-type {\n",
       "        vertical-align: middle;\n",
       "    }\n",
       "\n",
       "    .dataframe tbody tr th {\n",
       "        vertical-align: top;\n",
       "    }\n",
       "\n",
       "    .dataframe thead th {\n",
       "        text-align: right;\n",
       "    }\n",
       "</style>\n",
       "<table border=\"1\" class=\"dataframe\">\n",
       "  <thead>\n",
       "    <tr style=\"text-align: right;\">\n",
       "      <th></th>\n",
       "      <th>f0</th>\n",
       "      <th>f1</th>\n",
       "      <th>f2</th>\n",
       "      <th>product</th>\n",
       "    </tr>\n",
       "  </thead>\n",
       "  <tbody>\n",
       "    <tr>\n",
       "      <th>count</th>\n",
       "      <td>99455.000000</td>\n",
       "      <td>99455.000000</td>\n",
       "      <td>99455.000000</td>\n",
       "      <td>99455.000000</td>\n",
       "    </tr>\n",
       "    <tr>\n",
       "      <th>mean</th>\n",
       "      <td>0.500625</td>\n",
       "      <td>0.250072</td>\n",
       "      <td>2.503490</td>\n",
       "      <td>92.501878</td>\n",
       "    </tr>\n",
       "    <tr>\n",
       "      <th>std</th>\n",
       "      <td>0.871849</td>\n",
       "      <td>0.504443</td>\n",
       "      <td>3.177016</td>\n",
       "      <td>44.227156</td>\n",
       "    </tr>\n",
       "    <tr>\n",
       "      <th>min</th>\n",
       "      <td>-1.408605</td>\n",
       "      <td>-0.848218</td>\n",
       "      <td>-6.296441</td>\n",
       "      <td>0.000000</td>\n",
       "    </tr>\n",
       "    <tr>\n",
       "      <th>25%</th>\n",
       "      <td>-0.072327</td>\n",
       "      <td>-0.201052</td>\n",
       "      <td>0.302271</td>\n",
       "      <td>56.569867</td>\n",
       "    </tr>\n",
       "    <tr>\n",
       "      <th>50%</th>\n",
       "      <td>0.502639</td>\n",
       "      <td>0.250038</td>\n",
       "      <td>2.516342</td>\n",
       "      <td>91.842786</td>\n",
       "    </tr>\n",
       "    <tr>\n",
       "      <th>75%</th>\n",
       "      <td>1.073731</td>\n",
       "      <td>0.700608</td>\n",
       "      <td>4.702998</td>\n",
       "      <td>128.513356</td>\n",
       "    </tr>\n",
       "    <tr>\n",
       "      <th>max</th>\n",
       "      <td>2.362331</td>\n",
       "      <td>1.343769</td>\n",
       "      <td>11.296029</td>\n",
       "      <td>185.364347</td>\n",
       "    </tr>\n",
       "  </tbody>\n",
       "</table>\n",
       "</div>"
      ],
      "text/plain": [
       "                 f0            f1            f2       product\n",
       "count  99455.000000  99455.000000  99455.000000  99455.000000\n",
       "mean       0.500625      0.250072      2.503490     92.501878\n",
       "std        0.871849      0.504443      3.177016     44.227156\n",
       "min       -1.408605     -0.848218     -6.296441      0.000000\n",
       "25%       -0.072327     -0.201052      0.302271     56.569867\n",
       "50%        0.502639      0.250038      2.516342     91.842786\n",
       "75%        1.073731      0.700608      4.702998    128.513356\n",
       "max        2.362331      1.343769     11.296029    185.364347"
      ]
     },
     "metadata": {},
     "output_type": "display_data"
    },
    {
     "data": {
      "text/html": [
       "<div>\n",
       "<style scoped>\n",
       "    .dataframe tbody tr th:only-of-type {\n",
       "        vertical-align: middle;\n",
       "    }\n",
       "\n",
       "    .dataframe tbody tr th {\n",
       "        vertical-align: top;\n",
       "    }\n",
       "\n",
       "    .dataframe thead th {\n",
       "        text-align: right;\n",
       "    }\n",
       "</style>\n",
       "<table border=\"1\" class=\"dataframe\">\n",
       "  <thead>\n",
       "    <tr style=\"text-align: right;\">\n",
       "      <th></th>\n",
       "      <th>f0</th>\n",
       "      <th>f1</th>\n",
       "      <th>f2</th>\n",
       "      <th>product</th>\n",
       "    </tr>\n",
       "  </thead>\n",
       "  <tbody>\n",
       "    <tr>\n",
       "      <th>count</th>\n",
       "      <td>99342.000000</td>\n",
       "      <td>99342.000000</td>\n",
       "      <td>99342.000000</td>\n",
       "      <td>99342.000000</td>\n",
       "    </tr>\n",
       "    <tr>\n",
       "      <th>mean</th>\n",
       "      <td>1.140103</td>\n",
       "      <td>-4.802545</td>\n",
       "      <td>2.493950</td>\n",
       "      <td>68.809579</td>\n",
       "    </tr>\n",
       "    <tr>\n",
       "      <th>std</th>\n",
       "      <td>8.965949</td>\n",
       "      <td>4.980411</td>\n",
       "      <td>1.703254</td>\n",
       "      <td>45.935275</td>\n",
       "    </tr>\n",
       "    <tr>\n",
       "      <th>min</th>\n",
       "      <td>-31.609576</td>\n",
       "      <td>-18.599840</td>\n",
       "      <td>-0.018144</td>\n",
       "      <td>0.000000</td>\n",
       "    </tr>\n",
       "    <tr>\n",
       "      <th>25%</th>\n",
       "      <td>-6.299865</td>\n",
       "      <td>-8.248387</td>\n",
       "      <td>1.000016</td>\n",
       "      <td>26.953261</td>\n",
       "    </tr>\n",
       "    <tr>\n",
       "      <th>50%</th>\n",
       "      <td>1.150199</td>\n",
       "      <td>-4.816117</td>\n",
       "      <td>2.011374</td>\n",
       "      <td>57.085625</td>\n",
       "    </tr>\n",
       "    <tr>\n",
       "      <th>75%</th>\n",
       "      <td>8.621050</td>\n",
       "      <td>-1.364062</td>\n",
       "      <td>3.999893</td>\n",
       "      <td>107.813044</td>\n",
       "    </tr>\n",
       "    <tr>\n",
       "      <th>max</th>\n",
       "      <td>29.421755</td>\n",
       "      <td>8.993895</td>\n",
       "      <td>5.019721</td>\n",
       "      <td>137.945408</td>\n",
       "    </tr>\n",
       "  </tbody>\n",
       "</table>\n",
       "</div>"
      ],
      "text/plain": [
       "                 f0            f1            f2       product\n",
       "count  99342.000000  99342.000000  99342.000000  99342.000000\n",
       "mean       1.140103     -4.802545      2.493950     68.809579\n",
       "std        8.965949      4.980411      1.703254     45.935275\n",
       "min      -31.609576    -18.599840     -0.018144      0.000000\n",
       "25%       -6.299865     -8.248387      1.000016     26.953261\n",
       "50%        1.150199     -4.816117      2.011374     57.085625\n",
       "75%        8.621050     -1.364062      3.999893    107.813044\n",
       "max       29.421755      8.993895      5.019721    137.945408"
      ]
     },
     "metadata": {},
     "output_type": "display_data"
    },
    {
     "data": {
      "text/html": [
       "<div>\n",
       "<style scoped>\n",
       "    .dataframe tbody tr th:only-of-type {\n",
       "        vertical-align: middle;\n",
       "    }\n",
       "\n",
       "    .dataframe tbody tr th {\n",
       "        vertical-align: top;\n",
       "    }\n",
       "\n",
       "    .dataframe thead th {\n",
       "        text-align: right;\n",
       "    }\n",
       "</style>\n",
       "<table border=\"1\" class=\"dataframe\">\n",
       "  <thead>\n",
       "    <tr style=\"text-align: right;\">\n",
       "      <th></th>\n",
       "      <th>f0</th>\n",
       "      <th>f1</th>\n",
       "      <th>f2</th>\n",
       "      <th>product</th>\n",
       "    </tr>\n",
       "  </thead>\n",
       "  <tbody>\n",
       "    <tr>\n",
       "      <th>count</th>\n",
       "      <td>97848.000000</td>\n",
       "      <td>97848.000000</td>\n",
       "      <td>97848.000000</td>\n",
       "      <td>97848.000000</td>\n",
       "    </tr>\n",
       "    <tr>\n",
       "      <th>mean</th>\n",
       "      <td>0.001620</td>\n",
       "      <td>-0.002321</td>\n",
       "      <td>2.493791</td>\n",
       "      <td>94.758694</td>\n",
       "    </tr>\n",
       "    <tr>\n",
       "      <th>std</th>\n",
       "      <td>1.677402</td>\n",
       "      <td>1.676726</td>\n",
       "      <td>3.387134</td>\n",
       "      <td>44.685961</td>\n",
       "    </tr>\n",
       "    <tr>\n",
       "      <th>min</th>\n",
       "      <td>-4.599275</td>\n",
       "      <td>-4.598167</td>\n",
       "      <td>-6.899536</td>\n",
       "      <td>0.000000</td>\n",
       "    </tr>\n",
       "    <tr>\n",
       "      <th>25%</th>\n",
       "      <td>-1.152132</td>\n",
       "      <td>-1.162989</td>\n",
       "      <td>0.147625</td>\n",
       "      <td>59.304378</td>\n",
       "    </tr>\n",
       "    <tr>\n",
       "      <th>50%</th>\n",
       "      <td>0.009417</td>\n",
       "      <td>-0.009353</td>\n",
       "      <td>2.482386</td>\n",
       "      <td>94.667404</td>\n",
       "    </tr>\n",
       "    <tr>\n",
       "      <th>75%</th>\n",
       "      <td>1.148185</td>\n",
       "      <td>1.154078</td>\n",
       "      <td>4.838957</td>\n",
       "      <td>130.286025</td>\n",
       "    </tr>\n",
       "    <tr>\n",
       "      <th>max</th>\n",
       "      <td>4.597004</td>\n",
       "      <td>4.598268</td>\n",
       "      <td>11.893861</td>\n",
       "      <td>190.029838</td>\n",
       "    </tr>\n",
       "  </tbody>\n",
       "</table>\n",
       "</div>"
      ],
      "text/plain": [
       "                 f0            f1            f2       product\n",
       "count  97848.000000  97848.000000  97848.000000  97848.000000\n",
       "mean       0.001620     -0.002321      2.493791     94.758694\n",
       "std        1.677402      1.676726      3.387134     44.685961\n",
       "min       -4.599275     -4.598167     -6.899536      0.000000\n",
       "25%       -1.152132     -1.162989      0.147625     59.304378\n",
       "50%        0.009417     -0.009353      2.482386     94.667404\n",
       "75%        1.148185      1.154078      4.838957    130.286025\n",
       "max        4.597004      4.598268     11.893861    190.029838"
      ]
     },
     "execution_count": 24,
     "metadata": {},
     "output_type": "execute_result"
    }
   ],
   "source": [
    "display(data1.describe())\n",
    "display(data2.describe())\n",
    "data3.describe()"
   ]
  },
  {
   "cell_type": "markdown",
   "metadata": {},
   "source": [
    "Выведя статистическую информацию по всем скважинам мы получаем, что в 1 и 3 регионе как минимум по 25% скважин нам подходят по обьемам, а во 2 регионе немного меньше, но подходящие скважины там тоже есть."
   ]
  },
  {
   "cell_type": "code",
   "execution_count": 25,
   "metadata": {},
   "outputs": [],
   "source": [
    "#напишем функцию расчета прибыли\n",
    "\n",
    "def revenue(target, probabilities, count):\n",
    "    \n",
    "    # Выберите скважины с максимальными значениями предсказаний. \n",
    "    probs_sorted = probabilities.sort_values(ascending=False)\n",
    "    \n",
    "    #Просуммируйте целевое значение объёма сырья, соответствующее этим предсказаниям.\n",
    "    selected = target[probs_sorted.index][:count] \n",
    "    \n",
    "    #Рассчитайте прибыль для полученного объёма сырья.\n",
    "    return (price_per_barrel * selected.sum()) - budget\n"
   ]
  },
  {
   "cell_type": "markdown",
   "metadata": {},
   "source": [
    "## Расчёт прибыли и рисков "
   ]
  },
  {
   "cell_type": "markdown",
   "metadata": {},
   "source": [
    "Теперь рассчитаем потенциальную прибыль в каждом из регионов с помощью метода Bootstrap."
   ]
  },
  {
   "cell_type": "code",
   "execution_count": 34,
   "metadata": {},
   "outputs": [],
   "source": [
    "def bootstrap(target, probabilities, count, number):\n",
    "    state = np.random.RandomState(12345)\n",
    "    values = []\n",
    "    for i in range(1000):\n",
    "        target_subsample = target.sample(n=500, replace=True, random_state=state)\n",
    "        probs_subsample = probabilities[target_subsample.index]\n",
    "        revenue_value = revenue(target_subsample,probs_subsample,count)\n",
    "        values.append(revenue_value)\n",
    "        \n",
    "    values = pd.Series(values)\n",
    "    values_mean = values.mean()\n",
    "    \n",
    "    lower = values.quantile(0.025)\n",
    "    upper = values.quantile(0.975)\n",
    "    \n",
    "    risk = values.loc[values<0].count()/values.count()*100\n",
    "    \n",
    "    print(f'Средняя прибыль в регионе {number} составляет {values_mean/1000000} млн. рублей')\n",
    "    print(f'95% доверительный интервал составляет от {lower/1000000} млн. до {upper/1000000} млн.')\n",
    "    print(f'Доля убыточных скважин в регионе составляет {risk} %')"
   ]
  },
  {
   "cell_type": "code",
   "execution_count": 35,
   "metadata": {},
   "outputs": [
    {
     "name": "stdout",
     "output_type": "stream",
     "text": [
      "Средняя прибыль в регионе 1 составляет 463.8446615001039 млн. рублей\n",
      "95% доверительный интервал составляет от -93.06385880410441 млн. до 1000.5645618479704 млн.\n",
      "Доля убыточных скважин в регионе составляет 5.5 %\n"
     ]
    }
   ],
   "source": [
    "boot1 = bootstrap(target1['real'], target1['pred'], best_points, 1)\n",
    "boot1"
   ]
  },
  {
   "cell_type": "code",
   "execution_count": 36,
   "metadata": {},
   "outputs": [
    {
     "name": "stdout",
     "output_type": "stream",
     "text": [
      "Средняя прибыль в регионе 2 составляет 524.666200911411 млн. рублей\n",
      "95% доверительный интервал составляет от 111.68537052744361 млн. до 932.9548624820623 млн.\n",
      "Доля убыточных скважин в регионе составляет 0.5 %\n"
     ]
    }
   ],
   "source": [
    "boot2 = bootstrap(target2['real'], target2['pred'], best_points, 2)\n",
    "boot2"
   ]
  },
  {
   "cell_type": "code",
   "execution_count": 37,
   "metadata": {},
   "outputs": [
    {
     "name": "stdout",
     "output_type": "stream",
     "text": [
      "Средняя прибыль в регионе 3 составляет 341.86636931387255 млн. рублей\n",
      "95% доверительный интервал составляет от -196.98930144409886 млн. до 916.7813836993864 млн.\n",
      "Доля убыточных скважин в регионе составляет 11.0 %\n"
     ]
    }
   ],
   "source": [
    "boot3 = bootstrap(target3['real'], target3['pred'], best_points, 3)\n",
    "boot3"
   ]
  },
  {
   "cell_type": "markdown",
   "metadata": {},
   "source": [
    "Исходя из полученных значений можно сделать вывод, что из предложенных регионов лучшим по показателям средней прибыли является 1 регион. Средняя прибыль в нем составляет 463.84 млн рублей, против 341.86 млн в 3 регионе. <br/>\n",
    "\n",
    "Довольно странно получилось то, что 2 регион определился как лучший регион, хотя до этого показатели были хуже чем в остальных. Я бы не стала доверять таким выводам, и не рассматривала его как кандидата, так как данные изначально отличались от двух других регионов и по ощущениям содержали в себе ошибку. <br/>\n",
    "Если ошибки никакой нет, то заказчик смело может брать 2 регион для постройки скважин, но лучше пересмотреть входные данные еще раз. Если же во входных данных действительно есть ошибка, то лучшим регионом оказался 1: <br/>\n",
    "Риски убытков составляют 5.5%, что является самым низким показателем из всех регионов, но все равно не удовлетворяющего условию задачи.<br/>\n",
    "Также границы доверительного интервала - большие числа, по сравнению с интревалами других регионов.<br/><br/>\n",
    "\n",
    "**Итоговый вывод**<br/><br/>\n",
    "Полностью под условия заказчика не подходит ни одна из скважин, так как минимальный показатель риска среди всех регионов - 5.5%. Но если выбирать из представленных, лучшим будет первый регион, так как в нем меньше всего убыточных скважин(5.5%), самый большой показатель средней прибыли(464 млн. руб.) и нижняя граница доверительного интервала самая низкая из всех регионов(-93 млн руб)\n",
    "\n"
   ]
  }
 ],
 "metadata": {
  "ExecuteTimeLog": [
   {
    "duration": 1181,
    "start_time": "2024-06-19T22:09:36.841Z"
   },
   {
    "duration": 1481,
    "start_time": "2024-06-19T22:10:54.100Z"
   },
   {
    "duration": 331,
    "start_time": "2024-06-19T22:10:59.491Z"
   },
   {
    "duration": 342,
    "start_time": "2024-06-19T22:11:21.000Z"
   },
   {
    "duration": 341,
    "start_time": "2024-06-19T22:11:50.820Z"
   },
   {
    "duration": 336,
    "start_time": "2024-06-19T22:13:29.219Z"
   },
   {
    "duration": 359,
    "start_time": "2024-06-19T22:14:04.428Z"
   },
   {
    "duration": 2,
    "start_time": "2024-06-19T22:19:29.757Z"
   },
   {
    "duration": 362,
    "start_time": "2024-06-19T22:19:43.837Z"
   },
   {
    "duration": 37,
    "start_time": "2024-06-19T22:27:14.083Z"
   },
   {
    "duration": 36,
    "start_time": "2024-06-19T22:27:20.203Z"
   },
   {
    "duration": 96,
    "start_time": "2024-06-19T22:27:40.532Z"
   },
   {
    "duration": 84,
    "start_time": "2024-06-19T22:30:48.671Z"
   },
   {
    "duration": 82,
    "start_time": "2024-06-19T22:31:17.981Z"
   },
   {
    "duration": 85,
    "start_time": "2024-06-19T22:31:31.741Z"
   },
   {
    "duration": 1921,
    "start_time": "2024-06-19T22:34:23.019Z"
   },
   {
    "duration": 1785,
    "start_time": "2024-06-19T22:34:50.469Z"
   },
   {
    "duration": 1674,
    "start_time": "2024-06-19T22:35:03.879Z"
   },
   {
    "duration": 1796,
    "start_time": "2024-06-19T22:35:09.919Z"
   },
   {
    "duration": 1741,
    "start_time": "2024-06-19T22:35:16.719Z"
   },
   {
    "duration": 99,
    "start_time": "2024-06-19T22:37:03.008Z"
   },
   {
    "duration": 8,
    "start_time": "2024-06-19T22:37:42.817Z"
   },
   {
    "duration": 3360,
    "start_time": "2024-06-19T22:37:57.107Z"
   },
   {
    "duration": 94,
    "start_time": "2024-06-19T22:38:01.408Z"
   },
   {
    "duration": 785,
    "start_time": "2024-06-19T22:38:08.238Z"
   },
   {
    "duration": 559,
    "start_time": "2024-06-19T22:38:21.987Z"
   },
   {
    "duration": 575,
    "start_time": "2024-06-19T22:38:31.367Z"
   },
   {
    "duration": 14,
    "start_time": "2024-06-19T22:44:31.065Z"
   },
   {
    "duration": 3,
    "start_time": "2024-06-19T22:44:39.805Z"
   },
   {
    "duration": 6,
    "start_time": "2024-06-19T22:44:44.355Z"
   },
   {
    "duration": 17,
    "start_time": "2024-06-19T22:44:51.425Z"
   },
   {
    "duration": 429,
    "start_time": "2024-06-19T22:45:43.914Z"
   },
   {
    "duration": 8,
    "start_time": "2024-06-19T22:46:00.494Z"
   },
   {
    "duration": 14,
    "start_time": "2024-06-19T22:46:18.874Z"
   },
   {
    "duration": 14,
    "start_time": "2024-06-19T22:46:51.923Z"
   },
   {
    "duration": 148,
    "start_time": "2024-06-19T22:47:29.054Z"
   },
   {
    "duration": 137,
    "start_time": "2024-06-19T22:47:38.013Z"
   },
   {
    "duration": 530,
    "start_time": "2024-06-19T22:47:56.333Z"
   },
   {
    "duration": 136,
    "start_time": "2024-06-19T22:48:06.193Z"
   },
   {
    "duration": 507,
    "start_time": "2024-06-19T22:48:20.233Z"
   },
   {
    "duration": 163,
    "start_time": "2024-06-19T22:49:23.174Z"
   },
   {
    "duration": 140,
    "start_time": "2024-06-19T22:49:34.532Z"
   },
   {
    "duration": 146,
    "start_time": "2024-06-19T22:49:37.122Z"
   },
   {
    "duration": 141,
    "start_time": "2024-06-19T22:49:46.072Z"
   },
   {
    "duration": 128,
    "start_time": "2024-06-19T22:49:54.052Z"
   },
   {
    "duration": 358,
    "start_time": "2024-06-19T22:50:06.382Z"
   },
   {
    "duration": 117,
    "start_time": "2024-06-19T22:50:06.792Z"
   },
   {
    "duration": 133,
    "start_time": "2024-06-19T22:50:07.312Z"
   },
   {
    "duration": 1765,
    "start_time": "2024-06-19T22:50:08.033Z"
   },
   {
    "duration": 149,
    "start_time": "2024-06-19T22:50:09.799Z"
   },
   {
    "duration": 140,
    "start_time": "2024-06-19T22:50:09.950Z"
   },
   {
    "duration": 8,
    "start_time": "2024-06-19T22:51:58.362Z"
   },
   {
    "duration": 9,
    "start_time": "2024-06-19T22:54:40.291Z"
   },
   {
    "duration": 361,
    "start_time": "2024-06-19T22:54:55.750Z"
   },
   {
    "duration": 110,
    "start_time": "2024-06-19T22:54:56.730Z"
   },
   {
    "duration": 80,
    "start_time": "2024-06-19T22:54:57.270Z"
   },
   {
    "duration": 1796,
    "start_time": "2024-06-19T22:54:57.680Z"
   },
   {
    "duration": 145,
    "start_time": "2024-06-19T22:54:59.478Z"
   },
   {
    "duration": 143,
    "start_time": "2024-06-19T22:54:59.624Z"
   },
   {
    "duration": 3,
    "start_time": "2024-06-19T22:54:59.771Z"
   },
   {
    "duration": 9,
    "start_time": "2024-06-19T22:55:50.270Z"
   },
   {
    "duration": 9,
    "start_time": "2024-06-19T22:56:39.759Z"
   },
   {
    "duration": 9,
    "start_time": "2024-06-19T22:57:00.620Z"
   },
   {
    "duration": 8,
    "start_time": "2024-06-19T22:57:13.669Z"
   },
   {
    "duration": 93,
    "start_time": "2024-06-19T22:59:22.578Z"
   },
   {
    "duration": 2,
    "start_time": "2024-06-19T22:59:32.918Z"
   },
   {
    "duration": 600,
    "start_time": "2024-06-19T23:00:56.808Z"
   },
   {
    "duration": 19,
    "start_time": "2024-06-19T23:06:17.179Z"
   },
   {
    "duration": 11,
    "start_time": "2024-06-19T23:06:49.025Z"
   },
   {
    "duration": 9,
    "start_time": "2024-06-19T23:08:37.885Z"
   },
   {
    "duration": 8,
    "start_time": "2024-06-19T23:09:44.814Z"
   },
   {
    "duration": 8,
    "start_time": "2024-06-19T23:10:28.123Z"
   },
   {
    "duration": 8,
    "start_time": "2024-06-19T23:10:49.684Z"
   },
   {
    "duration": 163,
    "start_time": "2024-06-19T23:11:19.775Z"
   },
   {
    "duration": 26,
    "start_time": "2024-06-19T23:14:25.780Z"
   },
   {
    "duration": 31,
    "start_time": "2024-06-19T23:15:10.852Z"
   },
   {
    "duration": 67,
    "start_time": "2024-06-19T23:15:24.721Z"
   },
   {
    "duration": 23,
    "start_time": "2024-06-19T23:15:37.512Z"
   },
   {
    "duration": 24,
    "start_time": "2024-06-19T23:16:16.511Z"
   },
   {
    "duration": 616,
    "start_time": "2024-06-19T23:17:08.270Z"
   },
   {
    "duration": 24,
    "start_time": "2024-06-19T23:17:31.481Z"
   },
   {
    "duration": 395,
    "start_time": "2024-06-19T23:17:44.920Z"
   },
   {
    "duration": 106,
    "start_time": "2024-06-19T23:17:45.400Z"
   },
   {
    "duration": 93,
    "start_time": "2024-06-19T23:17:45.810Z"
   },
   {
    "duration": 2006,
    "start_time": "2024-06-19T23:17:46.771Z"
   },
   {
    "duration": 11,
    "start_time": "2024-06-19T23:17:48.779Z"
   },
   {
    "duration": 143,
    "start_time": "2024-06-19T23:17:51.810Z"
   },
   {
    "duration": 9,
    "start_time": "2024-06-19T23:17:52.350Z"
   },
   {
    "duration": 142,
    "start_time": "2024-06-19T23:17:52.960Z"
   },
   {
    "duration": 25,
    "start_time": "2024-06-19T23:17:54.740Z"
   },
   {
    "duration": 653,
    "start_time": "2024-06-19T23:17:55.321Z"
   },
   {
    "duration": 10,
    "start_time": "2024-06-19T23:17:56.810Z"
   },
   {
    "duration": 3,
    "start_time": "2024-06-19T23:19:10.490Z"
   },
   {
    "duration": 405,
    "start_time": "2024-06-19T23:19:10.910Z"
   },
   {
    "duration": 102,
    "start_time": "2024-06-19T23:19:11.410Z"
   },
   {
    "duration": 85,
    "start_time": "2024-06-19T23:19:11.800Z"
   },
   {
    "duration": 1922,
    "start_time": "2024-06-19T23:19:12.190Z"
   },
   {
    "duration": 7,
    "start_time": "2024-06-19T23:19:14.114Z"
   },
   {
    "duration": 167,
    "start_time": "2024-06-19T23:19:14.123Z"
   },
   {
    "duration": 13,
    "start_time": "2024-06-19T23:19:14.640Z"
   },
   {
    "duration": 162,
    "start_time": "2024-06-19T23:19:17.520Z"
   },
   {
    "duration": 23,
    "start_time": "2024-06-19T23:19:17.784Z"
   },
   {
    "duration": 615,
    "start_time": "2024-06-19T23:19:18.170Z"
   },
   {
    "duration": 532,
    "start_time": "2024-06-19T23:19:33.750Z"
   },
   {
    "duration": 13,
    "start_time": "2024-06-19T23:19:56.009Z"
   },
   {
    "duration": 16,
    "start_time": "2024-06-19T23:20:05.290Z"
   },
   {
    "duration": 14,
    "start_time": "2024-06-19T23:20:12.189Z"
   },
   {
    "duration": 146,
    "start_time": "2024-06-19T23:21:01.899Z"
   },
   {
    "duration": 157,
    "start_time": "2024-06-19T23:21:53.289Z"
   },
   {
    "duration": 150,
    "start_time": "2024-06-19T23:22:23.458Z"
   },
   {
    "duration": 146,
    "start_time": "2024-06-19T23:22:32.218Z"
   },
   {
    "duration": 166,
    "start_time": "2024-06-19T23:22:52.488Z"
   },
   {
    "duration": 685,
    "start_time": "2024-06-19T23:23:08.048Z"
   },
   {
    "duration": 11,
    "start_time": "2024-06-19T23:31:49.379Z"
   },
   {
    "duration": 12,
    "start_time": "2024-06-19T23:31:54.324Z"
   },
   {
    "duration": 389,
    "start_time": "2024-06-19T23:32:13.944Z"
   },
   {
    "duration": 121,
    "start_time": "2024-06-19T23:32:14.334Z"
   },
   {
    "duration": 103,
    "start_time": "2024-06-19T23:32:14.682Z"
   },
   {
    "duration": 1892,
    "start_time": "2024-06-19T23:32:15.104Z"
   },
   {
    "duration": 9,
    "start_time": "2024-06-19T23:32:16.997Z"
   },
   {
    "duration": 174,
    "start_time": "2024-06-19T23:32:17.008Z"
   },
   {
    "duration": 9,
    "start_time": "2024-06-19T23:32:17.187Z"
   },
   {
    "duration": 144,
    "start_time": "2024-06-19T23:32:17.197Z"
   },
   {
    "duration": 41,
    "start_time": "2024-06-19T23:32:17.343Z"
   },
   {
    "duration": 649,
    "start_time": "2024-06-19T23:32:17.387Z"
   },
   {
    "duration": 15,
    "start_time": "2024-06-19T23:32:18.038Z"
   },
   {
    "duration": 41,
    "start_time": "2024-06-19T23:32:18.055Z"
   },
   {
    "duration": 15,
    "start_time": "2024-06-19T23:32:18.099Z"
   },
   {
    "duration": 14,
    "start_time": "2024-06-19T23:32:18.116Z"
   },
   {
    "duration": 9,
    "start_time": "2024-06-20T00:06:10.114Z"
   },
   {
    "duration": 8,
    "start_time": "2024-06-20T00:06:23.295Z"
   },
   {
    "duration": 11,
    "start_time": "2024-06-20T00:06:48.429Z"
   },
   {
    "duration": 389,
    "start_time": "2024-06-20T00:06:56.656Z"
   },
   {
    "duration": 425,
    "start_time": "2024-06-20T00:07:01.864Z"
   },
   {
    "duration": 327,
    "start_time": "2024-06-20T00:07:18.965Z"
   },
   {
    "duration": 186,
    "start_time": "2024-06-20T00:08:59.594Z"
   },
   {
    "duration": 276,
    "start_time": "2024-06-20T00:09:09.003Z"
   },
   {
    "duration": 207,
    "start_time": "2024-06-20T00:09:29.684Z"
   },
   {
    "duration": 395,
    "start_time": "2024-06-20T00:12:41.484Z"
   },
   {
    "duration": 407,
    "start_time": "2024-06-20T00:12:48.284Z"
   },
   {
    "duration": 25,
    "start_time": "2024-06-20T00:15:04.427Z"
   },
   {
    "duration": 18,
    "start_time": "2024-06-20T00:15:09.434Z"
   },
   {
    "duration": 18,
    "start_time": "2024-06-20T00:15:24.512Z"
   },
   {
    "duration": 4,
    "start_time": "2024-06-20T00:16:00.621Z"
   },
   {
    "duration": 406,
    "start_time": "2024-06-20T00:16:00.951Z"
   },
   {
    "duration": 105,
    "start_time": "2024-06-20T00:16:01.359Z"
   },
   {
    "duration": 94,
    "start_time": "2024-06-20T00:16:01.613Z"
   },
   {
    "duration": 1841,
    "start_time": "2024-06-20T00:16:01.924Z"
   },
   {
    "duration": 9,
    "start_time": "2024-06-20T00:16:03.771Z"
   },
   {
    "duration": 169,
    "start_time": "2024-06-20T00:16:03.782Z"
   },
   {
    "duration": 21,
    "start_time": "2024-06-20T00:16:03.953Z"
   },
   {
    "duration": 145,
    "start_time": "2024-06-20T00:16:03.976Z"
   },
   {
    "duration": 23,
    "start_time": "2024-06-20T00:16:04.123Z"
   },
   {
    "duration": 737,
    "start_time": "2024-06-20T00:16:04.147Z"
   },
   {
    "duration": 13,
    "start_time": "2024-06-20T00:16:04.886Z"
   },
   {
    "duration": 12,
    "start_time": "2024-06-20T00:16:04.900Z"
   },
   {
    "duration": 12,
    "start_time": "2024-06-20T00:16:04.914Z"
   },
   {
    "duration": 20,
    "start_time": "2024-06-20T00:16:04.927Z"
   },
   {
    "duration": 18,
    "start_time": "2024-06-20T00:16:30.116Z"
   },
   {
    "duration": 17,
    "start_time": "2024-06-20T00:16:51.292Z"
   },
   {
    "duration": 21,
    "start_time": "2024-06-20T00:17:07.631Z"
   },
   {
    "duration": 261,
    "start_time": "2024-06-20T00:17:51.021Z"
   },
   {
    "duration": 167,
    "start_time": "2024-06-20T00:17:55.911Z"
   },
   {
    "duration": 151,
    "start_time": "2024-06-20T00:17:59.242Z"
   },
   {
    "duration": 223,
    "start_time": "2024-06-20T00:18:12.571Z"
   },
   {
    "duration": 255,
    "start_time": "2024-06-20T00:18:15.723Z"
   },
   {
    "duration": 5,
    "start_time": "2024-06-20T00:19:19.070Z"
   },
   {
    "duration": 400,
    "start_time": "2024-06-20T00:19:19.420Z"
   },
   {
    "duration": 111,
    "start_time": "2024-06-20T00:19:19.822Z"
   },
   {
    "duration": 83,
    "start_time": "2024-06-20T00:19:20.061Z"
   },
   {
    "duration": 1866,
    "start_time": "2024-06-20T00:19:20.351Z"
   },
   {
    "duration": 9,
    "start_time": "2024-06-20T00:19:22.218Z"
   },
   {
    "duration": 155,
    "start_time": "2024-06-20T00:19:22.228Z"
   },
   {
    "duration": 8,
    "start_time": "2024-06-20T00:19:22.385Z"
   },
   {
    "duration": 160,
    "start_time": "2024-06-20T00:19:22.394Z"
   },
   {
    "duration": 27,
    "start_time": "2024-06-20T00:19:22.555Z"
   },
   {
    "duration": 624,
    "start_time": "2024-06-20T00:19:22.585Z"
   },
   {
    "duration": 13,
    "start_time": "2024-06-20T00:19:23.211Z"
   },
   {
    "duration": 26,
    "start_time": "2024-06-20T00:19:23.225Z"
   },
   {
    "duration": 12,
    "start_time": "2024-06-20T00:19:23.252Z"
   },
   {
    "duration": 299,
    "start_time": "2024-06-20T00:19:24.485Z"
   },
   {
    "duration": 9,
    "start_time": "2024-06-20T09:11:13.235Z"
   },
   {
    "duration": 17,
    "start_time": "2024-06-20T09:11:21.726Z"
   },
   {
    "duration": 5,
    "start_time": "2024-06-20T09:11:55.006Z"
   },
   {
    "duration": 3,
    "start_time": "2024-06-20T09:13:19.925Z"
   },
   {
    "duration": 2,
    "start_time": "2024-06-20T09:13:21.515Z"
   },
   {
    "duration": 5,
    "start_time": "2024-06-20T12:32:18.089Z"
   },
   {
    "duration": 45,
    "start_time": "2024-06-20T12:41:45.416Z"
   },
   {
    "duration": 1429,
    "start_time": "2024-06-20T12:41:50.478Z"
   },
   {
    "duration": 0,
    "start_time": "2024-06-20T12:41:51.908Z"
   },
   {
    "duration": 0,
    "start_time": "2024-06-20T12:41:51.909Z"
   },
   {
    "duration": 0,
    "start_time": "2024-06-20T12:41:51.910Z"
   },
   {
    "duration": 0,
    "start_time": "2024-06-20T12:41:51.911Z"
   },
   {
    "duration": 9,
    "start_time": "2024-06-20T12:41:52.042Z"
   },
   {
    "duration": 8,
    "start_time": "2024-06-20T12:41:52.346Z"
   },
   {
    "duration": 9,
    "start_time": "2024-06-20T12:41:52.677Z"
   },
   {
    "duration": 9,
    "start_time": "2024-06-20T12:41:52.877Z"
   },
   {
    "duration": 10,
    "start_time": "2024-06-20T12:41:53.035Z"
   },
   {
    "duration": 12,
    "start_time": "2024-06-20T12:41:53.224Z"
   },
   {
    "duration": 9,
    "start_time": "2024-06-20T12:41:53.547Z"
   },
   {
    "duration": 9,
    "start_time": "2024-06-20T12:41:53.699Z"
   },
   {
    "duration": 8,
    "start_time": "2024-06-20T12:41:53.948Z"
   },
   {
    "duration": 11,
    "start_time": "2024-06-20T12:41:54.435Z"
   },
   {
    "duration": 3776,
    "start_time": "2024-06-20T12:42:01.016Z"
   },
   {
    "duration": 437,
    "start_time": "2024-06-20T12:42:04.794Z"
   },
   {
    "duration": 2556,
    "start_time": "2024-06-20T12:42:11.629Z"
   },
   {
    "duration": 6,
    "start_time": "2024-06-20T12:42:14.187Z"
   },
   {
    "duration": 784,
    "start_time": "2024-06-20T12:42:14.195Z"
   },
   {
    "duration": 140,
    "start_time": "2024-06-20T12:42:14.981Z"
   },
   {
    "duration": 114,
    "start_time": "2024-06-20T12:42:15.122Z"
   },
   {
    "duration": 2247,
    "start_time": "2024-06-20T12:42:15.245Z"
   },
   {
    "duration": 11,
    "start_time": "2024-06-20T12:42:17.493Z"
   },
   {
    "duration": 205,
    "start_time": "2024-06-20T12:42:17.505Z"
   },
   {
    "duration": 12,
    "start_time": "2024-06-20T12:42:17.712Z"
   },
   {
    "duration": 179,
    "start_time": "2024-06-20T12:42:17.726Z"
   },
   {
    "duration": 41,
    "start_time": "2024-06-20T12:42:17.906Z"
   },
   {
    "duration": 747,
    "start_time": "2024-06-20T12:42:17.948Z"
   },
   {
    "duration": 17,
    "start_time": "2024-06-20T12:42:18.697Z"
   },
   {
    "duration": 35,
    "start_time": "2024-06-20T12:42:18.716Z"
   },
   {
    "duration": 39,
    "start_time": "2024-06-20T12:42:18.753Z"
   },
   {
    "duration": 561,
    "start_time": "2024-06-20T12:42:18.794Z"
   },
   {
    "duration": 88,
    "start_time": "2024-06-20T12:42:19.358Z"
   },
   {
    "duration": 106,
    "start_time": "2024-06-20T12:42:19.448Z"
   },
   {
    "duration": 127,
    "start_time": "2024-06-20T12:42:19.556Z"
   },
   {
    "duration": 36,
    "start_time": "2024-06-20T13:06:28.541Z"
   },
   {
    "duration": 1481,
    "start_time": "2024-06-20T13:06:53.311Z"
   },
   {
    "duration": 92,
    "start_time": "2024-06-20T13:14:11.158Z"
   },
   {
    "duration": 5,
    "start_time": "2024-06-20T13:14:16.828Z"
   },
   {
    "duration": 491,
    "start_time": "2024-06-20T13:14:17.230Z"
   },
   {
    "duration": 140,
    "start_time": "2024-06-20T13:14:17.722Z"
   },
   {
    "duration": 101,
    "start_time": "2024-06-20T13:14:17.968Z"
   },
   {
    "duration": 2229,
    "start_time": "2024-06-20T13:14:18.368Z"
   },
   {
    "duration": 9,
    "start_time": "2024-06-20T13:14:20.599Z"
   },
   {
    "duration": 215,
    "start_time": "2024-06-20T13:14:20.610Z"
   },
   {
    "duration": 28,
    "start_time": "2024-06-20T13:14:20.827Z"
   },
   {
    "duration": 209,
    "start_time": "2024-06-20T13:14:20.857Z"
   },
   {
    "duration": 28,
    "start_time": "2024-06-20T13:14:21.068Z"
   },
   {
    "duration": 759,
    "start_time": "2024-06-20T13:14:21.097Z"
   },
   {
    "duration": 14,
    "start_time": "2024-06-20T13:14:21.857Z"
   },
   {
    "duration": 14,
    "start_time": "2024-06-20T13:14:21.873Z"
   },
   {
    "duration": 13,
    "start_time": "2024-06-20T13:14:21.889Z"
   },
   {
    "duration": 149,
    "start_time": "2024-06-20T13:14:23.098Z"
   },
   {
    "duration": 424,
    "start_time": "2024-06-20T13:15:12.529Z"
   },
   {
    "duration": 12,
    "start_time": "2024-06-20T13:15:41.678Z"
   },
   {
    "duration": 5,
    "start_time": "2024-06-20T13:15:52.478Z"
   },
   {
    "duration": 5,
    "start_time": "2024-06-20T13:16:17.117Z"
   },
   {
    "duration": 395,
    "start_time": "2024-06-20T13:17:48.277Z"
   },
   {
    "duration": 12,
    "start_time": "2024-06-20T13:17:58.187Z"
   },
   {
    "duration": 354,
    "start_time": "2024-06-20T13:25:18.395Z"
   },
   {
    "duration": 13,
    "start_time": "2024-06-20T13:25:24.964Z"
   },
   {
    "duration": 9,
    "start_time": "2024-06-20T13:25:36.944Z"
   },
   {
    "duration": 443,
    "start_time": "2024-06-20T13:26:18.714Z"
   },
   {
    "duration": 10,
    "start_time": "2024-06-20T13:26:19.504Z"
   },
   {
    "duration": 3,
    "start_time": "2024-06-20T13:26:48.674Z"
   },
   {
    "duration": 2,
    "start_time": "2024-06-20T13:27:38.904Z"
   },
   {
    "duration": 1020,
    "start_time": "2024-06-20T13:28:53.023Z"
   },
   {
    "duration": 5,
    "start_time": "2024-06-20T13:29:08.003Z"
   },
   {
    "duration": 9,
    "start_time": "2024-06-20T13:29:11.254Z"
   },
   {
    "duration": 11,
    "start_time": "2024-06-20T13:29:17.983Z"
   },
   {
    "duration": 12,
    "start_time": "2024-06-20T13:30:18.354Z"
   },
   {
    "duration": 8,
    "start_time": "2024-06-20T13:31:04.933Z"
   },
   {
    "duration": 4,
    "start_time": "2024-06-20T13:38:30.000Z"
   },
   {
    "duration": 19,
    "start_time": "2024-06-20T13:38:35.920Z"
   },
   {
    "duration": 19,
    "start_time": "2024-06-20T13:38:55.510Z"
   },
   {
    "duration": 24,
    "start_time": "2024-06-20T13:39:13.460Z"
   },
   {
    "duration": 17,
    "start_time": "2024-06-20T13:39:26.430Z"
   },
   {
    "duration": 19,
    "start_time": "2024-06-20T13:39:49.180Z"
   },
   {
    "duration": 18,
    "start_time": "2024-06-20T13:40:26.300Z"
   },
   {
    "duration": 91,
    "start_time": "2024-06-20T13:52:15.342Z"
   },
   {
    "duration": 4,
    "start_time": "2024-06-20T13:52:21.102Z"
   },
   {
    "duration": 2607,
    "start_time": "2024-06-20T14:01:53.196Z"
   },
   {
    "duration": 1435,
    "start_time": "2024-06-20T14:01:55.807Z"
   },
   {
    "duration": 524,
    "start_time": "2024-06-20T14:01:57.244Z"
   },
   {
    "duration": 153,
    "start_time": "2024-06-20T14:01:57.770Z"
   },
   {
    "duration": 128,
    "start_time": "2024-06-20T14:01:57.925Z"
   },
   {
    "duration": 2439,
    "start_time": "2024-06-20T14:01:58.054Z"
   },
   {
    "duration": 11,
    "start_time": "2024-06-20T14:02:00.496Z"
   },
   {
    "duration": 323,
    "start_time": "2024-06-20T14:02:00.509Z"
   },
   {
    "duration": 17,
    "start_time": "2024-06-20T14:02:00.833Z"
   },
   {
    "duration": 227,
    "start_time": "2024-06-20T14:02:00.851Z"
   },
   {
    "duration": 91,
    "start_time": "2024-06-20T14:02:01.080Z"
   },
   {
    "duration": 850,
    "start_time": "2024-06-20T14:02:01.173Z"
   },
   {
    "duration": 23,
    "start_time": "2024-06-20T14:02:02.024Z"
   },
   {
    "duration": 499,
    "start_time": "2024-06-20T14:02:02.049Z"
   },
   {
    "duration": 184,
    "start_time": "2024-06-20T14:02:02.550Z"
   },
   {
    "duration": 418,
    "start_time": "2024-06-20T14:02:02.736Z"
   },
   {
    "duration": 96,
    "start_time": "2024-06-20T14:02:03.157Z"
   },
   {
    "duration": 99,
    "start_time": "2024-06-20T14:02:03.255Z"
   },
   {
    "duration": 19,
    "start_time": "2024-06-20T14:02:03.356Z"
   },
   {
    "duration": 38,
    "start_time": "2024-06-20T14:02:03.377Z"
   },
   {
    "duration": 149,
    "start_time": "2024-06-20T14:02:03.416Z"
   },
   {
    "duration": 4,
    "start_time": "2024-06-20T14:02:03.566Z"
   },
   {
    "duration": 67,
    "start_time": "2024-06-20T14:02:03.571Z"
   },
   {
    "duration": 33,
    "start_time": "2024-06-20T14:02:03.639Z"
   },
   {
    "duration": 2556,
    "start_time": "2024-06-20T14:04:43.184Z"
   },
   {
    "duration": 1523,
    "start_time": "2024-06-20T14:04:45.743Z"
   },
   {
    "duration": 507,
    "start_time": "2024-06-20T14:04:47.269Z"
   },
   {
    "duration": 151,
    "start_time": "2024-06-20T14:04:47.778Z"
   },
   {
    "duration": 133,
    "start_time": "2024-06-20T14:04:47.932Z"
   },
   {
    "duration": 2342,
    "start_time": "2024-06-20T14:04:48.067Z"
   },
   {
    "duration": 14,
    "start_time": "2024-06-20T14:04:50.411Z"
   },
   {
    "duration": 222,
    "start_time": "2024-06-20T14:04:50.427Z"
   },
   {
    "duration": 10,
    "start_time": "2024-06-20T14:04:50.651Z"
   },
   {
    "duration": 183,
    "start_time": "2024-06-20T14:04:50.663Z"
   },
   {
    "duration": 31,
    "start_time": "2024-06-20T14:04:50.848Z"
   },
   {
    "duration": 794,
    "start_time": "2024-06-20T14:04:50.881Z"
   },
   {
    "duration": 16,
    "start_time": "2024-06-20T14:04:51.677Z"
   },
   {
    "duration": 35,
    "start_time": "2024-06-20T14:04:51.696Z"
   },
   {
    "duration": 46,
    "start_time": "2024-06-20T14:04:51.734Z"
   },
   {
    "duration": 371,
    "start_time": "2024-06-20T14:04:51.782Z"
   },
   {
    "duration": 4,
    "start_time": "2024-06-20T14:04:52.156Z"
   },
   {
    "duration": 103,
    "start_time": "2024-06-20T14:04:52.247Z"
   },
   {
    "duration": 44,
    "start_time": "2024-06-20T14:04:52.352Z"
   },
   {
    "duration": 28,
    "start_time": "2024-06-20T14:04:52.398Z"
   },
   {
    "duration": 119,
    "start_time": "2024-06-20T14:04:52.427Z"
   },
   {
    "duration": 4,
    "start_time": "2024-06-20T14:04:52.547Z"
   },
   {
    "duration": 48,
    "start_time": "2024-06-20T14:04:52.553Z"
   },
   {
    "duration": 5,
    "start_time": "2024-06-20T14:04:52.603Z"
   },
   {
    "duration": 0,
    "start_time": "2024-06-20T14:05:55.968Z"
   },
   {
    "duration": 0,
    "start_time": "2024-06-20T14:05:55.969Z"
   },
   {
    "duration": 5,
    "start_time": "2024-06-20T14:05:57.994Z"
   },
   {
    "duration": 2964,
    "start_time": "2024-06-20T14:05:58.803Z"
   },
   {
    "duration": 4,
    "start_time": "2024-06-20T14:07:06.383Z"
   },
   {
    "duration": 2841,
    "start_time": "2024-06-20T14:07:07.462Z"
   },
   {
    "duration": 5,
    "start_time": "2024-06-20T14:07:33.842Z"
   },
   {
    "duration": 2753,
    "start_time": "2024-06-20T14:07:34.263Z"
   },
   {
    "duration": 5,
    "start_time": "2024-06-20T14:19:11.088Z"
   },
   {
    "duration": 16,
    "start_time": "2024-06-20T14:19:11.437Z"
   },
   {
    "duration": 5,
    "start_time": "2024-06-20T14:19:21.726Z"
   },
   {
    "duration": 1444,
    "start_time": "2024-06-20T14:19:22.217Z"
   },
   {
    "duration": 1425,
    "start_time": "2024-06-20T14:20:52.816Z"
   },
   {
    "duration": 1467,
    "start_time": "2024-06-20T14:20:55.056Z"
   },
   {
    "duration": 5,
    "start_time": "2024-06-20T14:35:51.320Z"
   },
   {
    "duration": 6,
    "start_time": "2024-06-20T14:37:27.399Z"
   },
   {
    "duration": 1382,
    "start_time": "2024-06-20T14:37:28.009Z"
   },
   {
    "duration": 1386,
    "start_time": "2024-06-20T14:37:30.960Z"
   },
   {
    "duration": 1412,
    "start_time": "2024-06-20T14:37:32.348Z"
   },
   {
    "duration": 5,
    "start_time": "2024-06-20T14:37:53.329Z"
   },
   {
    "duration": 1370,
    "start_time": "2024-06-20T14:37:53.648Z"
   },
   {
    "duration": 1374,
    "start_time": "2024-06-20T14:37:55.020Z"
   },
   {
    "duration": 1395,
    "start_time": "2024-06-20T14:37:56.396Z"
   },
   {
    "duration": 5,
    "start_time": "2024-06-20T14:40:54.458Z"
   },
   {
    "duration": 1358,
    "start_time": "2024-06-20T14:40:55.168Z"
   },
   {
    "duration": 1348,
    "start_time": "2024-06-20T14:40:56.528Z"
   },
   {
    "duration": 1439,
    "start_time": "2024-06-20T14:40:57.878Z"
   },
   {
    "duration": 6,
    "start_time": "2024-06-20T14:49:06.454Z"
   },
   {
    "duration": 1415,
    "start_time": "2024-06-20T14:49:06.684Z"
   },
   {
    "duration": 1398,
    "start_time": "2024-06-20T14:49:08.101Z"
   },
   {
    "duration": 1410,
    "start_time": "2024-06-20T14:49:09.500Z"
   },
   {
    "duration": 3,
    "start_time": "2024-06-20T14:50:16.454Z"
   },
   {
    "duration": 25,
    "start_time": "2024-06-20T14:50:18.103Z"
   },
   {
    "duration": 4,
    "start_time": "2024-06-20T14:50:18.315Z"
   },
   {
    "duration": 1363,
    "start_time": "2024-06-20T14:50:18.523Z"
   },
   {
    "duration": 1389,
    "start_time": "2024-06-20T14:50:19.888Z"
   },
   {
    "duration": 1380,
    "start_time": "2024-06-20T14:50:21.279Z"
   },
   {
    "duration": 10,
    "start_time": "2024-06-20T14:51:46.293Z"
   },
   {
    "duration": 25,
    "start_time": "2024-06-20T14:51:57.623Z"
   },
   {
    "duration": 17,
    "start_time": "2024-06-20T14:52:10.263Z"
   },
   {
    "duration": 16,
    "start_time": "2024-06-20T14:52:19.723Z"
   },
   {
    "duration": 17,
    "start_time": "2024-06-20T14:52:38.803Z"
   },
   {
    "duration": 17,
    "start_time": "2024-06-20T14:52:39.222Z"
   },
   {
    "duration": 17,
    "start_time": "2024-06-20T14:52:39.543Z"
   },
   {
    "duration": 1406,
    "start_time": "2024-06-20T14:56:20.441Z"
   },
   {
    "duration": 249,
    "start_time": "2024-06-20T15:01:36.620Z"
   },
   {
    "duration": 569,
    "start_time": "2024-06-20T15:01:45.560Z"
   },
   {
    "duration": 508,
    "start_time": "2024-06-20T15:02:01.889Z"
   },
   {
    "duration": 507,
    "start_time": "2024-06-20T15:02:27.219Z"
   },
   {
    "duration": 347,
    "start_time": "2024-06-20T15:04:35.788Z"
   },
   {
    "duration": 945,
    "start_time": "2024-06-20T15:04:44.918Z"
   },
   {
    "duration": 869,
    "start_time": "2024-06-20T15:05:06.218Z"
   },
   {
    "duration": 1033,
    "start_time": "2024-06-20T15:05:15.338Z"
   },
   {
    "duration": 7,
    "start_time": "2024-06-20T15:06:00.058Z"
   },
   {
    "duration": 499,
    "start_time": "2024-06-20T15:06:00.658Z"
   },
   {
    "duration": 148,
    "start_time": "2024-06-20T15:06:01.208Z"
   },
   {
    "duration": 1026,
    "start_time": "2024-06-20T15:06:01.728Z"
   },
   {
    "duration": 880,
    "start_time": "2024-06-20T15:06:02.756Z"
   },
   {
    "duration": 1036,
    "start_time": "2024-06-20T15:06:03.637Z"
   },
   {
    "duration": 1540,
    "start_time": "2024-06-20T15:09:13.746Z"
   },
   {
    "duration": 511,
    "start_time": "2024-06-20T15:09:15.288Z"
   },
   {
    "duration": 2618,
    "start_time": "2024-06-20T15:09:18.646Z"
   },
   {
    "duration": 5,
    "start_time": "2024-06-20T15:09:21.267Z"
   },
   {
    "duration": 594,
    "start_time": "2024-06-20T15:09:21.273Z"
   },
   {
    "duration": 145,
    "start_time": "2024-06-20T15:09:22.836Z"
   },
   {
    "duration": 957,
    "start_time": "2024-06-20T15:09:23.806Z"
   },
   {
    "duration": 847,
    "start_time": "2024-06-20T15:09:24.765Z"
   },
   {
    "duration": 954,
    "start_time": "2024-06-20T15:09:25.614Z"
   },
   {
    "duration": 111,
    "start_time": "2024-06-20T15:14:08.305Z"
   },
   {
    "duration": 2340,
    "start_time": "2024-06-20T15:14:08.545Z"
   },
   {
    "duration": 10,
    "start_time": "2024-06-20T15:14:10.887Z"
   },
   {
    "duration": 245,
    "start_time": "2024-06-20T15:14:10.899Z"
   },
   {
    "duration": 12,
    "start_time": "2024-06-20T15:14:11.151Z"
   },
   {
    "duration": 214,
    "start_time": "2024-06-20T15:14:11.165Z"
   },
   {
    "duration": 26,
    "start_time": "2024-06-20T15:14:11.381Z"
   },
   {
    "duration": 916,
    "start_time": "2024-06-20T15:14:11.409Z"
   },
   {
    "duration": 32,
    "start_time": "2024-06-20T15:14:12.327Z"
   },
   {
    "duration": 30,
    "start_time": "2024-06-20T15:14:12.365Z"
   },
   {
    "duration": 47,
    "start_time": "2024-06-20T15:14:12.397Z"
   },
   {
    "duration": 7,
    "start_time": "2024-06-20T15:14:58.534Z"
   },
   {
    "duration": 14,
    "start_time": "2024-06-20T15:14:58.994Z"
   },
   {
    "duration": 538,
    "start_time": "2024-06-20T15:15:04.125Z"
   },
   {
    "duration": 81,
    "start_time": "2024-06-20T15:15:04.665Z"
   },
   {
    "duration": 108,
    "start_time": "2024-06-20T15:15:04.748Z"
   },
   {
    "duration": 51,
    "start_time": "2024-06-20T15:15:04.861Z"
   },
   {
    "duration": 25,
    "start_time": "2024-06-20T15:15:05.034Z"
   },
   {
    "duration": 471,
    "start_time": "2024-06-20T15:15:05.666Z"
   },
   {
    "duration": 511,
    "start_time": "2024-06-20T15:15:06.139Z"
   },
   {
    "duration": 459,
    "start_time": "2024-06-20T15:15:06.984Z"
   },
   {
    "duration": 3,
    "start_time": "2024-06-20T15:15:09.384Z"
   },
   {
    "duration": 3,
    "start_time": "2024-06-20T15:15:09.724Z"
   },
   {
    "duration": 104,
    "start_time": "2024-06-20T15:15:10.474Z"
   },
   {
    "duration": 3,
    "start_time": "2024-06-20T15:15:11.714Z"
   },
   {
    "duration": 21,
    "start_time": "2024-06-20T15:15:13.004Z"
   },
   {
    "duration": 7,
    "start_time": "2024-06-20T15:15:13.674Z"
   },
   {
    "duration": 1473,
    "start_time": "2024-06-20T15:15:14.384Z"
   },
   {
    "duration": 1419,
    "start_time": "2024-06-20T15:15:15.859Z"
   },
   {
    "duration": 1411,
    "start_time": "2024-06-20T15:15:17.279Z"
   },
   {
    "duration": 128,
    "start_time": "2024-06-20T15:17:12.303Z"
   },
   {
    "duration": 15,
    "start_time": "2024-06-20T15:17:12.593Z"
   },
   {
    "duration": 285,
    "start_time": "2024-06-20T15:17:48.274Z"
   },
   {
    "duration": 2,
    "start_time": "2024-06-20T15:17:48.562Z"
   },
   {
    "duration": 17,
    "start_time": "2024-06-20T15:17:48.793Z"
   },
   {
    "duration": 21,
    "start_time": "2024-06-20T15:17:49.073Z"
   },
   {
    "duration": 18,
    "start_time": "2024-06-20T15:17:49.953Z"
   },
   {
    "duration": 3,
    "start_time": "2024-06-20T15:17:51.312Z"
   },
   {
    "duration": 3,
    "start_time": "2024-06-20T15:17:51.493Z"
   },
   {
    "duration": 96,
    "start_time": "2024-06-20T15:17:51.803Z"
   },
   {
    "duration": 7,
    "start_time": "2024-06-20T15:17:52.653Z"
   },
   {
    "duration": 21,
    "start_time": "2024-06-20T15:17:53.373Z"
   },
   {
    "duration": 9,
    "start_time": "2024-06-20T15:17:53.613Z"
   },
   {
    "duration": 1453,
    "start_time": "2024-06-20T15:17:53.863Z"
   },
   {
    "duration": 1437,
    "start_time": "2024-06-20T15:17:55.318Z"
   },
   {
    "duration": 1427,
    "start_time": "2024-06-20T15:17:56.756Z"
   },
   {
    "duration": 2718,
    "start_time": "2024-06-20T15:26:22.290Z"
   },
   {
    "duration": 1486,
    "start_time": "2024-06-20T15:26:25.010Z"
   },
   {
    "duration": 516,
    "start_time": "2024-06-20T15:26:26.497Z"
   },
   {
    "duration": 165,
    "start_time": "2024-06-20T15:26:27.014Z"
   },
   {
    "duration": 964,
    "start_time": "2024-06-20T15:26:27.182Z"
   },
   {
    "duration": 871,
    "start_time": "2024-06-20T15:26:28.152Z"
   },
   {
    "duration": 997,
    "start_time": "2024-06-20T15:26:29.025Z"
   },
   {
    "duration": 128,
    "start_time": "2024-06-20T15:26:30.024Z"
   },
   {
    "duration": 2554,
    "start_time": "2024-06-20T15:26:30.154Z"
   },
   {
    "duration": 10,
    "start_time": "2024-06-20T15:26:32.710Z"
   },
   {
    "duration": 232,
    "start_time": "2024-06-20T15:26:32.722Z"
   },
   {
    "duration": 11,
    "start_time": "2024-06-20T15:26:32.956Z"
   },
   {
    "duration": 202,
    "start_time": "2024-06-20T15:26:32.969Z"
   },
   {
    "duration": 30,
    "start_time": "2024-06-20T15:26:33.174Z"
   },
   {
    "duration": 961,
    "start_time": "2024-06-20T15:26:33.205Z"
   },
   {
    "duration": 14,
    "start_time": "2024-06-20T15:26:34.168Z"
   },
   {
    "duration": 25,
    "start_time": "2024-06-20T15:26:34.183Z"
   },
   {
    "duration": 60,
    "start_time": "2024-06-20T15:26:34.210Z"
   },
   {
    "duration": 33,
    "start_time": "2024-06-20T15:26:34.272Z"
   },
   {
    "duration": 352,
    "start_time": "2024-06-20T15:26:34.307Z"
   },
   {
    "duration": 8,
    "start_time": "2024-06-20T15:26:34.747Z"
   },
   {
    "duration": 97,
    "start_time": "2024-06-20T15:26:34.758Z"
   },
   {
    "duration": 24,
    "start_time": "2024-06-20T15:26:34.857Z"
   },
   {
    "duration": 39,
    "start_time": "2024-06-20T15:26:34.883Z"
   },
   {
    "duration": 23,
    "start_time": "2024-06-20T15:26:34.924Z"
   },
   {
    "duration": 13,
    "start_time": "2024-06-20T15:26:34.953Z"
   },
   {
    "duration": 148,
    "start_time": "2024-06-20T15:26:34.968Z"
   },
   {
    "duration": 3,
    "start_time": "2024-06-20T15:26:35.118Z"
   },
   {
    "duration": 28,
    "start_time": "2024-06-20T15:26:35.123Z"
   },
   {
    "duration": 1599,
    "start_time": "2024-06-20T15:26:35.152Z"
   },
   {
    "duration": 1523,
    "start_time": "2024-06-20T15:26:36.754Z"
   },
   {
    "duration": 1549,
    "start_time": "2024-06-20T15:26:38.279Z"
   },
   {
    "duration": 3456,
    "start_time": "2024-06-20T15:57:08.628Z"
   },
   {
    "duration": 4641,
    "start_time": "2024-06-20T15:57:12.086Z"
   },
   {
    "duration": 1718,
    "start_time": "2024-06-20T15:57:16.729Z"
   },
   {
    "duration": 172,
    "start_time": "2024-06-20T15:57:18.450Z"
   },
   {
    "duration": 117,
    "start_time": "2024-06-20T15:57:18.624Z"
   },
   {
    "duration": 2455,
    "start_time": "2024-06-20T15:57:18.743Z"
   },
   {
    "duration": 13,
    "start_time": "2024-06-20T15:57:21.200Z"
   },
   {
    "duration": 249,
    "start_time": "2024-06-20T15:57:21.214Z"
   },
   {
    "duration": 10,
    "start_time": "2024-06-20T15:57:21.466Z"
   },
   {
    "duration": 187,
    "start_time": "2024-06-20T15:57:21.491Z"
   },
   {
    "duration": 40,
    "start_time": "2024-06-20T15:57:21.680Z"
   },
   {
    "duration": 836,
    "start_time": "2024-06-20T15:57:21.722Z"
   },
   {
    "duration": 16,
    "start_time": "2024-06-20T15:57:22.559Z"
   },
   {
    "duration": 25,
    "start_time": "2024-06-20T15:57:22.576Z"
   },
   {
    "duration": 2,
    "start_time": "2024-06-20T15:57:22.603Z"
   },
   {
    "duration": 28,
    "start_time": "2024-06-20T15:57:22.607Z"
   },
   {
    "duration": 467,
    "start_time": "2024-06-20T15:57:22.636Z"
   },
   {
    "duration": 87,
    "start_time": "2024-06-20T15:57:23.105Z"
   },
   {
    "duration": 103,
    "start_time": "2024-06-20T15:57:23.195Z"
   },
   {
    "duration": 18,
    "start_time": "2024-06-20T15:57:23.299Z"
   },
   {
    "duration": 22,
    "start_time": "2024-06-20T15:57:23.319Z"
   },
   {
    "duration": 3,
    "start_time": "2024-06-20T15:57:23.343Z"
   },
   {
    "duration": 12,
    "start_time": "2024-06-20T15:57:23.348Z"
   },
   {
    "duration": 143,
    "start_time": "2024-06-20T15:57:23.361Z"
   },
   {
    "duration": 3,
    "start_time": "2024-06-20T15:57:23.506Z"
   },
   {
    "duration": 10,
    "start_time": "2024-06-20T15:57:23.511Z"
   },
   {
    "duration": 1422,
    "start_time": "2024-06-20T15:57:23.523Z"
   },
   {
    "duration": 1368,
    "start_time": "2024-06-20T15:57:24.949Z"
   },
   {
    "duration": 1375,
    "start_time": "2024-06-20T15:57:26.319Z"
   },
   {
    "duration": 3130,
    "start_time": "2024-06-20T18:59:40.610Z"
   },
   {
    "duration": 1257,
    "start_time": "2024-06-20T18:59:43.742Z"
   },
   {
    "duration": 1524,
    "start_time": "2024-06-20T18:59:45.000Z"
   },
   {
    "duration": 105,
    "start_time": "2024-06-20T18:59:46.526Z"
   },
   {
    "duration": 82,
    "start_time": "2024-06-20T18:59:46.632Z"
   },
   {
    "duration": 1737,
    "start_time": "2024-06-20T18:59:46.715Z"
   },
   {
    "duration": 8,
    "start_time": "2024-06-20T18:59:48.453Z"
   },
   {
    "duration": 140,
    "start_time": "2024-06-20T18:59:48.462Z"
   },
   {
    "duration": 8,
    "start_time": "2024-06-20T18:59:48.603Z"
   },
   {
    "duration": 133,
    "start_time": "2024-06-20T18:59:48.613Z"
   },
   {
    "duration": 21,
    "start_time": "2024-06-20T18:59:48.747Z"
   },
   {
    "duration": 558,
    "start_time": "2024-06-20T18:59:48.769Z"
   },
   {
    "duration": 12,
    "start_time": "2024-06-20T18:59:49.328Z"
   },
   {
    "duration": 12,
    "start_time": "2024-06-20T18:59:49.341Z"
   },
   {
    "duration": 1,
    "start_time": "2024-06-20T18:59:49.354Z"
   },
   {
    "duration": 15,
    "start_time": "2024-06-20T18:59:49.357Z"
   },
   {
    "duration": 235,
    "start_time": "2024-06-20T18:59:59.260Z"
   },
   {
    "duration": 2,
    "start_time": "2024-06-20T18:59:59.710Z"
   },
   {
    "duration": 12,
    "start_time": "2024-06-20T19:00:00.190Z"
   },
   {
    "duration": 15,
    "start_time": "2024-06-20T19:00:00.501Z"
   },
   {
    "duration": 12,
    "start_time": "2024-06-20T19:00:00.820Z"
   },
   {
    "duration": 2,
    "start_time": "2024-06-20T19:00:02.270Z"
   },
   {
    "duration": 3,
    "start_time": "2024-06-20T19:00:04.180Z"
   },
   {
    "duration": 73,
    "start_time": "2024-06-20T19:00:04.790Z"
   },
   {
    "duration": 3,
    "start_time": "2024-06-20T19:00:06.520Z"
   },
   {
    "duration": 4,
    "start_time": "2024-06-20T19:00:09.160Z"
   },
   {
    "duration": 917,
    "start_time": "2024-06-20T19:00:11.270Z"
   },
   {
    "duration": 955,
    "start_time": "2024-06-20T19:00:12.189Z"
   },
   {
    "duration": 888,
    "start_time": "2024-06-20T19:00:13.146Z"
   },
   {
    "duration": 4,
    "start_time": "2024-06-20T19:02:54.169Z"
   },
   {
    "duration": 913,
    "start_time": "2024-06-20T19:02:55.349Z"
   },
   {
    "duration": 922,
    "start_time": "2024-06-20T19:02:56.264Z"
   },
   {
    "duration": 889,
    "start_time": "2024-06-20T19:02:57.187Z"
   },
   {
    "duration": 4,
    "start_time": "2024-06-20T19:03:06.109Z"
   },
   {
    "duration": 898,
    "start_time": "2024-06-20T19:03:06.648Z"
   },
   {
    "duration": 921,
    "start_time": "2024-06-20T19:03:07.548Z"
   },
   {
    "duration": 894,
    "start_time": "2024-06-20T19:03:08.471Z"
   }
  ],
  "kernelspec": {
   "display_name": "Python 3 (ipykernel)",
   "language": "python",
   "name": "python3"
  },
  "language_info": {
   "codemirror_mode": {
    "name": "ipython",
    "version": 3
   },
   "file_extension": ".py",
   "mimetype": "text/x-python",
   "name": "python",
   "nbconvert_exporter": "python",
   "pygments_lexer": "ipython3",
   "version": "3.11.3"
  },
  "toc": {
   "base_numbering": 1,
   "nav_menu": {},
   "number_sections": true,
   "sideBar": true,
   "skip_h1_title": true,
   "title_cell": "Table of Contents",
   "title_sidebar": "Contents",
   "toc_cell": false,
   "toc_position": {},
   "toc_section_display": true,
   "toc_window_display": false
  }
 },
 "nbformat": 4,
 "nbformat_minor": 4
}
