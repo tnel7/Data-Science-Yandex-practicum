{
 "cells": [
  {
   "cell_type": "markdown",
   "id": "8f722824",
   "metadata": {},
   "source": [
    "# Анализ данных сервиса аренды самокатов GoFast\n",
    "\n",
    "В нашем распоряжении данные о поездках и пользователях сервиса аренды самокатов GoFast. Перед нами стоит задача, на основании имеющихся датафреймов сделать выводы, которые в будущем помогут компании лучше понимать клиентов и сделать полезные выводы для улучшения бизнеса. Итоговой целью будет проверка нескольких гипотез. <br/>\n",
    "<br/>\n",
    "Действовать будем по такому плану:\n",
    "* загрузим имеющиеся датайремы и посмотрим, какие данные у нас имеются\n",
    "* обработаем полученные таблицы, проверим наличие пропусков и устраним их. Приведем данные к такому виду, чтобы с ними было удобно работать\n",
    "* изучим основные характеристики, которые могут помочь нам в дальнейшем, визуализируем их представление\n",
    "* создадим общий датафрейм со всеми данными и добавим несколько новых столбцов с важными расчетами.\n",
    "* проверим поставленные гипотезы\n",
    "* поможем понять бизнесу как эффективнее привлечь новых клиентов"
   ]
  },
  {
   "cell_type": "code",
   "execution_count": 2,
   "id": "72576667",
   "metadata": {},
   "outputs": [],
   "source": [
    "import pandas as pd\n",
    "import warnings\n",
    "warnings.simplefilter(\"ignore\") \n",
    "import matplotlib.pyplot as plt\n",
    "import numpy as np\n",
    "from scipy import stats as st\n",
    "from scipy.stats import binom"
   ]
  },
  {
   "cell_type": "markdown",
   "id": "c42cbe00",
   "metadata": {},
   "source": [
    "### Шаг 1. Загрузка данных"
   ]
  },
  {
   "cell_type": "code",
   "execution_count": 4,
   "id": "eff9f206",
   "metadata": {},
   "outputs": [
    {
     "data": {
      "text/html": [
       "<div>\n",
       "<style scoped>\n",
       "    .dataframe tbody tr th:only-of-type {\n",
       "        vertical-align: middle;\n",
       "    }\n",
       "\n",
       "    .dataframe tbody tr th {\n",
       "        vertical-align: top;\n",
       "    }\n",
       "\n",
       "    .dataframe thead th {\n",
       "        text-align: right;\n",
       "    }\n",
       "</style>\n",
       "<table border=\"1\" class=\"dataframe\">\n",
       "  <thead>\n",
       "    <tr style=\"text-align: right;\">\n",
       "      <th></th>\n",
       "      <th>user_id</th>\n",
       "      <th>name</th>\n",
       "      <th>age</th>\n",
       "      <th>city</th>\n",
       "      <th>subscription_type</th>\n",
       "    </tr>\n",
       "  </thead>\n",
       "  <tbody>\n",
       "    <tr>\n",
       "      <th>0</th>\n",
       "      <td>1</td>\n",
       "      <td>Кира</td>\n",
       "      <td>22</td>\n",
       "      <td>Тюмень</td>\n",
       "      <td>ultra</td>\n",
       "    </tr>\n",
       "    <tr>\n",
       "      <th>1</th>\n",
       "      <td>2</td>\n",
       "      <td>Станислав</td>\n",
       "      <td>31</td>\n",
       "      <td>Омск</td>\n",
       "      <td>ultra</td>\n",
       "    </tr>\n",
       "    <tr>\n",
       "      <th>2</th>\n",
       "      <td>3</td>\n",
       "      <td>Алексей</td>\n",
       "      <td>20</td>\n",
       "      <td>Москва</td>\n",
       "      <td>ultra</td>\n",
       "    </tr>\n",
       "    <tr>\n",
       "      <th>3</th>\n",
       "      <td>4</td>\n",
       "      <td>Константин</td>\n",
       "      <td>26</td>\n",
       "      <td>Ростов-на-Дону</td>\n",
       "      <td>ultra</td>\n",
       "    </tr>\n",
       "    <tr>\n",
       "      <th>4</th>\n",
       "      <td>5</td>\n",
       "      <td>Адель</td>\n",
       "      <td>28</td>\n",
       "      <td>Омск</td>\n",
       "      <td>ultra</td>\n",
       "    </tr>\n",
       "    <tr>\n",
       "      <th>5</th>\n",
       "      <td>6</td>\n",
       "      <td>Регина</td>\n",
       "      <td>25</td>\n",
       "      <td>Краснодар</td>\n",
       "      <td>ultra</td>\n",
       "    </tr>\n",
       "    <tr>\n",
       "      <th>6</th>\n",
       "      <td>7</td>\n",
       "      <td>Игорь</td>\n",
       "      <td>23</td>\n",
       "      <td>Омск</td>\n",
       "      <td>ultra</td>\n",
       "    </tr>\n",
       "    <tr>\n",
       "      <th>7</th>\n",
       "      <td>8</td>\n",
       "      <td>Юрий</td>\n",
       "      <td>23</td>\n",
       "      <td>Краснодар</td>\n",
       "      <td>ultra</td>\n",
       "    </tr>\n",
       "    <tr>\n",
       "      <th>8</th>\n",
       "      <td>9</td>\n",
       "      <td>Ян</td>\n",
       "      <td>21</td>\n",
       "      <td>Пятигорск</td>\n",
       "      <td>ultra</td>\n",
       "    </tr>\n",
       "    <tr>\n",
       "      <th>9</th>\n",
       "      <td>10</td>\n",
       "      <td>Валерий</td>\n",
       "      <td>18</td>\n",
       "      <td>Екатеринбург</td>\n",
       "      <td>ultra</td>\n",
       "    </tr>\n",
       "  </tbody>\n",
       "</table>\n",
       "</div>"
      ],
      "text/plain": [
       "   user_id        name  age            city subscription_type\n",
       "0        1        Кира   22          Тюмень             ultra\n",
       "1        2   Станислав   31            Омск             ultra\n",
       "2        3     Алексей   20          Москва             ultra\n",
       "3        4  Константин   26  Ростов-на-Дону             ultra\n",
       "4        5       Адель   28            Омск             ultra\n",
       "5        6      Регина   25       Краснодар             ultra\n",
       "6        7       Игорь   23            Омск             ultra\n",
       "7        8        Юрий   23       Краснодар             ultra\n",
       "8        9          Ян   21       Пятигорск             ultra\n",
       "9       10     Валерий   18    Екатеринбург             ultra"
      ]
     },
     "metadata": {},
     "output_type": "display_data"
    },
    {
     "name": "stdout",
     "output_type": "stream",
     "text": [
      "\n"
     ]
    },
    {
     "data": {
      "text/html": [
       "<div>\n",
       "<style scoped>\n",
       "    .dataframe tbody tr th:only-of-type {\n",
       "        vertical-align: middle;\n",
       "    }\n",
       "\n",
       "    .dataframe tbody tr th {\n",
       "        vertical-align: top;\n",
       "    }\n",
       "\n",
       "    .dataframe thead th {\n",
       "        text-align: right;\n",
       "    }\n",
       "</style>\n",
       "<table border=\"1\" class=\"dataframe\">\n",
       "  <thead>\n",
       "    <tr style=\"text-align: right;\">\n",
       "      <th></th>\n",
       "      <th>user_id</th>\n",
       "      <th>distance</th>\n",
       "      <th>duration</th>\n",
       "      <th>date</th>\n",
       "    </tr>\n",
       "  </thead>\n",
       "  <tbody>\n",
       "    <tr>\n",
       "      <th>0</th>\n",
       "      <td>1</td>\n",
       "      <td>4409.919140</td>\n",
       "      <td>25.599769</td>\n",
       "      <td>2021-01-01</td>\n",
       "    </tr>\n",
       "    <tr>\n",
       "      <th>1</th>\n",
       "      <td>1</td>\n",
       "      <td>2617.592153</td>\n",
       "      <td>15.816871</td>\n",
       "      <td>2021-01-18</td>\n",
       "    </tr>\n",
       "    <tr>\n",
       "      <th>2</th>\n",
       "      <td>1</td>\n",
       "      <td>754.159807</td>\n",
       "      <td>6.232113</td>\n",
       "      <td>2021-04-20</td>\n",
       "    </tr>\n",
       "    <tr>\n",
       "      <th>3</th>\n",
       "      <td>1</td>\n",
       "      <td>2694.783254</td>\n",
       "      <td>18.511000</td>\n",
       "      <td>2021-08-11</td>\n",
       "    </tr>\n",
       "    <tr>\n",
       "      <th>4</th>\n",
       "      <td>1</td>\n",
       "      <td>4028.687306</td>\n",
       "      <td>26.265803</td>\n",
       "      <td>2021-08-28</td>\n",
       "    </tr>\n",
       "    <tr>\n",
       "      <th>5</th>\n",
       "      <td>1</td>\n",
       "      <td>2770.890808</td>\n",
       "      <td>16.650138</td>\n",
       "      <td>2021-10-09</td>\n",
       "    </tr>\n",
       "    <tr>\n",
       "      <th>6</th>\n",
       "      <td>1</td>\n",
       "      <td>3039.020292</td>\n",
       "      <td>14.927879</td>\n",
       "      <td>2021-10-19</td>\n",
       "    </tr>\n",
       "    <tr>\n",
       "      <th>7</th>\n",
       "      <td>1</td>\n",
       "      <td>2842.118050</td>\n",
       "      <td>23.117468</td>\n",
       "      <td>2021-11-06</td>\n",
       "    </tr>\n",
       "    <tr>\n",
       "      <th>8</th>\n",
       "      <td>1</td>\n",
       "      <td>3412.690668</td>\n",
       "      <td>15.238072</td>\n",
       "      <td>2021-11-14</td>\n",
       "    </tr>\n",
       "    <tr>\n",
       "      <th>9</th>\n",
       "      <td>1</td>\n",
       "      <td>748.690645</td>\n",
       "      <td>15.041884</td>\n",
       "      <td>2021-11-22</td>\n",
       "    </tr>\n",
       "  </tbody>\n",
       "</table>\n",
       "</div>"
      ],
      "text/plain": [
       "   user_id     distance   duration        date\n",
       "0        1  4409.919140  25.599769  2021-01-01\n",
       "1        1  2617.592153  15.816871  2021-01-18\n",
       "2        1   754.159807   6.232113  2021-04-20\n",
       "3        1  2694.783254  18.511000  2021-08-11\n",
       "4        1  4028.687306  26.265803  2021-08-28\n",
       "5        1  2770.890808  16.650138  2021-10-09\n",
       "6        1  3039.020292  14.927879  2021-10-19\n",
       "7        1  2842.118050  23.117468  2021-11-06\n",
       "8        1  3412.690668  15.238072  2021-11-14\n",
       "9        1   748.690645  15.041884  2021-11-22"
      ]
     },
     "metadata": {},
     "output_type": "display_data"
    },
    {
     "name": "stdout",
     "output_type": "stream",
     "text": [
      "\n"
     ]
    },
    {
     "data": {
      "text/html": [
       "<div>\n",
       "<style scoped>\n",
       "    .dataframe tbody tr th:only-of-type {\n",
       "        vertical-align: middle;\n",
       "    }\n",
       "\n",
       "    .dataframe tbody tr th {\n",
       "        vertical-align: top;\n",
       "    }\n",
       "\n",
       "    .dataframe thead th {\n",
       "        text-align: right;\n",
       "    }\n",
       "</style>\n",
       "<table border=\"1\" class=\"dataframe\">\n",
       "  <thead>\n",
       "    <tr style=\"text-align: right;\">\n",
       "      <th></th>\n",
       "      <th>subscription_type</th>\n",
       "      <th>minute_price</th>\n",
       "      <th>start_ride_price</th>\n",
       "      <th>subscription_fee</th>\n",
       "    </tr>\n",
       "  </thead>\n",
       "  <tbody>\n",
       "    <tr>\n",
       "      <th>0</th>\n",
       "      <td>free</td>\n",
       "      <td>8</td>\n",
       "      <td>50</td>\n",
       "      <td>0</td>\n",
       "    </tr>\n",
       "    <tr>\n",
       "      <th>1</th>\n",
       "      <td>ultra</td>\n",
       "      <td>6</td>\n",
       "      <td>0</td>\n",
       "      <td>199</td>\n",
       "    </tr>\n",
       "  </tbody>\n",
       "</table>\n",
       "</div>"
      ],
      "text/plain": [
       "  subscription_type  minute_price  start_ride_price  subscription_fee\n",
       "0              free             8                50                 0\n",
       "1             ultra             6                 0               199"
      ]
     },
     "execution_count": 4,
     "metadata": {},
     "output_type": "execute_result"
    }
   ],
   "source": [
    "users = pd.read_csv('/datasets/users_go.csv')\n",
    "rides = pd.read_csv('/datasets/rides_go.csv')\n",
    "subscriptions = pd.read_csv('/datasets/subscriptions_go.csv')\n",
    "display(users.head(10))\n",
    "print()\n",
    "display(rides.head(10))\n",
    "print()\n",
    "subscriptions"
   ]
  },
  {
   "cell_type": "code",
   "execution_count": 3,
   "id": "63085f4b",
   "metadata": {},
   "outputs": [
    {
     "name": "stdout",
     "output_type": "stream",
     "text": [
      "<class 'pandas.core.frame.DataFrame'>\n",
      "RangeIndex: 1565 entries, 0 to 1564\n",
      "Data columns (total 5 columns):\n",
      " #   Column             Non-Null Count  Dtype \n",
      "---  ------             --------------  ----- \n",
      " 0   user_id            1565 non-null   int64 \n",
      " 1   name               1565 non-null   object\n",
      " 2   age                1565 non-null   int64 \n",
      " 3   city               1565 non-null   object\n",
      " 4   subscription_type  1565 non-null   object\n",
      "dtypes: int64(2), object(3)\n",
      "memory usage: 61.3+ KB\n",
      "None\n",
      "\n",
      "<class 'pandas.core.frame.DataFrame'>\n",
      "RangeIndex: 18068 entries, 0 to 18067\n",
      "Data columns (total 4 columns):\n",
      " #   Column    Non-Null Count  Dtype  \n",
      "---  ------    --------------  -----  \n",
      " 0   user_id   18068 non-null  int64  \n",
      " 1   distance  18068 non-null  float64\n",
      " 2   duration  18068 non-null  float64\n",
      " 3   date      18068 non-null  object \n",
      "dtypes: float64(2), int64(1), object(1)\n",
      "memory usage: 564.8+ KB\n",
      "None\n",
      "\n",
      "<class 'pandas.core.frame.DataFrame'>\n",
      "RangeIndex: 2 entries, 0 to 1\n",
      "Data columns (total 4 columns):\n",
      " #   Column             Non-Null Count  Dtype \n",
      "---  ------             --------------  ----- \n",
      " 0   subscription_type  2 non-null      object\n",
      " 1   minute_price       2 non-null      int64 \n",
      " 2   start_ride_price   2 non-null      int64 \n",
      " 3   subscription_fee   2 non-null      int64 \n",
      "dtypes: int64(3), object(1)\n",
      "memory usage: 192.0+ bytes\n"
     ]
    }
   ],
   "source": [
    "print(users.info())\n",
    "print()\n",
    "print(rides.info())\n",
    "print()\n",
    "subscriptions.info()"
   ]
  },
  {
   "cell_type": "markdown",
   "id": "aa787915",
   "metadata": {},
   "source": [
    "Из того что можно сразу отметить: в датафреймах нет пропусков, все целые числа уже имеют тип int, названия столбцов корректны и подчиняются внегласным правилам наименования столбцов. <br/>\n",
    "Единственное, что сразу бросается в глаза, это формат времени. Его мы позже изменим."
   ]
  },
  {
   "cell_type": "markdown",
   "id": "e95ebca7",
   "metadata": {},
   "source": [
    "#### Шаг 2. Предобработка данных"
   ]
  },
  {
   "cell_type": "code",
   "execution_count": 4,
   "id": "af6d202c",
   "metadata": {},
   "outputs": [
    {
     "name": "stdout",
     "output_type": "stream",
     "text": [
      "<class 'pandas.core.frame.DataFrame'>\n",
      "RangeIndex: 18068 entries, 0 to 18067\n",
      "Data columns (total 4 columns):\n",
      " #   Column    Non-Null Count  Dtype         \n",
      "---  ------    --------------  -----         \n",
      " 0   user_id   18068 non-null  int64         \n",
      " 1   distance  18068 non-null  float64       \n",
      " 2   duration  18068 non-null  float64       \n",
      " 3   date      18068 non-null  datetime64[ns]\n",
      "dtypes: datetime64[ns](1), float64(2), int64(1)\n",
      "memory usage: 564.8 KB\n"
     ]
    }
   ],
   "source": [
    "#Изменения типа данных в столбце с датами.\n",
    "rides['date'] = pd.to_datetime(rides['date'], format = '%Y-%m-%d')\n",
    "rides.info()"
   ]
  },
  {
   "cell_type": "code",
   "execution_count": 5,
   "id": "b360d36d",
   "metadata": {},
   "outputs": [],
   "source": [
    "#создадим колонку с номером месяца\n",
    "rides['month'] = rides['date'].dt.month"
   ]
  },
  {
   "cell_type": "code",
   "execution_count": 6,
   "id": "3b70e6f4",
   "metadata": {},
   "outputs": [
    {
     "name": "stdout",
     "output_type": "stream",
     "text": [
      "31\n",
      "0\n",
      "0\n"
     ]
    }
   ],
   "source": [
    "#Проверим наличие дубликатов в столбцах во всех датафреймах\n",
    "print(users.duplicated().sum())\n",
    "print(rides.duplicated().sum())\n",
    "print(subscriptions.duplicated().sum())"
   ]
  },
  {
   "cell_type": "markdown",
   "id": "068c6d9c",
   "metadata": {},
   "source": [
    "Дубликаты найдены только в датафрейме с пользователями. Надо будет удалить их, а так же не забыть обновить индексы"
   ]
  },
  {
   "cell_type": "code",
   "execution_count": 7,
   "id": "034a42b2",
   "metadata": {},
   "outputs": [
    {
     "data": {
      "text/plain": [
       "0"
      ]
     },
     "execution_count": 7,
     "metadata": {},
     "output_type": "execute_result"
    }
   ],
   "source": [
    "users = users.drop_duplicates().reset_index(drop=True)\n",
    "#снова сделаем проверку на наличие явных дубликатов\n",
    "users.duplicated().sum()"
   ]
  },
  {
   "cell_type": "markdown",
   "id": "efc9df47",
   "metadata": {},
   "source": [
    "Теперь можно быть увереным, что все явные дубликаты устранены."
   ]
  },
  {
   "cell_type": "markdown",
   "id": "212593c7",
   "metadata": {},
   "source": [
    "#### Шаг 3. Исследовательский анализ данных"
   ]
  },
  {
   "cell_type": "markdown",
   "id": "31f45d13",
   "metadata": {},
   "source": [
    "##### Частота встречаемости городов;"
   ]
  },
  {
   "cell_type": "code",
   "execution_count": 8,
   "id": "2451e83c",
   "metadata": {},
   "outputs": [
    {
     "data": {
      "text/plain": [
       "city\n",
       "Пятигорск         219\n",
       "Екатеринбург      204\n",
       "Ростов-на-Дону    198\n",
       "Краснодар         193\n",
       "Сочи              189\n",
       "Омск              183\n",
       "Тюмень            180\n",
       "Москва            168\n",
       "Name: user_id, dtype: int64"
      ]
     },
     "execution_count": 8,
     "metadata": {},
     "output_type": "execute_result"
    }
   ],
   "source": [
    "users.groupby('city')['user_id'].count().sort_values(ascending = False)"
   ]
  },
  {
   "cell_type": "markdown",
   "id": "7ed62da9",
   "metadata": {},
   "source": [
    "Для того чтобы отобразить частоту встречаемости городов, мы также выведем гистограмму частот для наглядности."
   ]
  },
  {
   "cell_type": "code",
   "execution_count": 9,
   "id": "b7220515",
   "metadata": {},
   "outputs": [
    {
     "data": {
      "image/png": "[encoded data removed]",
      "text/plain": [
       "<Figure size 864x648 with 1 Axes>"
      ]
     },
     "metadata": {
      "needs_background": "light"
     },
     "output_type": "display_data"
    }
   ],
   "source": [
    "users['city'].hist( bins = 50, figsize = (12,9))\n",
    "plt.title(' Частота встречаемости городов', size = 17)\n",
    "plt.xlabel('Города', size = 14)\n",
    "plt.ylabel('Частота', size = 14)\n",
    "plt.show()"
   ]
  },
  {
   "cell_type": "markdown",
   "id": "28fd59d5",
   "metadata": {},
   "source": [
    "По ней хорошо видно, что больше всего данных у нас из городов Пятигорск, Екатеринбург и Ростов-на-дону - около 200. Остальных значений очень близкое количество, так что различия малы."
   ]
  },
  {
   "cell_type": "markdown",
   "id": "bfa939b9",
   "metadata": {},
   "source": [
    "##### Cоотношение пользователей с подпиской и без подписки;\n"
   ]
  },
  {
   "cell_type": "code",
   "execution_count": 10,
   "id": "2ae9d059",
   "metadata": {},
   "outputs": [
    {
     "data": {
      "image/png": "[encoded data removed]",
      "text/plain": [
       "<Figure size 432x432 with 1 Axes>"
      ]
     },
     "metadata": {},
     "output_type": "display_data"
    },
    {
     "data": {
      "text/plain": [
       "subscription_type\n",
       "free     835\n",
       "ultra    699\n",
       "Name: user_id, dtype: int64"
      ]
     },
     "execution_count": 10,
     "metadata": {},
     "output_type": "execute_result"
    }
   ],
   "source": [
    "users.groupby('subscription_type')['user_id'].count().plot(kind = 'pie',figsize = (6,6), autopct='%1.1f%%')\n",
    "plt.title('Cоотношение пользователей с подпиской и без подписки')\n",
    "plt.show()\n",
    "users.groupby('subscription_type')['user_id'].count()"
   ]
  },
  {
   "cell_type": "markdown",
   "id": "3212bbaf",
   "metadata": {},
   "source": [
    "На графике явно видно, что пользователей с подпиской и без почти 50/50, но бесплатных подписок все равно больше."
   ]
  },
  {
   "cell_type": "markdown",
   "id": "5628ff1b",
   "metadata": {},
   "source": [
    "##### Возраст пользователей\n"
   ]
  },
  {
   "cell_type": "code",
   "execution_count": 11,
   "id": "24289ad9",
   "metadata": {},
   "outputs": [
    {
     "data": {
      "image/png": "[encoded data removed]",
      "text/plain": [
       "<Figure size 864x648 with 1 Axes>"
      ]
     },
     "metadata": {
      "needs_background": "light"
     },
     "output_type": "display_data"
    }
   ],
   "source": [
    "users['age'].hist(bins = 30, figsize = (12,9))\n",
    "plt.title('Возраст пользователей', size = 17)\n",
    "plt.xlabel('Возраст', size = 14)\n",
    "plt.ylabel('Частота', size = 14)\n",
    "plt.show()"
   ]
  },
  {
   "cell_type": "markdown",
   "id": "90614ccd",
   "metadata": {},
   "source": [
    "По графику можно отчетливо заметить, что распределение возрастов пользователей очень близко к нормальному виду. Самый пик приходится на 25 лет. Но так же имеются значения и меньше 5 лет, и больше 45. "
   ]
  },
  {
   "cell_type": "markdown",
   "id": "b0f97e88",
   "metadata": {},
   "source": [
    "##### Расстояние, которое пользователь преодолел за одну поездку"
   ]
  },
  {
   "cell_type": "code",
   "execution_count": 12,
   "id": "cb00329d",
   "metadata": {},
   "outputs": [
    {
     "data": {
      "image/png": "[encoded data removed]",
      "text/plain": [
       "<Figure size 864x648 with 1 Axes>"
      ]
     },
     "metadata": {
      "needs_background": "light"
     },
     "output_type": "display_data"
    }
   ],
   "source": [
    "rides['distance'].hist(bins = 30, figsize = (12,9))\n",
    "plt.title('Расстояние, которое пользователь преодолел за одну поездку', size = 17)\n",
    "plt.xlabel('М', size = 14)\n",
    "plt.ylabel('Частота', size = 14)\n",
    "plt.show()"
   ]
  },
  {
   "cell_type": "markdown",
   "id": "468cd36f",
   "metadata": {},
   "source": [
    "Мы получили график распределения киллометража поездки. Он имеет почти нормальный вид, за исключением области до 1.5км. Видимо есть один тип пользователей, которые берут просто попробовать покататься, и есть пользователи которые берут уже на более долгую прогулку. В таких случаях, самой частой дистанцией выступают значения от 3 до 3.5 км."
   ]
  },
  {
   "cell_type": "markdown",
   "id": "fa75f716",
   "metadata": {},
   "source": [
    "##### Продолжительность поездок"
   ]
  },
  {
   "cell_type": "code",
   "execution_count": 13,
   "id": "8ca8daab",
   "metadata": {},
   "outputs": [
    {
     "data": {
      "image/png": "[encoded data removed]",
      "text/plain": [
       "<Figure size 864x648 with 1 Axes>"
      ]
     },
     "metadata": {
      "needs_background": "light"
     },
     "output_type": "display_data"
    },
    {
     "name": "stdout",
     "output_type": "stream",
     "text": [
      "Минимальная продолжительность: 0.5\n",
      "Максимальная продолжительность: 40.82396261922424\n"
     ]
    }
   ],
   "source": [
    "rides['duration'].hist(bins = 30, figsize = (12,9))\n",
    "plt.title('Продолжительность поездок' ,size = 17)\n",
    "plt.xlabel('Минуты', size = 14)\n",
    "plt.ylabel('Частота', size = 14)\n",
    "plt.show()\n",
    "\n",
    "print('Минимальная продолжительность:', rides['duration'].min())\n",
    "print('Максимальная продолжительность:', rides['duration'].max())"
   ]
  },
  {
   "cell_type": "markdown",
   "id": "7b55b037",
   "metadata": {},
   "source": [
    "Мы вновь получили нормальное распределение, с центром в значении около 17 минут. Значит это самая распространенная продолжительность, а остальные значения стремятся к нему. Так же были получены значения максимума и минимума. Пользователи проводили в поездке от 0.5 до 40 минут."
   ]
  },
  {
   "cell_type": "markdown",
   "id": "4ef51331",
   "metadata": {},
   "source": [
    "#### Шаг 4. Объединение данных"
   ]
  },
  {
   "cell_type": "markdown",
   "id": "5b463d83",
   "metadata": {},
   "source": [
    "##### Объединение 3 датафремов в 1"
   ]
  },
  {
   "cell_type": "code",
   "execution_count": 14,
   "id": "6bf288b5",
   "metadata": {},
   "outputs": [
    {
     "name": "stdout",
     "output_type": "stream",
     "text": [
      "   user_id  name  age    city subscription_type     distance   duration  \\\n",
      "0        1  Кира   22  Тюмень             ultra  4409.919140  25.599769   \n",
      "1        1  Кира   22  Тюмень             ultra  2617.592153  15.816871   \n",
      "2        1  Кира   22  Тюмень             ultra   754.159807   6.232113   \n",
      "3        1  Кира   22  Тюмень             ultra  2694.783254  18.511000   \n",
      "4        1  Кира   22  Тюмень             ultra  4028.687306  26.265803   \n",
      "5        1  Кира   22  Тюмень             ultra  2770.890808  16.650138   \n",
      "6        1  Кира   22  Тюмень             ultra  3039.020292  14.927879   \n",
      "7        1  Кира   22  Тюмень             ultra  2842.118050  23.117468   \n",
      "8        1  Кира   22  Тюмень             ultra  3412.690668  15.238072   \n",
      "9        1  Кира   22  Тюмень             ultra   748.690645  15.041884   \n",
      "\n",
      "        date  month  minute_price  start_ride_price  subscription_fee  \n",
      "0 2021-01-01      1             6                 0               199  \n",
      "1 2021-01-18      1             6                 0               199  \n",
      "2 2021-04-20      4             6                 0               199  \n",
      "3 2021-08-11      8             6                 0               199  \n",
      "4 2021-08-28      8             6                 0               199  \n",
      "5 2021-10-09     10             6                 0               199  \n",
      "6 2021-10-19     10             6                 0               199  \n",
      "7 2021-11-06     11             6                 0               199  \n",
      "8 2021-11-14     11             6                 0               199  \n",
      "9 2021-11-22     11             6                 0               199  \n"
     ]
    }
   ],
   "source": [
    "#объединим 3 датафрейма в один\n",
    "data = users.merge(rides, on = 'user_id', how = 'outer')\n",
    "data = data.merge(subscriptions, on = 'subscription_type', how = 'outer')\n",
    "print(data.head(10))"
   ]
  },
  {
   "cell_type": "code",
   "execution_count": 15,
   "id": "e5695de7",
   "metadata": {},
   "outputs": [
    {
     "name": "stdout",
     "output_type": "stream",
     "text": [
      "<class 'pandas.core.frame.DataFrame'>\n",
      "RangeIndex: 1534 entries, 0 to 1533\n",
      "Data columns (total 5 columns):\n",
      " #   Column             Non-Null Count  Dtype \n",
      "---  ------             --------------  ----- \n",
      " 0   user_id            1534 non-null   int64 \n",
      " 1   name               1534 non-null   object\n",
      " 2   age                1534 non-null   int64 \n",
      " 3   city               1534 non-null   object\n",
      " 4   subscription_type  1534 non-null   object\n",
      "dtypes: int64(2), object(3)\n",
      "memory usage: 60.0+ KB\n",
      "None\n",
      "<class 'pandas.core.frame.DataFrame'>\n",
      "RangeIndex: 18068 entries, 0 to 18067\n",
      "Data columns (total 5 columns):\n",
      " #   Column    Non-Null Count  Dtype         \n",
      "---  ------    --------------  -----         \n",
      " 0   user_id   18068 non-null  int64         \n",
      " 1   distance  18068 non-null  float64       \n",
      " 2   duration  18068 non-null  float64       \n",
      " 3   date      18068 non-null  datetime64[ns]\n",
      " 4   month     18068 non-null  int64         \n",
      "dtypes: datetime64[ns](1), float64(2), int64(2)\n",
      "memory usage: 705.9 KB\n",
      "None\n",
      "<class 'pandas.core.frame.DataFrame'>\n",
      "Int64Index: 18068 entries, 0 to 18067\n",
      "Data columns (total 12 columns):\n",
      " #   Column             Non-Null Count  Dtype         \n",
      "---  ------             --------------  -----         \n",
      " 0   user_id            18068 non-null  int64         \n",
      " 1   name               18068 non-null  object        \n",
      " 2   age                18068 non-null  int64         \n",
      " 3   city               18068 non-null  object        \n",
      " 4   subscription_type  18068 non-null  object        \n",
      " 5   distance           18068 non-null  float64       \n",
      " 6   duration           18068 non-null  float64       \n",
      " 7   date               18068 non-null  datetime64[ns]\n",
      " 8   month              18068 non-null  int64         \n",
      " 9   minute_price       18068 non-null  int64         \n",
      " 10  start_ride_price   18068 non-null  int64         \n",
      " 11  subscription_fee   18068 non-null  int64         \n",
      "dtypes: datetime64[ns](1), float64(2), int64(6), object(3)\n",
      "memory usage: 1.8+ MB\n"
     ]
    }
   ],
   "source": [
    "#теперь удостоверимся, что объединение прошло успешно и сравним размер исходных датафреймов и получившихся\n",
    "print(users.info())\n",
    "print(rides.info())\n",
    "# Самая большая таблица получается rides, там 18068 строк. Получается, что в итоговом датафрейме data должно получится такое же количество строк\n",
    "data.info()"
   ]
  },
  {
   "cell_type": "markdown",
   "id": "59a99eec",
   "metadata": {},
   "source": [
    "Количество строк в итоговом датафрейме совпадает с количеством строк в самом большом из трех объединенных датафреймов, а это значит, что все прошло успешно, можем двигаться дальше."
   ]
  },
  {
   "cell_type": "markdown",
   "id": "fe7787fe",
   "metadata": {},
   "source": [
    "##### Создание отдельных датафреймов для пользователей с подпиской и без"
   ]
  },
  {
   "cell_type": "code",
   "execution_count": 16,
   "id": "c3eb4769",
   "metadata": {},
   "outputs": [
    {
     "name": "stdout",
     "output_type": "stream",
     "text": [
      "   user_id  name  age    city subscription_type     distance   duration  \\\n",
      "0        1  Кира   22  Тюмень             ultra  4409.919140  25.599769   \n",
      "1        1  Кира   22  Тюмень             ultra  2617.592153  15.816871   \n",
      "2        1  Кира   22  Тюмень             ultra   754.159807   6.232113   \n",
      "3        1  Кира   22  Тюмень             ultra  2694.783254  18.511000   \n",
      "4        1  Кира   22  Тюмень             ultra  4028.687306  26.265803   \n",
      "5        1  Кира   22  Тюмень             ultra  2770.890808  16.650138   \n",
      "6        1  Кира   22  Тюмень             ultra  3039.020292  14.927879   \n",
      "7        1  Кира   22  Тюмень             ultra  2842.118050  23.117468   \n",
      "8        1  Кира   22  Тюмень             ultra  3412.690668  15.238072   \n",
      "9        1  Кира   22  Тюмень             ultra   748.690645  15.041884   \n",
      "\n",
      "        date  month  minute_price  start_ride_price  subscription_fee  \n",
      "0 2021-01-01      1             6                 0               199  \n",
      "1 2021-01-18      1             6                 0               199  \n",
      "2 2021-04-20      4             6                 0               199  \n",
      "3 2021-08-11      8             6                 0               199  \n",
      "4 2021-08-28      8             6                 0               199  \n",
      "5 2021-10-09     10             6                 0               199  \n",
      "6 2021-10-19     10             6                 0               199  \n",
      "7 2021-11-06     11             6                 0               199  \n",
      "8 2021-11-14     11             6                 0               199  \n",
      "9 2021-11-22     11             6                 0               199  \n",
      "      user_id   name  age  city subscription_type     distance   duration  \\\n",
      "6500      700  Айдар   22  Омск              free  2515.690719  14.944286   \n",
      "6501      700  Айдар   22  Омск              free   846.932642  16.234663   \n",
      "6502      700  Айдар   22  Омск              free  4004.434142  20.016628   \n",
      "6503      700  Айдар   22  Омск              free  1205.911290   9.782872   \n",
      "6504      700  Айдар   22  Омск              free  3047.379435  17.427673   \n",
      "6505      700  Айдар   22  Омск              free  4342.002254  22.368009   \n",
      "6506      700  Айдар   22  Омск              free  3798.334905  18.243756   \n",
      "6507      700  Айдар   22  Омск              free  2984.551206  15.424899   \n",
      "6508      700  Айдар   22  Омск              free  3360.107141  16.765497   \n",
      "6509      700  Айдар   22  Омск              free  2567.543847  11.312160   \n",
      "\n",
      "           date  month  minute_price  start_ride_price  subscription_fee  \n",
      "6500 2021-01-02      1             8                50                 0  \n",
      "6501 2021-02-01      2             8                50                 0  \n",
      "6502 2021-02-04      2             8                50                 0  \n",
      "6503 2021-02-10      2             8                50                 0  \n",
      "6504 2021-02-14      2             8                50                 0  \n",
      "6505 2021-02-23      2             8                50                 0  \n",
      "6506 2021-03-03      3             8                50                 0  \n",
      "6507 2021-04-09      4             8                50                 0  \n",
      "6508 2021-06-12      6             8                50                 0  \n",
      "6509 2021-06-23      6             8                50                 0  \n"
     ]
    }
   ],
   "source": [
    "#Создадим 2 отдельных датафрейма с пользователями у которых есть подписка ultra и без нее.\n",
    "data_ultra = data.query('subscription_type == \"ultra\"')\n",
    "data_free = data.query('subscription_type == \"free\"')\n",
    "print(data_ultra.head(10))\n",
    "print(data_free.head(10))"
   ]
  },
  {
   "cell_type": "markdown",
   "id": "3a578535",
   "metadata": {},
   "source": [
    "Получили 2 отдельных датафрейма для пользователей с подпиской и без."
   ]
  },
  {
   "cell_type": "markdown",
   "id": "5b52e070",
   "metadata": {},
   "source": [
    "##### Теперь визуализируем расстояние и время поездок для пользователей обоих категорий"
   ]
  },
  {
   "cell_type": "code",
   "execution_count": 17,
   "id": "5df38366",
   "metadata": {},
   "outputs": [
    {
     "name": "stdout",
     "output_type": "stream",
     "text": [
      "Информация о дальности поездок с подпиской:\n",
      " count    6500.000000\n",
      "mean     3115.445388\n",
      "std       836.895330\n",
      "min       244.210438\n",
      "25%      2785.444017\n",
      "50%      3148.637229\n",
      "75%      3560.574425\n",
      "max      5699.769662\n",
      "Name: distance, dtype: float64\n",
      "\n",
      "Информация о дальности поездок без подписки:\n",
      " count    11568.000000\n",
      "mean      3045.495282\n",
      "std       1246.173806\n",
      "min          0.855683\n",
      "25%       2366.562689\n",
      "50%       3114.648465\n",
      "75%       3905.697894\n",
      "max       7211.007745\n",
      "Name: distance, dtype: float64\n"
     ]
    },
    {
     "data": {
      "image/png": "[encoded data removed]",
      "text/plain": [
       "<Figure size 864x432 with 1 Axes>"
      ]
     },
     "metadata": {
      "needs_background": "light"
     },
     "output_type": "display_data"
    }
   ],
   "source": [
    "#Для начала получим наглядные данные в цифрах.\n",
    "#Рассмотрим дистанцию\n",
    "print('Информация о дальности поездок с подпиской:\\n',data_ultra['distance'].describe())\n",
    "print()\n",
    "print('Информация о дальности поездок без подписки:\\n',data_free['distance'].describe())\n",
    "plt.figure(figsize =(12,6))\n",
    "plt.hist([data_free['distance'], data_ultra['distance']], bins = 100)\n",
    "plt.legend(['Без подписки', 'С подпиской'])\n",
    "plt.xlabel('Расстояние, м', size = 14)\n",
    "plt.ylabel('Количество поездок', size = 14)\n",
    "plt.title('Расстояние поездок, у пользователей с разными подписками', size = 17)\n",
    "plt.grid()\n",
    "plt.show()"
   ]
  },
  {
   "cell_type": "markdown",
   "id": "b7d1b78a",
   "metadata": {},
   "source": [
    "По данному графику можно сказать, что оба распределения имеют вид довольно близкий к нормальному, за исключением области до 1.5 км. А так, заметно, что у пользователей без подписки больший разброс по расстоянию, а у людей с подпиской более выражено среднее значение, равное чуть больше 3 км. Пользователи без подписки чаще всего проезжают от 2.5 до 3.5 км."
   ]
  },
  {
   "cell_type": "code",
   "execution_count": 18,
   "id": "ffdc6817",
   "metadata": {},
   "outputs": [
    {
     "name": "stdout",
     "output_type": "stream",
     "text": [
      "Информация о продолжительности поездок без подписки:\n",
      " count    11568.000000\n",
      "mean        17.390909\n",
      "std          6.326803\n",
      "min          0.500000\n",
      "25%         12.958437\n",
      "50%         17.326890\n",
      "75%         21.594071\n",
      "max         34.948498\n",
      "Name: duration, dtype: float64\n",
      "\n",
      "Информация о продолжительности поездок с подпиской:\n",
      " count    6500.000000\n",
      "mean       18.541985\n",
      "std         5.572048\n",
      "min         3.760353\n",
      "25%        14.524654\n",
      "50%        18.178153\n",
      "75%        21.884129\n",
      "max        40.823963\n",
      "Name: duration, dtype: float64\n"
     ]
    },
    {
     "data": {
      "image/png": "[encoded data removed]",
      "text/plain": [
       "<Figure size 864x432 with 1 Axes>"
      ]
     },
     "metadata": {
      "needs_background": "light"
     },
     "output_type": "display_data"
    }
   ],
   "source": [
    "#Теперь выведем график для продолжительности\n",
    "print('Информация о продолжительности поездок без подписки:\\n',data_free['duration'].describe())\n",
    "print()\n",
    "print('Информация о продолжительности поездок с подпиской:\\n',data_ultra['duration'].describe())\n",
    "plt.figure(figsize =(12,6))\n",
    "plt.hist([data_free['duration'], data_ultra['duration']], bins = 100)\n",
    "plt.legend(['Без подписки', 'С подпиской'])\n",
    "plt.xlabel('Продолжительность, мин', size = 14)\n",
    "plt.ylabel('Количество поездок', size = 14)\n",
    "plt.title('Продолжительность поездок, у пользователей с разными подписками', size = 17)\n",
    "plt.grid()\n",
    "plt.show()"
   ]
  },
  {
   "cell_type": "markdown",
   "id": "10c70467",
   "metadata": {},
   "source": [
    "По этому графику за исключением 1 выброса около нуля можно с уверенностью сказать что продолжительность поездок у обоих категорий распределена нормально. Очень близки показатели разброса, да и в целом, можно сказать что будь пользователей поровну, то графики наложились один на другой. Значит, продолжительность поездки не особо зависит от типа подписки\n"
   ]
  },
  {
   "cell_type": "markdown",
   "id": "402d620f",
   "metadata": {},
   "source": [
    "#### Шаг 5. Подсчёт выручки"
   ]
  },
  {
   "cell_type": "markdown",
   "id": "e9d92d21",
   "metadata": {},
   "source": [
    "##### Создадим датафрейм в котором объединим данные по пользователям"
   ]
  },
  {
   "cell_type": "code",
   "execution_count": 19,
   "id": "b6e4fda8",
   "metadata": {},
   "outputs": [],
   "source": [
    "#сперва округлим значения времени до большего целого\n",
    "data['duration'] = np.ceil(data['duration'])\n",
    "#а так же сразу поменяем тип переменных на int\n",
    "#data['duration'] = data['duration'].astype('Int64', errors = 'ignore')"
   ]
  },
  {
   "cell_type": "code",
   "execution_count": 20,
   "id": "5e7e8fbe",
   "metadata": {},
   "outputs": [
    {
     "data": {
      "text/html": [
       "<div>\n",
       "<style scoped>\n",
       "    .dataframe tbody tr th:only-of-type {\n",
       "        vertical-align: middle;\n",
       "    }\n",
       "\n",
       "    .dataframe tbody tr th {\n",
       "        vertical-align: top;\n",
       "    }\n",
       "\n",
       "    .dataframe thead th {\n",
       "        text-align: right;\n",
       "    }\n",
       "</style>\n",
       "<table border=\"1\" class=\"dataframe\">\n",
       "  <thead>\n",
       "    <tr style=\"text-align: right;\">\n",
       "      <th></th>\n",
       "      <th></th>\n",
       "      <th>duration</th>\n",
       "      <th>distance</th>\n",
       "      <th>count</th>\n",
       "    </tr>\n",
       "    <tr>\n",
       "      <th>user_id</th>\n",
       "      <th>month</th>\n",
       "      <th></th>\n",
       "      <th></th>\n",
       "      <th></th>\n",
       "    </tr>\n",
       "  </thead>\n",
       "  <tbody>\n",
       "    <tr>\n",
       "      <th rowspan=\"5\" valign=\"top\">1</th>\n",
       "      <th>1</th>\n",
       "      <td>42.0</td>\n",
       "      <td>7027.511294</td>\n",
       "      <td>2</td>\n",
       "    </tr>\n",
       "    <tr>\n",
       "      <th>4</th>\n",
       "      <td>7.0</td>\n",
       "      <td>754.159807</td>\n",
       "      <td>1</td>\n",
       "    </tr>\n",
       "    <tr>\n",
       "      <th>8</th>\n",
       "      <td>46.0</td>\n",
       "      <td>6723.470560</td>\n",
       "      <td>2</td>\n",
       "    </tr>\n",
       "    <tr>\n",
       "      <th>10</th>\n",
       "      <td>32.0</td>\n",
       "      <td>5809.911100</td>\n",
       "      <td>2</td>\n",
       "    </tr>\n",
       "    <tr>\n",
       "      <th>11</th>\n",
       "      <td>56.0</td>\n",
       "      <td>7003.499363</td>\n",
       "      <td>3</td>\n",
       "    </tr>\n",
       "    <tr>\n",
       "      <th>...</th>\n",
       "      <th>...</th>\n",
       "      <td>...</td>\n",
       "      <td>...</td>\n",
       "      <td>...</td>\n",
       "    </tr>\n",
       "    <tr>\n",
       "      <th rowspan=\"5\" valign=\"top\">1534</th>\n",
       "      <th>6</th>\n",
       "      <td>26.0</td>\n",
       "      <td>3409.468534</td>\n",
       "      <td>2</td>\n",
       "    </tr>\n",
       "    <tr>\n",
       "      <th>8</th>\n",
       "      <td>48.0</td>\n",
       "      <td>7622.453034</td>\n",
       "      <td>2</td>\n",
       "    </tr>\n",
       "    <tr>\n",
       "      <th>9</th>\n",
       "      <td>23.0</td>\n",
       "      <td>4928.173852</td>\n",
       "      <td>1</td>\n",
       "    </tr>\n",
       "    <tr>\n",
       "      <th>11</th>\n",
       "      <td>78.0</td>\n",
       "      <td>13350.015305</td>\n",
       "      <td>4</td>\n",
       "    </tr>\n",
       "    <tr>\n",
       "      <th>12</th>\n",
       "      <td>16.0</td>\n",
       "      <td>2371.711192</td>\n",
       "      <td>1</td>\n",
       "    </tr>\n",
       "  </tbody>\n",
       "</table>\n",
       "<p>11331 rows × 3 columns</p>\n",
       "</div>"
      ],
      "text/plain": [
       "               duration      distance  count\n",
       "user_id month                               \n",
       "1       1          42.0   7027.511294      2\n",
       "        4           7.0    754.159807      1\n",
       "        8          46.0   6723.470560      2\n",
       "        10         32.0   5809.911100      2\n",
       "        11         56.0   7003.499363      3\n",
       "...                 ...           ...    ...\n",
       "1534    6          26.0   3409.468534      2\n",
       "        8          48.0   7622.453034      2\n",
       "        9          23.0   4928.173852      1\n",
       "        11         78.0  13350.015305      4\n",
       "        12         16.0   2371.711192      1\n",
       "\n",
       "[11331 rows x 3 columns]"
      ]
     },
     "execution_count": 20,
     "metadata": {},
     "output_type": "execute_result"
    }
   ],
   "source": [
    "#Теперь создадим таблицу с информацией по каждому пользователю\n",
    "data_sum = data.groupby(['user_id','month'])['duration','distance'].agg(sum)\n",
    "\n",
    "data_sum['count'] = data.groupby(['user_id','month'])['duration'].agg('count')\n",
    "data_sum\n"
   ]
  },
  {
   "cell_type": "markdown",
   "id": "f531fc74",
   "metadata": {},
   "source": [
    "##### Добавление столбца с информацией о прибыли, которую принес каждый пользователь в месяц"
   ]
  },
  {
   "cell_type": "code",
   "execution_count": 21,
   "id": "c607d2a6",
   "metadata": {},
   "outputs": [
    {
     "data": {
      "text/html": [
       "<div>\n",
       "<style scoped>\n",
       "    .dataframe tbody tr th:only-of-type {\n",
       "        vertical-align: middle;\n",
       "    }\n",
       "\n",
       "    .dataframe tbody tr th {\n",
       "        vertical-align: top;\n",
       "    }\n",
       "\n",
       "    .dataframe thead th {\n",
       "        text-align: right;\n",
       "    }\n",
       "</style>\n",
       "<table border=\"1\" class=\"dataframe\">\n",
       "  <thead>\n",
       "    <tr style=\"text-align: right;\">\n",
       "      <th></th>\n",
       "      <th>user_id</th>\n",
       "      <th>duration</th>\n",
       "      <th>distance</th>\n",
       "      <th>count</th>\n",
       "      <th>minute_price</th>\n",
       "      <th>start_ride_price</th>\n",
       "      <th>subscription_fee</th>\n",
       "    </tr>\n",
       "  </thead>\n",
       "  <tbody>\n",
       "    <tr>\n",
       "      <th>0</th>\n",
       "      <td>1</td>\n",
       "      <td>42.0</td>\n",
       "      <td>7027.511294</td>\n",
       "      <td>2</td>\n",
       "      <td>6</td>\n",
       "      <td>0</td>\n",
       "      <td>199</td>\n",
       "    </tr>\n",
       "    <tr>\n",
       "      <th>1</th>\n",
       "      <td>1</td>\n",
       "      <td>7.0</td>\n",
       "      <td>754.159807</td>\n",
       "      <td>1</td>\n",
       "      <td>6</td>\n",
       "      <td>0</td>\n",
       "      <td>199</td>\n",
       "    </tr>\n",
       "    <tr>\n",
       "      <th>2</th>\n",
       "      <td>1</td>\n",
       "      <td>46.0</td>\n",
       "      <td>6723.470560</td>\n",
       "      <td>2</td>\n",
       "      <td>6</td>\n",
       "      <td>0</td>\n",
       "      <td>199</td>\n",
       "    </tr>\n",
       "    <tr>\n",
       "      <th>3</th>\n",
       "      <td>1</td>\n",
       "      <td>32.0</td>\n",
       "      <td>5809.911100</td>\n",
       "      <td>2</td>\n",
       "      <td>6</td>\n",
       "      <td>0</td>\n",
       "      <td>199</td>\n",
       "    </tr>\n",
       "    <tr>\n",
       "      <th>4</th>\n",
       "      <td>1</td>\n",
       "      <td>56.0</td>\n",
       "      <td>7003.499363</td>\n",
       "      <td>3</td>\n",
       "      <td>6</td>\n",
       "      <td>0</td>\n",
       "      <td>199</td>\n",
       "    </tr>\n",
       "    <tr>\n",
       "      <th>...</th>\n",
       "      <td>...</td>\n",
       "      <td>...</td>\n",
       "      <td>...</td>\n",
       "      <td>...</td>\n",
       "      <td>...</td>\n",
       "      <td>...</td>\n",
       "      <td>...</td>\n",
       "    </tr>\n",
       "    <tr>\n",
       "      <th>11326</th>\n",
       "      <td>1534</td>\n",
       "      <td>26.0</td>\n",
       "      <td>3409.468534</td>\n",
       "      <td>2</td>\n",
       "      <td>8</td>\n",
       "      <td>50</td>\n",
       "      <td>0</td>\n",
       "    </tr>\n",
       "    <tr>\n",
       "      <th>11327</th>\n",
       "      <td>1534</td>\n",
       "      <td>48.0</td>\n",
       "      <td>7622.453034</td>\n",
       "      <td>2</td>\n",
       "      <td>8</td>\n",
       "      <td>50</td>\n",
       "      <td>0</td>\n",
       "    </tr>\n",
       "    <tr>\n",
       "      <th>11328</th>\n",
       "      <td>1534</td>\n",
       "      <td>23.0</td>\n",
       "      <td>4928.173852</td>\n",
       "      <td>1</td>\n",
       "      <td>8</td>\n",
       "      <td>50</td>\n",
       "      <td>0</td>\n",
       "    </tr>\n",
       "    <tr>\n",
       "      <th>11329</th>\n",
       "      <td>1534</td>\n",
       "      <td>78.0</td>\n",
       "      <td>13350.015305</td>\n",
       "      <td>4</td>\n",
       "      <td>8</td>\n",
       "      <td>50</td>\n",
       "      <td>0</td>\n",
       "    </tr>\n",
       "    <tr>\n",
       "      <th>11330</th>\n",
       "      <td>1534</td>\n",
       "      <td>16.0</td>\n",
       "      <td>2371.711192</td>\n",
       "      <td>1</td>\n",
       "      <td>8</td>\n",
       "      <td>50</td>\n",
       "      <td>0</td>\n",
       "    </tr>\n",
       "  </tbody>\n",
       "</table>\n",
       "<p>11331 rows × 7 columns</p>\n",
       "</div>"
      ],
      "text/plain": [
       "       user_id  duration      distance  count  minute_price  start_ride_price  \\\n",
       "0            1      42.0   7027.511294      2             6                 0   \n",
       "1            1       7.0    754.159807      1             6                 0   \n",
       "2            1      46.0   6723.470560      2             6                 0   \n",
       "3            1      32.0   5809.911100      2             6                 0   \n",
       "4            1      56.0   7003.499363      3             6                 0   \n",
       "...        ...       ...           ...    ...           ...               ...   \n",
       "11326     1534      26.0   3409.468534      2             8                50   \n",
       "11327     1534      48.0   7622.453034      2             8                50   \n",
       "11328     1534      23.0   4928.173852      1             8                50   \n",
       "11329     1534      78.0  13350.015305      4             8                50   \n",
       "11330     1534      16.0   2371.711192      1             8                50   \n",
       "\n",
       "       subscription_fee  \n",
       "0                   199  \n",
       "1                   199  \n",
       "2                   199  \n",
       "3                   199  \n",
       "4                   199  \n",
       "...                 ...  \n",
       "11326                 0  \n",
       "11327                 0  \n",
       "11328                 0  \n",
       "11329                 0  \n",
       "11330                 0  \n",
       "\n",
       "[11331 rows x 7 columns]"
      ]
     },
     "execution_count": 21,
     "metadata": {},
     "output_type": "execute_result"
    }
   ],
   "source": [
    "#для удобства добавим в датафрейм информацию о стоимости минуты, старта и подписки\n",
    "data_sum = data_sum.merge(data[['user_id','minute_price','start_ride_price','subscription_fee']], on = 'user_id', how = 'outer').drop_duplicates().reset_index(drop = True)\n",
    "data_sum"
   ]
  },
  {
   "cell_type": "code",
   "execution_count": 22,
   "id": "20ccfbfa",
   "metadata": {},
   "outputs": [
    {
     "data": {
      "text/html": [
       "<div>\n",
       "<style scoped>\n",
       "    .dataframe tbody tr th:only-of-type {\n",
       "        vertical-align: middle;\n",
       "    }\n",
       "\n",
       "    .dataframe tbody tr th {\n",
       "        vertical-align: top;\n",
       "    }\n",
       "\n",
       "    .dataframe thead th {\n",
       "        text-align: right;\n",
       "    }\n",
       "</style>\n",
       "<table border=\"1\" class=\"dataframe\">\n",
       "  <thead>\n",
       "    <tr style=\"text-align: right;\">\n",
       "      <th></th>\n",
       "      <th>user_id</th>\n",
       "      <th>duration</th>\n",
       "      <th>distance</th>\n",
       "      <th>count</th>\n",
       "      <th>minute_price</th>\n",
       "      <th>start_ride_price</th>\n",
       "      <th>subscription_fee</th>\n",
       "      <th>revenue</th>\n",
       "    </tr>\n",
       "  </thead>\n",
       "  <tbody>\n",
       "    <tr>\n",
       "      <th>0</th>\n",
       "      <td>1</td>\n",
       "      <td>42.0</td>\n",
       "      <td>7027.511294</td>\n",
       "      <td>2</td>\n",
       "      <td>6</td>\n",
       "      <td>0</td>\n",
       "      <td>199</td>\n",
       "      <td>451.0</td>\n",
       "    </tr>\n",
       "    <tr>\n",
       "      <th>1</th>\n",
       "      <td>1</td>\n",
       "      <td>7.0</td>\n",
       "      <td>754.159807</td>\n",
       "      <td>1</td>\n",
       "      <td>6</td>\n",
       "      <td>0</td>\n",
       "      <td>199</td>\n",
       "      <td>241.0</td>\n",
       "    </tr>\n",
       "    <tr>\n",
       "      <th>2</th>\n",
       "      <td>1</td>\n",
       "      <td>46.0</td>\n",
       "      <td>6723.470560</td>\n",
       "      <td>2</td>\n",
       "      <td>6</td>\n",
       "      <td>0</td>\n",
       "      <td>199</td>\n",
       "      <td>475.0</td>\n",
       "    </tr>\n",
       "    <tr>\n",
       "      <th>3</th>\n",
       "      <td>1</td>\n",
       "      <td>32.0</td>\n",
       "      <td>5809.911100</td>\n",
       "      <td>2</td>\n",
       "      <td>6</td>\n",
       "      <td>0</td>\n",
       "      <td>199</td>\n",
       "      <td>391.0</td>\n",
       "    </tr>\n",
       "    <tr>\n",
       "      <th>4</th>\n",
       "      <td>1</td>\n",
       "      <td>56.0</td>\n",
       "      <td>7003.499363</td>\n",
       "      <td>3</td>\n",
       "      <td>6</td>\n",
       "      <td>0</td>\n",
       "      <td>199</td>\n",
       "      <td>535.0</td>\n",
       "    </tr>\n",
       "    <tr>\n",
       "      <th>...</th>\n",
       "      <td>...</td>\n",
       "      <td>...</td>\n",
       "      <td>...</td>\n",
       "      <td>...</td>\n",
       "      <td>...</td>\n",
       "      <td>...</td>\n",
       "      <td>...</td>\n",
       "      <td>...</td>\n",
       "    </tr>\n",
       "    <tr>\n",
       "      <th>11326</th>\n",
       "      <td>1534</td>\n",
       "      <td>26.0</td>\n",
       "      <td>3409.468534</td>\n",
       "      <td>2</td>\n",
       "      <td>8</td>\n",
       "      <td>50</td>\n",
       "      <td>0</td>\n",
       "      <td>308.0</td>\n",
       "    </tr>\n",
       "    <tr>\n",
       "      <th>11327</th>\n",
       "      <td>1534</td>\n",
       "      <td>48.0</td>\n",
       "      <td>7622.453034</td>\n",
       "      <td>2</td>\n",
       "      <td>8</td>\n",
       "      <td>50</td>\n",
       "      <td>0</td>\n",
       "      <td>484.0</td>\n",
       "    </tr>\n",
       "    <tr>\n",
       "      <th>11328</th>\n",
       "      <td>1534</td>\n",
       "      <td>23.0</td>\n",
       "      <td>4928.173852</td>\n",
       "      <td>1</td>\n",
       "      <td>8</td>\n",
       "      <td>50</td>\n",
       "      <td>0</td>\n",
       "      <td>234.0</td>\n",
       "    </tr>\n",
       "    <tr>\n",
       "      <th>11329</th>\n",
       "      <td>1534</td>\n",
       "      <td>78.0</td>\n",
       "      <td>13350.015305</td>\n",
       "      <td>4</td>\n",
       "      <td>8</td>\n",
       "      <td>50</td>\n",
       "      <td>0</td>\n",
       "      <td>824.0</td>\n",
       "    </tr>\n",
       "    <tr>\n",
       "      <th>11330</th>\n",
       "      <td>1534</td>\n",
       "      <td>16.0</td>\n",
       "      <td>2371.711192</td>\n",
       "      <td>1</td>\n",
       "      <td>8</td>\n",
       "      <td>50</td>\n",
       "      <td>0</td>\n",
       "      <td>178.0</td>\n",
       "    </tr>\n",
       "  </tbody>\n",
       "</table>\n",
       "<p>11331 rows × 8 columns</p>\n",
       "</div>"
      ],
      "text/plain": [
       "       user_id  duration      distance  count  minute_price  start_ride_price  \\\n",
       "0            1      42.0   7027.511294      2             6                 0   \n",
       "1            1       7.0    754.159807      1             6                 0   \n",
       "2            1      46.0   6723.470560      2             6                 0   \n",
       "3            1      32.0   5809.911100      2             6                 0   \n",
       "4            1      56.0   7003.499363      3             6                 0   \n",
       "...        ...       ...           ...    ...           ...               ...   \n",
       "11326     1534      26.0   3409.468534      2             8                50   \n",
       "11327     1534      48.0   7622.453034      2             8                50   \n",
       "11328     1534      23.0   4928.173852      1             8                50   \n",
       "11329     1534      78.0  13350.015305      4             8                50   \n",
       "11330     1534      16.0   2371.711192      1             8                50   \n",
       "\n",
       "       subscription_fee  revenue  \n",
       "0                   199    451.0  \n",
       "1                   199    241.0  \n",
       "2                   199    475.0  \n",
       "3                   199    391.0  \n",
       "4                   199    535.0  \n",
       "...                 ...      ...  \n",
       "11326                 0    308.0  \n",
       "11327                 0    484.0  \n",
       "11328                 0    234.0  \n",
       "11329                 0    824.0  \n",
       "11330                 0    178.0  \n",
       "\n",
       "[11331 rows x 8 columns]"
      ]
     },
     "execution_count": 22,
     "metadata": {},
     "output_type": "execute_result"
    }
   ],
   "source": [
    "#добавление колонки с помесячной выручкой\n",
    "data_sum['revenue'] = data_sum['start_ride_price']*data_sum['count']+data_sum['minute_price']*data_sum['duration']+data_sum['subscription_fee']\n",
    "data_sum"
   ]
  },
  {
   "cell_type": "markdown",
   "id": "c3bd9055",
   "metadata": {},
   "source": [
    "Мы получили таблицу, в которой есть колонка, отображающая помесячную выручку от каждого пользователя. Теперь мы можем визуализировать эти данные и посмотреть, как влияет тип подписки на то, сколько пользователи тратят денег."
   ]
  },
  {
   "cell_type": "code",
   "execution_count": 23,
   "id": "5abfbc9e",
   "metadata": {},
   "outputs": [
    {
     "name": "stdout",
     "output_type": "stream",
     "text": [
      "Информация о прибыли в месяц без подписки:\n",
      " count    6798.000000\n",
      "mean      328.641365\n",
      "std       183.868330\n",
      "min        58.000000\n",
      "25%       194.000000\n",
      "50%       274.000000\n",
      "75%       428.000000\n",
      "max      1444.000000\n",
      "Name: revenue, dtype: float64\n",
      "\n",
      "Информация о прибыли в месяц с подпиской:\n",
      " count    4533.000000\n",
      "mean      362.792191\n",
      "std        88.262737\n",
      "min       223.000000\n",
      "25%       301.000000\n",
      "50%       337.000000\n",
      "75%       409.000000\n",
      "max       955.000000\n",
      "Name: revenue, dtype: float64\n"
     ]
    },
    {
     "data": {
      "image/png": "[encoded data removed]",
      "text/plain": [
       "<Figure size 864x432 with 1 Axes>"
      ]
     },
     "metadata": {
      "needs_background": "light"
     },
     "output_type": "display_data"
    }
   ],
   "source": [
    "#для того чтобы визуализировать данные я снова создам 2 датафрейма для пользователей с подпиской и без\n",
    "data_free2 = data_sum.query('start_ride_price == 50').reset_index(drop = True)\n",
    "data_ultra2 = data_sum.query('start_ride_price == 0').reset_index(drop = True)\n",
    "print('Информация о прибыли в месяц без подписки:\\n',data_free2['revenue'].describe())\n",
    "print()\n",
    "print('Информация о прибыли в месяц с подпиской:\\n',data_ultra2['revenue'].describe())\n",
    "plt.figure(figsize =(12,6))\n",
    "plt.hist([data_free2['revenue'], data_ultra2['revenue']], bins = 100)\n",
    "plt.legend(['Без подписки', 'С подпиской'])\n",
    "plt.xlabel('Прибыль от пользователя', size = 14)\n",
    "plt.ylabel('Количество поездок', size = 14)\n",
    "plt.title('Ежемесячная траты пользователей с разными подписками', size = 17)\n",
    "plt.grid()\n",
    "plt.show()"
   ]
  },
  {
   "cell_type": "markdown",
   "id": "842c260b",
   "metadata": {},
   "source": [
    "На этом графике наглядно видно, что распределения имеют похожий вид, но пиковые значения графика пользователей с подпиской смещены в право. Это значит, что основная часть людей, у которых есть подписка, тратят в месяц больше, чем те, у кого подписки нет. Если взглянуть на значение среднего, то оно тоже больше у пользователей с подпиской, хоть и не на много."
   ]
  },
  {
   "cell_type": "markdown",
   "id": "41545ac0",
   "metadata": {},
   "source": [
    "#### Шаг 6. Проверка гипотез"
   ]
  },
  {
   "cell_type": "markdown",
   "id": "6440f76b",
   "metadata": {},
   "source": [
    "##### Проверка гипотезы о том, что пользователи с подпиской тратят больше времени на поездки"
   ]
  },
  {
   "cell_type": "markdown",
   "id": "c662c684",
   "metadata": {},
   "source": [
    "За нулевую гипотезу возьмем утверждение, что среднее время поездки пользователей с обоими типов подписки равны между собой.<br/>\n",
    "Альтернативная гипотеза будет звучать так: среднее время у пользователей с подпиской больше чем среднее время пользователей на бесплатном тарифе."
   ]
  },
  {
   "cell_type": "code",
   "execution_count": 24,
   "id": "bb269ab4",
   "metadata": {},
   "outputs": [
    {
     "name": "stdout",
     "output_type": "stream",
     "text": [
      "p-значение: 5.6757813771289775e-37\n",
      "Отвергаем нулевую гипотезу\n"
     ]
    }
   ],
   "source": [
    "alpha = 0.05\n",
    "results = st.ttest_ind(data_ultra['duration'], data_free['duration'], equal_var = False, alternative = 'greater')\n",
    "print('p-значение:', results.pvalue)\n",
    "if results.pvalue < alpha:\n",
    "    print('Отвергаем нулевую гипотезу')\n",
    "else:\n",
    "    print('Не получилось отвергнуть нулевую гипотезу')"
   ]
  },
  {
   "cell_type": "markdown",
   "id": "d66a9393",
   "metadata": {},
   "source": [
    "В данном пункте мы проверяли гипотезу о равенстве средних при помощи t-теста, в котором играет значение, равны ли дисперсии обоих выборок между собой или нет. Так как исследуемые выборки разного размера, как мы это выяснили ранее, то есть основания полагать что дисперсии скорее всего разные. Поэтому аргумент в equal_var выставлен как False."
   ]
  },
  {
   "cell_type": "markdown",
   "id": "92d35265",
   "metadata": {},
   "source": [
    "Нулевая гипотеза отвергнута, а это значит, что скорее всего альтернативная гипотезу, говорящая о том что пользователи с подпиской тратят больше времени на поездку мы примем как наиболее вероятную."
   ]
  },
  {
   "cell_type": "markdown",
   "id": "c20e03b9",
   "metadata": {},
   "source": [
    "##### Проверка гипотезы о том, что среднее расстояние поездки пользователя с подпиской не превышает 3130м"
   ]
  },
  {
   "cell_type": "markdown",
   "id": "7a3ad9b3",
   "metadata": {},
   "source": [
    "Нулевая гипотеза звучит так: Среднее расстояние, проезжаемое пользователем с подпиской ultra за один сеанс **равно** 3130м.<br/>\n",
    "Альтернаятивная гипотеза: Среднее расстояние, проезжаемое пользователем с подпиской ultra за один сеанс **меньше** 3130м\n"
   ]
  },
  {
   "cell_type": "code",
   "execution_count": 25,
   "id": "81d2d243",
   "metadata": {},
   "outputs": [
    {
     "name": "stdout",
     "output_type": "stream",
     "text": [
      "p-значение: 0.08046311521502146\n",
      "Не получилось отвергнуть нулевую гипотезу\n"
     ]
    }
   ],
   "source": [
    "interested_value = 3130 \n",
    "\n",
    "results2 = st.ttest_1samp(data_ultra['distance'], interested_value, alternative = 'less')\n",
    "print('p-значение:', results2.pvalue)\n",
    "\n",
    "if results2.pvalue < alpha:\n",
    "    print('Отвергаем нулевую гипотезу')\n",
    "else:\n",
    "    print('Не получилось отвергнуть нулевую гипотезу')"
   ]
  },
  {
   "cell_type": "markdown",
   "id": "95d8a96c",
   "metadata": {},
   "source": [
    "Мы не смогли отвергнуть нулевую гипотезу, так как вероятность получить в среднем значении искомые 3130м - слишком велико. Мы не можем утверждать, что это неправда. Хочется в ручную проверить среднее значение и удостовериться в результате"
   ]
  },
  {
   "cell_type": "code",
   "execution_count": 26,
   "id": "884baff6",
   "metadata": {},
   "outputs": [
    {
     "name": "stdout",
     "output_type": "stream",
     "text": [
      "Среднее значение равно: 3115.4453880370247\n",
      "Медианное значение равно: 3148.6372291760854\n"
     ]
    }
   ],
   "source": [
    "print('Среднее значение равно:', data_ultra['distance'].mean())\n",
    "print('Медианное значение равно:', data_ultra['distance'].median())"
   ]
  },
  {
   "cell_type": "markdown",
   "id": "c3aec125",
   "metadata": {},
   "source": [
    "Мы действительно получили среднее значение очень близкое к 3130м, а медианное вообще больше этого значения. Значит мы действительно не можем опровергнуть гипотезу о том, что Среднее не равно 3130м. Будем считать, что так оно и есть. <br/>\n",
    "В таком случае, можно сделать выводы, что расстояние, которое проезжают пользователи с подпиской, находится на грани оптимального расстояния. "
   ]
  },
  {
   "cell_type": "markdown",
   "id": "94b05b7f",
   "metadata": {},
   "source": [
    "##### Проверка гипотезы о том, что помесячная выручка от пользователей с подпиской по месяцам выше, чем выручка от пользователей без подписки."
   ]
  },
  {
   "cell_type": "markdown",
   "id": "252b295c",
   "metadata": {},
   "source": [
    "Нулевая гипотеза будет звучать так: Средняя помесячная выручка у пользователей с подпиской и без равны. <br/>\n",
    "Альтернативная: помесячная выручка от пользователей с подпиской по месяцам выше, чем выручка от пользователей без подписки"
   ]
  },
  {
   "cell_type": "code",
   "execution_count": 27,
   "id": "5823205e",
   "metadata": {
    "scrolled": true
   },
   "outputs": [
    {
     "name": "stdout",
     "output_type": "stream",
     "text": [
      "p-значение: 8.874140893976874e-40\n",
      "Отвергаем нулевую гипотезу\n"
     ]
    }
   ],
   "source": [
    "results3 = st.ttest_ind(data_ultra2['revenue'], data_free2['revenue'], equal_var = False, alternative = 'greater')\n",
    "print('p-значение:', results3.pvalue)\n",
    "if results3.pvalue < alpha:\n",
    "    print('Отвергаем нулевую гипотезу')\n",
    "else:\n",
    "    print('Не получилось отвергнуть нулевую гипотезу')"
   ]
  },
  {
   "cell_type": "markdown",
   "id": "c7faca74",
   "metadata": {},
   "source": [
    "В данном пункте мы проверяли гипотезу о равенстве средних при помощи t-теста, в котором играет значение, равны ли дисперсии обоих выборок между собой или нет. Так как исследуемые выборки разного размера, как мы это выяснили ранее, то есть основания полагать что дисперсии скорее всего разные. Поэтому аргумент в equal_var выставлен как False."
   ]
  },
  {
   "cell_type": "markdown",
   "id": "d31bc339",
   "metadata": {},
   "source": [
    "Мы получили такое p-значение, что нулевая гипотеза точно отвергается. Выведем значения средних и сравним их"
   ]
  },
  {
   "cell_type": "code",
   "execution_count": 28,
   "id": "d8aed26f",
   "metadata": {},
   "outputs": [
    {
     "name": "stdout",
     "output_type": "stream",
     "text": [
      "Среднее значение ежемесячной выручки с подпиской: 362.7921906022502\n",
      "Среднее значение ежемесячной выручки без подписки: 328.6413651073845\n"
     ]
    }
   ],
   "source": [
    "print('Среднее значение ежемесячной выручки с подпиской:', data_ultra2['revenue'].mean())\n",
    "print('Среднее значение ежемесячной выручки без подписки:', data_free2['revenue'].mean())"
   ]
  },
  {
   "cell_type": "markdown",
   "id": "66d86c01",
   "metadata": {},
   "source": [
    "Теперь мы точно можем сделать выводы, что пользователи с подпиской приносят ежемесячно больше денег компании, чем без нее. Получается действительно, привлекать пользователей на покупку подписки это очень выгодное дело для прибыли компании."
   ]
  },
  {
   "cell_type": "markdown",
   "id": "be13d504",
   "metadata": {},
   "source": [
    "##### Подбор теста для проверки гипотезы о количестве обращений в поддержку"
   ]
  },
  {
   "cell_type": "markdown",
   "id": "486411ef",
   "metadata": {},
   "source": [
    "В задании сказано, что надо проверить гипотезу, в которой будут сравниваться значения из 2 файлов, в которых есть данные для **каждого** пользователя о количестве сообщений до и после обновления сервера. Так как список пользователей остается одним и тем же, то можно сделать вывод что мы будем иметь дело с двумя **зависимыми** выборками, с одинаковым количеством записей. В таком случае будем использовать метод scipy.stats.ttest_rel. <br/>\n",
    "Гипотеза будет являться **односторонней**, потому что нас интересует сдвиг значений именно в меньшую сторону."
   ]
  },
  {
   "cell_type": "markdown",
   "id": "61213c5e",
   "metadata": {},
   "source": [
    "#### Шаг 7. Распределения"
   ]
  },
  {
   "cell_type": "markdown",
   "id": "bc391efd",
   "metadata": {},
   "source": [
    "##### Задача 1"
   ]
  },
  {
   "cell_type": "code",
   "execution_count": 29,
   "id": "043732ba",
   "metadata": {},
   "outputs": [
    {
     "name": "stdout",
     "output_type": "stream",
     "text": [
      "Вероятность получить менее 100 подписок: 0.5265990812951653\n"
     ]
    }
   ],
   "source": [
    "#тут мы укажем искомое количество промокодов\n",
    "n = 1000\n",
    "p = 0.1 #вероятность удачного события\n",
    "\n",
    "result2 = binom.cdf(100, n, p)\n",
    "print('Вероятность получить менее 100 подписок:',result2)"
   ]
  },
  {
   "cell_type": "markdown",
   "id": "65887b6d",
   "metadata": {},
   "source": [
    "При прочтении условия задания, самый очевидный ответ напрашивается - взять 1000 промокодов, ведь 10% от 1000 это и есть 100. Но как оказалось, у нас есть 50% вероятность попасть в промежуток меньше 100. А нам нужно добиться такого значения, чтобы этот процент был равен 5."
   ]
  },
  {
   "cell_type": "code",
   "execution_count": 30,
   "id": "237a55fe",
   "metadata": {},
   "outputs": [
    {
     "name": "stdout",
     "output_type": "stream",
     "text": [
      "Полученная вероятность получить значение меньше данного: 0.04971489312694162\n",
      "\n",
      "Сколько промокодов надо отправить: 1169\n"
     ]
    }
   ],
   "source": [
    "#создадим цикл, который будет перебирать значения n, пока не получит искомый процент неудач:\n",
    "\n",
    "for i in range (0, 1000):\n",
    "    n = 1000 + i\n",
    "    mu = n*p #мат ожидание биномального распределения\n",
    "    sigma = (n*p*(1-p))**0.5 #стандартное отклонение\n",
    "    distr = st.norm(mu, sigma)\n",
    "    if distr.cdf(100) < 0.05:\n",
    "        print('Полученная вероятность получить значение меньше данного:', distr.cdf(100))\n",
    "        print()\n",
    "        print('Сколько промокодов надо отправить:', n)\n",
    "        break"
   ]
  },
  {
   "cell_type": "code",
   "execution_count": 31,
   "id": "ccec45f9",
   "metadata": {},
   "outputs": [
    {
     "data": {
      "image/png": "[encoded data removed]",
      "text/plain": [
       "<Figure size 864x648 with 1 Axes>"
      ]
     },
     "metadata": {
      "needs_background": "light"
     },
     "output_type": "display_data"
    }
   ],
   "source": [
    "#Визуализируем полученную вероятность получить какое либо число от 1 до 1169 при нашей вероятности успеха в 10%\n",
    "n2 = 1169 # количество попыток\n",
    "p = 0.1 # вероятность успеха\n",
    "\n",
    "distr = []\n",
    "\n",
    "for k in range(0, n2 + 1):\n",
    "    current_value = binom.pmf(k, n2, p)\n",
    "    distr.append(current_value)\n",
    "    \n",
    "plt.figure(figsize = (12,9))    \n",
    "plt.bar(range(0, n2 + 1), distr)\n",
    "plt.title('Вероятность для каждого числа от до полученного n')\n",
    "plt.xlabel('Число')\n",
    "plt.ylabel('Вероятность')\n",
    "plt.show()"
   ]
  },
  {
   "cell_type": "markdown",
   "id": "268dfeb1",
   "metadata": {},
   "source": [
    "По графику который мы получили видно, что большинство значений находятся правее чем 100, и это как раз выглядит как то, что слева остается 5%."
   ]
  },
  {
   "cell_type": "markdown",
   "id": "1ce1c2fe",
   "metadata": {},
   "source": [
    "Мы автоматизировали способ подбора промокодов, и подсчитали количество промокодов, при котором мы с вероятностью 95% получим 100 оплаченных подписок после конца акции. <br/>\n",
    "**Итог:** Нужно выдать 1169 промокодов."
   ]
  },
  {
   "cell_type": "markdown",
   "id": "fe937a44",
   "metadata": {},
   "source": [
    "##### Задача 2"
   ]
  },
  {
   "cell_type": "markdown",
   "id": "d5efd241",
   "metadata": {},
   "source": [
    "В данной задаче от нас требуется построить примерный график распределения вероятностей с помощью аппроксимации. <br/>\n",
    "Мы будем аппроксимировать с помощью нормального распределения"
   ]
  },
  {
   "cell_type": "code",
   "execution_count": 32,
   "id": "55e58313",
   "metadata": {},
   "outputs": [
    {
     "data": {
      "image/png": "[encoded data removed]",
      "text/plain": [
       "<Figure size 864x648 with 1 Axes>"
      ]
     },
     "metadata": {
      "needs_background": "light"
     },
     "output_type": "display_data"
    }
   ],
   "source": [
    "nn = 1000\n",
    "pp = 0.4\n",
    "\n",
    "row = []\n",
    "for k in range(0, nn + 1):\n",
    "    current_value = binom.pmf(k, nn, pp)\n",
    "    row.append(current_value)\n",
    "    \n",
    "plt.figure(figsize = (12,9))    \n",
    "plt.bar(range(0, nn + 1), row)\n",
    "plt.title('Вероятность для каждого числа от до полученного n')\n",
    "plt.xlabel('Количество уведомлений, тыс.')\n",
    "plt.ylabel('Вероятность')\n",
    "plt.show() "
   ]
  },
  {
   "cell_type": "markdown",
   "id": "a1d94406",
   "metadata": {},
   "source": [
    "На графике мы видим нормальное распределение, с пиком в 400 тысячах, что ожидаемо.Значит график верный. <br/>\n",
    "Оценивать вероятность того, что уведомление откроют не более 399,5 тыс человек мы будем при помощи функции cdf"
   ]
  },
  {
   "cell_type": "code",
   "execution_count": 33,
   "id": "21642343",
   "metadata": {},
   "outputs": [
    {
     "name": "stdout",
     "output_type": "stream",
     "text": [
      "Вероятность получить не более 399.5 тыс. открытых уведомлений: 0.4879850394856607\n"
     ]
    }
   ],
   "source": [
    "result2 = binom.cdf(399.5,nn,pp)\n",
    "print('Вероятность получить не более 399.5 тыс. открытых уведомлений:',result2)"
   ]
  },
  {
   "cell_type": "markdown",
   "id": "f50a801b",
   "metadata": {},
   "source": [
    "Получается, вероятность того, что уведомление откроют не более 399.5 тыс. человек равна почти 48.8%"
   ]
  },
  {
   "cell_type": "markdown",
   "id": "ea3091de",
   "metadata": {},
   "source": [
    "#### Вывод"
   ]
  },
  {
   "cell_type": "markdown",
   "id": "b56feedd",
   "metadata": {},
   "source": [
    "\n",
    "Мы исследовали полученный датафрейм с данными о пользователях сервиса аренды самокатов GoFast из разных городов и сделали выводы насчет выгодности разных подписок, и можем составить портрет типичного пользователя. <br/><br/>\n",
    "**Исходные данные**<br/><br/>\n",
    "В данных не было пропусков, но встретилось несколько абсолютных дубликатов. Их количество было небольшим, и оно бы не сильно повлияло на дальнейшее исследование, поэтому было решено их просто удалить.<br/>\n",
    "Также, для более удобного анализа мы объединили все три датафрейма в один общий, в котором получилась собрана абсолютна вся информация по каждой поездке, и сразу видно сколько она длилась, данные о пользователе и данные о тарифе, по которому она совершалась<br/><br/>\n",
    "**Портрет среднестатистического пользователя**<br/><br/>\n",
    "Больше всего данных у нас из городов Пятигорск, Екатеринбург и Ростов-на-дону.<br/>\n",
    "Большая часть пользователей пользуется подпиской free<br/>\n",
    "Средний возраст пользователя -  25 лет<br/>\n",
    "Среднее расстояние за 1 поездку - 3.3км<br/>\n",
    "Среднее время сеанса - 17 минут<br/>\n",
    "<br/><br/>\n",
    "**Выводы о прибыльности каждой из подписок**<br/><br/>\n",
    "Человек с подпиской ultra ежемесячно приносит больше денег компании, чем пользователь который использует free подписку.<br/>\n",
    "Продолжительность и дистанция маршрута не сильно зависит от типа подписки, но с небольшим отрывом показатели выше у пользователей с подпиской ultra.<br/>\n",
    "Среднее значение ежемесячной выручки с подпиской: 362.8, а без подписки: 328.6. Получается, компании выгоднее проводить различные акции, которые в будущем увеличат количество пользователей которые купят подписку ultra.\n"
   ]
  }
 ],
 "metadata": {
  "ExecuteTimeLog": [
   {
    "duration": 366,
    "start_time": "2024-03-13T13:13:52.672Z"
   },
   {
    "duration": 198,
    "start_time": "2024-03-13T13:13:53.388Z"
   },
   {
    "duration": 78,
    "start_time": "2024-03-13T13:14:07.013Z"
   },
   {
    "duration": 74,
    "start_time": "2024-03-13T13:14:13.838Z"
   },
   {
    "duration": 72,
    "start_time": "2024-03-13T13:14:18.827Z"
   },
   {
    "duration": 70,
    "start_time": "2024-03-13T13:14:33.462Z"
   },
   {
    "duration": 72,
    "start_time": "2024-03-13T13:14:48.201Z"
   },
   {
    "duration": 24,
    "start_time": "2024-03-13T13:17:29.302Z"
   },
   {
    "duration": 2,
    "start_time": "2024-03-13T13:21:09.436Z"
   },
   {
    "duration": 525,
    "start_time": "2024-03-13T13:21:41.625Z"
   },
   {
    "duration": 17,
    "start_time": "2024-03-13T13:25:21.753Z"
   },
   {
    "duration": 7,
    "start_time": "2024-03-13T13:27:46.464Z"
   },
   {
    "duration": 5,
    "start_time": "2024-03-13T13:27:50.984Z"
   },
   {
    "duration": 6,
    "start_time": "2024-03-13T13:28:11.775Z"
   },
   {
    "duration": 18,
    "start_time": "2024-03-13T13:31:03.504Z"
   },
   {
    "duration": 5,
    "start_time": "2024-03-13T13:31:09.689Z"
   },
   {
    "duration": 10,
    "start_time": "2024-03-13T13:31:13.016Z"
   },
   {
    "duration": 12,
    "start_time": "2024-03-13T13:32:03.517Z"
   },
   {
    "duration": 17,
    "start_time": "2024-03-13T13:33:59.440Z"
   },
   {
    "duration": 7,
    "start_time": "2024-03-13T13:34:16.947Z"
   },
   {
    "duration": 7,
    "start_time": "2024-03-13T13:34:24.965Z"
   },
   {
    "duration": 80,
    "start_time": "2024-03-13T13:34:33.734Z"
   },
   {
    "duration": 13,
    "start_time": "2024-03-13T13:34:45.862Z"
   },
   {
    "duration": 75,
    "start_time": "2024-03-13T13:34:50.146Z"
   },
   {
    "duration": 27,
    "start_time": "2024-03-13T13:34:50.665Z"
   },
   {
    "duration": 18,
    "start_time": "2024-03-13T13:34:52.112Z"
   },
   {
    "duration": 4,
    "start_time": "2024-03-13T13:34:52.483Z"
   },
   {
    "duration": 10,
    "start_time": "2024-03-13T13:34:52.874Z"
   },
   {
    "duration": 8,
    "start_time": "2024-03-13T13:34:54.227Z"
   },
   {
    "duration": 8,
    "start_time": "2024-03-13T13:35:38.056Z"
   },
   {
    "duration": 74,
    "start_time": "2024-03-13T13:36:25.509Z"
   },
   {
    "duration": 11,
    "start_time": "2024-03-13T14:21:53.120Z"
   },
   {
    "duration": 8,
    "start_time": "2024-03-13T14:22:13.596Z"
   },
   {
    "duration": 6,
    "start_time": "2024-03-13T14:22:24.261Z"
   },
   {
    "duration": 6,
    "start_time": "2024-03-13T14:22:46.495Z"
   },
   {
    "duration": 165,
    "start_time": "2024-03-13T14:23:03.625Z"
   },
   {
    "duration": 6,
    "start_time": "2024-03-13T14:23:11.915Z"
   },
   {
    "duration": 104,
    "start_time": "2024-03-13T14:33:53.986Z"
   },
   {
    "duration": 112,
    "start_time": "2024-03-13T14:34:06.951Z"
   },
   {
    "duration": 52,
    "start_time": "2024-03-13T22:49:35.512Z"
   },
   {
    "duration": 919,
    "start_time": "2024-03-13T22:49:41.663Z"
   },
   {
    "duration": 203,
    "start_time": "2024-03-13T22:49:42.584Z"
   },
   {
    "duration": 24,
    "start_time": "2024-03-13T22:49:42.789Z"
   },
   {
    "duration": 21,
    "start_time": "2024-03-13T22:49:43.161Z"
   },
   {
    "duration": 5,
    "start_time": "2024-03-13T22:49:43.464Z"
   },
   {
    "duration": 11,
    "start_time": "2024-03-13T22:49:43.818Z"
   },
   {
    "duration": 10,
    "start_time": "2024-03-13T22:49:44.551Z"
   },
   {
    "duration": 153,
    "start_time": "2024-03-13T22:49:45.977Z"
   },
   {
    "duration": 228,
    "start_time": "2024-03-13T22:51:52.025Z"
   },
   {
    "duration": 45,
    "start_time": "2024-03-13T22:52:11.720Z"
   },
   {
    "duration": 244,
    "start_time": "2024-03-13T22:52:16.136Z"
   },
   {
    "duration": 286,
    "start_time": "2024-03-13T22:52:25.149Z"
   },
   {
    "duration": 7,
    "start_time": "2024-03-13T22:53:00.030Z"
   },
   {
    "duration": 10,
    "start_time": "2024-03-13T22:56:40.912Z"
   },
   {
    "duration": 1151,
    "start_time": "2024-03-13T22:57:04.639Z"
   },
   {
    "duration": 15,
    "start_time": "2024-03-13T22:57:12.633Z"
   },
   {
    "duration": 14,
    "start_time": "2024-03-13T22:57:15.591Z"
   },
   {
    "duration": 4,
    "start_time": "2024-03-13T22:57:28.807Z"
   },
   {
    "duration": 11,
    "start_time": "2024-03-13T22:58:24.213Z"
   },
   {
    "duration": 13,
    "start_time": "2024-03-13T22:58:39.919Z"
   },
   {
    "duration": 69,
    "start_time": "2024-03-13T22:59:12.247Z"
   },
   {
    "duration": 81,
    "start_time": "2024-03-13T22:59:23.677Z"
   },
   {
    "duration": 81,
    "start_time": "2024-03-13T23:00:01.193Z"
   },
   {
    "duration": 233,
    "start_time": "2024-03-13T23:02:26.389Z"
   },
   {
    "duration": 232,
    "start_time": "2024-03-13T23:02:38.769Z"
   },
   {
    "duration": 130,
    "start_time": "2024-03-13T23:03:02.419Z"
   },
   {
    "duration": 247,
    "start_time": "2024-03-13T23:03:07.750Z"
   },
   {
    "duration": 257,
    "start_time": "2024-03-13T23:03:20.938Z"
   },
   {
    "duration": 274,
    "start_time": "2024-03-13T23:03:25.871Z"
   },
   {
    "duration": 196,
    "start_time": "2024-03-13T23:03:31.917Z"
   },
   {
    "duration": 197,
    "start_time": "2024-03-13T23:03:48.153Z"
   },
   {
    "duration": 198,
    "start_time": "2024-03-13T23:04:19.111Z"
   },
   {
    "duration": 200,
    "start_time": "2024-03-13T23:04:57.335Z"
   },
   {
    "duration": 211,
    "start_time": "2024-03-13T23:05:06.095Z"
   },
   {
    "duration": 206,
    "start_time": "2024-03-13T23:05:14.156Z"
   },
   {
    "duration": 207,
    "start_time": "2024-03-13T23:05:19.823Z"
   },
   {
    "duration": 201,
    "start_time": "2024-03-13T23:06:31.578Z"
   },
   {
    "duration": 214,
    "start_time": "2024-03-13T23:07:07.916Z"
   },
   {
    "duration": 237,
    "start_time": "2024-03-13T23:10:41.461Z"
   },
   {
    "duration": 320,
    "start_time": "2024-03-13T23:11:09.249Z"
   },
   {
    "duration": 259,
    "start_time": "2024-03-13T23:12:23.016Z"
   },
   {
    "duration": 226,
    "start_time": "2024-03-13T23:16:12.044Z"
   },
   {
    "duration": 230,
    "start_time": "2024-03-13T23:16:50.573Z"
   },
   {
    "duration": 239,
    "start_time": "2024-03-13T23:19:09.096Z"
   },
   {
    "duration": 240,
    "start_time": "2024-03-13T23:20:10.602Z"
   },
   {
    "duration": 89,
    "start_time": "2024-03-13T23:21:20.192Z"
   },
   {
    "duration": 47,
    "start_time": "2024-03-14T08:47:51.564Z"
   },
   {
    "duration": 757,
    "start_time": "2024-03-14T08:47:56.311Z"
   },
   {
    "duration": 210,
    "start_time": "2024-03-14T08:47:57.070Z"
   },
   {
    "duration": 23,
    "start_time": "2024-03-14T08:47:57.282Z"
   },
   {
    "duration": 13,
    "start_time": "2024-03-14T08:47:57.342Z"
   },
   {
    "duration": 5,
    "start_time": "2024-03-14T08:47:57.529Z"
   },
   {
    "duration": 10,
    "start_time": "2024-03-14T08:47:57.663Z"
   },
   {
    "duration": 9,
    "start_time": "2024-03-14T08:47:58.034Z"
   },
   {
    "duration": 7,
    "start_time": "2024-03-14T08:47:59.065Z"
   },
   {
    "duration": 225,
    "start_time": "2024-03-14T08:47:59.468Z"
   },
   {
    "duration": 80,
    "start_time": "2024-03-14T08:48:00.162Z"
   },
   {
    "duration": 194,
    "start_time": "2024-03-14T08:48:00.883Z"
   },
   {
    "duration": 200,
    "start_time": "2024-03-14T08:48:01.646Z"
   },
   {
    "duration": 252,
    "start_time": "2024-03-14T08:48:02.618Z"
   },
   {
    "duration": 43,
    "start_time": "2024-03-14T08:48:04.775Z"
   },
   {
    "duration": 9,
    "start_time": "2024-03-14T08:48:17.644Z"
   },
   {
    "duration": 16,
    "start_time": "2024-03-14T08:48:23.695Z"
   },
   {
    "duration": 23,
    "start_time": "2024-03-14T08:50:30.735Z"
   },
   {
    "duration": 19,
    "start_time": "2024-03-14T08:50:49.708Z"
   },
   {
    "duration": 19,
    "start_time": "2024-03-14T08:50:54.113Z"
   },
   {
    "duration": 11,
    "start_time": "2024-03-14T08:56:13.868Z"
   },
   {
    "duration": 13,
    "start_time": "2024-03-14T08:56:20.263Z"
   },
   {
    "duration": 8,
    "start_time": "2024-03-14T08:56:50.910Z"
   },
   {
    "duration": 10,
    "start_time": "2024-03-14T08:57:10.009Z"
   },
   {
    "duration": 10,
    "start_time": "2024-03-14T08:57:34.195Z"
   },
   {
    "duration": 18,
    "start_time": "2024-03-14T08:57:59.118Z"
   },
   {
    "duration": 10,
    "start_time": "2024-03-14T09:11:18.636Z"
   },
   {
    "duration": 17,
    "start_time": "2024-03-14T09:12:20.566Z"
   },
   {
    "duration": 11,
    "start_time": "2024-03-14T09:12:25.093Z"
   },
   {
    "duration": 15,
    "start_time": "2024-03-14T09:12:42.507Z"
   },
   {
    "duration": 11,
    "start_time": "2024-03-14T09:12:47.548Z"
   },
   {
    "duration": 11,
    "start_time": "2024-03-14T09:13:12.984Z"
   },
   {
    "duration": 11,
    "start_time": "2024-03-14T09:15:41.890Z"
   },
   {
    "duration": 12,
    "start_time": "2024-03-14T09:21:31.287Z"
   },
   {
    "duration": 94,
    "start_time": "2024-03-14T09:22:44.815Z"
   },
   {
    "duration": 238,
    "start_time": "2024-03-14T09:27:18.956Z"
   },
   {
    "duration": 91,
    "start_time": "2024-03-14T09:27:30.910Z"
   },
   {
    "duration": 66,
    "start_time": "2024-03-14T09:27:35.648Z"
   },
   {
    "duration": 231,
    "start_time": "2024-03-14T09:27:44.611Z"
   },
   {
    "duration": 223,
    "start_time": "2024-03-14T09:28:02.826Z"
   },
   {
    "duration": 223,
    "start_time": "2024-03-14T09:28:08.548Z"
   },
   {
    "duration": 247,
    "start_time": "2024-03-14T09:28:12.739Z"
   },
   {
    "duration": 196,
    "start_time": "2024-03-14T09:28:23.274Z"
   },
   {
    "duration": 211,
    "start_time": "2024-03-14T09:28:46.792Z"
   },
   {
    "duration": 558,
    "start_time": "2024-03-14T09:29:16.529Z"
   },
   {
    "duration": 474,
    "start_time": "2024-03-14T09:29:47.007Z"
   },
   {
    "duration": 460,
    "start_time": "2024-03-14T09:30:09.389Z"
   },
   {
    "duration": 445,
    "start_time": "2024-03-14T09:30:21.463Z"
   },
   {
    "duration": 570,
    "start_time": "2024-03-14T09:30:35.731Z"
   },
   {
    "duration": 464,
    "start_time": "2024-03-14T09:31:14.361Z"
   },
   {
    "duration": 462,
    "start_time": "2024-03-14T09:31:23.884Z"
   },
   {
    "duration": 534,
    "start_time": "2024-03-14T09:33:03.303Z"
   },
   {
    "duration": 52,
    "start_time": "2024-03-14T19:40:14.045Z"
   },
   {
    "duration": 846,
    "start_time": "2024-03-14T19:40:20.074Z"
   },
   {
    "duration": 292,
    "start_time": "2024-03-14T19:40:20.923Z"
   },
   {
    "duration": 26,
    "start_time": "2024-03-14T19:40:21.216Z"
   },
   {
    "duration": 15,
    "start_time": "2024-03-14T19:40:21.244Z"
   },
   {
    "duration": 4,
    "start_time": "2024-03-14T19:40:21.376Z"
   },
   {
    "duration": 10,
    "start_time": "2024-03-14T19:40:21.552Z"
   },
   {
    "duration": 10,
    "start_time": "2024-03-14T19:40:21.909Z"
   },
   {
    "duration": 6,
    "start_time": "2024-03-14T19:40:22.722Z"
   },
   {
    "duration": 223,
    "start_time": "2024-03-14T19:40:23.163Z"
   },
   {
    "duration": 91,
    "start_time": "2024-03-14T19:40:23.851Z"
   },
   {
    "duration": 186,
    "start_time": "2024-03-14T19:40:24.477Z"
   },
   {
    "duration": 213,
    "start_time": "2024-03-14T19:40:25.067Z"
   },
   {
    "duration": 267,
    "start_time": "2024-03-14T19:40:25.744Z"
   },
   {
    "duration": 19,
    "start_time": "2024-03-14T19:40:26.597Z"
   },
   {
    "duration": 19,
    "start_time": "2024-03-14T19:40:27.124Z"
   },
   {
    "duration": 476,
    "start_time": "2024-03-14T19:40:28.692Z"
   },
   {
    "duration": 512,
    "start_time": "2024-03-14T19:40:29.170Z"
   },
   {
    "duration": 40,
    "start_time": "2024-03-14T19:57:48.325Z"
   },
   {
    "duration": 6,
    "start_time": "2024-03-14T19:58:33.411Z"
   },
   {
    "duration": 3,
    "start_time": "2024-03-14T19:59:07.852Z"
   },
   {
    "duration": 23,
    "start_time": "2024-03-14T19:59:22.584Z"
   },
   {
    "duration": 21,
    "start_time": "2024-03-14T19:59:40.471Z"
   },
   {
    "duration": 12,
    "start_time": "2024-03-14T19:59:46.981Z"
   },
   {
    "duration": 7,
    "start_time": "2024-03-14T20:01:26.359Z"
   },
   {
    "duration": 6,
    "start_time": "2024-03-14T20:02:04.123Z"
   },
   {
    "duration": 6,
    "start_time": "2024-03-14T20:02:09.148Z"
   },
   {
    "duration": 6,
    "start_time": "2024-03-14T20:03:04.162Z"
   },
   {
    "duration": 12,
    "start_time": "2024-03-14T20:03:09.368Z"
   },
   {
    "duration": 6,
    "start_time": "2024-03-14T20:03:30.006Z"
   },
   {
    "duration": 13,
    "start_time": "2024-03-14T20:03:35.609Z"
   },
   {
    "duration": 8,
    "start_time": "2024-03-14T20:04:29.868Z"
   },
   {
    "duration": 13,
    "start_time": "2024-03-14T20:04:33.885Z"
   },
   {
    "duration": 16,
    "start_time": "2024-03-14T20:05:06.456Z"
   },
   {
    "duration": 16,
    "start_time": "2024-03-14T20:05:10.538Z"
   },
   {
    "duration": 15,
    "start_time": "2024-03-14T20:05:17.839Z"
   },
   {
    "duration": 19,
    "start_time": "2024-03-14T20:06:22.203Z"
   },
   {
    "duration": 14,
    "start_time": "2024-03-14T20:06:29.155Z"
   },
   {
    "duration": 10,
    "start_time": "2024-03-14T20:34:27.238Z"
   },
   {
    "duration": 19,
    "start_time": "2024-03-14T20:34:45.644Z"
   },
   {
    "duration": 9,
    "start_time": "2024-03-14T20:35:10.583Z"
   },
   {
    "duration": 4,
    "start_time": "2024-03-14T20:36:21.988Z"
   },
   {
    "duration": 11,
    "start_time": "2024-03-14T20:36:34.405Z"
   },
   {
    "duration": 3,
    "start_time": "2024-03-14T20:36:49.759Z"
   },
   {
    "duration": 8,
    "start_time": "2024-03-14T20:37:09.017Z"
   },
   {
    "duration": 4,
    "start_time": "2024-03-14T20:37:29.368Z"
   },
   {
    "duration": 4,
    "start_time": "2024-03-14T20:37:31.743Z"
   },
   {
    "duration": 3,
    "start_time": "2024-03-14T20:37:42.900Z"
   },
   {
    "duration": 3,
    "start_time": "2024-03-14T20:37:45.089Z"
   },
   {
    "duration": 4,
    "start_time": "2024-03-14T20:37:54.208Z"
   },
   {
    "duration": 5,
    "start_time": "2024-03-14T20:46:53.487Z"
   },
   {
    "duration": 4,
    "start_time": "2024-03-14T20:46:55.491Z"
   },
   {
    "duration": 909,
    "start_time": "2024-03-15T07:18:37.116Z"
   },
   {
    "duration": 200,
    "start_time": "2024-03-15T07:18:38.027Z"
   },
   {
    "duration": 26,
    "start_time": "2024-03-15T07:18:38.228Z"
   },
   {
    "duration": 15,
    "start_time": "2024-03-15T07:18:38.255Z"
   },
   {
    "duration": 6,
    "start_time": "2024-03-15T07:18:38.379Z"
   },
   {
    "duration": 12,
    "start_time": "2024-03-15T07:18:38.558Z"
   },
   {
    "duration": 14,
    "start_time": "2024-03-15T07:18:38.885Z"
   },
   {
    "duration": 9,
    "start_time": "2024-03-15T07:18:39.587Z"
   },
   {
    "duration": 270,
    "start_time": "2024-03-15T07:18:39.926Z"
   },
   {
    "duration": 99,
    "start_time": "2024-03-15T07:18:40.415Z"
   },
   {
    "duration": 214,
    "start_time": "2024-03-15T07:18:41.055Z"
   },
   {
    "duration": 252,
    "start_time": "2024-03-15T07:18:41.583Z"
   },
   {
    "duration": 308,
    "start_time": "2024-03-15T07:18:42.226Z"
   },
   {
    "duration": 20,
    "start_time": "2024-03-15T07:18:43.019Z"
   },
   {
    "duration": 26,
    "start_time": "2024-03-15T07:18:43.674Z"
   },
   {
    "duration": 558,
    "start_time": "2024-03-15T07:18:44.467Z"
   },
   {
    "duration": 545,
    "start_time": "2024-03-15T07:18:45.279Z"
   },
   {
    "duration": 3,
    "start_time": "2024-03-15T07:19:19.375Z"
   },
   {
    "duration": 3,
    "start_time": "2024-03-15T07:19:36.536Z"
   },
   {
    "duration": 93,
    "start_time": "2024-03-15T07:20:18.865Z"
   },
   {
    "duration": 4,
    "start_time": "2024-03-15T07:24:29.639Z"
   },
   {
    "duration": 25,
    "start_time": "2024-03-15T07:28:37.651Z"
   },
   {
    "duration": 33,
    "start_time": "2024-03-15T07:28:51.907Z"
   },
   {
    "duration": 19,
    "start_time": "2024-03-15T07:29:18.596Z"
   },
   {
    "duration": 70,
    "start_time": "2024-03-15T07:29:25.551Z"
   },
   {
    "duration": 27,
    "start_time": "2024-03-15T07:29:34.969Z"
   },
   {
    "duration": 38,
    "start_time": "2024-03-15T07:30:01.137Z"
   },
   {
    "duration": 15,
    "start_time": "2024-03-15T07:31:14.259Z"
   },
   {
    "duration": 21,
    "start_time": "2024-03-15T07:31:58.061Z"
   },
   {
    "duration": 33,
    "start_time": "2024-03-15T07:32:04.309Z"
   },
   {
    "duration": 28,
    "start_time": "2024-03-15T07:33:02.359Z"
   },
   {
    "duration": 16,
    "start_time": "2024-03-15T07:33:09.220Z"
   },
   {
    "duration": 26,
    "start_time": "2024-03-15T07:33:22.990Z"
   },
   {
    "duration": 3,
    "start_time": "2024-03-15T07:33:38.170Z"
   },
   {
    "duration": 4,
    "start_time": "2024-03-15T07:34:01.615Z"
   },
   {
    "duration": 26,
    "start_time": "2024-03-15T07:34:07.029Z"
   },
   {
    "duration": 112,
    "start_time": "2024-03-15T07:34:40.272Z"
   },
   {
    "duration": 36,
    "start_time": "2024-03-15T07:34:54.885Z"
   },
   {
    "duration": 4,
    "start_time": "2024-03-15T07:35:10.450Z"
   },
   {
    "duration": 23,
    "start_time": "2024-03-15T07:35:18.882Z"
   },
   {
    "duration": 22,
    "start_time": "2024-03-15T07:35:46.089Z"
   },
   {
    "duration": 6,
    "start_time": "2024-03-15T07:38:06.286Z"
   },
   {
    "duration": 4,
    "start_time": "2024-03-15T07:38:32.326Z"
   },
   {
    "duration": 23,
    "start_time": "2024-03-15T07:38:33.501Z"
   },
   {
    "duration": 42,
    "start_time": "2024-03-15T07:54:03.988Z"
   },
   {
    "duration": 14,
    "start_time": "2024-03-15T07:54:55.232Z"
   },
   {
    "duration": 33,
    "start_time": "2024-03-15T07:55:11.828Z"
   },
   {
    "duration": 23,
    "start_time": "2024-03-15T07:57:33.478Z"
   },
   {
    "duration": 9,
    "start_time": "2024-03-15T07:58:03.970Z"
   },
   {
    "duration": 8,
    "start_time": "2024-03-15T07:58:22.120Z"
   },
   {
    "duration": 3,
    "start_time": "2024-03-15T07:58:29.669Z"
   },
   {
    "duration": 73,
    "start_time": "2024-03-15T07:58:30.124Z"
   },
   {
    "duration": 31,
    "start_time": "2024-03-15T07:58:30.200Z"
   },
   {
    "duration": 17,
    "start_time": "2024-03-15T07:58:30.233Z"
   },
   {
    "duration": 7,
    "start_time": "2024-03-15T07:58:30.257Z"
   },
   {
    "duration": 39,
    "start_time": "2024-03-15T07:58:30.266Z"
   },
   {
    "duration": 20,
    "start_time": "2024-03-15T07:58:30.317Z"
   },
   {
    "duration": 7,
    "start_time": "2024-03-15T07:58:31.055Z"
   },
   {
    "duration": 251,
    "start_time": "2024-03-15T07:58:31.141Z"
   },
   {
    "duration": 109,
    "start_time": "2024-03-15T07:58:31.394Z"
   },
   {
    "duration": 239,
    "start_time": "2024-03-15T07:58:31.505Z"
   },
   {
    "duration": 258,
    "start_time": "2024-03-15T07:58:31.746Z"
   },
   {
    "duration": 243,
    "start_time": "2024-03-15T07:58:32.005Z"
   },
   {
    "duration": 21,
    "start_time": "2024-03-15T07:58:32.665Z"
   },
   {
    "duration": 31,
    "start_time": "2024-03-15T07:58:33.087Z"
   },
   {
    "duration": 624,
    "start_time": "2024-03-15T07:58:33.561Z"
   },
   {
    "duration": 539,
    "start_time": "2024-03-15T07:58:34.187Z"
   },
   {
    "duration": 5,
    "start_time": "2024-03-15T07:58:34.727Z"
   },
   {
    "duration": 24,
    "start_time": "2024-03-15T07:58:34.809Z"
   },
   {
    "duration": 30,
    "start_time": "2024-03-15T07:58:36.251Z"
   },
   {
    "duration": 2,
    "start_time": "2024-03-15T08:00:44.835Z"
   },
   {
    "duration": 3,
    "start_time": "2024-03-15T08:00:53.165Z"
   },
   {
    "duration": 75,
    "start_time": "2024-03-15T08:00:53.588Z"
   },
   {
    "duration": 39,
    "start_time": "2024-03-15T08:00:53.724Z"
   },
   {
    "duration": 16,
    "start_time": "2024-03-15T08:00:54.262Z"
   },
   {
    "duration": 12,
    "start_time": "2024-03-15T08:00:54.479Z"
   },
   {
    "duration": 10,
    "start_time": "2024-03-15T08:00:54.644Z"
   },
   {
    "duration": 8,
    "start_time": "2024-03-15T08:00:54.970Z"
   },
   {
    "duration": 6,
    "start_time": "2024-03-15T08:00:55.669Z"
   },
   {
    "duration": 235,
    "start_time": "2024-03-15T08:00:56.027Z"
   },
   {
    "duration": 106,
    "start_time": "2024-03-15T08:00:56.759Z"
   },
   {
    "duration": 212,
    "start_time": "2024-03-15T08:00:57.554Z"
   },
   {
    "duration": 234,
    "start_time": "2024-03-15T08:00:58.099Z"
   },
   {
    "duration": 233,
    "start_time": "2024-03-15T08:00:58.614Z"
   },
   {
    "duration": 20,
    "start_time": "2024-03-15T08:00:59.258Z"
   },
   {
    "duration": 23,
    "start_time": "2024-03-15T08:00:59.718Z"
   },
   {
    "duration": 646,
    "start_time": "2024-03-15T08:01:00.814Z"
   },
   {
    "duration": 560,
    "start_time": "2024-03-15T08:01:01.559Z"
   },
   {
    "duration": 5,
    "start_time": "2024-03-15T08:01:03.052Z"
   },
   {
    "duration": 49,
    "start_time": "2024-03-15T08:01:03.446Z"
   },
   {
    "duration": 448,
    "start_time": "2024-03-15T08:01:23.601Z"
   },
   {
    "duration": 25,
    "start_time": "2024-03-15T08:01:53.283Z"
   },
   {
    "duration": 31,
    "start_time": "2024-03-15T08:02:23.003Z"
   },
   {
    "duration": 58,
    "start_time": "2024-03-15T08:02:39.293Z"
   },
   {
    "duration": 73,
    "start_time": "2024-03-15T08:04:03.452Z"
   },
   {
    "duration": 73,
    "start_time": "2024-03-15T08:04:06.671Z"
   },
   {
    "duration": 28,
    "start_time": "2024-03-15T08:04:25.433Z"
   },
   {
    "duration": 32,
    "start_time": "2024-03-15T08:05:05.288Z"
   },
   {
    "duration": 34,
    "start_time": "2024-03-15T08:06:12.872Z"
   },
   {
    "duration": 61,
    "start_time": "2024-03-15T08:06:28.861Z"
   },
   {
    "duration": 4,
    "start_time": "2024-03-15T08:42:49.800Z"
   },
   {
    "duration": 74,
    "start_time": "2024-03-15T08:42:50.292Z"
   },
   {
    "duration": 28,
    "start_time": "2024-03-15T08:42:50.368Z"
   },
   {
    "duration": 15,
    "start_time": "2024-03-15T08:42:50.469Z"
   },
   {
    "duration": 11,
    "start_time": "2024-03-15T08:42:50.486Z"
   },
   {
    "duration": 13,
    "start_time": "2024-03-15T08:42:50.499Z"
   },
   {
    "duration": 8,
    "start_time": "2024-03-15T08:42:50.514Z"
   },
   {
    "duration": 7,
    "start_time": "2024-03-15T08:42:50.560Z"
   },
   {
    "duration": 237,
    "start_time": "2024-03-15T08:42:50.599Z"
   },
   {
    "duration": 107,
    "start_time": "2024-03-15T08:42:50.838Z"
   },
   {
    "duration": 249,
    "start_time": "2024-03-15T08:42:50.947Z"
   },
   {
    "duration": 231,
    "start_time": "2024-03-15T08:42:51.318Z"
   },
   {
    "duration": 231,
    "start_time": "2024-03-15T08:42:52.129Z"
   },
   {
    "duration": 21,
    "start_time": "2024-03-15T08:42:53.098Z"
   },
   {
    "duration": 20,
    "start_time": "2024-03-15T08:42:53.356Z"
   },
   {
    "duration": 638,
    "start_time": "2024-03-15T08:42:54.458Z"
   },
   {
    "duration": 579,
    "start_time": "2024-03-15T08:42:55.149Z"
   },
   {
    "duration": 5,
    "start_time": "2024-03-15T08:42:56.899Z"
   },
   {
    "duration": 22,
    "start_time": "2024-03-15T08:42:57.252Z"
   },
   {
    "duration": 59,
    "start_time": "2024-03-15T08:42:58.661Z"
   },
   {
    "duration": 24,
    "start_time": "2024-03-15T08:44:54.729Z"
   },
   {
    "duration": 23,
    "start_time": "2024-03-15T08:45:14.822Z"
   },
   {
    "duration": 23,
    "start_time": "2024-03-15T08:45:35.411Z"
   },
   {
    "duration": 22,
    "start_time": "2024-03-15T08:46:11.154Z"
   },
   {
    "duration": 1165,
    "start_time": "2024-03-15T08:46:38.543Z"
   },
   {
    "duration": 1119,
    "start_time": "2024-03-15T08:48:37.543Z"
   },
   {
    "duration": 1165,
    "start_time": "2024-03-15T08:49:05.222Z"
   },
   {
    "duration": 13,
    "start_time": "2024-03-15T08:49:14.939Z"
   },
   {
    "duration": 51,
    "start_time": "2024-03-15T08:49:22.864Z"
   },
   {
    "duration": 55,
    "start_time": "2024-03-15T08:50:36.504Z"
   },
   {
    "duration": 59,
    "start_time": "2024-03-15T08:51:12.641Z"
   },
   {
    "duration": 24,
    "start_time": "2024-03-15T08:51:32.322Z"
   },
   {
    "duration": 6,
    "start_time": "2024-03-15T08:57:19.019Z"
   },
   {
    "duration": 23,
    "start_time": "2024-03-15T08:57:25.674Z"
   },
   {
    "duration": 1192,
    "start_time": "2024-03-15T08:58:20.666Z"
   },
   {
    "duration": 67,
    "start_time": "2024-03-15T08:58:31.660Z"
   },
   {
    "duration": 16,
    "start_time": "2024-03-15T08:58:32.664Z"
   },
   {
    "duration": 9,
    "start_time": "2024-03-15T09:01:51.970Z"
   },
   {
    "duration": 561,
    "start_time": "2024-03-15T09:03:39.492Z"
   },
   {
    "duration": 656,
    "start_time": "2024-03-15T09:04:07.996Z"
   },
   {
    "duration": 601,
    "start_time": "2024-03-15T09:04:27.851Z"
   },
   {
    "duration": 578,
    "start_time": "2024-03-15T09:04:37.707Z"
   },
   {
    "duration": 560,
    "start_time": "2024-03-15T09:04:56.593Z"
   },
   {
    "duration": 561,
    "start_time": "2024-03-15T09:20:04.670Z"
   },
   {
    "duration": 5,
    "start_time": "2024-03-15T09:24:29.121Z"
   },
   {
    "duration": 6,
    "start_time": "2024-03-15T09:26:25.349Z"
   },
   {
    "duration": 5,
    "start_time": "2024-03-15T09:26:42.950Z"
   },
   {
    "duration": 6,
    "start_time": "2024-03-15T09:26:50.200Z"
   },
   {
    "duration": 4,
    "start_time": "2024-03-15T09:27:12.648Z"
   },
   {
    "duration": 6,
    "start_time": "2024-03-15T09:27:17.457Z"
   },
   {
    "duration": 3,
    "start_time": "2024-03-15T09:27:25.929Z"
   },
   {
    "duration": 7,
    "start_time": "2024-03-15T09:35:35.950Z"
   },
   {
    "duration": 43,
    "start_time": "2024-03-15T10:15:59.458Z"
   },
   {
    "duration": 6,
    "start_time": "2024-03-15T10:16:05.889Z"
   },
   {
    "duration": 6,
    "start_time": "2024-03-15T10:16:51.513Z"
   },
   {
    "duration": 4,
    "start_time": "2024-03-15T10:23:28.963Z"
   },
   {
    "duration": 5,
    "start_time": "2024-03-15T10:23:50.349Z"
   },
   {
    "duration": 5,
    "start_time": "2024-03-15T10:23:58.731Z"
   },
   {
    "duration": 5,
    "start_time": "2024-03-15T10:28:42.793Z"
   },
   {
    "duration": 6,
    "start_time": "2024-03-15T10:30:16.062Z"
   },
   {
    "duration": 5,
    "start_time": "2024-03-15T10:30:41.170Z"
   },
   {
    "duration": 5,
    "start_time": "2024-03-15T10:31:00.713Z"
   },
   {
    "duration": 5,
    "start_time": "2024-03-15T10:31:35.352Z"
   },
   {
    "duration": 5,
    "start_time": "2024-03-15T10:44:25.452Z"
   },
   {
    "duration": 6,
    "start_time": "2024-03-15T10:44:27.507Z"
   },
   {
    "duration": 5,
    "start_time": "2024-03-15T10:44:28.422Z"
   },
   {
    "duration": 18,
    "start_time": "2024-03-15T10:45:34.202Z"
   },
   {
    "duration": 14,
    "start_time": "2024-03-15T10:48:23.611Z"
   },
   {
    "duration": 14,
    "start_time": "2024-03-15T10:48:30.142Z"
   },
   {
    "duration": 3,
    "start_time": "2024-03-15T10:49:32.541Z"
   },
   {
    "duration": 11,
    "start_time": "2024-03-15T10:49:50.025Z"
   },
   {
    "duration": 2,
    "start_time": "2024-03-15T10:49:55.772Z"
   },
   {
    "duration": 13,
    "start_time": "2024-03-15T10:50:11.891Z"
   },
   {
    "duration": 2,
    "start_time": "2024-03-15T10:51:08.471Z"
   },
   {
    "duration": 12,
    "start_time": "2024-03-15T10:51:27.546Z"
   },
   {
    "duration": 2,
    "start_time": "2024-03-15T10:51:33.583Z"
   },
   {
    "duration": 15,
    "start_time": "2024-03-15T10:51:35.872Z"
   },
   {
    "duration": 90,
    "start_time": "2024-03-15T10:55:00.224Z"
   },
   {
    "duration": 8,
    "start_time": "2024-03-15T10:55:03.683Z"
   },
   {
    "duration": 14,
    "start_time": "2024-03-15T10:55:45.443Z"
   },
   {
    "duration": 13,
    "start_time": "2024-03-15T10:57:26.523Z"
   },
   {
    "duration": 5,
    "start_time": "2024-03-15T11:00:07.857Z"
   },
   {
    "duration": 3,
    "start_time": "2024-03-15T11:01:21.293Z"
   },
   {
    "duration": 14,
    "start_time": "2024-03-15T11:01:28.710Z"
   },
   {
    "duration": 18,
    "start_time": "2024-03-15T11:01:48.564Z"
   },
   {
    "duration": 2,
    "start_time": "2024-03-15T11:08:27.683Z"
   },
   {
    "duration": 9,
    "start_time": "2024-03-15T11:08:50.694Z"
   },
   {
    "duration": 536,
    "start_time": "2024-03-15T11:12:16.904Z"
   },
   {
    "duration": 579,
    "start_time": "2024-03-15T11:12:23.743Z"
   },
   {
    "duration": 7,
    "start_time": "2024-03-15T11:12:29.162Z"
   },
   {
    "duration": 14,
    "start_time": "2024-03-15T11:12:41.003Z"
   },
   {
    "duration": 6,
    "start_time": "2024-03-15T11:12:44.943Z"
   },
   {
    "duration": 15,
    "start_time": "2024-03-15T11:15:29.930Z"
   },
   {
    "duration": 15,
    "start_time": "2024-03-15T11:16:03.053Z"
   },
   {
    "duration": 15,
    "start_time": "2024-03-15T11:16:16.182Z"
   },
   {
    "duration": 14,
    "start_time": "2024-03-15T11:19:21.252Z"
   },
   {
    "duration": 3,
    "start_time": "2024-03-15T11:20:09.083Z"
   },
   {
    "duration": 74,
    "start_time": "2024-03-15T11:20:09.512Z"
   },
   {
    "duration": 27,
    "start_time": "2024-03-15T11:20:09.589Z"
   },
   {
    "duration": 15,
    "start_time": "2024-03-15T11:20:09.621Z"
   },
   {
    "duration": 6,
    "start_time": "2024-03-15T11:20:09.650Z"
   },
   {
    "duration": 12,
    "start_time": "2024-03-15T11:20:09.692Z"
   },
   {
    "duration": 10,
    "start_time": "2024-03-15T11:20:09.738Z"
   },
   {
    "duration": 9,
    "start_time": "2024-03-15T11:20:09.833Z"
   },
   {
    "duration": 328,
    "start_time": "2024-03-15T11:20:09.899Z"
   },
   {
    "duration": 106,
    "start_time": "2024-03-15T11:20:10.229Z"
   },
   {
    "duration": 216,
    "start_time": "2024-03-15T11:20:10.336Z"
   },
   {
    "duration": 236,
    "start_time": "2024-03-15T11:20:10.554Z"
   },
   {
    "duration": 235,
    "start_time": "2024-03-15T11:20:10.792Z"
   },
   {
    "duration": 20,
    "start_time": "2024-03-15T11:20:11.028Z"
   },
   {
    "duration": 35,
    "start_time": "2024-03-15T11:20:11.049Z"
   },
   {
    "duration": 562,
    "start_time": "2024-03-15T11:20:11.086Z"
   },
   {
    "duration": 530,
    "start_time": "2024-03-15T11:20:11.649Z"
   },
   {
    "duration": 5,
    "start_time": "2024-03-15T11:20:12.182Z"
   },
   {
    "duration": 36,
    "start_time": "2024-03-15T11:20:12.188Z"
   },
   {
    "duration": 69,
    "start_time": "2024-03-15T11:20:12.226Z"
   },
   {
    "duration": 18,
    "start_time": "2024-03-15T11:20:12.296Z"
   },
   {
    "duration": 681,
    "start_time": "2024-03-15T11:20:12.316Z"
   },
   {
    "duration": 7,
    "start_time": "2024-03-15T11:20:13.000Z"
   },
   {
    "duration": 5,
    "start_time": "2024-03-15T11:20:13.253Z"
   },
   {
    "duration": 6,
    "start_time": "2024-03-15T11:20:13.743Z"
   },
   {
    "duration": 15,
    "start_time": "2024-03-15T11:20:14.772Z"
   },
   {
    "duration": 14,
    "start_time": "2024-03-15T11:20:39.071Z"
   },
   {
    "duration": 1280,
    "start_time": "2024-03-15T17:42:27.995Z"
   },
   {
    "duration": 198,
    "start_time": "2024-03-15T17:42:29.277Z"
   },
   {
    "duration": 23,
    "start_time": "2024-03-15T17:42:29.477Z"
   },
   {
    "duration": 13,
    "start_time": "2024-03-15T17:42:29.502Z"
   },
   {
    "duration": 5,
    "start_time": "2024-03-15T17:42:29.666Z"
   },
   {
    "duration": 10,
    "start_time": "2024-03-15T17:42:29.859Z"
   },
   {
    "duration": 8,
    "start_time": "2024-03-15T17:42:30.270Z"
   },
   {
    "duration": 6,
    "start_time": "2024-03-15T17:42:31.206Z"
   },
   {
    "duration": 225,
    "start_time": "2024-03-15T17:42:31.608Z"
   },
   {
    "duration": 80,
    "start_time": "2024-03-15T17:42:32.251Z"
   },
   {
    "duration": 174,
    "start_time": "2024-03-15T17:42:32.907Z"
   },
   {
    "duration": 202,
    "start_time": "2024-03-15T17:42:33.561Z"
   },
   {
    "duration": 185,
    "start_time": "2024-03-15T17:42:34.304Z"
   },
   {
    "duration": 18,
    "start_time": "2024-03-15T17:42:37.494Z"
   },
   {
    "duration": 19,
    "start_time": "2024-03-15T17:42:39.190Z"
   },
   {
    "duration": 474,
    "start_time": "2024-03-15T17:42:42.332Z"
   },
   {
    "duration": 525,
    "start_time": "2024-03-15T17:42:43.478Z"
   },
   {
    "duration": 4,
    "start_time": "2024-03-15T17:42:51.663Z"
   },
   {
    "duration": 20,
    "start_time": "2024-03-15T17:42:52.147Z"
   },
   {
    "duration": 50,
    "start_time": "2024-03-15T17:42:53.066Z"
   },
   {
    "duration": 24,
    "start_time": "2024-03-15T17:42:57.114Z"
   },
   {
    "duration": 461,
    "start_time": "2024-03-15T17:42:58.355Z"
   },
   {
    "duration": 5,
    "start_time": "2024-03-15T17:43:01.319Z"
   },
   {
    "duration": 4,
    "start_time": "2024-03-15T17:43:07.663Z"
   },
   {
    "duration": 5,
    "start_time": "2024-03-15T17:43:09.491Z"
   },
   {
    "duration": 4,
    "start_time": "2024-03-15T17:43:12.151Z"
   },
   {
    "duration": 6,
    "start_time": "2024-03-15T17:43:22.045Z"
   },
   {
    "duration": 5,
    "start_time": "2024-03-15T17:53:51.869Z"
   },
   {
    "duration": 4,
    "start_time": "2024-03-15T17:56:27.072Z"
   },
   {
    "duration": 5,
    "start_time": "2024-03-15T17:56:33.912Z"
   },
   {
    "duration": 6,
    "start_time": "2024-03-15T19:12:48.356Z"
   },
   {
    "duration": 6,
    "start_time": "2024-03-15T19:14:49.719Z"
   },
   {
    "duration": 5,
    "start_time": "2024-03-15T19:14:57.180Z"
   },
   {
    "duration": 6,
    "start_time": "2024-03-15T19:17:24.350Z"
   },
   {
    "duration": 7,
    "start_time": "2024-03-15T19:17:37.973Z"
   },
   {
    "duration": 6,
    "start_time": "2024-03-15T19:17:46.962Z"
   },
   {
    "duration": 7,
    "start_time": "2024-03-15T19:17:56.219Z"
   },
   {
    "duration": 7,
    "start_time": "2024-03-15T19:18:06.445Z"
   },
   {
    "duration": 6,
    "start_time": "2024-03-15T19:18:30.653Z"
   },
   {
    "duration": 6,
    "start_time": "2024-03-15T19:18:34.159Z"
   },
   {
    "duration": 6,
    "start_time": "2024-03-15T19:18:37.974Z"
   },
   {
    "duration": 5,
    "start_time": "2024-03-15T19:18:43.982Z"
   },
   {
    "duration": 6,
    "start_time": "2024-03-15T19:18:50.094Z"
   },
   {
    "duration": 6,
    "start_time": "2024-03-15T19:20:42.365Z"
   },
   {
    "duration": 7,
    "start_time": "2024-03-15T19:20:45.343Z"
   },
   {
    "duration": 6,
    "start_time": "2024-03-15T19:20:48.743Z"
   },
   {
    "duration": 6,
    "start_time": "2024-03-15T19:20:51.829Z"
   },
   {
    "duration": 7,
    "start_time": "2024-03-15T20:02:47.400Z"
   },
   {
    "duration": 102,
    "start_time": "2024-03-15T20:27:04.863Z"
   },
   {
    "duration": 100,
    "start_time": "2024-03-15T20:27:19.673Z"
   },
   {
    "duration": 120,
    "start_time": "2024-03-15T20:27:35.445Z"
   },
   {
    "duration": 99,
    "start_time": "2024-03-15T20:27:48.171Z"
   },
   {
    "duration": 6,
    "start_time": "2024-03-15T20:29:14.635Z"
   },
   {
    "duration": 5,
    "start_time": "2024-03-15T20:29:40.428Z"
   },
   {
    "duration": 5,
    "start_time": "2024-03-15T20:29:43.011Z"
   },
   {
    "duration": 5,
    "start_time": "2024-03-15T20:30:16.765Z"
   },
   {
    "duration": 135,
    "start_time": "2024-03-15T20:30:20.666Z"
   },
   {
    "duration": 146,
    "start_time": "2024-03-15T20:30:45.835Z"
   },
   {
    "duration": 5,
    "start_time": "2024-03-15T20:31:03.034Z"
   },
   {
    "duration": 144,
    "start_time": "2024-03-15T20:31:04.757Z"
   },
   {
    "duration": 6,
    "start_time": "2024-03-15T20:31:18.936Z"
   },
   {
    "duration": 147,
    "start_time": "2024-03-15T20:31:23.017Z"
   },
   {
    "duration": 6,
    "start_time": "2024-03-15T20:32:33.691Z"
   },
   {
    "duration": 149,
    "start_time": "2024-03-15T20:32:34.988Z"
   },
   {
    "duration": 5,
    "start_time": "2024-03-15T20:34:38.403Z"
   },
   {
    "duration": 5,
    "start_time": "2024-03-15T20:35:00.844Z"
   },
   {
    "duration": 92,
    "start_time": "2024-03-15T20:39:37.197Z"
   },
   {
    "duration": 10,
    "start_time": "2024-03-15T20:39:50.960Z"
   },
   {
    "duration": 8,
    "start_time": "2024-03-15T20:40:34.328Z"
   },
   {
    "duration": 1618,
    "start_time": "2024-03-15T20:41:49.784Z"
   },
   {
    "duration": 1858,
    "start_time": "2024-03-15T20:42:01.442Z"
   },
   {
    "duration": 152,
    "start_time": "2024-03-15T20:42:31.418Z"
   },
   {
    "duration": 9,
    "start_time": "2024-03-15T20:42:33.262Z"
   },
   {
    "duration": 11,
    "start_time": "2024-03-15T20:43:13.219Z"
   },
   {
    "duration": 10,
    "start_time": "2024-03-15T20:43:20.422Z"
   },
   {
    "duration": 1740,
    "start_time": "2024-03-15T20:43:26.010Z"
   },
   {
    "duration": 350,
    "start_time": "2024-03-15T20:43:38.738Z"
   },
   {
    "duration": 356,
    "start_time": "2024-03-15T20:43:46.345Z"
   },
   {
    "duration": 1742,
    "start_time": "2024-03-15T20:44:04.367Z"
   },
   {
    "duration": 335,
    "start_time": "2024-03-15T20:44:18.222Z"
   },
   {
    "duration": 1802,
    "start_time": "2024-03-15T20:44:28.974Z"
   },
   {
    "duration": 8,
    "start_time": "2024-03-15T20:44:42.835Z"
   },
   {
    "duration": 138,
    "start_time": "2024-03-15T20:44:54.151Z"
   },
   {
    "duration": 8,
    "start_time": "2024-03-15T20:44:55.064Z"
   },
   {
    "duration": 1740,
    "start_time": "2024-03-15T20:45:32.384Z"
   },
   {
    "duration": 1763,
    "start_time": "2024-03-15T20:48:53.468Z"
   },
   {
    "duration": 1766,
    "start_time": "2024-03-15T20:49:00.186Z"
   },
   {
    "duration": 1869,
    "start_time": "2024-03-15T20:49:12.773Z"
   },
   {
    "duration": 1784,
    "start_time": "2024-03-15T20:49:54.838Z"
   },
   {
    "duration": 1842,
    "start_time": "2024-03-15T20:51:01.754Z"
   },
   {
    "duration": 1760,
    "start_time": "2024-03-15T20:51:26.199Z"
   },
   {
    "duration": 1824,
    "start_time": "2024-03-15T20:53:43.432Z"
   },
   {
    "duration": 1828,
    "start_time": "2024-03-15T20:53:53.493Z"
   },
   {
    "duration": 105396,
    "start_time": "2024-03-15T21:12:27.361Z"
   },
   {
    "duration": 323,
    "start_time": "2024-03-15T21:14:38.035Z"
   },
   {
    "duration": 1581,
    "start_time": "2024-03-15T21:14:53.976Z"
   },
   {
    "duration": 1534,
    "start_time": "2024-03-15T21:14:59.796Z"
   },
   {
    "duration": 1548,
    "start_time": "2024-03-15T21:16:11.948Z"
   },
   {
    "duration": 4,
    "start_time": "2024-03-15T21:19:27.632Z"
   },
   {
    "duration": 4,
    "start_time": "2024-03-15T21:20:03.400Z"
   },
   {
    "duration": 1189,
    "start_time": "2024-03-15T21:56:55.947Z"
   },
   {
    "duration": 80,
    "start_time": "2024-03-15T21:56:57.138Z"
   },
   {
    "duration": 24,
    "start_time": "2024-03-15T21:56:57.220Z"
   },
   {
    "duration": 23,
    "start_time": "2024-03-15T21:56:57.246Z"
   },
   {
    "duration": 5,
    "start_time": "2024-03-15T21:56:57.271Z"
   },
   {
    "duration": 12,
    "start_time": "2024-03-15T21:56:57.277Z"
   },
   {
    "duration": 10,
    "start_time": "2024-03-15T21:56:57.290Z"
   },
   {
    "duration": 7,
    "start_time": "2024-03-15T21:56:57.301Z"
   },
   {
    "duration": 273,
    "start_time": "2024-03-15T21:56:57.309Z"
   },
   {
    "duration": 108,
    "start_time": "2024-03-15T21:56:57.585Z"
   },
   {
    "duration": 248,
    "start_time": "2024-03-15T21:56:57.695Z"
   },
   {
    "duration": 241,
    "start_time": "2024-03-15T21:56:57.945Z"
   },
   {
    "duration": 232,
    "start_time": "2024-03-15T21:56:58.188Z"
   },
   {
    "duration": 20,
    "start_time": "2024-03-15T21:56:58.422Z"
   },
   {
    "duration": 39,
    "start_time": "2024-03-15T21:56:58.444Z"
   },
   {
    "duration": 535,
    "start_time": "2024-03-15T21:56:58.485Z"
   },
   {
    "duration": 638,
    "start_time": "2024-03-15T21:56:59.021Z"
   },
   {
    "duration": 4,
    "start_time": "2024-03-15T21:56:59.660Z"
   },
   {
    "duration": 39,
    "start_time": "2024-03-15T21:56:59.665Z"
   },
   {
    "duration": 55,
    "start_time": "2024-03-15T21:56:59.705Z"
   },
   {
    "duration": 34,
    "start_time": "2024-03-15T21:56:59.762Z"
   },
   {
    "duration": 564,
    "start_time": "2024-03-15T21:56:59.797Z"
   },
   {
    "duration": 6,
    "start_time": "2024-03-15T21:57:00.363Z"
   },
   {
    "duration": 94,
    "start_time": "2024-03-15T21:57:00.371Z"
   },
   {
    "duration": 67,
    "start_time": "2024-03-15T21:57:00.466Z"
   },
   {
    "duration": 38,
    "start_time": "2024-03-15T21:57:00.534Z"
   },
   {
    "duration": 52,
    "start_time": "2024-03-15T21:57:00.574Z"
   },
   {
    "duration": 69,
    "start_time": "2024-03-15T21:57:00.629Z"
   },
   {
    "duration": 217,
    "start_time": "2024-03-15T21:57:00.700Z"
   },
   {
    "duration": 2106,
    "start_time": "2024-03-15T21:57:00.919Z"
   },
   {
    "duration": 1787,
    "start_time": "2024-03-15T21:57:03.028Z"
   },
   {
    "duration": 5,
    "start_time": "2024-03-15T21:57:04.817Z"
   },
   {
    "duration": 24,
    "start_time": "2024-03-15T22:31:51.420Z"
   },
   {
    "duration": 10,
    "start_time": "2024-03-15T22:37:45.959Z"
   },
   {
    "duration": 6,
    "start_time": "2024-03-15T22:38:38.739Z"
   },
   {
    "duration": 6,
    "start_time": "2024-03-15T22:39:41.411Z"
   },
   {
    "duration": 1155,
    "start_time": "2024-03-15T22:44:05.606Z"
   },
   {
    "duration": 89,
    "start_time": "2024-03-15T22:44:06.763Z"
   },
   {
    "duration": 24,
    "start_time": "2024-03-15T22:44:06.854Z"
   },
   {
    "duration": 15,
    "start_time": "2024-03-15T22:44:06.879Z"
   },
   {
    "duration": 4,
    "start_time": "2024-03-15T22:44:06.897Z"
   },
   {
    "duration": 21,
    "start_time": "2024-03-15T22:44:06.903Z"
   },
   {
    "duration": 10,
    "start_time": "2024-03-15T22:44:06.925Z"
   },
   {
    "duration": 6,
    "start_time": "2024-03-15T22:44:06.936Z"
   },
   {
    "duration": 282,
    "start_time": "2024-03-15T22:44:06.944Z"
   },
   {
    "duration": 100,
    "start_time": "2024-03-15T22:44:07.228Z"
   },
   {
    "duration": 219,
    "start_time": "2024-03-15T22:44:07.329Z"
   },
   {
    "duration": 235,
    "start_time": "2024-03-15T22:44:07.549Z"
   },
   {
    "duration": 240,
    "start_time": "2024-03-15T22:44:07.786Z"
   },
   {
    "duration": 20,
    "start_time": "2024-03-15T22:44:08.029Z"
   },
   {
    "duration": 37,
    "start_time": "2024-03-15T22:44:08.051Z"
   },
   {
    "duration": 552,
    "start_time": "2024-03-15T22:44:08.090Z"
   },
   {
    "duration": 603,
    "start_time": "2024-03-15T22:44:08.643Z"
   },
   {
    "duration": 4,
    "start_time": "2024-03-15T22:44:09.247Z"
   },
   {
    "duration": 36,
    "start_time": "2024-03-15T22:44:09.252Z"
   },
   {
    "duration": 54,
    "start_time": "2024-03-15T22:44:09.290Z"
   },
   {
    "duration": 18,
    "start_time": "2024-03-15T22:44:09.346Z"
   },
   {
    "duration": 551,
    "start_time": "2024-03-15T22:44:09.383Z"
   },
   {
    "duration": 7,
    "start_time": "2024-03-15T22:44:09.937Z"
   },
   {
    "duration": 37,
    "start_time": "2024-03-15T22:44:09.945Z"
   },
   {
    "duration": 13,
    "start_time": "2024-03-15T22:44:09.983Z"
   },
   {
    "duration": 19,
    "start_time": "2024-03-15T22:44:09.997Z"
   },
   {
    "duration": 16,
    "start_time": "2024-03-15T22:44:10.018Z"
   },
   {
    "duration": 28,
    "start_time": "2024-03-15T22:44:10.035Z"
   },
   {
    "duration": 208,
    "start_time": "2024-03-15T22:44:10.064Z"
   },
   {
    "duration": 1905,
    "start_time": "2024-03-15T22:44:10.273Z"
   },
   {
    "duration": 1763,
    "start_time": "2024-03-15T22:44:12.182Z"
   },
   {
    "duration": 4,
    "start_time": "2024-03-15T22:44:13.947Z"
   },
   {
    "duration": 56,
    "start_time": "2024-03-17T10:39:38.860Z"
   },
   {
    "duration": 1392,
    "start_time": "2024-03-17T10:39:45.669Z"
   },
   {
    "duration": 307,
    "start_time": "2024-03-17T10:39:47.063Z"
   },
   {
    "duration": 28,
    "start_time": "2024-03-17T10:39:47.371Z"
   },
   {
    "duration": 19,
    "start_time": "2024-03-17T10:39:47.402Z"
   },
   {
    "duration": 7,
    "start_time": "2024-03-17T10:39:47.423Z"
   },
   {
    "duration": 32,
    "start_time": "2024-03-17T10:39:47.432Z"
   },
   {
    "duration": 24,
    "start_time": "2024-03-17T10:39:47.466Z"
   },
   {
    "duration": 6,
    "start_time": "2024-03-17T10:39:48.479Z"
   },
   {
    "duration": 237,
    "start_time": "2024-03-17T10:39:48.941Z"
   },
   {
    "duration": 97,
    "start_time": "2024-03-17T10:39:50.262Z"
   },
   {
    "duration": 11,
    "start_time": "2024-03-17T12:17:55.162Z"
   },
   {
    "duration": 16,
    "start_time": "2024-03-17T12:18:19.337Z"
   },
   {
    "duration": 76,
    "start_time": "2024-03-17T12:19:14.622Z"
   },
   {
    "duration": 20,
    "start_time": "2024-03-17T12:19:22.144Z"
   },
   {
    "duration": 26,
    "start_time": "2024-03-17T12:19:22.686Z"
   },
   {
    "duration": 145,
    "start_time": "2024-03-17T12:30:52.370Z"
   },
   {
    "duration": 10,
    "start_time": "2024-03-17T12:33:28.108Z"
   },
   {
    "duration": 10,
    "start_time": "2024-03-17T12:33:42.247Z"
   },
   {
    "duration": 3,
    "start_time": "2024-03-17T12:33:51.755Z"
   },
   {
    "duration": 6,
    "start_time": "2024-03-17T12:34:02.123Z"
   },
   {
    "duration": 1834,
    "start_time": "2024-03-17T12:34:10.922Z"
   },
   {
    "duration": 4,
    "start_time": "2024-03-17T12:34:46.452Z"
   },
   {
    "duration": 82,
    "start_time": "2024-03-17T12:35:37.674Z"
   },
   {
    "duration": 41,
    "start_time": "2024-03-17T12:36:18.932Z"
   },
   {
    "duration": 23,
    "start_time": "2024-03-17T12:36:37.331Z"
   },
   {
    "duration": 1043,
    "start_time": "2024-03-17T13:06:25.976Z"
   },
   {
    "duration": 86,
    "start_time": "2024-03-17T13:06:27.020Z"
   },
   {
    "duration": 23,
    "start_time": "2024-03-17T13:06:27.107Z"
   },
   {
    "duration": 13,
    "start_time": "2024-03-17T13:06:27.133Z"
   },
   {
    "duration": 5,
    "start_time": "2024-03-17T13:06:27.148Z"
   },
   {
    "duration": 20,
    "start_time": "2024-03-17T13:06:27.154Z"
   },
   {
    "duration": 8,
    "start_time": "2024-03-17T13:06:27.176Z"
   },
   {
    "duration": 6,
    "start_time": "2024-03-17T13:06:27.185Z"
   },
   {
    "duration": 240,
    "start_time": "2024-03-17T13:06:27.193Z"
   },
   {
    "duration": 73,
    "start_time": "2024-03-17T13:06:27.436Z"
   },
   {
    "duration": 0,
    "start_time": "2024-03-17T13:06:27.510Z"
   },
   {
    "duration": 0,
    "start_time": "2024-03-17T13:06:27.511Z"
   },
   {
    "duration": 0,
    "start_time": "2024-03-17T13:06:27.512Z"
   },
   {
    "duration": 0,
    "start_time": "2024-03-17T13:06:27.514Z"
   },
   {
    "duration": 0,
    "start_time": "2024-03-17T13:06:27.514Z"
   },
   {
    "duration": 0,
    "start_time": "2024-03-17T13:06:27.515Z"
   },
   {
    "duration": 0,
    "start_time": "2024-03-17T13:06:27.516Z"
   },
   {
    "duration": 0,
    "start_time": "2024-03-17T13:06:27.517Z"
   },
   {
    "duration": 0,
    "start_time": "2024-03-17T13:06:27.518Z"
   },
   {
    "duration": 0,
    "start_time": "2024-03-17T13:06:27.519Z"
   },
   {
    "duration": 0,
    "start_time": "2024-03-17T13:06:27.520Z"
   },
   {
    "duration": 0,
    "start_time": "2024-03-17T13:06:27.521Z"
   },
   {
    "duration": 0,
    "start_time": "2024-03-17T13:06:27.522Z"
   },
   {
    "duration": 0,
    "start_time": "2024-03-17T13:06:27.523Z"
   },
   {
    "duration": 0,
    "start_time": "2024-03-17T13:06:27.523Z"
   },
   {
    "duration": 0,
    "start_time": "2024-03-17T13:06:27.524Z"
   },
   {
    "duration": 0,
    "start_time": "2024-03-17T13:06:27.525Z"
   },
   {
    "duration": 0,
    "start_time": "2024-03-17T13:06:27.526Z"
   },
   {
    "duration": 0,
    "start_time": "2024-03-17T13:06:27.528Z"
   },
   {
    "duration": 0,
    "start_time": "2024-03-17T13:06:27.529Z"
   },
   {
    "duration": 0,
    "start_time": "2024-03-17T13:06:27.531Z"
   },
   {
    "duration": 0,
    "start_time": "2024-03-17T13:06:27.532Z"
   },
   {
    "duration": 0,
    "start_time": "2024-03-17T13:06:27.533Z"
   },
   {
    "duration": 87,
    "start_time": "2024-03-17T13:55:55.756Z"
   },
   {
    "duration": 70,
    "start_time": "2024-03-17T13:56:09.634Z"
   },
   {
    "duration": 67,
    "start_time": "2024-03-17T13:56:32.436Z"
   },
   {
    "duration": 206,
    "start_time": "2024-03-17T13:57:05.289Z"
   },
   {
    "duration": 229,
    "start_time": "2024-03-17T13:57:05.497Z"
   },
   {
    "duration": 233,
    "start_time": "2024-03-17T13:57:05.728Z"
   },
   {
    "duration": 30,
    "start_time": "2024-03-17T13:57:05.963Z"
   },
   {
    "duration": 33,
    "start_time": "2024-03-17T13:57:05.995Z"
   },
   {
    "duration": 21,
    "start_time": "2024-03-17T13:57:06.029Z"
   },
   {
    "duration": 510,
    "start_time": "2024-03-17T13:57:06.052Z"
   },
   {
    "duration": 597,
    "start_time": "2024-03-17T13:57:06.564Z"
   },
   {
    "duration": 9,
    "start_time": "2024-03-17T13:57:07.162Z"
   },
   {
    "duration": 22,
    "start_time": "2024-03-17T13:57:07.175Z"
   },
   {
    "duration": 72,
    "start_time": "2024-03-17T13:57:07.199Z"
   },
   {
    "duration": 24,
    "start_time": "2024-03-17T13:57:07.273Z"
   },
   {
    "duration": 554,
    "start_time": "2024-03-17T13:57:07.298Z"
   },
   {
    "duration": 5,
    "start_time": "2024-03-17T13:57:07.853Z"
   },
   {
    "duration": 9,
    "start_time": "2024-03-17T13:57:07.864Z"
   },
   {
    "duration": 5,
    "start_time": "2024-03-17T13:57:07.875Z"
   },
   {
    "duration": 5,
    "start_time": "2024-03-17T13:57:07.881Z"
   },
   {
    "duration": 4,
    "start_time": "2024-03-17T13:57:07.887Z"
   },
   {
    "duration": 9,
    "start_time": "2024-03-17T13:57:07.892Z"
   },
   {
    "duration": 170,
    "start_time": "2024-03-17T13:57:07.902Z"
   },
   {
    "duration": 1881,
    "start_time": "2024-03-17T13:57:08.074Z"
   },
   {
    "duration": 1588,
    "start_time": "2024-03-17T13:57:09.956Z"
   },
   {
    "duration": 4,
    "start_time": "2024-03-17T13:57:11.545Z"
   },
   {
    "duration": 5,
    "start_time": "2024-03-17T13:59:20.029Z"
   },
   {
    "duration": 1103,
    "start_time": "2024-03-17T14:01:33.133Z"
   },
   {
    "duration": 102,
    "start_time": "2024-03-17T14:01:34.239Z"
   },
   {
    "duration": 23,
    "start_time": "2024-03-17T14:01:34.342Z"
   },
   {
    "duration": 13,
    "start_time": "2024-03-17T14:01:34.366Z"
   },
   {
    "duration": 5,
    "start_time": "2024-03-17T14:01:34.382Z"
   },
   {
    "duration": 11,
    "start_time": "2024-03-17T14:01:34.388Z"
   },
   {
    "duration": 9,
    "start_time": "2024-03-17T14:01:34.400Z"
   },
   {
    "duration": 15,
    "start_time": "2024-03-17T14:01:34.410Z"
   },
   {
    "duration": 252,
    "start_time": "2024-03-17T14:01:34.427Z"
   },
   {
    "duration": 74,
    "start_time": "2024-03-17T14:01:34.681Z"
   },
   {
    "duration": 0,
    "start_time": "2024-03-17T14:01:34.757Z"
   },
   {
    "duration": 0,
    "start_time": "2024-03-17T14:01:34.758Z"
   },
   {
    "duration": 0,
    "start_time": "2024-03-17T14:01:34.759Z"
   },
   {
    "duration": 0,
    "start_time": "2024-03-17T14:01:34.760Z"
   },
   {
    "duration": 0,
    "start_time": "2024-03-17T14:01:34.761Z"
   },
   {
    "duration": 0,
    "start_time": "2024-03-17T14:01:34.762Z"
   },
   {
    "duration": 0,
    "start_time": "2024-03-17T14:01:34.763Z"
   },
   {
    "duration": 0,
    "start_time": "2024-03-17T14:01:34.763Z"
   },
   {
    "duration": 0,
    "start_time": "2024-03-17T14:01:34.764Z"
   },
   {
    "duration": 0,
    "start_time": "2024-03-17T14:01:34.765Z"
   },
   {
    "duration": 0,
    "start_time": "2024-03-17T14:01:34.766Z"
   },
   {
    "duration": 0,
    "start_time": "2024-03-17T14:01:34.767Z"
   },
   {
    "duration": 0,
    "start_time": "2024-03-17T14:01:34.768Z"
   },
   {
    "duration": 0,
    "start_time": "2024-03-17T14:01:34.769Z"
   },
   {
    "duration": 0,
    "start_time": "2024-03-17T14:01:34.770Z"
   },
   {
    "duration": 0,
    "start_time": "2024-03-17T14:01:34.771Z"
   },
   {
    "duration": 0,
    "start_time": "2024-03-17T14:01:34.772Z"
   },
   {
    "duration": 0,
    "start_time": "2024-03-17T14:01:34.773Z"
   },
   {
    "duration": 0,
    "start_time": "2024-03-17T14:01:34.774Z"
   },
   {
    "duration": 0,
    "start_time": "2024-03-17T14:01:34.776Z"
   },
   {
    "duration": 0,
    "start_time": "2024-03-17T14:01:34.776Z"
   },
   {
    "duration": 0,
    "start_time": "2024-03-17T14:01:34.778Z"
   },
   {
    "duration": 0,
    "start_time": "2024-03-17T14:01:34.779Z"
   },
   {
    "duration": 43,
    "start_time": "2024-03-17T14:23:37.607Z"
   },
   {
    "duration": 1167,
    "start_time": "2024-03-17T14:23:43.045Z"
   },
   {
    "duration": 212,
    "start_time": "2024-03-17T14:23:44.214Z"
   },
   {
    "duration": 23,
    "start_time": "2024-03-17T14:23:44.427Z"
   },
   {
    "duration": 12,
    "start_time": "2024-03-17T14:23:44.611Z"
   },
   {
    "duration": 4,
    "start_time": "2024-03-17T14:23:44.725Z"
   },
   {
    "duration": 9,
    "start_time": "2024-03-17T14:23:45.047Z"
   },
   {
    "duration": 7,
    "start_time": "2024-03-17T14:23:45.361Z"
   },
   {
    "duration": 5,
    "start_time": "2024-03-17T14:23:46.158Z"
   },
   {
    "duration": 239,
    "start_time": "2024-03-17T14:23:46.455Z"
   },
   {
    "duration": 81,
    "start_time": "2024-03-17T14:23:47.106Z"
   },
   {
    "duration": 1087,
    "start_time": "2024-03-17T14:48:19.432Z"
   },
   {
    "duration": 86,
    "start_time": "2024-03-17T14:48:20.520Z"
   },
   {
    "duration": 23,
    "start_time": "2024-03-17T14:48:20.608Z"
   },
   {
    "duration": 13,
    "start_time": "2024-03-17T14:48:20.633Z"
   },
   {
    "duration": 18,
    "start_time": "2024-03-17T14:48:20.648Z"
   },
   {
    "duration": 9,
    "start_time": "2024-03-17T14:48:20.668Z"
   },
   {
    "duration": 7,
    "start_time": "2024-03-17T14:48:20.679Z"
   },
   {
    "duration": 8,
    "start_time": "2024-03-17T14:48:20.687Z"
   },
   {
    "duration": 260,
    "start_time": "2024-03-17T14:48:20.696Z"
   },
   {
    "duration": 97,
    "start_time": "2024-03-17T14:48:20.959Z"
   },
   {
    "duration": 185,
    "start_time": "2024-03-17T14:48:21.065Z"
   },
   {
    "duration": 205,
    "start_time": "2024-03-17T14:48:21.252Z"
   },
   {
    "duration": 210,
    "start_time": "2024-03-17T14:48:21.464Z"
   },
   {
    "duration": 19,
    "start_time": "2024-03-17T14:48:21.676Z"
   },
   {
    "duration": 27,
    "start_time": "2024-03-17T14:48:21.697Z"
   },
   {
    "duration": 42,
    "start_time": "2024-03-17T14:48:21.725Z"
   },
   {
    "duration": 538,
    "start_time": "2024-03-17T14:48:21.768Z"
   },
   {
    "duration": 561,
    "start_time": "2024-03-17T14:48:22.308Z"
   },
   {
    "duration": 4,
    "start_time": "2024-03-17T14:48:22.870Z"
   },
   {
    "duration": 30,
    "start_time": "2024-03-17T14:48:22.875Z"
   },
   {
    "duration": 46,
    "start_time": "2024-03-17T14:48:22.907Z"
   },
   {
    "duration": 16,
    "start_time": "2024-03-17T14:48:22.965Z"
   },
   {
    "duration": 469,
    "start_time": "2024-03-17T14:48:22.982Z"
   },
   {
    "duration": 12,
    "start_time": "2024-03-17T14:48:23.452Z"
   },
   {
    "duration": 4,
    "start_time": "2024-03-17T14:48:23.466Z"
   },
   {
    "duration": 5,
    "start_time": "2024-03-17T14:48:23.472Z"
   },
   {
    "duration": 4,
    "start_time": "2024-03-17T14:48:23.479Z"
   },
   {
    "duration": 4,
    "start_time": "2024-03-17T14:48:23.486Z"
   },
   {
    "duration": 9,
    "start_time": "2024-03-17T14:48:23.491Z"
   },
   {
    "duration": 174,
    "start_time": "2024-03-17T14:48:23.502Z"
   },
   {
    "duration": 1809,
    "start_time": "2024-03-17T14:48:23.678Z"
   },
   {
    "duration": 1542,
    "start_time": "2024-03-17T14:48:25.489Z"
   },
   {
    "duration": 4,
    "start_time": "2024-03-17T14:48:27.032Z"
   },
   {
    "duration": 1029,
    "start_time": "2024-03-17T14:49:12.995Z"
   },
   {
    "duration": 86,
    "start_time": "2024-03-17T14:49:14.026Z"
   },
   {
    "duration": 22,
    "start_time": "2024-03-17T14:49:14.114Z"
   },
   {
    "duration": 12,
    "start_time": "2024-03-17T14:49:14.138Z"
   },
   {
    "duration": 13,
    "start_time": "2024-03-17T14:49:14.152Z"
   },
   {
    "duration": 10,
    "start_time": "2024-03-17T14:49:14.166Z"
   },
   {
    "duration": 7,
    "start_time": "2024-03-17T14:49:14.178Z"
   },
   {
    "duration": 6,
    "start_time": "2024-03-17T14:49:14.187Z"
   },
   {
    "duration": 239,
    "start_time": "2024-03-17T14:49:14.195Z"
   },
   {
    "duration": 94,
    "start_time": "2024-03-17T14:49:14.437Z"
   },
   {
    "duration": 192,
    "start_time": "2024-03-17T14:49:14.532Z"
   },
   {
    "duration": 222,
    "start_time": "2024-03-17T14:49:14.726Z"
   },
   {
    "duration": 231,
    "start_time": "2024-03-17T14:49:14.950Z"
   },
   {
    "duration": 17,
    "start_time": "2024-03-17T14:49:15.183Z"
   },
   {
    "duration": 24,
    "start_time": "2024-03-17T14:49:15.202Z"
   },
   {
    "duration": 42,
    "start_time": "2024-03-17T14:49:15.228Z"
   },
   {
    "duration": 473,
    "start_time": "2024-03-17T14:49:15.272Z"
   },
   {
    "duration": 562,
    "start_time": "2024-03-17T14:49:15.747Z"
   },
   {
    "duration": 4,
    "start_time": "2024-03-17T14:49:16.310Z"
   },
   {
    "duration": 25,
    "start_time": "2024-03-17T14:49:16.315Z"
   },
   {
    "duration": 61,
    "start_time": "2024-03-17T14:49:16.342Z"
   },
   {
    "duration": 16,
    "start_time": "2024-03-17T14:49:16.404Z"
   },
   {
    "duration": 471,
    "start_time": "2024-03-17T14:49:16.421Z"
   },
   {
    "duration": 5,
    "start_time": "2024-03-17T14:49:16.894Z"
   },
   {
    "duration": 6,
    "start_time": "2024-03-17T14:49:16.900Z"
   },
   {
    "duration": 5,
    "start_time": "2024-03-17T14:49:16.907Z"
   },
   {
    "duration": 7,
    "start_time": "2024-03-17T14:49:16.913Z"
   },
   {
    "duration": 4,
    "start_time": "2024-03-17T14:49:16.923Z"
   },
   {
    "duration": 6,
    "start_time": "2024-03-17T14:49:16.928Z"
   },
   {
    "duration": 167,
    "start_time": "2024-03-17T14:49:16.966Z"
   },
   {
    "duration": 1818,
    "start_time": "2024-03-17T14:49:17.135Z"
   },
   {
    "duration": 1512,
    "start_time": "2024-03-17T14:49:18.955Z"
   },
   {
    "duration": 4,
    "start_time": "2024-03-17T14:49:20.469Z"
   },
   {
    "duration": 53,
    "start_time": "2024-03-17T17:32:52.227Z"
   },
   {
    "duration": 1311,
    "start_time": "2024-03-17T17:32:56.236Z"
   },
   {
    "duration": 323,
    "start_time": "2024-03-17T17:32:57.549Z"
   },
   {
    "duration": 85,
    "start_time": "2024-03-17T17:33:05.576Z"
   }
  ],
  "kernelspec": {
   "display_name": "Python 3 (ipykernel)",
   "language": "python",
   "name": "python3"
  },
  "language_info": {
   "codemirror_mode": {
    "name": "ipython",
    "version": 3
   },
   "file_extension": ".py",
   "mimetype": "text/x-python",
   "name": "python",
   "nbconvert_exporter": "python",
   "pygments_lexer": "ipython3",
   "version": "3.11.3"
  },
  "toc": {
   "base_numbering": 1,
   "nav_menu": {},
   "number_sections": true,
   "sideBar": true,
   "skip_h1_title": true,
   "title_cell": "Table of Contents",
   "title_sidebar": "Contents",
   "toc_cell": false,
   "toc_position": {},
   "toc_section_display": true,
   "toc_window_display": false
  }
 },
 "nbformat": 4,
 "nbformat_minor": 5
}
