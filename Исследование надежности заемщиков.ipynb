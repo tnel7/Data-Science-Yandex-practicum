{
 "cells": [
  {
   "cell_type": "markdown",
   "id": "b441dfc3",
   "metadata": {
    "deletable": false,
    "editable": false,
    "id": "c81daeeb"
   },
   "source": [
    "# Исследование надежности заемщиков\n"
   ]
  },
  {
   "cell_type": "markdown",
   "id": "f7324f70",
   "metadata": {
    "deletable": false,
    "editable": false,
    "id": "827c20bf"
   },
   "source": [
    "Во второй части проекта вы выполните шаги 3 и 4. Их вручную проверит ревьюер.\n",
    "Чтобы вам не пришлось писать код заново для шагов 1 и 2, мы добавили авторские решения в ячейки с кодом. \n",
    "\n"
   ]
  },
  {
   "cell_type": "markdown",
   "id": "0eff089f",
   "metadata": {
    "deletable": false,
    "editable": false,
    "id": "744d7639"
   },
   "source": [
    "## Откройте таблицу и изучите общую информацию о данных"
   ]
  },
  {
   "cell_type": "markdown",
   "id": "88ee35a3",
   "metadata": {
    "deletable": false,
    "editable": false,
    "id": "e7a14c31"
   },
   "source": [
    "**Задание 1. Импортируйте библиотеку pandas. Считайте данные из csv-файла в датафрейм и сохраните в переменную `data`. Путь к файлу:**\n",
    "\n",
    "`/datasets/data.csv`"
   ]
  },
  {
   "cell_type": "code",
   "execution_count": 2,
   "id": "9827c521",
   "metadata": {
    "deletable": false,
    "id": "7bcf75c9"
   },
   "outputs": [],
   "source": [
    "import pandas as pd\n",
    "\n",
    "try:\n",
    "    data = pd.read_csv('/datasets/data.csv')\n",
    "except:\n",
    "    data = pd.read_csv('https://code.s3.yandex.net/datasets/data.csv')"
   ]
  },
  {
   "cell_type": "markdown",
   "id": "f07b1d3b",
   "metadata": {
    "deletable": false,
    "editable": false,
    "id": "b8038fe3"
   },
   "source": [
    "**Задание 2. Выведите первые 20 строчек датафрейма `data` на экран.**"
   ]
  },
  {
   "cell_type": "code",
   "execution_count": 3,
   "id": "81f72082",
   "metadata": {
    "deletable": false,
    "id": "2a7cab99",
    "outputId": "1a8f3ef2-d323-4ec2-ddf7-89670b5944c4"
   },
   "outputs": [
    {
     "data": {
      "text/html": [
       "<div>\n",
       "<style scoped>\n",
       "    .dataframe tbody tr th:only-of-type {\n",
       "        vertical-align: middle;\n",
       "    }\n",
       "\n",
       "    .dataframe tbody tr th {\n",
       "        vertical-align: top;\n",
       "    }\n",
       "\n",
       "    .dataframe thead th {\n",
       "        text-align: right;\n",
       "    }\n",
       "</style>\n",
       "<table border=\"1\" class=\"dataframe\">\n",
       "  <thead>\n",
       "    <tr style=\"text-align: right;\">\n",
       "      <th></th>\n",
       "      <th>children</th>\n",
       "      <th>days_employed</th>\n",
       "      <th>dob_years</th>\n",
       "      <th>education</th>\n",
       "      <th>education_id</th>\n",
       "      <th>family_status</th>\n",
       "      <th>family_status_id</th>\n",
       "      <th>gender</th>\n",
       "      <th>income_type</th>\n",
       "      <th>debt</th>\n",
       "      <th>total_income</th>\n",
       "      <th>purpose</th>\n",
       "    </tr>\n",
       "  </thead>\n",
       "  <tbody>\n",
       "    <tr>\n",
       "      <th>0</th>\n",
       "      <td>1</td>\n",
       "      <td>-8437.673028</td>\n",
       "      <td>42</td>\n",
       "      <td>высшее</td>\n",
       "      <td>0</td>\n",
       "      <td>женат / замужем</td>\n",
       "      <td>0</td>\n",
       "      <td>F</td>\n",
       "      <td>сотрудник</td>\n",
       "      <td>0</td>\n",
       "      <td>253875.639453</td>\n",
       "      <td>покупка жилья</td>\n",
       "    </tr>\n",
       "    <tr>\n",
       "      <th>1</th>\n",
       "      <td>1</td>\n",
       "      <td>-4024.803754</td>\n",
       "      <td>36</td>\n",
       "      <td>среднее</td>\n",
       "      <td>1</td>\n",
       "      <td>женат / замужем</td>\n",
       "      <td>0</td>\n",
       "      <td>F</td>\n",
       "      <td>сотрудник</td>\n",
       "      <td>0</td>\n",
       "      <td>112080.014102</td>\n",
       "      <td>приобретение автомобиля</td>\n",
       "    </tr>\n",
       "    <tr>\n",
       "      <th>2</th>\n",
       "      <td>0</td>\n",
       "      <td>-5623.422610</td>\n",
       "      <td>33</td>\n",
       "      <td>Среднее</td>\n",
       "      <td>1</td>\n",
       "      <td>женат / замужем</td>\n",
       "      <td>0</td>\n",
       "      <td>M</td>\n",
       "      <td>сотрудник</td>\n",
       "      <td>0</td>\n",
       "      <td>145885.952297</td>\n",
       "      <td>покупка жилья</td>\n",
       "    </tr>\n",
       "    <tr>\n",
       "      <th>3</th>\n",
       "      <td>3</td>\n",
       "      <td>-4124.747207</td>\n",
       "      <td>32</td>\n",
       "      <td>среднее</td>\n",
       "      <td>1</td>\n",
       "      <td>женат / замужем</td>\n",
       "      <td>0</td>\n",
       "      <td>M</td>\n",
       "      <td>сотрудник</td>\n",
       "      <td>0</td>\n",
       "      <td>267628.550329</td>\n",
       "      <td>дополнительное образование</td>\n",
       "    </tr>\n",
       "    <tr>\n",
       "      <th>4</th>\n",
       "      <td>0</td>\n",
       "      <td>340266.072047</td>\n",
       "      <td>53</td>\n",
       "      <td>среднее</td>\n",
       "      <td>1</td>\n",
       "      <td>гражданский брак</td>\n",
       "      <td>1</td>\n",
       "      <td>F</td>\n",
       "      <td>пенсионер</td>\n",
       "      <td>0</td>\n",
       "      <td>158616.077870</td>\n",
       "      <td>сыграть свадьбу</td>\n",
       "    </tr>\n",
       "    <tr>\n",
       "      <th>5</th>\n",
       "      <td>0</td>\n",
       "      <td>-926.185831</td>\n",
       "      <td>27</td>\n",
       "      <td>высшее</td>\n",
       "      <td>0</td>\n",
       "      <td>гражданский брак</td>\n",
       "      <td>1</td>\n",
       "      <td>M</td>\n",
       "      <td>компаньон</td>\n",
       "      <td>0</td>\n",
       "      <td>255763.565419</td>\n",
       "      <td>покупка жилья</td>\n",
       "    </tr>\n",
       "    <tr>\n",
       "      <th>6</th>\n",
       "      <td>0</td>\n",
       "      <td>-2879.202052</td>\n",
       "      <td>43</td>\n",
       "      <td>высшее</td>\n",
       "      <td>0</td>\n",
       "      <td>женат / замужем</td>\n",
       "      <td>0</td>\n",
       "      <td>F</td>\n",
       "      <td>компаньон</td>\n",
       "      <td>0</td>\n",
       "      <td>240525.971920</td>\n",
       "      <td>операции с жильем</td>\n",
       "    </tr>\n",
       "    <tr>\n",
       "      <th>7</th>\n",
       "      <td>0</td>\n",
       "      <td>-152.779569</td>\n",
       "      <td>50</td>\n",
       "      <td>СРЕДНЕЕ</td>\n",
       "      <td>1</td>\n",
       "      <td>женат / замужем</td>\n",
       "      <td>0</td>\n",
       "      <td>M</td>\n",
       "      <td>сотрудник</td>\n",
       "      <td>0</td>\n",
       "      <td>135823.934197</td>\n",
       "      <td>образование</td>\n",
       "    </tr>\n",
       "    <tr>\n",
       "      <th>8</th>\n",
       "      <td>2</td>\n",
       "      <td>-6929.865299</td>\n",
       "      <td>35</td>\n",
       "      <td>ВЫСШЕЕ</td>\n",
       "      <td>0</td>\n",
       "      <td>гражданский брак</td>\n",
       "      <td>1</td>\n",
       "      <td>F</td>\n",
       "      <td>сотрудник</td>\n",
       "      <td>0</td>\n",
       "      <td>95856.832424</td>\n",
       "      <td>на проведение свадьбы</td>\n",
       "    </tr>\n",
       "    <tr>\n",
       "      <th>9</th>\n",
       "      <td>0</td>\n",
       "      <td>-2188.756445</td>\n",
       "      <td>41</td>\n",
       "      <td>среднее</td>\n",
       "      <td>1</td>\n",
       "      <td>женат / замужем</td>\n",
       "      <td>0</td>\n",
       "      <td>M</td>\n",
       "      <td>сотрудник</td>\n",
       "      <td>0</td>\n",
       "      <td>144425.938277</td>\n",
       "      <td>покупка жилья для семьи</td>\n",
       "    </tr>\n",
       "    <tr>\n",
       "      <th>10</th>\n",
       "      <td>2</td>\n",
       "      <td>-4171.483647</td>\n",
       "      <td>36</td>\n",
       "      <td>высшее</td>\n",
       "      <td>0</td>\n",
       "      <td>женат / замужем</td>\n",
       "      <td>0</td>\n",
       "      <td>M</td>\n",
       "      <td>компаньон</td>\n",
       "      <td>0</td>\n",
       "      <td>113943.491460</td>\n",
       "      <td>покупка недвижимости</td>\n",
       "    </tr>\n",
       "    <tr>\n",
       "      <th>11</th>\n",
       "      <td>0</td>\n",
       "      <td>-792.701887</td>\n",
       "      <td>40</td>\n",
       "      <td>среднее</td>\n",
       "      <td>1</td>\n",
       "      <td>женат / замужем</td>\n",
       "      <td>0</td>\n",
       "      <td>F</td>\n",
       "      <td>сотрудник</td>\n",
       "      <td>0</td>\n",
       "      <td>77069.234271</td>\n",
       "      <td>покупка коммерческой недвижимости</td>\n",
       "    </tr>\n",
       "    <tr>\n",
       "      <th>12</th>\n",
       "      <td>0</td>\n",
       "      <td>NaN</td>\n",
       "      <td>65</td>\n",
       "      <td>среднее</td>\n",
       "      <td>1</td>\n",
       "      <td>гражданский брак</td>\n",
       "      <td>1</td>\n",
       "      <td>M</td>\n",
       "      <td>пенсионер</td>\n",
       "      <td>0</td>\n",
       "      <td>NaN</td>\n",
       "      <td>сыграть свадьбу</td>\n",
       "    </tr>\n",
       "    <tr>\n",
       "      <th>13</th>\n",
       "      <td>0</td>\n",
       "      <td>-1846.641941</td>\n",
       "      <td>54</td>\n",
       "      <td>неоконченное высшее</td>\n",
       "      <td>2</td>\n",
       "      <td>женат / замужем</td>\n",
       "      <td>0</td>\n",
       "      <td>F</td>\n",
       "      <td>сотрудник</td>\n",
       "      <td>0</td>\n",
       "      <td>130458.228857</td>\n",
       "      <td>приобретение автомобиля</td>\n",
       "    </tr>\n",
       "    <tr>\n",
       "      <th>14</th>\n",
       "      <td>0</td>\n",
       "      <td>-1844.956182</td>\n",
       "      <td>56</td>\n",
       "      <td>высшее</td>\n",
       "      <td>0</td>\n",
       "      <td>гражданский брак</td>\n",
       "      <td>1</td>\n",
       "      <td>F</td>\n",
       "      <td>компаньон</td>\n",
       "      <td>1</td>\n",
       "      <td>165127.911772</td>\n",
       "      <td>покупка жилой недвижимости</td>\n",
       "    </tr>\n",
       "    <tr>\n",
       "      <th>15</th>\n",
       "      <td>1</td>\n",
       "      <td>-972.364419</td>\n",
       "      <td>26</td>\n",
       "      <td>среднее</td>\n",
       "      <td>1</td>\n",
       "      <td>женат / замужем</td>\n",
       "      <td>0</td>\n",
       "      <td>F</td>\n",
       "      <td>сотрудник</td>\n",
       "      <td>0</td>\n",
       "      <td>116820.904450</td>\n",
       "      <td>строительство собственной недвижимости</td>\n",
       "    </tr>\n",
       "    <tr>\n",
       "      <th>16</th>\n",
       "      <td>0</td>\n",
       "      <td>-1719.934226</td>\n",
       "      <td>35</td>\n",
       "      <td>среднее</td>\n",
       "      <td>1</td>\n",
       "      <td>женат / замужем</td>\n",
       "      <td>0</td>\n",
       "      <td>F</td>\n",
       "      <td>сотрудник</td>\n",
       "      <td>0</td>\n",
       "      <td>289202.704229</td>\n",
       "      <td>недвижимость</td>\n",
       "    </tr>\n",
       "    <tr>\n",
       "      <th>17</th>\n",
       "      <td>0</td>\n",
       "      <td>-2369.999720</td>\n",
       "      <td>33</td>\n",
       "      <td>высшее</td>\n",
       "      <td>0</td>\n",
       "      <td>гражданский брак</td>\n",
       "      <td>1</td>\n",
       "      <td>M</td>\n",
       "      <td>сотрудник</td>\n",
       "      <td>0</td>\n",
       "      <td>90410.586745</td>\n",
       "      <td>строительство недвижимости</td>\n",
       "    </tr>\n",
       "    <tr>\n",
       "      <th>18</th>\n",
       "      <td>0</td>\n",
       "      <td>400281.136913</td>\n",
       "      <td>53</td>\n",
       "      <td>среднее</td>\n",
       "      <td>1</td>\n",
       "      <td>вдовец / вдова</td>\n",
       "      <td>2</td>\n",
       "      <td>F</td>\n",
       "      <td>пенсионер</td>\n",
       "      <td>0</td>\n",
       "      <td>56823.777243</td>\n",
       "      <td>на покупку подержанного автомобиля</td>\n",
       "    </tr>\n",
       "    <tr>\n",
       "      <th>19</th>\n",
       "      <td>0</td>\n",
       "      <td>-10038.818549</td>\n",
       "      <td>48</td>\n",
       "      <td>СРЕДНЕЕ</td>\n",
       "      <td>1</td>\n",
       "      <td>в разводе</td>\n",
       "      <td>3</td>\n",
       "      <td>F</td>\n",
       "      <td>сотрудник</td>\n",
       "      <td>0</td>\n",
       "      <td>242831.107982</td>\n",
       "      <td>на покупку своего автомобиля</td>\n",
       "    </tr>\n",
       "  </tbody>\n",
       "</table>\n",
       "</div>"
      ],
      "text/plain": [
       "    children  days_employed  dob_years            education  education_id  \\\n",
       "0          1   -8437.673028         42               высшее             0   \n",
       "1          1   -4024.803754         36              среднее             1   \n",
       "2          0   -5623.422610         33              Среднее             1   \n",
       "3          3   -4124.747207         32              среднее             1   \n",
       "4          0  340266.072047         53              среднее             1   \n",
       "5          0    -926.185831         27               высшее             0   \n",
       "6          0   -2879.202052         43               высшее             0   \n",
       "7          0    -152.779569         50              СРЕДНЕЕ             1   \n",
       "8          2   -6929.865299         35               ВЫСШЕЕ             0   \n",
       "9          0   -2188.756445         41              среднее             1   \n",
       "10         2   -4171.483647         36               высшее             0   \n",
       "11         0    -792.701887         40              среднее             1   \n",
       "12         0            NaN         65              среднее             1   \n",
       "13         0   -1846.641941         54  неоконченное высшее             2   \n",
       "14         0   -1844.956182         56               высшее             0   \n",
       "15         1    -972.364419         26              среднее             1   \n",
       "16         0   -1719.934226         35              среднее             1   \n",
       "17         0   -2369.999720         33               высшее             0   \n",
       "18         0  400281.136913         53              среднее             1   \n",
       "19         0  -10038.818549         48              СРЕДНЕЕ             1   \n",
       "\n",
       "       family_status  family_status_id gender income_type  debt  \\\n",
       "0    женат / замужем                 0      F   сотрудник     0   \n",
       "1    женат / замужем                 0      F   сотрудник     0   \n",
       "2    женат / замужем                 0      M   сотрудник     0   \n",
       "3    женат / замужем                 0      M   сотрудник     0   \n",
       "4   гражданский брак                 1      F   пенсионер     0   \n",
       "5   гражданский брак                 1      M   компаньон     0   \n",
       "6    женат / замужем                 0      F   компаньон     0   \n",
       "7    женат / замужем                 0      M   сотрудник     0   \n",
       "8   гражданский брак                 1      F   сотрудник     0   \n",
       "9    женат / замужем                 0      M   сотрудник     0   \n",
       "10   женат / замужем                 0      M   компаньон     0   \n",
       "11   женат / замужем                 0      F   сотрудник     0   \n",
       "12  гражданский брак                 1      M   пенсионер     0   \n",
       "13   женат / замужем                 0      F   сотрудник     0   \n",
       "14  гражданский брак                 1      F   компаньон     1   \n",
       "15   женат / замужем                 0      F   сотрудник     0   \n",
       "16   женат / замужем                 0      F   сотрудник     0   \n",
       "17  гражданский брак                 1      M   сотрудник     0   \n",
       "18    вдовец / вдова                 2      F   пенсионер     0   \n",
       "19         в разводе                 3      F   сотрудник     0   \n",
       "\n",
       "     total_income                                 purpose  \n",
       "0   253875.639453                           покупка жилья  \n",
       "1   112080.014102                 приобретение автомобиля  \n",
       "2   145885.952297                           покупка жилья  \n",
       "3   267628.550329              дополнительное образование  \n",
       "4   158616.077870                         сыграть свадьбу  \n",
       "5   255763.565419                           покупка жилья  \n",
       "6   240525.971920                       операции с жильем  \n",
       "7   135823.934197                             образование  \n",
       "8    95856.832424                   на проведение свадьбы  \n",
       "9   144425.938277                 покупка жилья для семьи  \n",
       "10  113943.491460                    покупка недвижимости  \n",
       "11   77069.234271       покупка коммерческой недвижимости  \n",
       "12            NaN                         сыграть свадьбу  \n",
       "13  130458.228857                 приобретение автомобиля  \n",
       "14  165127.911772              покупка жилой недвижимости  \n",
       "15  116820.904450  строительство собственной недвижимости  \n",
       "16  289202.704229                            недвижимость  \n",
       "17   90410.586745              строительство недвижимости  \n",
       "18   56823.777243      на покупку подержанного автомобиля  \n",
       "19  242831.107982            на покупку своего автомобиля  "
      ]
     },
     "execution_count": 3,
     "metadata": {},
     "output_type": "execute_result"
    }
   ],
   "source": [
    "data.head(20)"
   ]
  },
  {
   "cell_type": "markdown",
   "id": "e096c978",
   "metadata": {
    "deletable": false,
    "editable": false,
    "id": "1c12e233"
   },
   "source": [
    "**Задание 3. Выведите основную информацию о датафрейме с помощью метода `info()`.**"
   ]
  },
  {
   "cell_type": "code",
   "execution_count": 4,
   "id": "134c5ec2",
   "metadata": {
    "deletable": false,
    "id": "2b757bca",
    "outputId": "15376089-8dad-46c9-b520-c05248d43158"
   },
   "outputs": [
    {
     "name": "stdout",
     "output_type": "stream",
     "text": [
      "<class 'pandas.core.frame.DataFrame'>\n",
      "RangeIndex: 21525 entries, 0 to 21524\n",
      "Data columns (total 12 columns):\n",
      " #   Column            Non-Null Count  Dtype  \n",
      "---  ------            --------------  -----  \n",
      " 0   children          21525 non-null  int64  \n",
      " 1   days_employed     19351 non-null  float64\n",
      " 2   dob_years         21525 non-null  int64  \n",
      " 3   education         21525 non-null  object \n",
      " 4   education_id      21525 non-null  int64  \n",
      " 5   family_status     21525 non-null  object \n",
      " 6   family_status_id  21525 non-null  int64  \n",
      " 7   gender            21525 non-null  object \n",
      " 8   income_type       21525 non-null  object \n",
      " 9   debt              21525 non-null  int64  \n",
      " 10  total_income      19351 non-null  float64\n",
      " 11  purpose           21525 non-null  object \n",
      "dtypes: float64(2), int64(5), object(5)\n",
      "memory usage: 2.0+ MB\n"
     ]
    }
   ],
   "source": [
    "data.info()"
   ]
  },
  {
   "cell_type": "markdown",
   "id": "95d26866",
   "metadata": {
    "deletable": false,
    "editable": false,
    "id": "333ec665"
   },
   "source": [
    "## Предобработка данных"
   ]
  },
  {
   "cell_type": "markdown",
   "id": "f3a3466d",
   "metadata": {
    "deletable": false,
    "editable": false,
    "id": "02d92d53"
   },
   "source": [
    "### Удаление пропусков"
   ]
  },
  {
   "cell_type": "markdown",
   "id": "50e97433",
   "metadata": {
    "deletable": false,
    "editable": false,
    "id": "cd84967c"
   },
   "source": [
    "**Задание 4. Выведите количество пропущенных значений для каждого столбца. Используйте комбинацию двух методов.**"
   ]
  },
  {
   "cell_type": "code",
   "execution_count": 5,
   "id": "72fe52f6",
   "metadata": {
    "deletable": false,
    "id": "7f9b2309",
    "outputId": "81f4d817-781c-465c-ed15-91ce4446810d"
   },
   "outputs": [
    {
     "data": {
      "text/plain": [
       "children               0\n",
       "days_employed       2174\n",
       "dob_years              0\n",
       "education              0\n",
       "education_id           0\n",
       "family_status          0\n",
       "family_status_id       0\n",
       "gender                 0\n",
       "income_type            0\n",
       "debt                   0\n",
       "total_income        2174\n",
       "purpose                0\n",
       "dtype: int64"
      ]
     },
     "execution_count": 5,
     "metadata": {},
     "output_type": "execute_result"
    }
   ],
   "source": [
    "data.isna().sum()"
   ]
  },
  {
   "cell_type": "markdown",
   "id": "d4bb608e",
   "metadata": {
    "deletable": false,
    "editable": false,
    "id": "db86e27b"
   },
   "source": [
    "**Задание 5. В двух столбцах есть пропущенные значения. Один из них — `days_employed`. Пропуски в этом столбце вы обработаете на следующем этапе. Другой столбец с пропущенными значениями — `total_income` — хранит данные о доходах. На сумму дохода сильнее всего влияет тип занятости, поэтому заполнить пропуски в этом столбце нужно медианным значением по каждому типу из столбца `income_type`. Например, у человека с типом занятости `сотрудник` пропуск в столбце `total_income` должен быть заполнен медианным доходом среди всех записей с тем же типом.**"
   ]
  },
  {
   "cell_type": "code",
   "execution_count": 6,
   "id": "c46c5c65",
   "metadata": {
    "deletable": false,
    "id": "42006a93"
   },
   "outputs": [],
   "source": [
    "for t in data['income_type'].unique():\n",
    "    data.loc[(data['income_type'] == t) & (data['total_income'].isna()), 'total_income'] = \\\n",
    "    data.loc[(data['income_type'] == t), 'total_income'].median()"
   ]
  },
  {
   "cell_type": "markdown",
   "id": "7b3016d2",
   "metadata": {
    "deletable": false,
    "editable": false,
    "id": "89da5ece"
   },
   "source": [
    "### Обработка аномальных значений"
   ]
  },
  {
   "cell_type": "markdown",
   "id": "60040d06",
   "metadata": {
    "deletable": false,
    "editable": false,
    "id": "57964554"
   },
   "source": [
    "**Задание 6. В данных могут встречаться артефакты (аномалии) — значения, которые не отражают действительность и появились по какой-то ошибке. таким артефактом будет отрицательное количество дней трудового стажа в столбце `days_employed`. Для реальных данных это нормально. Обработайте значения в этом столбце: замените все отрицательные значения положительными с помощью метода `abs()`.**"
   ]
  },
  {
   "cell_type": "code",
   "execution_count": 7,
   "id": "b446c51c",
   "metadata": {
    "deletable": false,
    "id": "f6f055bf"
   },
   "outputs": [],
   "source": [
    "data['days_employed'] = data['days_employed'].abs()"
   ]
  },
  {
   "cell_type": "markdown",
   "id": "f6f0319c",
   "metadata": {
    "deletable": false,
    "editable": false,
    "id": "6107dd2f"
   },
   "source": [
    "**Задание 7. Для каждого типа занятости выведите медианное значение трудового стажа `days_employed` в днях.**"
   ]
  },
  {
   "cell_type": "code",
   "execution_count": 8,
   "id": "02bd122c",
   "metadata": {
    "deletable": false,
    "id": "85a5faf6",
    "outputId": "801ef80e-522b-4668-f34e-565af7432bcf"
   },
   "outputs": [
    {
     "data": {
      "text/plain": [
       "income_type\n",
       "безработный        366413.652744\n",
       "в декрете            3296.759962\n",
       "госслужащий          2689.368353\n",
       "компаньон            1547.382223\n",
       "пенсионер          365213.306266\n",
       "предприниматель       520.848083\n",
       "сотрудник            1574.202821\n",
       "студент               578.751554\n",
       "Name: days_employed, dtype: float64"
      ]
     },
     "execution_count": 8,
     "metadata": {},
     "output_type": "execute_result"
    }
   ],
   "source": [
    "data.groupby('income_type')['days_employed'].agg('median')"
   ]
  },
  {
   "cell_type": "markdown",
   "id": "beed2fda",
   "metadata": {
    "deletable": false,
    "editable": false,
    "id": "38d1a030"
   },
   "source": [
    "У двух типов (безработные и пенсионеры) получатся аномально большие значения. Исправить такие значения сложно, поэтому оставьте их как есть. Тем более этот столбец не понадобится вам для исследования."
   ]
  },
  {
   "cell_type": "markdown",
   "id": "5374ddb9",
   "metadata": {
    "deletable": false,
    "editable": false,
    "id": "d8a9f147"
   },
   "source": [
    "**Задание 8. Выведите перечень уникальных значений столбца `children`.**"
   ]
  },
  {
   "cell_type": "code",
   "execution_count": 9,
   "id": "eee51819",
   "metadata": {
    "deletable": false,
    "id": "ef5056eb",
    "outputId": "6975b15c-7f95-4697-d16d-a0c79b657b03"
   },
   "outputs": [
    {
     "data": {
      "text/plain": [
       "array([ 1,  0,  3,  2, -1,  4, 20,  5])"
      ]
     },
     "execution_count": 9,
     "metadata": {},
     "output_type": "execute_result"
    }
   ],
   "source": [
    "data['children'].unique()"
   ]
  },
  {
   "cell_type": "markdown",
   "id": "b84f2db2",
   "metadata": {
    "deletable": false,
    "editable": false,
    "id": "40b9ebf2"
   },
   "source": [
    "**Задание 9. В столбце `children` есть два аномальных значения. Удалите строки, в которых встречаются такие аномальные значения из датафрейма `data`.**"
   ]
  },
  {
   "cell_type": "code",
   "execution_count": 10,
   "id": "5ae8f6e1",
   "metadata": {
    "deletable": false,
    "id": "3ff9801d"
   },
   "outputs": [],
   "source": [
    "data = data[(data['children'] != -1) & (data['children'] != 20)]"
   ]
  },
  {
   "cell_type": "markdown",
   "id": "d9b1761b",
   "metadata": {
    "deletable": false,
    "editable": false,
    "id": "bbc4d0ce"
   },
   "source": [
    "**Задание 10. Ещё раз выведите перечень уникальных значений столбца `children`, чтобы убедиться, что артефакты удалены.**"
   ]
  },
  {
   "cell_type": "code",
   "execution_count": 11,
   "id": "0ddf0314",
   "metadata": {
    "deletable": false,
    "id": "ad4fa8b7",
    "outputId": "b2097101-d49d-44d9-901b-32a65c9463d1"
   },
   "outputs": [
    {
     "data": {
      "text/plain": [
       "array([1, 0, 3, 2, 4, 5])"
      ]
     },
     "execution_count": 11,
     "metadata": {},
     "output_type": "execute_result"
    }
   ],
   "source": [
    "data['children'].unique()"
   ]
  },
  {
   "cell_type": "markdown",
   "id": "83777485",
   "metadata": {
    "deletable": false,
    "editable": false,
    "id": "75440b63"
   },
   "source": [
    "### Удаление пропусков (продолжение)"
   ]
  },
  {
   "cell_type": "markdown",
   "id": "948df716",
   "metadata": {
    "deletable": false,
    "editable": false,
    "id": "f4ea573f"
   },
   "source": [
    "**Задание 11. Заполните пропуски в столбце `days_employed` медианными значениями по каждого типа занятости `income_type`.**"
   ]
  },
  {
   "cell_type": "code",
   "execution_count": 12,
   "id": "a6210c3e",
   "metadata": {
    "deletable": false,
    "id": "af6b1a7e"
   },
   "outputs": [],
   "source": [
    "for t in data['income_type'].unique():\n",
    "    data.loc[(data['income_type'] == t) & (data['days_employed'].isna()), 'days_employed'] = \\\n",
    "    data.loc[(data['income_type'] == t), 'days_employed'].median()"
   ]
  },
  {
   "cell_type": "markdown",
   "id": "0fc9425e",
   "metadata": {
    "deletable": false,
    "editable": false,
    "id": "2753f40d"
   },
   "source": [
    "**Задание 12. Убедитесь, что все пропуски заполнены. Проверьте себя и ещё раз выведите количество пропущенных значений для каждого столбца с помощью двух методов.**"
   ]
  },
  {
   "cell_type": "code",
   "execution_count": 13,
   "id": "f4c6ea60",
   "metadata": {
    "deletable": false,
    "id": "55f78bc2",
    "outputId": "8da1e4e1-358e-4e87-98c9-f261bce0a7b2"
   },
   "outputs": [
    {
     "data": {
      "text/plain": [
       "children            0\n",
       "days_employed       0\n",
       "dob_years           0\n",
       "education           0\n",
       "education_id        0\n",
       "family_status       0\n",
       "family_status_id    0\n",
       "gender              0\n",
       "income_type         0\n",
       "debt                0\n",
       "total_income        0\n",
       "purpose             0\n",
       "dtype: int64"
      ]
     },
     "execution_count": 13,
     "metadata": {},
     "output_type": "execute_result"
    }
   ],
   "source": [
    "data.isna().sum()"
   ]
  },
  {
   "cell_type": "markdown",
   "id": "60caf1b5",
   "metadata": {
    "deletable": false,
    "editable": false,
    "id": "ddc81e43"
   },
   "source": [
    "### Изменение типов данных"
   ]
  },
  {
   "cell_type": "markdown",
   "id": "72861f6a",
   "metadata": {
    "deletable": false,
    "editable": false,
    "id": "42d19d24"
   },
   "source": [
    "**Задание 13. Замените вещественный тип данных в столбце `total_income` на целочисленный с помощью метода `astype()`.**"
   ]
  },
  {
   "cell_type": "code",
   "execution_count": 14,
   "id": "d52a79c2",
   "metadata": {
    "deletable": false,
    "id": "920b65ad"
   },
   "outputs": [],
   "source": [
    "data['total_income'] = data['total_income'].astype(int)"
   ]
  },
  {
   "cell_type": "markdown",
   "id": "a5cc8ebd",
   "metadata": {
    "deletable": false,
    "editable": false,
    "id": "80c420ba"
   },
   "source": [
    "### Обработка дубликатов"
   ]
  },
  {
   "cell_type": "markdown",
   "id": "5f67bc89",
   "metadata": {
    "deletable": false,
    "editable": false
   },
   "source": [
    "**Задание 14. Обработайте неявные дубликаты в столбце `education`. В этом столбце есть одни и те же значения, но записанные по-разному: с использованием заглавных и строчных букв. Приведите их к нижнему регистру. Проверьте остальные столбцы.**"
   ]
  },
  {
   "cell_type": "code",
   "execution_count": 15,
   "id": "d4d4cfdb",
   "metadata": {
    "deletable": false
   },
   "outputs": [],
   "source": [
    "data['education'] = data['education'].str.lower()"
   ]
  },
  {
   "cell_type": "markdown",
   "id": "8ceef7af",
   "metadata": {
    "deletable": false,
    "editable": false,
    "id": "dc587695"
   },
   "source": [
    "**Задание 15. Выведите на экран количество строк-дубликатов в данных. Если такие строки присутствуют, удалите их.**"
   ]
  },
  {
   "cell_type": "code",
   "execution_count": 16,
   "id": "15e66f70",
   "metadata": {
    "deletable": false,
    "id": "3ee445e4",
    "outputId": "9684deba-1934-42d1-99e1-cda61740f822"
   },
   "outputs": [
    {
     "data": {
      "text/plain": [
       "71"
      ]
     },
     "execution_count": 16,
     "metadata": {},
     "output_type": "execute_result"
    }
   ],
   "source": [
    "data.duplicated().sum()"
   ]
  },
  {
   "cell_type": "code",
   "execution_count": 17,
   "id": "ffab9600",
   "metadata": {
    "deletable": false,
    "id": "8575fe05"
   },
   "outputs": [],
   "source": [
    "data = data.drop_duplicates()"
   ]
  },
  {
   "cell_type": "markdown",
   "id": "6d27b1ba",
   "metadata": {
    "deletable": false,
    "editable": false,
    "id": "9904cf55"
   },
   "source": [
    "### Категоризация данных"
   ]
  },
  {
   "cell_type": "markdown",
   "id": "d4742e2a",
   "metadata": {
    "deletable": false,
    "editable": false,
    "id": "72fcc8a2"
   },
   "source": [
    "**Задание 16. На основании диапазонов, указанных ниже, создайте в датафрейме `data` столбец `total_income_category` с категориями:**\n",
    "\n",
    "- 0–30000 — `'E'`;\n",
    "- 30001–50000 — `'D'`;\n",
    "- 50001–200000 — `'C'`;\n",
    "- 200001–1000000 — `'B'`;\n",
    "- 1000001 и выше — `'A'`.\n",
    "\n",
    "\n",
    "**Например, кредитополучателю с доходом 25000 нужно назначить категорию `'E'`, а клиенту, получающему 235000, — `'B'`. Используйте собственную функцию с именем `categorize_income()` и метод `apply()`.**"
   ]
  },
  {
   "cell_type": "code",
   "execution_count": 18,
   "id": "f6319e86",
   "metadata": {
    "deletable": false,
    "id": "e1771346"
   },
   "outputs": [],
   "source": [
    "def categorize_income(income):\n",
    "    try:\n",
    "        if 0 <= income <= 30000:\n",
    "            return 'E'\n",
    "        elif 30001 <= income <= 50000:\n",
    "            return 'D'\n",
    "        elif 50001 <= income <= 200000:\n",
    "            return 'C'\n",
    "        elif 200001 <= income <= 1000000:\n",
    "            return 'B'\n",
    "        elif income >= 1000001:\n",
    "            return 'A'\n",
    "    except:\n",
    "        pass"
   ]
  },
  {
   "cell_type": "code",
   "execution_count": 19,
   "id": "d219f2b6",
   "metadata": {
    "deletable": false,
    "id": "d5f3586d"
   },
   "outputs": [],
   "source": [
    "data['total_income_category'] = data['total_income'].apply(categorize_income)"
   ]
  },
  {
   "cell_type": "markdown",
   "id": "3e00b8a2",
   "metadata": {
    "deletable": false,
    "editable": false,
    "id": "dde49b5c"
   },
   "source": [
    "**Задание 17. Выведите на экран перечень уникальных целей взятия кредита из столбца `purpose`.**"
   ]
  },
  {
   "cell_type": "code",
   "execution_count": 20,
   "id": "a69214f0",
   "metadata": {
    "deletable": false,
    "id": "f67ce9b3",
    "outputId": "673c12d9-7d7e-4ae0-9812-c622c89dd244"
   },
   "outputs": [
    {
     "data": {
      "text/plain": [
       "array(['покупка жилья', 'приобретение автомобиля',\n",
       "       'дополнительное образование', 'сыграть свадьбу',\n",
       "       'операции с жильем', 'образование', 'на проведение свадьбы',\n",
       "       'покупка жилья для семьи', 'покупка недвижимости',\n",
       "       'покупка коммерческой недвижимости', 'покупка жилой недвижимости',\n",
       "       'строительство собственной недвижимости', 'недвижимость',\n",
       "       'строительство недвижимости', 'на покупку подержанного автомобиля',\n",
       "       'на покупку своего автомобиля',\n",
       "       'операции с коммерческой недвижимостью',\n",
       "       'строительство жилой недвижимости', 'жилье',\n",
       "       'операции со своей недвижимостью', 'автомобили',\n",
       "       'заняться образованием', 'сделка с подержанным автомобилем',\n",
       "       'получение образования', 'автомобиль', 'свадьба',\n",
       "       'получение дополнительного образования', 'покупка своего жилья',\n",
       "       'операции с недвижимостью', 'получение высшего образования',\n",
       "       'свой автомобиль', 'сделка с автомобилем',\n",
       "       'профильное образование', 'высшее образование',\n",
       "       'покупка жилья для сдачи', 'на покупку автомобиля', 'ремонт жилью',\n",
       "       'заняться высшим образованием'], dtype=object)"
      ]
     },
     "execution_count": 20,
     "metadata": {},
     "output_type": "execute_result"
    }
   ],
   "source": [
    "data['purpose'].unique()"
   ]
  },
  {
   "cell_type": "markdown",
   "id": "e00eb747",
   "metadata": {
    "deletable": false,
    "editable": false,
    "id": "85d0aef0"
   },
   "source": [
    "**Задание 18. Создайте функцию, которая на основании данных из столбца `purpose` сформирует новый столбец `purpose_category`, в который войдут следующие категории:**\n",
    "\n",
    "- `'операции с автомобилем'`,\n",
    "- `'операции с недвижимостью'`,\n",
    "- `'проведение свадьбы'`,\n",
    "- `'получение образования'`.\n",
    "\n",
    "**Например, если в столбце `purpose` находится подстрока `'на покупку автомобиля'`, то в столбце `purpose_category` должна появиться строка `'операции с автомобилем'`.**\n",
    "\n",
    "**Используйте собственную функцию с именем `categorize_purpose()` и метод `apply()`. Изучите данные в столбце `purpose` и определите, какие подстроки помогут вам правильно определить категорию.**"
   ]
  },
  {
   "cell_type": "code",
   "execution_count": 21,
   "id": "c8d4096c",
   "metadata": {
    "deletable": false,
    "id": "e149fab4"
   },
   "outputs": [],
   "source": [
    "def categorize_purpose(row):\n",
    "    try:\n",
    "        if 'автом' in row:\n",
    "            return 'операции с автомобилем'\n",
    "        elif 'жил' in row or 'недвиж' in row:\n",
    "            return 'операции с недвижимостью'\n",
    "        elif 'свад' in row:\n",
    "            return 'проведение свадьбы'\n",
    "        elif 'образов' in row:\n",
    "            return 'получение образования'\n",
    "    except:\n",
    "        return 'нет категории'"
   ]
  },
  {
   "cell_type": "code",
   "execution_count": 22,
   "id": "3b4ddd30",
   "metadata": {
    "deletable": false,
    "id": "bf36e69b"
   },
   "outputs": [],
   "source": [
    "data['purpose_category'] = data['purpose'].apply(categorize_purpose)"
   ]
  },
  {
   "cell_type": "markdown",
   "id": "900cd18a",
   "metadata": {
    "deletable": false,
    "editable": false,
    "id": "09b242bf"
   },
   "source": [
    "### Шаг 3. Исследуйте данные и ответьте на вопросы"
   ]
  },
  {
   "cell_type": "markdown",
   "id": "09bdbc3b",
   "metadata": {
    "deletable": false,
    "editable": false,
    "id": "c5d66278"
   },
   "source": [
    "#### 3.1 Есть ли зависимость между количеством детей и возвратом кредита в срок?"
   ]
  },
  {
   "cell_type": "code",
   "execution_count": 23,
   "id": "44225c6a",
   "metadata": {
    "deletable": false,
    "id": "2cacfc4a"
   },
   "outputs": [
    {
     "data": {
      "text/html": [
       "<div>\n",
       "<style scoped>\n",
       "    .dataframe tbody tr th:only-of-type {\n",
       "        vertical-align: middle;\n",
       "    }\n",
       "\n",
       "    .dataframe tbody tr th {\n",
       "        vertical-align: top;\n",
       "    }\n",
       "\n",
       "    .dataframe thead th {\n",
       "        text-align: right;\n",
       "    }\n",
       "</style>\n",
       "<table border=\"1\" class=\"dataframe\">\n",
       "  <thead>\n",
       "    <tr style=\"text-align: right;\">\n",
       "      <th></th>\n",
       "      <th>count</th>\n",
       "      <th>sum</th>\n",
       "      <th>mean</th>\n",
       "    </tr>\n",
       "    <tr>\n",
       "      <th>children</th>\n",
       "      <th></th>\n",
       "      <th></th>\n",
       "      <th></th>\n",
       "    </tr>\n",
       "  </thead>\n",
       "  <tbody>\n",
       "    <tr>\n",
       "      <th>4</th>\n",
       "      <td>41</td>\n",
       "      <td>4</td>\n",
       "      <td>0.098</td>\n",
       "    </tr>\n",
       "    <tr>\n",
       "      <th>2</th>\n",
       "      <td>2052</td>\n",
       "      <td>194</td>\n",
       "      <td>0.095</td>\n",
       "    </tr>\n",
       "    <tr>\n",
       "      <th>1</th>\n",
       "      <td>4808</td>\n",
       "      <td>444</td>\n",
       "      <td>0.092</td>\n",
       "    </tr>\n",
       "    <tr>\n",
       "      <th>3</th>\n",
       "      <td>330</td>\n",
       "      <td>27</td>\n",
       "      <td>0.082</td>\n",
       "    </tr>\n",
       "    <tr>\n",
       "      <th>0</th>\n",
       "      <td>14091</td>\n",
       "      <td>1063</td>\n",
       "      <td>0.075</td>\n",
       "    </tr>\n",
       "    <tr>\n",
       "      <th>5</th>\n",
       "      <td>9</td>\n",
       "      <td>0</td>\n",
       "      <td>0.000</td>\n",
       "    </tr>\n",
       "  </tbody>\n",
       "</table>\n",
       "</div>"
      ],
      "text/plain": [
       "          count   sum   mean\n",
       "children                    \n",
       "4            41     4  0.098\n",
       "2          2052   194  0.095\n",
       "1          4808   444  0.092\n",
       "3           330    27  0.082\n",
       "0         14091  1063  0.075\n",
       "5             9     0  0.000"
      ]
     },
     "execution_count": 23,
     "metadata": {},
     "output_type": "execute_result"
    }
   ],
   "source": [
    "children = data.pivot_table(index = 'children', values = 'debt', aggfunc = ['count','sum','mean'])\n",
    "children['mean'] = children['mean'].round(3)\n",
    "children.columns = children.columns.get_level_values(0)\n",
    "children.sort_values(by = 'mean',ascending = False)"
   ]
  },
  {
   "cell_type": "markdown",
   "id": "20bf9615",
   "metadata": {
    "deletable": false,
    "id": "3a6b99ec"
   },
   "source": [
    "**Вывод:** опираясь на сводную таблицу по количеству детей у заемщика и показателю возврата кредита в срок можно сделать выводы что лучшая статистика у людей, у которых вообще нет детей. Учитывая что их так же довольно много, относительно остальных категорий, на данные можно смело опираться. <br/>\n",
    "У людей, которых есть дети, вне зависимости от их количества показатель возврата почти одинаковый. Думаю, что имеет роль скорее сам факт наличия или отсутсвия детей. Он и влияет на показатель. <br/>\n",
    "Но так же есть люди у которых 5 детей, и у них никогда не было задолженности. Учитывая что эта выборка в разы меньше чем все остальные, по ней сложно делать достоверные выводы. Учитывая что в близкой категории, с 4 детьми, показатель выше чем во всех остальных категориях. Думаю, ввиду малого количества представителей в выборке, можно не учитывать эти значения. <br/>\n",
    "Как итог: если у человека нет детей, он с большей вероятностью вернет кредит, чем тот, у кого есть хотя бы 1 ребенок."
   ]
  },
  {
   "cell_type": "markdown",
   "id": "08cb75f1",
   "metadata": {
    "deletable": false,
    "editable": false,
    "id": "97be82ca"
   },
   "source": [
    "#### 3.2 Есть ли зависимость между семейным положением и возвратом кредита в срок?"
   ]
  },
  {
   "cell_type": "markdown",
   "id": "5503ae78",
   "metadata": {},
   "source": [
    "Выведем сводную таблицу по соотношению семейного положения человека и среднего значения его показателя, по возврату кредита в срок. В таблице в столбце 'mean' чем выше значение, тем больше показатель того что человек имел задолжность. "
   ]
  },
  {
   "cell_type": "code",
   "execution_count": 24,
   "id": "b0e2def5",
   "metadata": {
    "deletable": false,
    "id": "dc3f7ee8"
   },
   "outputs": [
    {
     "data": {
      "text/html": [
       "<div>\n",
       "<style scoped>\n",
       "    .dataframe tbody tr th:only-of-type {\n",
       "        vertical-align: middle;\n",
       "    }\n",
       "\n",
       "    .dataframe tbody tr th {\n",
       "        vertical-align: top;\n",
       "    }\n",
       "\n",
       "    .dataframe thead th {\n",
       "        text-align: right;\n",
       "    }\n",
       "</style>\n",
       "<table border=\"1\" class=\"dataframe\">\n",
       "  <thead>\n",
       "    <tr style=\"text-align: right;\">\n",
       "      <th></th>\n",
       "      <th>count</th>\n",
       "      <th>sum</th>\n",
       "      <th>mean</th>\n",
       "    </tr>\n",
       "    <tr>\n",
       "      <th>family_status</th>\n",
       "      <th></th>\n",
       "      <th></th>\n",
       "      <th></th>\n",
       "    </tr>\n",
       "  </thead>\n",
       "  <tbody>\n",
       "    <tr>\n",
       "      <th>Не женат / не замужем</th>\n",
       "      <td>2796</td>\n",
       "      <td>273</td>\n",
       "      <td>0.098</td>\n",
       "    </tr>\n",
       "    <tr>\n",
       "      <th>гражданский брак</th>\n",
       "      <td>4134</td>\n",
       "      <td>385</td>\n",
       "      <td>0.093</td>\n",
       "    </tr>\n",
       "    <tr>\n",
       "      <th>женат / замужем</th>\n",
       "      <td>12261</td>\n",
       "      <td>927</td>\n",
       "      <td>0.076</td>\n",
       "    </tr>\n",
       "    <tr>\n",
       "      <th>в разводе</th>\n",
       "      <td>1189</td>\n",
       "      <td>84</td>\n",
       "      <td>0.071</td>\n",
       "    </tr>\n",
       "    <tr>\n",
       "      <th>вдовец / вдова</th>\n",
       "      <td>951</td>\n",
       "      <td>63</td>\n",
       "      <td>0.066</td>\n",
       "    </tr>\n",
       "  </tbody>\n",
       "</table>\n",
       "</div>"
      ],
      "text/plain": [
       "                       count  sum   mean\n",
       "family_status                           \n",
       "Не женат / не замужем   2796  273  0.098\n",
       "гражданский брак        4134  385  0.093\n",
       "женат / замужем        12261  927  0.076\n",
       "в разводе               1189   84  0.071\n",
       "вдовец / вдова           951   63  0.066"
      ]
     },
     "execution_count": 24,
     "metadata": {},
     "output_type": "execute_result"
    }
   ],
   "source": [
    "family_status = data.pivot_table(index = 'family_status', values = 'debt', aggfunc = ['count','sum','mean'])\n",
    "family_status['mean'] = family_status['mean'].round(3)\n",
    "family_status.columns = family_status.columns.get_level_values(0)\n",
    "family_status.sort_values(by = 'mean', ascending = False)"
   ]
  },
  {
   "cell_type": "markdown",
   "id": "0b55c78c",
   "metadata": {},
   "source": [
    "Опираясь на таблицу, можно сделать выводы, что самыми недобросовестными заемщиками оказались неженатые люди, и те кто проживает в гражданском браке. Дальше, почти на одном уровне идут люди которые находятся в браке либо были в нем и развелись, он уже меньше, но все равно относильно большой. И самый лучшая статистика по возврату кредитов в срок у людей со статусом 'вдовец/вдова'. \n",
    "Предположим что возврат кредита зависит от того, живет человек в одиночестве или с партнером. Выведем сводную таблицу по тем кто живет один и с кем-то и его показателем возврата в срок."
   ]
  },
  {
   "cell_type": "code",
   "execution_count": 25,
   "id": "3d133581",
   "metadata": {},
   "outputs": [
    {
     "name": "stdout",
     "output_type": "stream",
     "text": [
      "\n",
      "Процент кредитов у пар 8.002%\n",
      "Процент кредитов у одиноких 8.509%\n",
      "\n"
     ]
    },
    {
     "data": {
      "text/html": [
       "<div>\n",
       "<style scoped>\n",
       "    .dataframe tbody tr th:only-of-type {\n",
       "        vertical-align: middle;\n",
       "    }\n",
       "\n",
       "    .dataframe tbody tr th {\n",
       "        vertical-align: top;\n",
       "    }\n",
       "\n",
       "    .dataframe thead th {\n",
       "        text-align: right;\n",
       "    }\n",
       "</style>\n",
       "<table border=\"1\" class=\"dataframe\">\n",
       "  <thead>\n",
       "    <tr style=\"text-align: right;\">\n",
       "      <th></th>\n",
       "      <th>count</th>\n",
       "      <th>sum</th>\n",
       "      <th>mean</th>\n",
       "    </tr>\n",
       "    <tr>\n",
       "      <th>status</th>\n",
       "      <th></th>\n",
       "      <th></th>\n",
       "      <th></th>\n",
       "    </tr>\n",
       "  </thead>\n",
       "  <tbody>\n",
       "    <tr>\n",
       "      <th>один</th>\n",
       "      <td>4936</td>\n",
       "      <td>420</td>\n",
       "      <td>0.085</td>\n",
       "    </tr>\n",
       "    <tr>\n",
       "      <th>вдвоем</th>\n",
       "      <td>16395</td>\n",
       "      <td>1312</td>\n",
       "      <td>0.080</td>\n",
       "    </tr>\n",
       "  </tbody>\n",
       "</table>\n",
       "</div>"
      ],
      "text/plain": [
       "        count   sum   mean\n",
       "status                    \n",
       "один     4936   420  0.085\n",
       "вдвоем  16395  1312  0.080"
      ]
     },
     "execution_count": 25,
     "metadata": {},
     "output_type": "execute_result"
    }
   ],
   "source": [
    "def loneliness(status):\n",
    "    if status == 'женат / замужем' or status == 'гражданский брак':\n",
    "        return 'вдвоем'\n",
    "    else:\n",
    "        return 'один'\n",
    "data['status'] = data['family_status'].apply(loneliness)\n",
    "\n",
    "percent_of_debt_single = data.groupby('status')['debt'].sum()[1]/data.groupby('status')['gender'].count()[1]\n",
    "percent_of_debt_couple = data.groupby('status')['debt'].sum()[0]/data.groupby('status')['gender'].count()[0]\n",
    "\n",
    "print(f'\\nПроцент кредитов у пар {percent_of_debt_couple:.3%}')\n",
    "print('Процент кредитов у одиноких {:.3%}\\n'.format(percent_of_debt_single))\n",
    "\n",
    "status = data.pivot_table(index = 'status', values = 'debt', aggfunc = ['count','sum','mean'])\n",
    "status['mean'] = status['mean'].round(3)\n",
    "status.columns = status.columns.get_level_values(0)\n",
    "status.sort_values(by = 'mean', ascending = False)\n",
    "\n"
   ]
  },
  {
   "cell_type": "markdown",
   "id": "b2fa5925",
   "metadata": {
    "deletable": false,
    "id": "1cef7837"
   },
   "source": [
    "**Вывод:** Если делать выводы по каждому из статусов семейного положения, то можно сказать что самыми недобросовестными заемщиками являются те, кто никогда не вступал в брак, вероятность того что они будут иметь долг по кредиту самая высокая из всех остальных групп и равна. Далее идут люди которые живут в браке либо разведены, их вероятность иметь уже заметно ниже. И лучший показатель возврата кредитов у овдовевших людей. Вывод: зависимость между семейным положением и возвратом кредита в срок есть.<br/>\n",
    "Если же попытаться сделать выводы по тому, живет ли человек один или с кем-то, показатели очень близки друг к другу. Можно сделать вывод что между этими характеристиками зависимости нет."
   ]
  },
  {
   "cell_type": "markdown",
   "id": "5d372852",
   "metadata": {
    "deletable": false,
    "editable": false,
    "id": "1e8b2fca"
   },
   "source": [
    "#### 3.3 Есть ли зависимость между уровнем дохода и возвратом кредита в срок?"
   ]
  },
  {
   "cell_type": "code",
   "execution_count": 26,
   "id": "adbd19f8",
   "metadata": {
    "deletable": false,
    "id": "cd7e3720"
   },
   "outputs": [
    {
     "name": "stdout",
     "output_type": "stream",
     "text": [
      "\n",
      "Зависимость между уровнем дохода и возвратом кредита в срок\n",
      "\n",
      "Е - самый низкий доход, А - самый высокий\n",
      "\n"
     ]
    },
    {
     "data": {
      "text/html": [
       "<div>\n",
       "<style scoped>\n",
       "    .dataframe tbody tr th:only-of-type {\n",
       "        vertical-align: middle;\n",
       "    }\n",
       "\n",
       "    .dataframe tbody tr th {\n",
       "        vertical-align: top;\n",
       "    }\n",
       "\n",
       "    .dataframe thead th {\n",
       "        text-align: right;\n",
       "    }\n",
       "</style>\n",
       "<table border=\"1\" class=\"dataframe\">\n",
       "  <thead>\n",
       "    <tr style=\"text-align: right;\">\n",
       "      <th></th>\n",
       "      <th>count</th>\n",
       "      <th>sum</th>\n",
       "      <th>mean</th>\n",
       "    </tr>\n",
       "    <tr>\n",
       "      <th>total_income_category</th>\n",
       "      <th></th>\n",
       "      <th></th>\n",
       "      <th></th>\n",
       "    </tr>\n",
       "  </thead>\n",
       "  <tbody>\n",
       "    <tr>\n",
       "      <th>E</th>\n",
       "      <td>22</td>\n",
       "      <td>2</td>\n",
       "      <td>0.091</td>\n",
       "    </tr>\n",
       "    <tr>\n",
       "      <th>C</th>\n",
       "      <td>15921</td>\n",
       "      <td>1353</td>\n",
       "      <td>0.085</td>\n",
       "    </tr>\n",
       "    <tr>\n",
       "      <th>A</th>\n",
       "      <td>25</td>\n",
       "      <td>2</td>\n",
       "      <td>0.080</td>\n",
       "    </tr>\n",
       "    <tr>\n",
       "      <th>B</th>\n",
       "      <td>5014</td>\n",
       "      <td>354</td>\n",
       "      <td>0.071</td>\n",
       "    </tr>\n",
       "    <tr>\n",
       "      <th>D</th>\n",
       "      <td>349</td>\n",
       "      <td>21</td>\n",
       "      <td>0.060</td>\n",
       "    </tr>\n",
       "  </tbody>\n",
       "</table>\n",
       "</div>"
      ],
      "text/plain": [
       "                       count   sum   mean\n",
       "total_income_category                    \n",
       "E                         22     2  0.091\n",
       "C                      15921  1353  0.085\n",
       "A                         25     2  0.080\n",
       "B                       5014   354  0.071\n",
       "D                        349    21  0.060"
      ]
     },
     "execution_count": 26,
     "metadata": {},
     "output_type": "execute_result"
    }
   ],
   "source": [
    "print('\\nЗависимость между уровнем дохода и возвратом кредита в срок\\n')\n",
    "print('Е - самый низкий доход, А - самый высокий\\n')\n",
    "total_income = data.pivot_table(index = 'total_income_category', values = 'debt', aggfunc = ['count', 'sum', 'mean'])\n",
    "total_income['mean'] = total_income['mean'].round(3)\n",
    "total_income.columns = total_income.columns.get_level_values(0)\n",
    "total_income.sort_values(by = 'mean', ascending = False)\n"
   ]
  },
  {
   "cell_type": "markdown",
   "id": "a43e8ab0",
   "metadata": {
    "deletable": false,
    "id": "e8593def"
   },
   "source": [
    "**Вывод:** можно заметить, что из 5 групп, с разным уровнем дохода, три группы в десятки раз меньше чем две другие. Думаю что эти группы довольно малочисленны и можно сделать выводы по двум самым многочисленным. У нас остаются средняя группа и та, которая чуть выше среднего. Таким образом получаем, что в группе 'C' вероятность задолжать по кредиту выше, чем в группе 'B', и это различие составляет 0.013, что является довольно заметным различием.<br/>\n",
    "На основе этого можно сделать такие выводы: если у человека доход от 50001 до 200000, то он скорее будет иметь задолженность по кредиту, чем тот, чей доход составляет от 200001 до 1000000.\n"
   ]
  },
  {
   "cell_type": "markdown",
   "id": "a871a40d",
   "metadata": {
    "deletable": false,
    "editable": false,
    "id": "99ecbd1f"
   },
   "source": [
    "#### 3.4 Как разные цели кредита влияют на его возврат в срок?"
   ]
  },
  {
   "cell_type": "code",
   "execution_count": 26,
   "id": "72e19eeb",
   "metadata": {
    "deletable": false,
    "id": "2b687290"
   },
   "outputs": [
    {
     "data": {
      "text/html": [
       "<div>\n",
       "<style scoped>\n",
       "    .dataframe tbody tr th:only-of-type {\n",
       "        vertical-align: middle;\n",
       "    }\n",
       "\n",
       "    .dataframe tbody tr th {\n",
       "        vertical-align: top;\n",
       "    }\n",
       "\n",
       "    .dataframe thead th {\n",
       "        text-align: right;\n",
       "    }\n",
       "</style>\n",
       "<table border=\"1\" class=\"dataframe\">\n",
       "  <thead>\n",
       "    <tr style=\"text-align: right;\">\n",
       "      <th></th>\n",
       "      <th>count</th>\n",
       "      <th>sum</th>\n",
       "      <th>mean</th>\n",
       "    </tr>\n",
       "    <tr>\n",
       "      <th>purpose_category</th>\n",
       "      <th></th>\n",
       "      <th></th>\n",
       "      <th></th>\n",
       "    </tr>\n",
       "  </thead>\n",
       "  <tbody>\n",
       "    <tr>\n",
       "      <th>операции с недвижимостью</th>\n",
       "      <td>10751</td>\n",
       "      <td>780</td>\n",
       "      <td>0.073</td>\n",
       "    </tr>\n",
       "    <tr>\n",
       "      <th>проведение свадьбы</th>\n",
       "      <td>2313</td>\n",
       "      <td>183</td>\n",
       "      <td>0.079</td>\n",
       "    </tr>\n",
       "    <tr>\n",
       "      <th>операции с автомобилем</th>\n",
       "      <td>4279</td>\n",
       "      <td>400</td>\n",
       "      <td>0.093</td>\n",
       "    </tr>\n",
       "    <tr>\n",
       "      <th>получение образования</th>\n",
       "      <td>3988</td>\n",
       "      <td>369</td>\n",
       "      <td>0.093</td>\n",
       "    </tr>\n",
       "  </tbody>\n",
       "</table>\n",
       "</div>"
      ],
      "text/plain": [
       "                          count  sum   mean\n",
       "purpose_category                           \n",
       "операции с недвижимостью  10751  780  0.073\n",
       "проведение свадьбы         2313  183  0.079\n",
       "операции с автомобилем     4279  400  0.093\n",
       "получение образования      3988  369  0.093"
      ]
     },
     "execution_count": 26,
     "metadata": {},
     "output_type": "execute_result"
    }
   ],
   "source": [
    "purpose_category = data.pivot_table(index = 'purpose_category', values = 'debt',aggfunc = ['count', 'sum','mean'])\n",
    "purpose_category['mean'] = purpose_category['mean'].round(3)\n",
    "purpose_category.columns = purpose_category.columns.get_level_values(0)\n",
    "purpose_category.sort_values(by = 'mean',ascending = True)\n"
   ]
  },
  {
   "cell_type": "markdown",
   "id": "ab7ef053",
   "metadata": {
    "deletable": false,
    "id": "b4bb2ce6"
   },
   "source": [
    "**Вывод:** люди добросовестнее выалачивают кредиты, взятые на операции с недвижимостью или на проведение свадьбы. А вот кредиты, которые брались на получение образования и операции с автомобилем, шанс того что по ним будет задолженность выше. <br/>\n",
    "Предположу, что такое поведение связано с тем, что операции с недвижимостью и свадьбу люди планируют намного ответственнее и заблаговременно. Человек врятли возьмет кредит на покупку жилья или проведение свадьбы спонтанно, а также такие кредиты обычно берутся с расчетом на то, что выплачивать их будут несколько человек. <br/>\n",
    "Что же касается автомобиля и образования, это вполне может быть импульсивное решение, либо же такой кредит может подкрепляться жизненными неудачами(дтп, внезапная поломка). Человек, который берет такой кредит, не всегда его планировал учитывая свои средства, и как следствие может вообще не иметь на данный момент средств на его выплату. "
   ]
  },
  {
   "cell_type": "markdown",
   "id": "4851acdb",
   "metadata": {
    "deletable": false,
    "editable": false,
    "id": "09c3ac4c"
   },
   "source": [
    "#### 3.5 Приведите возможные причины появления пропусков в исходных данных."
   ]
  },
  {
   "cell_type": "markdown",
   "id": "e3e964e5",
   "metadata": {
    "deletable": false,
    "id": "9da2ceda"
   },
   "source": [
    "*Ответ:* В наших данных пропуски встречались в 2 столбцах: ежемесячный доход и общий трудовой стаж в днях.\n",
    "В случае с ежемесячным доходом, предполагаю что многие затруднились ответить, так как какая-то заработка могла быть неофициальной, и не учитывалась налоговой. Взять для студентов и предпринимателей, у них нет такого понятия как зарплата.<br/>\n",
    "А в случае с трудовым стажем, люди просто могли затрудниться в ответе -  ведь посчитать все рабочие дни за жизнь - дело не легкое, тем более если человек сменил несколько работ. Можно, опять же, взять в пример предпринимателей, работа которых не контролируется почти никем извне, а сами они врятли ведут подсчет рабочих дней.<br/>\n",
    "Также, нельзя исключать человеческий фактор, люди могли просто случайно пропустить данные ячейки.<br/>\n",
    "К тому же, у некоторых людей может просто не быть трудового стажа, и затрудняясь ответить они оставили этот пункт пустыми, вместо того чтобы написать 0."
   ]
  },
  {
   "cell_type": "markdown",
   "id": "f4338a94",
   "metadata": {
    "deletable": false,
    "editable": false,
    "id": "7b0487d6"
   },
   "source": [
    "#### 3.6 Объясните, почему заполнить пропуски медианным значением — лучшее решение для количественных переменных."
   ]
  },
  {
   "cell_type": "markdown",
   "id": "337783e3",
   "metadata": {
    "deletable": false,
    "id": "7ecf2b8e"
   },
   "source": [
    "*Ответ:*  Ввиду того что мы делим людей на группы, учитывая их способ заработка, пропущенные значения в столбце 'ежемесячный доход' у безработного и работающего человека очевидно, будут разные. В доказательство можно вывести таблицу с медианным значениями для каждого способо заработка."
   ]
  },
  {
   "cell_type": "code",
   "execution_count": 29,
   "id": "5f844b7f",
   "metadata": {},
   "outputs": [
    {
     "name": "stdout",
     "output_type": "stream",
     "text": [
      "income_type\n",
      "в декрете           53829\n",
      "студент             98201\n",
      "пенсионер          118514\n",
      "безработный        131339\n",
      "сотрудник          142594\n",
      "госслужащий        150447\n",
      "компаньон          172357\n",
      "предприниматель    499163\n",
      "Name: total_income, dtype: int64\n"
     ]
    }
   ],
   "source": [
    "data_new = data.groupby('income_type')['total_income'].median()\n",
    "print(data_new.head(20).sort_values())"
   ]
  },
  {
   "cell_type": "markdown",
   "id": "046a7900",
   "metadata": {},
   "source": [
    "Допустим, пропуск образовался в строке с человеком, который сейчас в декрете, и в строке с предпринимателем. Если бы мы заполнили пропуски в этих двух категориях просто средним значением, то не попали бы близко ни в одну из категорий, потому что различие между ними очень весомое.<br/>\n",
    "Медианное значение, в отличие от среднего, не особо сильно изменяется, из-за каких-то аномально больших или маленьких показателей, она скорее отражает самое часто встречающееся в выборке значение.\n",
    "Замена медианным значением - более точный способ."
   ]
  },
  {
   "cell_type": "markdown",
   "id": "a875490b",
   "metadata": {
    "deletable": false,
    "editable": false,
    "id": "6db5255a"
   },
   "source": [
    "### Шаг 4: общий вывод."
   ]
  },
  {
   "cell_type": "markdown",
   "id": "193caa13",
   "metadata": {
    "deletable": false,
    "id": "bad65432"
   },
   "source": [
    "Напишите ваш общий вывод."
   ]
  },
  {
   "cell_type": "markdown",
   "id": "5dbf6470",
   "metadata": {},
   "source": [
    "#### Мы исследовали влияние некоторых из возможных причин на возврат кредита в срок и можем сделать выводы. <br/>\n",
    "Исходные данные<br/><br/>\n",
    "При считывании csv-файла с базой данных, были обнаружены пропуски в столбцах с информацией о трудовом стаже и ежемесячном заработке. Данные пропуски удалось компенсировать медианными значениями из той же категории людей, учитывая их статус занятости. Так мы получили наиболее близкие к реальным значения, и это не помешало дальнейшим выводам. <br/><br/>\n",
    "Ответы на поставленные цели<br/><br/>\n",
    "Целью всего исследования было узнать как влияют различные факторы, о занятости, семейном положении, уровне дохода и количеству детей на вероятность того, что кредит будет возвращен в срок. Зависимости были обнаружены, и вот выводы которые удалось получить:<br/><br/>\n",
    "1. Есть ли зависимость между количеством детей и возвратом кредита в срок?<br/><br/>\n",
    "В ходе анализа было обнаружено, что лучше всех выплачивают кредиты люди, у которых нет детей, а среди тех у кого дети есть, процент возможной задолженности значительно выше, но не сильно различается с изменением количества детей. Людей с 5 детьми оказалось достаточно мало, так что было принято решение не брать во внимание их показатели. <br/>Точные цифры представлены в таблице.\n",
    "| Кол-во детей | Вероятность задолженности |\n",
    "| ------------- | ------------- |\n",
    "| 0  | 0,075  |\n",
    "| 1  | 0,092  |\n",
    "| 2  | 0,095  |\n",
    "| 3  | 0,082  |\n",
    "| 4  | 0,098  |\n",
    "| 5  | 0,000  |\n",
    "\n",
    "2. Есть ли зависимость между семейным положением и возвратом кредита в срок?<br/><br/>\n",
    "Лучшие заемщики оказались те, кто когда либо вступал в законный брак или же находится в нем. А те, кто не состоит в браке на имеют заметно большую вероятность не выплатить в срок.<br/>Точные цифры представлены в таблице.\n",
    "| Семейное положение | Вероятность задолженности |\n",
    "| ------------- | ------------- |\n",
    "| Не женат/не замужем| 0,098  |\n",
    "| Гражданский брак  | 0,093  |\n",
    "| женат/замужем  | 0,076  |\n",
    "| в разводе  | 0,071  |\n",
    "| вдовец/вдова  | 0,066  |\n",
    "\n",
    "\n",
    "3. Есть ли зависимость между уровнем дохода и возвратом кредита в срок?<br/><br/>\n",
    "В данном пункте ввиду сильного различия между количеством людей в разных группах по уровню дохода, выводы были проведены только по двум самым значительным категориям, которые оказались средними по сумме уе в месяц. Как итог: чем выше уровень дохода, тем выше шанс что кредит будет выплачен в срок. <br/>Точные цифры представлены в таблице.\n",
    "| Уровень дохода, у.е. в мес | Вероятность задолженности |\n",
    "| ------------- | ------------- |\n",
    "| 0 - 30000  | 0,091  |\n",
    "| 50001 - 200000  | 0,085  |\n",
    "| 1000001 и выше  | 0,080  |\n",
    "| 200001 - 1000000 | 0,071  |\n",
    "| 30001 - 50000  | 0,060  |\n",
    "4. Как разные цели кредита влияют на его возврат в срок?\n",
    "Анализируя цели, можно с уверенностью сказать что люди ответственнее выплачивают кредиты взятые на недвижимость и свадьбы, и менее ответственно те, которые взяты на образование и операции с автомобилем.<br/>Точные цифры представлены в таблице.\n",
    "| Цель | Вероятность задолженности |\n",
    "| ------------- | ------------- |\n",
    "| операции с недвижимостью  | 0,073  |\n",
    "| проведение свадьбы | 0,079  |\n",
    "| операции с автомобилем  | 0,093  |\n",
    "| получение образования | 0,093  |\n",
    "\n",
    "<br/>\n",
    "Общие рекомендации<br/><br/>\n",
    "Если составлять собирательный портрет самого добросовестного заемщика, то это будет человек у которого нет детей, он когда-либо в своей жизни вступал в законный брак, его уровень дохода выше среднего, а целью его кредита является проведение свадьбы или операции с недвижимостью.<br/> \n"
   ]
  }
 ],
 "metadata": {
  "ExecuteTimeLog": [
   {
    "duration": 48,
    "start_time": "2024-02-15T07:22:08.099Z"
   },
   {
    "duration": 487,
    "start_time": "2024-02-15T07:22:13.943Z"
   },
   {
    "duration": 22,
    "start_time": "2024-02-15T07:22:16.388Z"
   },
   {
    "duration": 26,
    "start_time": "2024-02-15T07:22:19.882Z"
   },
   {
    "duration": 10,
    "start_time": "2024-02-15T07:22:21.489Z"
   },
   {
    "duration": 34,
    "start_time": "2024-02-15T07:22:22.271Z"
   },
   {
    "duration": 4,
    "start_time": "2024-02-15T07:22:23.227Z"
   },
   {
    "duration": 7,
    "start_time": "2024-02-15T07:22:23.830Z"
   },
   {
    "duration": 4,
    "start_time": "2024-02-15T07:22:24.783Z"
   },
   {
    "duration": 6,
    "start_time": "2024-02-15T07:22:26.151Z"
   },
   {
    "duration": 4,
    "start_time": "2024-02-15T07:22:26.535Z"
   },
   {
    "duration": 34,
    "start_time": "2024-02-15T07:22:28.561Z"
   },
   {
    "duration": 10,
    "start_time": "2024-02-15T07:22:29.868Z"
   },
   {
    "duration": 3,
    "start_time": "2024-02-15T07:22:30.966Z"
   },
   {
    "duration": 11,
    "start_time": "2024-02-15T07:22:31.758Z"
   },
   {
    "duration": 19,
    "start_time": "2024-02-15T07:22:32.246Z"
   },
   {
    "duration": 16,
    "start_time": "2024-02-15T07:22:32.518Z"
   },
   {
    "duration": 3,
    "start_time": "2024-02-15T07:22:33.625Z"
   },
   {
    "duration": 10,
    "start_time": "2024-02-15T07:22:34.002Z"
   },
   {
    "duration": 6,
    "start_time": "2024-02-15T07:22:34.743Z"
   },
   {
    "duration": 3,
    "start_time": "2024-02-15T07:22:35.697Z"
   },
   {
    "duration": 11,
    "start_time": "2024-02-15T07:22:36.180Z"
   },
   {
    "duration": 4,
    "start_time": "2024-02-15T07:22:37.158Z"
   },
   {
    "duration": 7,
    "start_time": "2024-02-15T07:23:57.248Z"
   },
   {
    "duration": 7,
    "start_time": "2024-02-15T07:24:43.661Z"
   },
   {
    "duration": 9,
    "start_time": "2024-02-15T07:25:24.829Z"
   },
   {
    "duration": 7,
    "start_time": "2024-02-15T07:26:13.697Z"
   },
   {
    "duration": 32,
    "start_time": "2024-02-15T07:33:02.861Z"
   },
   {
    "duration": 12,
    "start_time": "2024-02-15T07:33:38.366Z"
   },
   {
    "duration": 10,
    "start_time": "2024-02-15T07:34:49.471Z"
   },
   {
    "duration": 7,
    "start_time": "2024-02-15T07:35:15.899Z"
   },
   {
    "duration": 10,
    "start_time": "2024-02-15T07:45:23.780Z"
   },
   {
    "duration": 9,
    "start_time": "2024-02-15T07:45:46.441Z"
   },
   {
    "duration": 3,
    "start_time": "2024-02-15T07:48:02.882Z"
   },
   {
    "duration": 6,
    "start_time": "2024-02-15T07:49:48.862Z"
   },
   {
    "duration": 578,
    "start_time": "2024-02-15T07:50:47.818Z"
   },
   {
    "duration": 8,
    "start_time": "2024-02-15T07:51:11.307Z"
   },
   {
    "duration": 9,
    "start_time": "2024-02-15T07:51:29.085Z"
   },
   {
    "duration": 6,
    "start_time": "2024-02-15T07:51:44.010Z"
   },
   {
    "duration": 84,
    "start_time": "2024-02-15T07:54:59.090Z"
   },
   {
    "duration": 88,
    "start_time": "2024-02-15T07:55:10.407Z"
   },
   {
    "duration": 12,
    "start_time": "2024-02-15T07:55:40.340Z"
   },
   {
    "duration": 14,
    "start_time": "2024-02-15T07:56:05.267Z"
   },
   {
    "duration": 15,
    "start_time": "2024-02-15T07:56:20.455Z"
   },
   {
    "duration": 15,
    "start_time": "2024-02-15T07:56:34.306Z"
   },
   {
    "duration": 7,
    "start_time": "2024-02-15T07:57:08.051Z"
   },
   {
    "duration": 6,
    "start_time": "2024-02-15T07:57:15.662Z"
   },
   {
    "duration": 25,
    "start_time": "2024-02-15T07:59:39.090Z"
   },
   {
    "duration": 22,
    "start_time": "2024-02-15T08:01:29.590Z"
   },
   {
    "duration": 36,
    "start_time": "2024-02-15T08:02:42.142Z"
   },
   {
    "duration": 28,
    "start_time": "2024-02-15T08:03:15.309Z"
   },
   {
    "duration": 44,
    "start_time": "2024-02-15T08:04:19.840Z"
   },
   {
    "duration": 27,
    "start_time": "2024-02-15T08:05:28.184Z"
   },
   {
    "duration": 13,
    "start_time": "2024-02-15T08:07:49.669Z"
   },
   {
    "duration": 11,
    "start_time": "2024-02-15T08:08:00.036Z"
   },
   {
    "duration": 8,
    "start_time": "2024-02-15T09:00:39.327Z"
   },
   {
    "duration": 9,
    "start_time": "2024-02-15T09:02:57.092Z"
   },
   {
    "duration": 12,
    "start_time": "2024-02-15T09:03:07.040Z"
   },
   {
    "duration": 12,
    "start_time": "2024-02-15T09:05:03.840Z"
   },
   {
    "duration": 10,
    "start_time": "2024-02-15T09:05:40.932Z"
   },
   {
    "duration": 12,
    "start_time": "2024-02-15T09:06:36.507Z"
   },
   {
    "duration": 12,
    "start_time": "2024-02-15T09:06:53.894Z"
   },
   {
    "duration": 10,
    "start_time": "2024-02-15T09:08:54.428Z"
   },
   {
    "duration": 10,
    "start_time": "2024-02-15T09:09:41.305Z"
   },
   {
    "duration": 10,
    "start_time": "2024-02-15T09:12:44.824Z"
   },
   {
    "duration": 8,
    "start_time": "2024-02-15T09:12:59.153Z"
   },
   {
    "duration": 25,
    "start_time": "2024-02-15T09:13:50.353Z"
   },
   {
    "duration": 26,
    "start_time": "2024-02-15T09:14:42.406Z"
   },
   {
    "duration": 50,
    "start_time": "2024-02-15T09:15:03.707Z"
   },
   {
    "duration": 26,
    "start_time": "2024-02-15T09:15:13.978Z"
   },
   {
    "duration": 92,
    "start_time": "2024-02-15T09:15:19.176Z"
   },
   {
    "duration": 39,
    "start_time": "2024-02-15T09:15:23.677Z"
   },
   {
    "duration": 26,
    "start_time": "2024-02-15T09:15:35.076Z"
   },
   {
    "duration": 26,
    "start_time": "2024-02-15T09:15:39.695Z"
   },
   {
    "duration": 26,
    "start_time": "2024-02-15T09:16:12.727Z"
   },
   {
    "duration": 26,
    "start_time": "2024-02-15T09:16:52.469Z"
   },
   {
    "duration": 90,
    "start_time": "2024-02-15T09:17:13.881Z"
   },
   {
    "duration": 25,
    "start_time": "2024-02-15T09:17:23.366Z"
   },
   {
    "duration": 13,
    "start_time": "2024-02-15T09:19:41.937Z"
   },
   {
    "duration": 10,
    "start_time": "2024-02-15T09:20:08.543Z"
   },
   {
    "duration": 10,
    "start_time": "2024-02-15T09:20:18.332Z"
   },
   {
    "duration": 10,
    "start_time": "2024-02-15T09:20:39.144Z"
   },
   {
    "duration": 14,
    "start_time": "2024-02-15T09:21:41.578Z"
   },
   {
    "duration": 13,
    "start_time": "2024-02-15T09:22:16.152Z"
   },
   {
    "duration": 13,
    "start_time": "2024-02-15T09:22:25.365Z"
   },
   {
    "duration": 15,
    "start_time": "2024-02-15T09:22:31.696Z"
   },
   {
    "duration": 20,
    "start_time": "2024-02-15T09:23:10.717Z"
   },
   {
    "duration": 11,
    "start_time": "2024-02-15T09:23:33.432Z"
   },
   {
    "duration": 11,
    "start_time": "2024-02-15T09:27:57.247Z"
   },
   {
    "duration": 10,
    "start_time": "2024-02-15T09:28:13.823Z"
   },
   {
    "duration": 17,
    "start_time": "2024-02-15T09:31:21.658Z"
   },
   {
    "duration": 86,
    "start_time": "2024-02-15T09:31:31.283Z"
   },
   {
    "duration": 81,
    "start_time": "2024-02-15T09:31:35.038Z"
   },
   {
    "duration": 85,
    "start_time": "2024-02-15T09:31:46.906Z"
   },
   {
    "duration": 87,
    "start_time": "2024-02-15T09:31:51.726Z"
   },
   {
    "duration": 17,
    "start_time": "2024-02-15T09:31:59.998Z"
   },
   {
    "duration": 82,
    "start_time": "2024-02-15T09:40:58.089Z"
   },
   {
    "duration": 18,
    "start_time": "2024-02-15T09:41:01.734Z"
   },
   {
    "duration": 18,
    "start_time": "2024-02-15T09:41:16.894Z"
   },
   {
    "duration": 17,
    "start_time": "2024-02-15T09:41:24.324Z"
   },
   {
    "duration": 47,
    "start_time": "2024-02-16T07:43:09.927Z"
   },
   {
    "duration": 699,
    "start_time": "2024-02-16T07:43:17.047Z"
   },
   {
    "duration": 23,
    "start_time": "2024-02-16T07:43:18.475Z"
   },
   {
    "duration": 15,
    "start_time": "2024-02-16T07:43:20.528Z"
   },
   {
    "duration": 10,
    "start_time": "2024-02-16T07:43:21.885Z"
   },
   {
    "duration": 33,
    "start_time": "2024-02-16T07:43:22.210Z"
   },
   {
    "duration": 4,
    "start_time": "2024-02-16T07:43:22.749Z"
   },
   {
    "duration": 8,
    "start_time": "2024-02-16T07:43:23.191Z"
   },
   {
    "duration": 5,
    "start_time": "2024-02-16T07:43:23.758Z"
   },
   {
    "duration": 7,
    "start_time": "2024-02-16T07:43:24.134Z"
   },
   {
    "duration": 4,
    "start_time": "2024-02-16T07:43:24.598Z"
   },
   {
    "duration": 36,
    "start_time": "2024-02-16T07:43:25.125Z"
   },
   {
    "duration": 11,
    "start_time": "2024-02-16T07:43:25.663Z"
   },
   {
    "duration": 4,
    "start_time": "2024-02-16T07:43:26.179Z"
   },
   {
    "duration": 12,
    "start_time": "2024-02-16T07:43:26.704Z"
   },
   {
    "duration": 21,
    "start_time": "2024-02-16T07:43:27.097Z"
   },
   {
    "duration": 17,
    "start_time": "2024-02-16T07:43:27.263Z"
   },
   {
    "duration": 3,
    "start_time": "2024-02-16T07:43:27.843Z"
   },
   {
    "duration": 10,
    "start_time": "2024-02-16T07:43:28.055Z"
   },
   {
    "duration": 6,
    "start_time": "2024-02-16T07:43:28.544Z"
   },
   {
    "duration": 3,
    "start_time": "2024-02-16T07:43:29.364Z"
   },
   {
    "duration": 9,
    "start_time": "2024-02-16T07:43:29.702Z"
   },
   {
    "duration": 13,
    "start_time": "2024-02-16T07:43:30.947Z"
   },
   {
    "duration": 11,
    "start_time": "2024-02-16T07:43:31.742Z"
   },
   {
    "duration": 68,
    "start_time": "2024-02-16T07:43:31.755Z"
   },
   {
    "duration": 30,
    "start_time": "2024-02-16T07:43:31.824Z"
   },
   {
    "duration": 77,
    "start_time": "2024-02-16T07:43:31.856Z"
   },
   {
    "duration": 70,
    "start_time": "2024-02-16T07:50:20.110Z"
   },
   {
    "duration": 64,
    "start_time": "2024-02-16T07:50:32.330Z"
   },
   {
    "duration": 48,
    "start_time": "2024-02-16T08:05:28.252Z"
   },
   {
    "duration": 46,
    "start_time": "2024-02-16T08:05:34.579Z"
   },
   {
    "duration": 42,
    "start_time": "2024-02-16T08:05:44.492Z"
   },
   {
    "duration": 45,
    "start_time": "2024-02-16T08:08:08.281Z"
   },
   {
    "duration": 37,
    "start_time": "2024-02-16T08:08:25.252Z"
   },
   {
    "duration": 41,
    "start_time": "2024-02-16T08:08:29.662Z"
   },
   {
    "duration": 41,
    "start_time": "2024-02-16T08:08:40.149Z"
   },
   {
    "duration": 44,
    "start_time": "2024-02-16T08:08:52.379Z"
   },
   {
    "duration": 42,
    "start_time": "2024-02-16T08:09:03.037Z"
   },
   {
    "duration": 42,
    "start_time": "2024-02-16T08:09:29.840Z"
   },
   {
    "duration": 49,
    "start_time": "2024-02-16T08:37:01.752Z"
   },
   {
    "duration": 40,
    "start_time": "2024-02-16T08:37:18.304Z"
   },
   {
    "duration": 47,
    "start_time": "2024-02-16T08:37:24.196Z"
   },
   {
    "duration": 166,
    "start_time": "2024-02-16T08:55:10.325Z"
   },
   {
    "duration": 25,
    "start_time": "2024-02-16T08:55:34.097Z"
   },
   {
    "duration": 32,
    "start_time": "2024-02-16T08:55:56.186Z"
   },
   {
    "duration": 29,
    "start_time": "2024-02-16T08:58:39.150Z"
   },
   {
    "duration": 29,
    "start_time": "2024-02-16T08:59:46.194Z"
   },
   {
    "duration": 31,
    "start_time": "2024-02-16T09:00:29.409Z"
   },
   {
    "duration": 30,
    "start_time": "2024-02-16T09:00:46.874Z"
   },
   {
    "duration": 29,
    "start_time": "2024-02-16T09:00:53.387Z"
   },
   {
    "duration": 29,
    "start_time": "2024-02-16T09:04:23.713Z"
   },
   {
    "duration": 30,
    "start_time": "2024-02-16T09:04:54.405Z"
   },
   {
    "duration": 35,
    "start_time": "2024-02-16T09:05:16.378Z"
   },
   {
    "duration": 34,
    "start_time": "2024-02-16T09:05:37.315Z"
   },
   {
    "duration": 32,
    "start_time": "2024-02-16T09:13:32.879Z"
   },
   {
    "duration": 49,
    "start_time": "2024-02-16T09:13:42.181Z"
   },
   {
    "duration": 66,
    "start_time": "2024-02-16T09:14:08.590Z"
   },
   {
    "duration": 55,
    "start_time": "2024-02-16T09:15:03.470Z"
   },
   {
    "duration": 49,
    "start_time": "2024-02-16T09:15:21.899Z"
   },
   {
    "duration": 38,
    "start_time": "2024-02-16T09:33:23.546Z"
   },
   {
    "duration": 37,
    "start_time": "2024-02-16T09:33:43.706Z"
   },
   {
    "duration": 687,
    "start_time": "2024-02-17T12:30:30.175Z"
   },
   {
    "duration": 22,
    "start_time": "2024-02-17T12:30:31.553Z"
   },
   {
    "duration": 16,
    "start_time": "2024-02-17T12:30:33.126Z"
   },
   {
    "duration": 11,
    "start_time": "2024-02-17T12:30:34.500Z"
   },
   {
    "duration": 50,
    "start_time": "2024-02-17T12:30:34.804Z"
   },
   {
    "duration": 3,
    "start_time": "2024-02-17T12:30:35.403Z"
   },
   {
    "duration": 7,
    "start_time": "2024-02-17T12:30:35.450Z"
   },
   {
    "duration": 4,
    "start_time": "2024-02-17T12:30:35.527Z"
   },
   {
    "duration": 7,
    "start_time": "2024-02-17T12:30:35.574Z"
   },
   {
    "duration": 4,
    "start_time": "2024-02-17T12:30:35.622Z"
   },
   {
    "duration": 43,
    "start_time": "2024-02-17T12:30:35.696Z"
   },
   {
    "duration": 11,
    "start_time": "2024-02-17T12:30:35.746Z"
   },
   {
    "duration": 4,
    "start_time": "2024-02-17T12:30:35.810Z"
   },
   {
    "duration": 13,
    "start_time": "2024-02-17T12:30:35.881Z"
   },
   {
    "duration": 20,
    "start_time": "2024-02-17T12:30:35.930Z"
   },
   {
    "duration": 16,
    "start_time": "2024-02-17T12:30:35.955Z"
   },
   {
    "duration": 4,
    "start_time": "2024-02-17T12:30:36.030Z"
   },
   {
    "duration": 10,
    "start_time": "2024-02-17T12:30:36.053Z"
   },
   {
    "duration": 7,
    "start_time": "2024-02-17T12:30:36.099Z"
   },
   {
    "duration": 3,
    "start_time": "2024-02-17T12:30:36.149Z"
   },
   {
    "duration": 9,
    "start_time": "2024-02-17T12:30:36.174Z"
   },
   {
    "duration": 40,
    "start_time": "2024-02-17T12:30:36.247Z"
   },
   {
    "duration": 34,
    "start_time": "2024-02-17T12:30:36.318Z"
   },
   {
    "duration": 62,
    "start_time": "2024-02-17T12:30:36.354Z"
   },
   {
    "duration": 37,
    "start_time": "2024-02-17T12:30:36.417Z"
   },
   {
    "duration": 42,
    "start_time": "2024-02-17T12:30:36.486Z"
   },
   {
    "duration": 40,
    "start_time": "2024-02-17T12:32:30.187Z"
   },
   {
    "duration": 30,
    "start_time": "2024-02-17T12:32:54.277Z"
   },
   {
    "duration": 28,
    "start_time": "2024-02-17T12:34:23.080Z"
   },
   {
    "duration": 57,
    "start_time": "2024-02-17T12:34:48.836Z"
   },
   {
    "duration": 51,
    "start_time": "2024-02-18T08:58:18.345Z"
   },
   {
    "duration": 735,
    "start_time": "2024-02-18T08:58:24.167Z"
   },
   {
    "duration": 24,
    "start_time": "2024-02-18T08:58:25.328Z"
   },
   {
    "duration": 17,
    "start_time": "2024-02-18T08:58:26.271Z"
   },
   {
    "duration": 12,
    "start_time": "2024-02-18T08:58:26.957Z"
   },
   {
    "duration": 38,
    "start_time": "2024-02-18T08:58:27.013Z"
   },
   {
    "duration": 4,
    "start_time": "2024-02-18T08:58:27.077Z"
   },
   {
    "duration": 10,
    "start_time": "2024-02-18T08:58:27.126Z"
   },
   {
    "duration": 4,
    "start_time": "2024-02-18T08:58:27.201Z"
   },
   {
    "duration": 6,
    "start_time": "2024-02-18T08:58:27.248Z"
   },
   {
    "duration": 4,
    "start_time": "2024-02-18T08:58:27.296Z"
   },
   {
    "duration": 37,
    "start_time": "2024-02-18T08:58:27.367Z"
   },
   {
    "duration": 11,
    "start_time": "2024-02-18T08:58:27.415Z"
   },
   {
    "duration": 4,
    "start_time": "2024-02-18T08:58:27.490Z"
   },
   {
    "duration": 12,
    "start_time": "2024-02-18T08:58:27.560Z"
   },
   {
    "duration": 21,
    "start_time": "2024-02-18T08:58:27.606Z"
   },
   {
    "duration": 18,
    "start_time": "2024-02-18T08:58:27.632Z"
   },
   {
    "duration": 4,
    "start_time": "2024-02-18T08:58:27.722Z"
   },
   {
    "duration": 14,
    "start_time": "2024-02-18T08:58:27.727Z"
   },
   {
    "duration": 7,
    "start_time": "2024-02-18T08:58:27.787Z"
   },
   {
    "duration": 4,
    "start_time": "2024-02-18T08:58:27.826Z"
   },
   {
    "duration": 9,
    "start_time": "2024-02-18T08:58:27.852Z"
   },
   {
    "duration": 40,
    "start_time": "2024-02-18T08:58:27.923Z"
   },
   {
    "duration": 31,
    "start_time": "2024-02-18T08:58:27.989Z"
   },
   {
    "duration": 53,
    "start_time": "2024-02-18T08:58:28.023Z"
   },
   {
    "duration": 33,
    "start_time": "2024-02-18T08:58:28.091Z"
   },
   {
    "duration": 32,
    "start_time": "2024-02-18T08:58:28.168Z"
   },
   {
    "duration": 8,
    "start_time": "2024-02-18T08:58:29.199Z"
   },
   {
    "duration": 7,
    "start_time": "2024-02-18T08:59:16.045Z"
   },
   {
    "duration": 45,
    "start_time": "2024-02-18T09:22:10.021Z"
   },
   {
    "duration": 143,
    "start_time": "2024-02-18T09:22:47.049Z"
   },
   {
    "duration": 47,
    "start_time": "2024-02-18T09:23:16.947Z"
   },
   {
    "duration": 47,
    "start_time": "2024-02-18T09:23:28.765Z"
   },
   {
    "duration": 45,
    "start_time": "2024-02-18T09:27:20.686Z"
   },
   {
    "duration": 47,
    "start_time": "2024-02-18T09:27:27.921Z"
   },
   {
    "duration": 45,
    "start_time": "2024-02-18T09:27:45.860Z"
   },
   {
    "duration": 49,
    "start_time": "2024-02-18T09:27:55.613Z"
   },
   {
    "duration": 35,
    "start_time": "2024-02-18T09:35:33.488Z"
   },
   {
    "duration": 41,
    "start_time": "2024-02-18T09:51:21.077Z"
   },
   {
    "duration": 47,
    "start_time": "2024-02-18T20:39:55.934Z"
   },
   {
    "duration": 706,
    "start_time": "2024-02-18T20:40:05.094Z"
   },
   {
    "duration": 29,
    "start_time": "2024-02-18T20:40:05.802Z"
   },
   {
    "duration": 22,
    "start_time": "2024-02-18T20:40:06.252Z"
   },
   {
    "duration": 16,
    "start_time": "2024-02-18T20:40:06.353Z"
   },
   {
    "duration": 42,
    "start_time": "2024-02-18T20:40:06.400Z"
   },
   {
    "duration": 4,
    "start_time": "2024-02-18T20:40:07.239Z"
   },
   {
    "duration": 7,
    "start_time": "2024-02-18T20:40:07.287Z"
   },
   {
    "duration": 4,
    "start_time": "2024-02-18T20:40:07.364Z"
   },
   {
    "duration": 8,
    "start_time": "2024-02-18T20:40:07.417Z"
   },
   {
    "duration": 5,
    "start_time": "2024-02-18T20:40:07.680Z"
   },
   {
    "duration": 32,
    "start_time": "2024-02-18T20:40:08.164Z"
   },
   {
    "duration": 10,
    "start_time": "2024-02-18T20:40:08.282Z"
   },
   {
    "duration": 3,
    "start_time": "2024-02-18T20:40:08.294Z"
   },
   {
    "duration": 11,
    "start_time": "2024-02-18T20:40:08.361Z"
   },
   {
    "duration": 18,
    "start_time": "2024-02-18T20:40:08.405Z"
   },
   {
    "duration": 15,
    "start_time": "2024-02-18T20:40:08.432Z"
   },
   {
    "duration": 3,
    "start_time": "2024-02-18T20:40:09.198Z"
   },
   {
    "duration": 10,
    "start_time": "2024-02-18T20:40:09.441Z"
   },
   {
    "duration": 6,
    "start_time": "2024-02-18T20:40:10.101Z"
   },
   {
    "duration": 3,
    "start_time": "2024-02-18T20:40:10.966Z"
   },
   {
    "duration": 8,
    "start_time": "2024-02-18T20:40:11.262Z"
   },
   {
    "duration": 46,
    "start_time": "2024-02-18T20:40:12.591Z"
   },
   {
    "duration": 39,
    "start_time": "2024-02-18T20:40:19.521Z"
   },
   {
    "duration": 42,
    "start_time": "2024-02-18T20:42:19.509Z"
   },
   {
    "duration": 26,
    "start_time": "2024-02-18T20:44:07.320Z"
   },
   {
    "duration": 26,
    "start_time": "2024-02-18T20:44:15.889Z"
   },
   {
    "duration": 24,
    "start_time": "2024-02-18T20:44:20.842Z"
   },
   {
    "duration": 24,
    "start_time": "2024-02-18T20:44:30.977Z"
   },
   {
    "duration": 27,
    "start_time": "2024-02-18T20:44:38.538Z"
   },
   {
    "duration": 24,
    "start_time": "2024-02-18T20:44:46.535Z"
   },
   {
    "duration": 34,
    "start_time": "2024-02-18T20:45:39.783Z"
   },
   {
    "duration": 29,
    "start_time": "2024-02-18T20:45:52.264Z"
   },
   {
    "duration": 38,
    "start_time": "2024-02-18T20:46:09.176Z"
   },
   {
    "duration": 47,
    "start_time": "2024-02-18T20:46:29.766Z"
   },
   {
    "duration": 43,
    "start_time": "2024-02-18T20:46:36.097Z"
   },
   {
    "duration": 41,
    "start_time": "2024-02-18T20:46:55.920Z"
   },
   {
    "duration": 29,
    "start_time": "2024-02-18T20:47:26.312Z"
   },
   {
    "duration": 643,
    "start_time": "2024-02-19T08:54:40.350Z"
   },
   {
    "duration": 22,
    "start_time": "2024-02-19T08:54:40.995Z"
   },
   {
    "duration": 14,
    "start_time": "2024-02-19T08:54:41.519Z"
   },
   {
    "duration": 10,
    "start_time": "2024-02-19T08:54:42.619Z"
   },
   {
    "duration": 33,
    "start_time": "2024-02-19T08:54:42.659Z"
   },
   {
    "duration": 3,
    "start_time": "2024-02-19T08:54:42.739Z"
   },
   {
    "duration": 16,
    "start_time": "2024-02-19T08:54:43.447Z"
   },
   {
    "duration": 5,
    "start_time": "2024-02-19T08:54:43.511Z"
   },
   {
    "duration": 7,
    "start_time": "2024-02-19T08:54:43.570Z"
   },
   {
    "duration": 5,
    "start_time": "2024-02-19T08:54:43.595Z"
   },
   {
    "duration": 34,
    "start_time": "2024-02-19T08:54:43.671Z"
   },
   {
    "duration": 10,
    "start_time": "2024-02-19T08:54:44.546Z"
   },
   {
    "duration": 4,
    "start_time": "2024-02-19T08:54:44.590Z"
   },
   {
    "duration": 12,
    "start_time": "2024-02-19T08:54:45.331Z"
   },
   {
    "duration": 24,
    "start_time": "2024-02-19T08:54:46.139Z"
   },
   {
    "duration": 16,
    "start_time": "2024-02-19T08:54:46.380Z"
   },
   {
    "duration": 3,
    "start_time": "2024-02-19T08:54:47.411Z"
   },
   {
    "duration": 11,
    "start_time": "2024-02-19T08:54:47.670Z"
   },
   {
    "duration": 5,
    "start_time": "2024-02-19T08:54:48.250Z"
   },
   {
    "duration": 3,
    "start_time": "2024-02-19T08:54:48.947Z"
   },
   {
    "duration": 8,
    "start_time": "2024-02-19T08:54:49.251Z"
   },
   {
    "duration": 29,
    "start_time": "2024-02-19T08:54:50.460Z"
   },
   {
    "duration": 30,
    "start_time": "2024-02-19T08:54:52.618Z"
   },
   {
    "duration": 46,
    "start_time": "2024-02-19T08:54:53.980Z"
   },
   {
    "duration": 27,
    "start_time": "2024-02-19T08:54:56.171Z"
   },
   {
    "duration": 29,
    "start_time": "2024-02-19T08:54:57.978Z"
   },
   {
    "duration": 55,
    "start_time": "2024-02-19T21:24:36.154Z"
   },
   {
    "duration": 536,
    "start_time": "2024-02-19T21:24:49.015Z"
   },
   {
    "duration": 24,
    "start_time": "2024-02-19T21:24:49.553Z"
   },
   {
    "duration": 17,
    "start_time": "2024-02-19T21:24:49.870Z"
   },
   {
    "duration": 12,
    "start_time": "2024-02-19T21:24:50.445Z"
   },
   {
    "duration": 42,
    "start_time": "2024-02-19T21:24:50.989Z"
   },
   {
    "duration": 3,
    "start_time": "2024-02-19T21:24:51.787Z"
   },
   {
    "duration": 8,
    "start_time": "2024-02-19T21:24:52.161Z"
   },
   {
    "duration": 5,
    "start_time": "2024-02-19T21:24:52.727Z"
   },
   {
    "duration": 9,
    "start_time": "2024-02-19T21:24:53.094Z"
   },
   {
    "duration": 5,
    "start_time": "2024-02-19T21:24:53.705Z"
   },
   {
    "duration": 54,
    "start_time": "2024-02-19T21:24:53.775Z"
   },
   {
    "duration": 13,
    "start_time": "2024-02-19T21:24:53.831Z"
   },
   {
    "duration": 5,
    "start_time": "2024-02-19T21:24:53.890Z"
   },
   {
    "duration": 14,
    "start_time": "2024-02-19T21:24:53.962Z"
   },
   {
    "duration": 53,
    "start_time": "2024-02-19T21:24:54.026Z"
   },
   {
    "duration": 36,
    "start_time": "2024-02-19T21:24:54.082Z"
   },
   {
    "duration": 5,
    "start_time": "2024-02-19T21:24:54.809Z"
   },
   {
    "duration": 17,
    "start_time": "2024-02-19T21:24:54.833Z"
   },
   {
    "duration": 10,
    "start_time": "2024-02-19T21:24:54.885Z"
   },
   {
    "duration": 5,
    "start_time": "2024-02-19T21:24:54.929Z"
   },
   {
    "duration": 25,
    "start_time": "2024-02-19T21:24:54.955Z"
   },
   {
    "duration": 45,
    "start_time": "2024-02-19T21:24:55.773Z"
   },
   {
    "duration": 34,
    "start_time": "2024-02-19T21:24:57.741Z"
   },
   {
    "duration": 58,
    "start_time": "2024-02-19T21:24:59.660Z"
   },
   {
    "duration": 34,
    "start_time": "2024-02-19T21:25:01.509Z"
   },
   {
    "duration": 102,
    "start_time": "2024-02-20T09:53:38.500Z"
   },
   {
    "duration": 88,
    "start_time": "2024-02-20T09:54:49.275Z"
   }
  ],
  "colab": {
   "name": "dpp_template_part2.ipynb",
   "provenance": []
  },
  "kernelspec": {
   "display_name": "Python 3 (ipykernel)",
   "language": "python",
   "name": "python3"
  },
  "language_info": {
   "codemirror_mode": {
    "name": "ipython",
    "version": 3
   },
   "file_extension": ".py",
   "mimetype": "text/x-python",
   "name": "python",
   "nbconvert_exporter": "python",
   "pygments_lexer": "ipython3",
   "version": "3.11.3"
  },
  "toc": {
   "base_numbering": 1,
   "nav_menu": {},
   "number_sections": true,
   "sideBar": true,
   "skip_h1_title": true,
   "title_cell": "Table of Contents",
   "title_sidebar": "Contents",
   "toc_cell": false,
   "toc_position": {},
   "toc_section_display": true,
   "toc_window_display": false
  }
 },
 "nbformat": 4,
 "nbformat_minor": 5
}
